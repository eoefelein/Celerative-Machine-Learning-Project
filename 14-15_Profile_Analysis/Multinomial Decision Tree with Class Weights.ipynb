{
 "cells": [
  {
   "cell_type": "code",
   "execution_count": 1,
   "metadata": {},
   "outputs": [
    {
     "data": {
      "application/javascript": [
       "\n",
       "            setTimeout(function() {\n",
       "                var nbb_cell_id = 1;\n",
       "                var nbb_unformatted_code = \"%reload_ext nb_black\";\n",
       "                var nbb_formatted_code = \"%reload_ext nb_black\";\n",
       "                var nbb_cells = Jupyter.notebook.get_cells();\n",
       "                for (var i = 0; i < nbb_cells.length; ++i) {\n",
       "                    if (nbb_cells[i].input_prompt_number == nbb_cell_id) {\n",
       "                        if (nbb_cells[i].get_text() == nbb_unformatted_code) {\n",
       "                             nbb_cells[i].set_text(nbb_formatted_code);\n",
       "                        }\n",
       "                        break;\n",
       "                    }\n",
       "                }\n",
       "            }, 500);\n",
       "            "
      ],
      "text/plain": [
       "<IPython.core.display.Javascript object>"
      ]
     },
     "metadata": {},
     "output_type": "display_data"
    }
   ],
   "source": [
    "%reload_ext nb_black"
   ]
  },
  {
   "cell_type": "code",
   "execution_count": 2,
   "metadata": {},
   "outputs": [
    {
     "data": {
      "application/javascript": [
       "\n",
       "            setTimeout(function() {\n",
       "                var nbb_cell_id = 2;\n",
       "                var nbb_unformatted_code = \"from itertools import chain\\nfrom collections import Counter\\nimport pandas as pd\\nimport numpy as np\\nimport matplotlib.pyplot as plt\\n\\n# Evaluating Decision Tree Model\\nfrom sklearn.tree import DecisionTreeClassifier, plot_tree\\nfrom sklearn.metrics import (\\n    f1_score,\\n    recall_score,\\n    precision_score,\\n    confusion_matrix,\\n    classification_report,\\n)\\nfrom sklearn.model_selection import (\\n    RepeatedStratifiedKFold,\\n    GridSearchCV,\\n    cross_val_score,\\n)\\nimport sklearn\\nfrom sklearn.utils import class_weight\\n\\n# Engaging in Data Preprocessing\\nfrom sklearn.model_selection import train_test_split as tts\\n\\nfrom sklearn.feature_selection import RFE\\n\\n# # Visualizing the Decision Trees generated\\nimport matplotlib.pyplot as plt\\nimport seaborn as sns\\nfrom IPython.display import Image\\nfrom sklearn.tree import export_graphviz\\n\\nimport warnings\\n\\nwarnings.filterwarnings(\\\"ignore\\\")\";\n",
       "                var nbb_formatted_code = \"from itertools import chain\\nfrom collections import Counter\\nimport pandas as pd\\nimport numpy as np\\nimport matplotlib.pyplot as plt\\n\\n# Evaluating Decision Tree Model\\nfrom sklearn.tree import DecisionTreeClassifier, plot_tree\\nfrom sklearn.metrics import (\\n    f1_score,\\n    recall_score,\\n    precision_score,\\n    confusion_matrix,\\n    classification_report,\\n)\\nfrom sklearn.model_selection import (\\n    RepeatedStratifiedKFold,\\n    GridSearchCV,\\n    cross_val_score,\\n)\\nimport sklearn\\nfrom sklearn.utils import class_weight\\n\\n# Engaging in Data Preprocessing\\nfrom sklearn.model_selection import train_test_split as tts\\n\\nfrom sklearn.feature_selection import RFE\\n\\n# # Visualizing the Decision Trees generated\\nimport matplotlib.pyplot as plt\\nimport seaborn as sns\\nfrom IPython.display import Image\\nfrom sklearn.tree import export_graphviz\\n\\nimport warnings\\n\\nwarnings.filterwarnings(\\\"ignore\\\")\";\n",
       "                var nbb_cells = Jupyter.notebook.get_cells();\n",
       "                for (var i = 0; i < nbb_cells.length; ++i) {\n",
       "                    if (nbb_cells[i].input_prompt_number == nbb_cell_id) {\n",
       "                        if (nbb_cells[i].get_text() == nbb_unformatted_code) {\n",
       "                             nbb_cells[i].set_text(nbb_formatted_code);\n",
       "                        }\n",
       "                        break;\n",
       "                    }\n",
       "                }\n",
       "            }, 500);\n",
       "            "
      ],
      "text/plain": [
       "<IPython.core.display.Javascript object>"
      ]
     },
     "metadata": {},
     "output_type": "display_data"
    }
   ],
   "source": [
    "from itertools import chain\n",
    "from collections import Counter\n",
    "import pandas as pd\n",
    "import numpy as np\n",
    "import matplotlib.pyplot as plt\n",
    "\n",
    "# Evaluating Decision Tree Model\n",
    "from sklearn.tree import DecisionTreeClassifier, plot_tree\n",
    "from sklearn.metrics import (\n",
    "    f1_score,\n",
    "    recall_score,\n",
    "    precision_score,\n",
    "    confusion_matrix,\n",
    "    classification_report,\n",
    ")\n",
    "from sklearn.model_selection import (\n",
    "    RepeatedStratifiedKFold,\n",
    "    GridSearchCV,\n",
    "    cross_val_score,\n",
    ")\n",
    "import sklearn\n",
    "from sklearn.utils import class_weight\n",
    "\n",
    "# Engaging in Data Preprocessing\n",
    "from sklearn.model_selection import train_test_split as tts\n",
    "\n",
    "from sklearn.feature_selection import RFE\n",
    "\n",
    "# # Visualizing the Decision Trees generated\n",
    "import matplotlib.pyplot as plt\n",
    "import seaborn as sns\n",
    "from IPython.display import Image\n",
    "from sklearn.tree import export_graphviz\n",
    "\n",
    "import warnings\n",
    "\n",
    "warnings.filterwarnings(\"ignore\")"
   ]
  },
  {
   "cell_type": "code",
   "execution_count": 3,
   "metadata": {},
   "outputs": [
    {
     "data": {
      "text/html": [
       "<div>\n",
       "<style scoped>\n",
       "    .dataframe tbody tr th:only-of-type {\n",
       "        vertical-align: middle;\n",
       "    }\n",
       "\n",
       "    .dataframe tbody tr th {\n",
       "        vertical-align: top;\n",
       "    }\n",
       "\n",
       "    .dataframe thead th {\n",
       "        text-align: right;\n",
       "    }\n",
       "</style>\n",
       "<table border=\"1\" class=\"dataframe\">\n",
       "  <thead>\n",
       "    <tr style=\"text-align: right;\">\n",
       "      <th></th>\n",
       "      <th>profile_standardized</th>\n",
       "      <th>.NET</th>\n",
       "      <th>.NET Core</th>\n",
       "      <th>API</th>\n",
       "      <th>API Design</th>\n",
       "      <th>APIs</th>\n",
       "      <th>ASP.NET</th>\n",
       "      <th>ASP.NET MVC</th>\n",
       "      <th>AWS</th>\n",
       "      <th>AWS DynamoDB</th>\n",
       "      <th>...</th>\n",
       "      <th>Xamarin</th>\n",
       "      <th>Xamarin Forms</th>\n",
       "      <th>Xcode</th>\n",
       "      <th>Zend Framework</th>\n",
       "      <th>iOS</th>\n",
       "      <th>iOS Operating System</th>\n",
       "      <th>iOS SDK</th>\n",
       "      <th>iPad</th>\n",
       "      <th>jQuery</th>\n",
       "      <th>js</th>\n",
       "    </tr>\n",
       "  </thead>\n",
       "  <tbody>\n",
       "    <tr>\n",
       "      <th>0</th>\n",
       "      <td>fullstack developer</td>\n",
       "      <td>0</td>\n",
       "      <td>0</td>\n",
       "      <td>0</td>\n",
       "      <td>0</td>\n",
       "      <td>0</td>\n",
       "      <td>0</td>\n",
       "      <td>1</td>\n",
       "      <td>0</td>\n",
       "      <td>0</td>\n",
       "      <td>...</td>\n",
       "      <td>0</td>\n",
       "      <td>0</td>\n",
       "      <td>0</td>\n",
       "      <td>0</td>\n",
       "      <td>0</td>\n",
       "      <td>0</td>\n",
       "      <td>0</td>\n",
       "      <td>0</td>\n",
       "      <td>0</td>\n",
       "      <td>0</td>\n",
       "    </tr>\n",
       "    <tr>\n",
       "      <th>1</th>\n",
       "      <td>javascript developer</td>\n",
       "      <td>0</td>\n",
       "      <td>0</td>\n",
       "      <td>0</td>\n",
       "      <td>0</td>\n",
       "      <td>0</td>\n",
       "      <td>0</td>\n",
       "      <td>0</td>\n",
       "      <td>0</td>\n",
       "      <td>0</td>\n",
       "      <td>...</td>\n",
       "      <td>0</td>\n",
       "      <td>0</td>\n",
       "      <td>0</td>\n",
       "      <td>0</td>\n",
       "      <td>0</td>\n",
       "      <td>0</td>\n",
       "      <td>0</td>\n",
       "      <td>0</td>\n",
       "      <td>0</td>\n",
       "      <td>1</td>\n",
       "    </tr>\n",
       "    <tr>\n",
       "      <th>2</th>\n",
       "      <td>machine learning engineer</td>\n",
       "      <td>0</td>\n",
       "      <td>0</td>\n",
       "      <td>0</td>\n",
       "      <td>0</td>\n",
       "      <td>0</td>\n",
       "      <td>0</td>\n",
       "      <td>0</td>\n",
       "      <td>0</td>\n",
       "      <td>0</td>\n",
       "      <td>...</td>\n",
       "      <td>0</td>\n",
       "      <td>0</td>\n",
       "      <td>0</td>\n",
       "      <td>0</td>\n",
       "      <td>0</td>\n",
       "      <td>0</td>\n",
       "      <td>0</td>\n",
       "      <td>0</td>\n",
       "      <td>0</td>\n",
       "      <td>0</td>\n",
       "    </tr>\n",
       "    <tr>\n",
       "      <th>3</th>\n",
       "      <td>machine learning engineer</td>\n",
       "      <td>0</td>\n",
       "      <td>0</td>\n",
       "      <td>0</td>\n",
       "      <td>0</td>\n",
       "      <td>0</td>\n",
       "      <td>0</td>\n",
       "      <td>0</td>\n",
       "      <td>0</td>\n",
       "      <td>0</td>\n",
       "      <td>...</td>\n",
       "      <td>0</td>\n",
       "      <td>0</td>\n",
       "      <td>0</td>\n",
       "      <td>0</td>\n",
       "      <td>0</td>\n",
       "      <td>0</td>\n",
       "      <td>0</td>\n",
       "      <td>0</td>\n",
       "      <td>0</td>\n",
       "      <td>0</td>\n",
       "    </tr>\n",
       "    <tr>\n",
       "      <th>4</th>\n",
       "      <td>android developer</td>\n",
       "      <td>0</td>\n",
       "      <td>0</td>\n",
       "      <td>0</td>\n",
       "      <td>0</td>\n",
       "      <td>0</td>\n",
       "      <td>0</td>\n",
       "      <td>0</td>\n",
       "      <td>0</td>\n",
       "      <td>0</td>\n",
       "      <td>...</td>\n",
       "      <td>0</td>\n",
       "      <td>0</td>\n",
       "      <td>0</td>\n",
       "      <td>0</td>\n",
       "      <td>1</td>\n",
       "      <td>0</td>\n",
       "      <td>0</td>\n",
       "      <td>0</td>\n",
       "      <td>0</td>\n",
       "      <td>0</td>\n",
       "    </tr>\n",
       "    <tr>\n",
       "      <th>...</th>\n",
       "      <td>...</td>\n",
       "      <td>...</td>\n",
       "      <td>...</td>\n",
       "      <td>...</td>\n",
       "      <td>...</td>\n",
       "      <td>...</td>\n",
       "      <td>...</td>\n",
       "      <td>...</td>\n",
       "      <td>...</td>\n",
       "      <td>...</td>\n",
       "      <td>...</td>\n",
       "      <td>...</td>\n",
       "      <td>...</td>\n",
       "      <td>...</td>\n",
       "      <td>...</td>\n",
       "      <td>...</td>\n",
       "      <td>...</td>\n",
       "      <td>...</td>\n",
       "      <td>...</td>\n",
       "      <td>...</td>\n",
       "      <td>...</td>\n",
       "    </tr>\n",
       "    <tr>\n",
       "      <th>766</th>\n",
       "      <td>fullstack developer</td>\n",
       "      <td>0</td>\n",
       "      <td>0</td>\n",
       "      <td>0</td>\n",
       "      <td>0</td>\n",
       "      <td>0</td>\n",
       "      <td>0</td>\n",
       "      <td>0</td>\n",
       "      <td>0</td>\n",
       "      <td>0</td>\n",
       "      <td>...</td>\n",
       "      <td>0</td>\n",
       "      <td>0</td>\n",
       "      <td>0</td>\n",
       "      <td>0</td>\n",
       "      <td>0</td>\n",
       "      <td>0</td>\n",
       "      <td>0</td>\n",
       "      <td>0</td>\n",
       "      <td>0</td>\n",
       "      <td>0</td>\n",
       "    </tr>\n",
       "    <tr>\n",
       "      <th>767</th>\n",
       "      <td>machine learning engineer</td>\n",
       "      <td>0</td>\n",
       "      <td>0</td>\n",
       "      <td>0</td>\n",
       "      <td>0</td>\n",
       "      <td>0</td>\n",
       "      <td>0</td>\n",
       "      <td>0</td>\n",
       "      <td>0</td>\n",
       "      <td>0</td>\n",
       "      <td>...</td>\n",
       "      <td>0</td>\n",
       "      <td>0</td>\n",
       "      <td>0</td>\n",
       "      <td>0</td>\n",
       "      <td>0</td>\n",
       "      <td>0</td>\n",
       "      <td>0</td>\n",
       "      <td>0</td>\n",
       "      <td>0</td>\n",
       "      <td>0</td>\n",
       "    </tr>\n",
       "    <tr>\n",
       "      <th>768</th>\n",
       "      <td>ios developer</td>\n",
       "      <td>0</td>\n",
       "      <td>0</td>\n",
       "      <td>0</td>\n",
       "      <td>0</td>\n",
       "      <td>0</td>\n",
       "      <td>0</td>\n",
       "      <td>0</td>\n",
       "      <td>0</td>\n",
       "      <td>0</td>\n",
       "      <td>...</td>\n",
       "      <td>0</td>\n",
       "      <td>0</td>\n",
       "      <td>1</td>\n",
       "      <td>0</td>\n",
       "      <td>0</td>\n",
       "      <td>0</td>\n",
       "      <td>0</td>\n",
       "      <td>0</td>\n",
       "      <td>0</td>\n",
       "      <td>0</td>\n",
       "    </tr>\n",
       "    <tr>\n",
       "      <th>769</th>\n",
       "      <td>javascript developer</td>\n",
       "      <td>0</td>\n",
       "      <td>0</td>\n",
       "      <td>0</td>\n",
       "      <td>0</td>\n",
       "      <td>0</td>\n",
       "      <td>0</td>\n",
       "      <td>0</td>\n",
       "      <td>0</td>\n",
       "      <td>0</td>\n",
       "      <td>...</td>\n",
       "      <td>0</td>\n",
       "      <td>0</td>\n",
       "      <td>0</td>\n",
       "      <td>0</td>\n",
       "      <td>0</td>\n",
       "      <td>0</td>\n",
       "      <td>0</td>\n",
       "      <td>0</td>\n",
       "      <td>0</td>\n",
       "      <td>1</td>\n",
       "    </tr>\n",
       "    <tr>\n",
       "      <th>770</th>\n",
       "      <td>machine learning engineer</td>\n",
       "      <td>0</td>\n",
       "      <td>0</td>\n",
       "      <td>0</td>\n",
       "      <td>0</td>\n",
       "      <td>0</td>\n",
       "      <td>0</td>\n",
       "      <td>0</td>\n",
       "      <td>0</td>\n",
       "      <td>0</td>\n",
       "      <td>...</td>\n",
       "      <td>0</td>\n",
       "      <td>0</td>\n",
       "      <td>0</td>\n",
       "      <td>0</td>\n",
       "      <td>0</td>\n",
       "      <td>0</td>\n",
       "      <td>0</td>\n",
       "      <td>0</td>\n",
       "      <td>0</td>\n",
       "      <td>0</td>\n",
       "    </tr>\n",
       "  </tbody>\n",
       "</table>\n",
       "<p>771 rows × 306 columns</p>\n",
       "</div>"
      ],
      "text/plain": [
       "          profile_standardized  .NET  .NET Core  API  API Design  APIs  \\\n",
       "0          fullstack developer     0          0    0           0     0   \n",
       "1         javascript developer     0          0    0           0     0   \n",
       "2    machine learning engineer     0          0    0           0     0   \n",
       "3    machine learning engineer     0          0    0           0     0   \n",
       "4            android developer     0          0    0           0     0   \n",
       "..                         ...   ...        ...  ...         ...   ...   \n",
       "766        fullstack developer     0          0    0           0     0   \n",
       "767  machine learning engineer     0          0    0           0     0   \n",
       "768              ios developer     0          0    0           0     0   \n",
       "769       javascript developer     0          0    0           0     0   \n",
       "770  machine learning engineer     0          0    0           0     0   \n",
       "\n",
       "     ASP.NET  ASP.NET MVC  AWS  AWS DynamoDB  ...  Xamarin  Xamarin Forms  \\\n",
       "0          0            1    0             0  ...        0              0   \n",
       "1          0            0    0             0  ...        0              0   \n",
       "2          0            0    0             0  ...        0              0   \n",
       "3          0            0    0             0  ...        0              0   \n",
       "4          0            0    0             0  ...        0              0   \n",
       "..       ...          ...  ...           ...  ...      ...            ...   \n",
       "766        0            0    0             0  ...        0              0   \n",
       "767        0            0    0             0  ...        0              0   \n",
       "768        0            0    0             0  ...        0              0   \n",
       "769        0            0    0             0  ...        0              0   \n",
       "770        0            0    0             0  ...        0              0   \n",
       "\n",
       "     Xcode  Zend Framework  iOS  iOS Operating System  iOS SDK  iPad  jQuery  \\\n",
       "0        0               0    0                     0        0     0       0   \n",
       "1        0               0    0                     0        0     0       0   \n",
       "2        0               0    0                     0        0     0       0   \n",
       "3        0               0    0                     0        0     0       0   \n",
       "4        0               0    1                     0        0     0       0   \n",
       "..     ...             ...  ...                   ...      ...   ...     ...   \n",
       "766      0               0    0                     0        0     0       0   \n",
       "767      0               0    0                     0        0     0       0   \n",
       "768      1               0    0                     0        0     0       0   \n",
       "769      0               0    0                     0        0     0       0   \n",
       "770      0               0    0                     0        0     0       0   \n",
       "\n",
       "     js  \n",
       "0     0  \n",
       "1     1  \n",
       "2     0  \n",
       "3     0  \n",
       "4     0  \n",
       "..   ..  \n",
       "766   0  \n",
       "767   0  \n",
       "768   0  \n",
       "769   1  \n",
       "770   0  \n",
       "\n",
       "[771 rows x 306 columns]"
      ]
     },
     "execution_count": 3,
     "metadata": {},
     "output_type": "execute_result"
    },
    {
     "data": {
      "application/javascript": [
       "\n",
       "            setTimeout(function() {\n",
       "                var nbb_cell_id = 3;\n",
       "                var nbb_unformatted_code = \"df = pd.read_csv(\\\"../14_profiles/reduced_dim_14.csv\\\")\\ndf\";\n",
       "                var nbb_formatted_code = \"df = pd.read_csv(\\\"../14_profiles/reduced_dim_14.csv\\\")\\ndf\";\n",
       "                var nbb_cells = Jupyter.notebook.get_cells();\n",
       "                for (var i = 0; i < nbb_cells.length; ++i) {\n",
       "                    if (nbb_cells[i].input_prompt_number == nbb_cell_id) {\n",
       "                        if (nbb_cells[i].get_text() == nbb_unformatted_code) {\n",
       "                             nbb_cells[i].set_text(nbb_formatted_code);\n",
       "                        }\n",
       "                        break;\n",
       "                    }\n",
       "                }\n",
       "            }, 500);\n",
       "            "
      ],
      "text/plain": [
       "<IPython.core.display.Javascript object>"
      ]
     },
     "metadata": {},
     "output_type": "display_data"
    }
   ],
   "source": [
    "df = pd.read_csv(\"../14_profiles/reduced_dim_14.csv\")\n",
    "df"
   ]
  },
  {
   "cell_type": "code",
   "execution_count": 4,
   "metadata": {},
   "outputs": [
    {
     "data": {
      "application/javascript": [
       "\n",
       "            setTimeout(function() {\n",
       "                var nbb_cell_id = 4;\n",
       "                var nbb_unformatted_code = \"# Assign data to X & y\\nX = df.iloc[:, 1:]\\ny = df.profile_standardized\";\n",
       "                var nbb_formatted_code = \"# Assign data to X & y\\nX = df.iloc[:, 1:]\\ny = df.profile_standardized\";\n",
       "                var nbb_cells = Jupyter.notebook.get_cells();\n",
       "                for (var i = 0; i < nbb_cells.length; ++i) {\n",
       "                    if (nbb_cells[i].input_prompt_number == nbb_cell_id) {\n",
       "                        if (nbb_cells[i].get_text() == nbb_unformatted_code) {\n",
       "                             nbb_cells[i].set_text(nbb_formatted_code);\n",
       "                        }\n",
       "                        break;\n",
       "                    }\n",
       "                }\n",
       "            }, 500);\n",
       "            "
      ],
      "text/plain": [
       "<IPython.core.display.Javascript object>"
      ]
     },
     "metadata": {},
     "output_type": "display_data"
    }
   ],
   "source": [
    "# Assign data to X & y\n",
    "X = df.iloc[:, 1:]\n",
    "y = df.profile_standardized"
   ]
  },
  {
   "cell_type": "code",
   "execution_count": 5,
   "metadata": {},
   "outputs": [
    {
     "data": {
      "application/javascript": [
       "\n",
       "            setTimeout(function() {\n",
       "                var nbb_cell_id = 5;\n",
       "                var nbb_unformatted_code = \"# Split the data into training and testing sets\\nX_train, X_test, y_train, y_test = tts(X, y, test_size=0.3, random_state=0)\";\n",
       "                var nbb_formatted_code = \"# Split the data into training and testing sets\\nX_train, X_test, y_train, y_test = tts(X, y, test_size=0.3, random_state=0)\";\n",
       "                var nbb_cells = Jupyter.notebook.get_cells();\n",
       "                for (var i = 0; i < nbb_cells.length; ++i) {\n",
       "                    if (nbb_cells[i].input_prompt_number == nbb_cell_id) {\n",
       "                        if (nbb_cells[i].get_text() == nbb_unformatted_code) {\n",
       "                             nbb_cells[i].set_text(nbb_formatted_code);\n",
       "                        }\n",
       "                        break;\n",
       "                    }\n",
       "                }\n",
       "            }, 500);\n",
       "            "
      ],
      "text/plain": [
       "<IPython.core.display.Javascript object>"
      ]
     },
     "metadata": {},
     "output_type": "display_data"
    }
   ],
   "source": [
    "# Split the data into training and testing sets\n",
    "X_train, X_test, y_train, y_test = tts(X, y, test_size=0.3, random_state=0)"
   ]
  },
  {
   "cell_type": "code",
   "execution_count": 6,
   "metadata": {},
   "outputs": [
    {
     "data": {
      "text/plain": [
       "DecisionTreeClassifier(random_state=0)"
      ]
     },
     "execution_count": 6,
     "metadata": {},
     "output_type": "execute_result"
    },
    {
     "data": {
      "application/javascript": [
       "\n",
       "            setTimeout(function() {\n",
       "                var nbb_cell_id = 6;\n",
       "                var nbb_unformatted_code = \"# Fit the DecisionTreeClassifier model\\nmodel = DecisionTreeClassifier(random_state=0)\\nmodel.fit(X_train, y_train)\";\n",
       "                var nbb_formatted_code = \"# Fit the DecisionTreeClassifier model\\nmodel = DecisionTreeClassifier(random_state=0)\\nmodel.fit(X_train, y_train)\";\n",
       "                var nbb_cells = Jupyter.notebook.get_cells();\n",
       "                for (var i = 0; i < nbb_cells.length; ++i) {\n",
       "                    if (nbb_cells[i].input_prompt_number == nbb_cell_id) {\n",
       "                        if (nbb_cells[i].get_text() == nbb_unformatted_code) {\n",
       "                             nbb_cells[i].set_text(nbb_formatted_code);\n",
       "                        }\n",
       "                        break;\n",
       "                    }\n",
       "                }\n",
       "            }, 500);\n",
       "            "
      ],
      "text/plain": [
       "<IPython.core.display.Javascript object>"
      ]
     },
     "metadata": {},
     "output_type": "display_data"
    }
   ],
   "source": [
    "# Fit the DecisionTreeClassifier model\n",
    "model = DecisionTreeClassifier(random_state=0)\n",
    "model.fit(X_train, y_train)"
   ]
  },
  {
   "cell_type": "markdown",
   "metadata": {},
   "source": [
    "### Establish Benchmark Model Performance"
   ]
  },
  {
   "cell_type": "code",
   "execution_count": 7,
   "metadata": {},
   "outputs": [
    {
     "name": "stdout",
     "output_type": "stream",
     "text": [
      "f1_micro score of decision tree classifier on test set: 0.410\n"
     ]
    },
    {
     "data": {
      "application/javascript": [
       "\n",
       "            setTimeout(function() {\n",
       "                var nbb_cell_id = 7;\n",
       "                var nbb_unformatted_code = \"# Make predictions using the testing data\\ny_pred = model.predict(X_test)\\nprint(\\n    \\\"f1_micro score of decision tree classifier on test set: {:.3f}\\\".format(\\n        np.mean(cross_val_score(model, X_test, y_test, cv=10, scoring=\\\"f1_micro\\\"))\\n    )\\n)\";\n",
       "                var nbb_formatted_code = \"# Make predictions using the testing data\\ny_pred = model.predict(X_test)\\nprint(\\n    \\\"f1_micro score of decision tree classifier on test set: {:.3f}\\\".format(\\n        np.mean(cross_val_score(model, X_test, y_test, cv=10, scoring=\\\"f1_micro\\\"))\\n    )\\n)\";\n",
       "                var nbb_cells = Jupyter.notebook.get_cells();\n",
       "                for (var i = 0; i < nbb_cells.length; ++i) {\n",
       "                    if (nbb_cells[i].input_prompt_number == nbb_cell_id) {\n",
       "                        if (nbb_cells[i].get_text() == nbb_unformatted_code) {\n",
       "                             nbb_cells[i].set_text(nbb_formatted_code);\n",
       "                        }\n",
       "                        break;\n",
       "                    }\n",
       "                }\n",
       "            }, 500);\n",
       "            "
      ],
      "text/plain": [
       "<IPython.core.display.Javascript object>"
      ]
     },
     "metadata": {},
     "output_type": "display_data"
    }
   ],
   "source": [
    "# Make predictions using the testing data\n",
    "y_pred = model.predict(X_test)\n",
    "print(\n",
    "    \"f1_micro score of decision tree classifier on test set: {:.3f}\".format(\n",
    "        np.mean(cross_val_score(model, X_test, y_test, cv=10, scoring=\"f1_micro\"))\n",
    "    )\n",
    ")"
   ]
  },
  {
   "cell_type": "markdown",
   "metadata": {},
   "source": [
    "### Conduct RFE"
   ]
  },
  {
   "cell_type": "code",
   "execution_count": 8,
   "metadata": {},
   "outputs": [
    {
     "data": {
      "application/javascript": [
       "\n",
       "            setTimeout(function() {\n",
       "                var nbb_cell_id = 8;\n",
       "                var nbb_unformatted_code = \"# Run RFE\\nrfe = RFE(model)\\nrfe = rfe.fit(X, y)\";\n",
       "                var nbb_formatted_code = \"# Run RFE\\nrfe = RFE(model)\\nrfe = rfe.fit(X, y)\";\n",
       "                var nbb_cells = Jupyter.notebook.get_cells();\n",
       "                for (var i = 0; i < nbb_cells.length; ++i) {\n",
       "                    if (nbb_cells[i].input_prompt_number == nbb_cell_id) {\n",
       "                        if (nbb_cells[i].get_text() == nbb_unformatted_code) {\n",
       "                             nbb_cells[i].set_text(nbb_formatted_code);\n",
       "                        }\n",
       "                        break;\n",
       "                    }\n",
       "                }\n",
       "            }, 500);\n",
       "            "
      ],
      "text/plain": [
       "<IPython.core.display.Javascript object>"
      ]
     },
     "metadata": {},
     "output_type": "display_data"
    }
   ],
   "source": [
    "# Run RFE\n",
    "rfe = RFE(model)\n",
    "rfe = rfe.fit(X, y)"
   ]
  },
  {
   "cell_type": "code",
   "execution_count": 9,
   "metadata": {},
   "outputs": [
    {
     "name": "stdout",
     "output_type": "stream",
     "text": [
      "[153 152 151 150 149 147 146   1   1   1   1   1   1   1   1   1   1   1\n",
      "   1   1   1   1   1   1   1   1   1   1   1   1  20   1   1  23  30  12\n",
      "  11  29   1   1  22   1  31   1   1  35   1   1   1   1  68  59   1   1\n",
      "  42   1   1   1   1   1   1  44   1  41   1   5  28   1   1   1  81  37\n",
      "   1  99  16  90 129   1  67   1   1 139  91   1 104  55   1   1  63  82\n",
      "   1  79  73   1 141  58   1   1  71  92  85   1  49  61 130   1  77   1\n",
      "   1   1   1   1   1   1  27  94 135 121 137   1   1   7 116 142 118  78\n",
      " 131   1 126 132   1   1   1 136 120   1  17   9   1   1   1   1   1  51\n",
      " 110   1   1   1 111   1 143   1 154 145 105   1 144   1   1   1 128  32\n",
      "   1  74  43   1   1   1  72  39  60   1   1  14   1  96  33   1  64   1\n",
      "   1   1  18   1   1   1  21   1  24   1  19   1  13   3  36   2   1   1\n",
      "   1  45   1  88   1   1  40   1  69   1   1   1  46   4   1  47   1   1\n",
      "  56  76  62 101   1  54  75   1  57  80  95  25  93   1   1 113   1   1\n",
      " 100  98  97  66 140   1  89 138  83  38  34   1  52   1  48   1 106   1\n",
      " 123   1   1  10   1 148   6   1 103   1 119  15 133  50 127   1 114 125\n",
      " 108 112 122   1 109  65   1  87  86 107   1 124   1  26 115   1  84 117\n",
      "   1   1   1   1  70   1  53   1 102   1   1 134   8   1   1   1   1]\n"
     ]
    },
    {
     "data": {
      "application/javascript": [
       "\n",
       "            setTimeout(function() {\n",
       "                var nbb_cell_id = 9;\n",
       "                var nbb_unformatted_code = \"# returns bool arr of True for features_selected\\nmask = rfe.support_\\n# Rank of 1 indicates features selected\\nprint(rfe.ranking_)\";\n",
       "                var nbb_formatted_code = \"# returns bool arr of True for features_selected\\nmask = rfe.support_\\n# Rank of 1 indicates features selected\\nprint(rfe.ranking_)\";\n",
       "                var nbb_cells = Jupyter.notebook.get_cells();\n",
       "                for (var i = 0; i < nbb_cells.length; ++i) {\n",
       "                    if (nbb_cells[i].input_prompt_number == nbb_cell_id) {\n",
       "                        if (nbb_cells[i].get_text() == nbb_unformatted_code) {\n",
       "                             nbb_cells[i].set_text(nbb_formatted_code);\n",
       "                        }\n",
       "                        break;\n",
       "                    }\n",
       "                }\n",
       "            }, 500);\n",
       "            "
      ],
      "text/plain": [
       "<IPython.core.display.Javascript object>"
      ]
     },
     "metadata": {},
     "output_type": "display_data"
    }
   ],
   "source": [
    "# returns bool arr of True for features_selected\n",
    "mask = rfe.support_\n",
    "# Rank of 1 indicates features selected\n",
    "print(rfe.ranking_)"
   ]
  },
  {
   "cell_type": "code",
   "execution_count": 10,
   "metadata": {},
   "outputs": [
    {
     "name": "stdout",
     "output_type": "stream",
     "text": [
      "152\n"
     ]
    },
    {
     "data": {
      "application/javascript": [
       "\n",
       "            setTimeout(function() {\n",
       "                var nbb_cell_id = 10;\n",
       "                var nbb_unformatted_code = \"# RFE output = 152 features\\nselection = rfe.get_support(1)\\nprint(len(selection))\";\n",
       "                var nbb_formatted_code = \"# RFE output = 152 features\\nselection = rfe.get_support(1)\\nprint(len(selection))\";\n",
       "                var nbb_cells = Jupyter.notebook.get_cells();\n",
       "                for (var i = 0; i < nbb_cells.length; ++i) {\n",
       "                    if (nbb_cells[i].input_prompt_number == nbb_cell_id) {\n",
       "                        if (nbb_cells[i].get_text() == nbb_unformatted_code) {\n",
       "                             nbb_cells[i].set_text(nbb_formatted_code);\n",
       "                        }\n",
       "                        break;\n",
       "                    }\n",
       "                }\n",
       "            }, 500);\n",
       "            "
      ],
      "text/plain": [
       "<IPython.core.display.Javascript object>"
      ]
     },
     "metadata": {},
     "output_type": "display_data"
    }
   ],
   "source": [
    "# RFE output = 152 features\n",
    "selection = rfe.get_support(1)\n",
    "print(len(selection))"
   ]
  },
  {
   "cell_type": "code",
   "execution_count": 11,
   "metadata": {},
   "outputs": [
    {
     "data": {
      "application/javascript": [
       "\n",
       "            setTimeout(function() {\n",
       "                var nbb_cell_id = 11;\n",
       "                var nbb_unformatted_code = \"# Subset X by selected features\\nX = X[X.columns[selection]]\";\n",
       "                var nbb_formatted_code = \"# Subset X by selected features\\nX = X[X.columns[selection]]\";\n",
       "                var nbb_cells = Jupyter.notebook.get_cells();\n",
       "                for (var i = 0; i < nbb_cells.length; ++i) {\n",
       "                    if (nbb_cells[i].input_prompt_number == nbb_cell_id) {\n",
       "                        if (nbb_cells[i].get_text() == nbb_unformatted_code) {\n",
       "                             nbb_cells[i].set_text(nbb_formatted_code);\n",
       "                        }\n",
       "                        break;\n",
       "                    }\n",
       "                }\n",
       "            }, 500);\n",
       "            "
      ],
      "text/plain": [
       "<IPython.core.display.Javascript object>"
      ]
     },
     "metadata": {},
     "output_type": "display_data"
    }
   ],
   "source": [
    "# Subset X by selected features\n",
    "X = X[X.columns[selection]]"
   ]
  },
  {
   "cell_type": "code",
   "execution_count": 12,
   "metadata": {},
   "outputs": [
    {
     "data": {
      "application/javascript": [
       "\n",
       "            setTimeout(function() {\n",
       "                var nbb_cell_id = 12;\n",
       "                var nbb_unformatted_code = \"# Split the data into training and testing sets\\nX_train, X_test, y_train, y_test = tts(X, y, test_size=0.3, random_state=0)\";\n",
       "                var nbb_formatted_code = \"# Split the data into training and testing sets\\nX_train, X_test, y_train, y_test = tts(X, y, test_size=0.3, random_state=0)\";\n",
       "                var nbb_cells = Jupyter.notebook.get_cells();\n",
       "                for (var i = 0; i < nbb_cells.length; ++i) {\n",
       "                    if (nbb_cells[i].input_prompt_number == nbb_cell_id) {\n",
       "                        if (nbb_cells[i].get_text() == nbb_unformatted_code) {\n",
       "                             nbb_cells[i].set_text(nbb_formatted_code);\n",
       "                        }\n",
       "                        break;\n",
       "                    }\n",
       "                }\n",
       "            }, 500);\n",
       "            "
      ],
      "text/plain": [
       "<IPython.core.display.Javascript object>"
      ]
     },
     "metadata": {},
     "output_type": "display_data"
    }
   ],
   "source": [
    "# Split the data into training and testing sets\n",
    "X_train, X_test, y_train, y_test = tts(X, y, test_size=0.3, random_state=0)"
   ]
  },
  {
   "cell_type": "code",
   "execution_count": 13,
   "metadata": {},
   "outputs": [
    {
     "data": {
      "text/plain": [
       "DecisionTreeClassifier(random_state=0)"
      ]
     },
     "execution_count": 13,
     "metadata": {},
     "output_type": "execute_result"
    },
    {
     "data": {
      "application/javascript": [
       "\n",
       "            setTimeout(function() {\n",
       "                var nbb_cell_id = 13;\n",
       "                var nbb_unformatted_code = \"# Fit the DecisionTreeClassifier model\\nrfe_model = DecisionTreeClassifier(random_state=0)\\nrfe_model.fit(X_train, y_train)\";\n",
       "                var nbb_formatted_code = \"# Fit the DecisionTreeClassifier model\\nrfe_model = DecisionTreeClassifier(random_state=0)\\nrfe_model.fit(X_train, y_train)\";\n",
       "                var nbb_cells = Jupyter.notebook.get_cells();\n",
       "                for (var i = 0; i < nbb_cells.length; ++i) {\n",
       "                    if (nbb_cells[i].input_prompt_number == nbb_cell_id) {\n",
       "                        if (nbb_cells[i].get_text() == nbb_unformatted_code) {\n",
       "                             nbb_cells[i].set_text(nbb_formatted_code);\n",
       "                        }\n",
       "                        break;\n",
       "                    }\n",
       "                }\n",
       "            }, 500);\n",
       "            "
      ],
      "text/plain": [
       "<IPython.core.display.Javascript object>"
      ]
     },
     "metadata": {},
     "output_type": "display_data"
    }
   ],
   "source": [
    "# Fit the DecisionTreeClassifier model\n",
    "rfe_model = DecisionTreeClassifier(random_state=0)\n",
    "rfe_model.fit(X_train, y_train)"
   ]
  },
  {
   "cell_type": "code",
   "execution_count": 14,
   "metadata": {},
   "outputs": [
    {
     "data": {
      "application/javascript": [
       "\n",
       "            setTimeout(function() {\n",
       "                var nbb_cell_id = 14;\n",
       "                var nbb_unformatted_code = \"# Generate Feature Importance DataFrame of Importances > .01\\nfeat_imp = pd.DataFrame(zip(X.columns, rfe_model.feature_importances_)).rename(\\n    columns={0: \\\"feature\\\", 1: \\\"importance\\\"}\\n)\\nmask = feat_imp.importance > 0.01\\nfeat_imp = feat_imp[mask]\\n\\nfeatures = feat_imp.feature\\ny_vals = np.sort(feat_imp.importance)\";\n",
       "                var nbb_formatted_code = \"# Generate Feature Importance DataFrame of Importances > .01\\nfeat_imp = pd.DataFrame(zip(X.columns, rfe_model.feature_importances_)).rename(\\n    columns={0: \\\"feature\\\", 1: \\\"importance\\\"}\\n)\\nmask = feat_imp.importance > 0.01\\nfeat_imp = feat_imp[mask]\\n\\nfeatures = feat_imp.feature\\ny_vals = np.sort(feat_imp.importance)\";\n",
       "                var nbb_cells = Jupyter.notebook.get_cells();\n",
       "                for (var i = 0; i < nbb_cells.length; ++i) {\n",
       "                    if (nbb_cells[i].input_prompt_number == nbb_cell_id) {\n",
       "                        if (nbb_cells[i].get_text() == nbb_unformatted_code) {\n",
       "                             nbb_cells[i].set_text(nbb_formatted_code);\n",
       "                        }\n",
       "                        break;\n",
       "                    }\n",
       "                }\n",
       "            }, 500);\n",
       "            "
      ],
      "text/plain": [
       "<IPython.core.display.Javascript object>"
      ]
     },
     "metadata": {},
     "output_type": "display_data"
    }
   ],
   "source": [
    "# Generate Feature Importance DataFrame of Importances > .01\n",
    "feat_imp = pd.DataFrame(zip(X.columns, rfe_model.feature_importances_)).rename(\n",
    "    columns={0: \"feature\", 1: \"importance\"}\n",
    ")\n",
    "mask = feat_imp.importance > 0.01\n",
    "feat_imp = feat_imp[mask]"
   ]
  },
  {
   "cell_type": "code",
   "execution_count": 15,
   "metadata": {},
   "outputs": [
    {
     "data": {
      "image/png": "[encoded data removed]",
      "text/plain": [
       "<Figure size 576x1008 with 1 Axes>"
      ]
     },
     "metadata": {
      "needs_background": "light"
     },
     "output_type": "display_data"
    },
    {
     "data": {
      "text/plain": [
       "<Figure size 576x1728 with 0 Axes>"
      ]
     },
     "metadata": {},
     "output_type": "display_data"
    },
    {
     "data": {
      "application/javascript": [
       "\n",
       "            setTimeout(function() {\n",
       "                var nbb_cell_id = 15;\n",
       "                var nbb_unformatted_code = \"# plot\\nfig, ax = plt.subplots()\\nwidth = 0.8\\nind = np.arange(len(y_vals))\\n\\nax.barh(ind, y_vals, width)\\nax.set_yticks(ind + width / 10)\\nax.set_yticklabels(features, fontsize=12, rotation=0, minor=False)\\n\\nplt.title(\\\"Feature importance in Decision Tree Classifier\\\", fontsize=18)\\nplt.xlabel(\\\"Relative importance\\\")\\nplt.ylabel(\\\"Feature\\\")\\nplt.figure(figsize=(8, 24))\\nplt.savefig(\\\"Feature importance in Decision Tree Classifier.pdf\\\")\\nfig.set_size_inches(8, 14, forward=True)\";\n",
       "                var nbb_formatted_code = \"# plot\\nfig, ax = plt.subplots()\\nwidth = 0.8\\nind = np.arange(len(y_vals))\\n\\nax.barh(ind, y_vals, width)\\nax.set_yticks(ind + width / 10)\\nax.set_yticklabels(features, fontsize=12, rotation=0, minor=False)\\n\\nplt.title(\\\"Feature importance in Decision Tree Classifier\\\", fontsize=18)\\nplt.xlabel(\\\"Relative importance\\\")\\nplt.ylabel(\\\"Feature\\\")\\nplt.figure(figsize=(8, 24))\\nplt.savefig(\\\"Feature importance in Decision Tree Classifier.pdf\\\")\\nfig.set_size_inches(8, 14, forward=True)\";\n",
       "                var nbb_cells = Jupyter.notebook.get_cells();\n",
       "                for (var i = 0; i < nbb_cells.length; ++i) {\n",
       "                    if (nbb_cells[i].input_prompt_number == nbb_cell_id) {\n",
       "                        if (nbb_cells[i].get_text() == nbb_unformatted_code) {\n",
       "                             nbb_cells[i].set_text(nbb_formatted_code);\n",
       "                        }\n",
       "                        break;\n",
       "                    }\n",
       "                }\n",
       "            }, 500);\n",
       "            "
      ],
      "text/plain": [
       "<IPython.core.display.Javascript object>"
      ]
     },
     "metadata": {},
     "output_type": "display_data"
    }
   ],
   "source": [
    "features = feat_imp.feature\n",
    "y_vals = np.sort(feat_imp.importance)\n",
    "\n",
    "# plot\n",
    "fig, ax = plt.subplots()\n",
    "width = 0.8\n",
    "ind = np.arange(len(y_vals))\n",
    "\n",
    "ax.barh(ind, y_vals, width)\n",
    "ax.set_yticks(ind + width / 10)\n",
    "ax.set_yticklabels(features, fontsize=12, rotation=0, minor=False)\n",
    "\n",
    "plt.title(\"Feature importance in Decision Tree Classifier\", fontsize=18)\n",
    "plt.xlabel(\"Relative importance\")\n",
    "plt.ylabel(\"Feature\")\n",
    "plt.figure(figsize=(8, 24))\n",
    "plt.savefig(\"Feature importance in Decision Tree Classifier.pdf\")\n",
    "fig.set_size_inches(8, 14, forward=True)"
   ]
  },
  {
   "cell_type": "markdown",
   "metadata": {},
   "source": [
    "### Compare Model Performance with Class Weights, Hypertuned Parameters and Optimized Number of Features with RFE"
   ]
  },
  {
   "cell_type": "code",
   "execution_count": 16,
   "metadata": {},
   "outputs": [
    {
     "name": "stdout",
     "output_type": "stream",
     "text": [
      "f1_micro score of decision tree classifier on test set: 0.445\n"
     ]
    },
    {
     "data": {
      "application/javascript": [
       "\n",
       "            setTimeout(function() {\n",
       "                var nbb_cell_id = 16;\n",
       "                var nbb_unformatted_code = \"# Make predictions using the testing data\\ny_pred = rfe_model.predict(X_test)\\nprint(\\n    \\\"f1_micro score of decision tree classifier on test set: {:.3f}\\\".format(\\n        np.mean(cross_val_score(rfe_model, X_test, y_test, cv=10, scoring=\\\"f1_micro\\\"))\\n    )\\n)\";\n",
       "                var nbb_formatted_code = \"# Make predictions using the testing data\\ny_pred = rfe_model.predict(X_test)\\nprint(\\n    \\\"f1_micro score of decision tree classifier on test set: {:.3f}\\\".format(\\n        np.mean(cross_val_score(rfe_model, X_test, y_test, cv=10, scoring=\\\"f1_micro\\\"))\\n    )\\n)\";\n",
       "                var nbb_cells = Jupyter.notebook.get_cells();\n",
       "                for (var i = 0; i < nbb_cells.length; ++i) {\n",
       "                    if (nbb_cells[i].input_prompt_number == nbb_cell_id) {\n",
       "                        if (nbb_cells[i].get_text() == nbb_unformatted_code) {\n",
       "                             nbb_cells[i].set_text(nbb_formatted_code);\n",
       "                        }\n",
       "                        break;\n",
       "                    }\n",
       "                }\n",
       "            }, 500);\n",
       "            "
      ],
      "text/plain": [
       "<IPython.core.display.Javascript object>"
      ]
     },
     "metadata": {},
     "output_type": "display_data"
    }
   ],
   "source": [
    "# Make predictions using the testing data\n",
    "y_pred = rfe_model.predict(X_test)\n",
    "print(\n",
    "    \"f1_micro score of decision tree classifier on test set: {:.3f}\".format(\n",
    "        np.mean(cross_val_score(rfe_model, X_test, y_test, cv=10, scoring=\"f1_micro\"))\n",
    "    )\n",
    ")"
   ]
  },
  {
   "cell_type": "markdown",
   "metadata": {},
   "source": [
    "### Hypertune the parameters using GridSearchCV"
   ]
  },
  {
   "cell_type": "code",
   "execution_count": 17,
   "metadata": {},
   "outputs": [
    {
     "data": {
      "application/javascript": [
       "\n",
       "            setTimeout(function() {\n",
       "                var nbb_cell_id = 17;\n",
       "                var nbb_unformatted_code = \"# Set Grid & CV Values\\ngrid = {\\n    \\\"criterion\\\": [\\\"gini\\\", \\\"entropy\\\"],\\n    \\\"max_depth\\\": range(10, 20),\\n    \\\"min_samples_split\\\": range(5, 15),\\n    \\\"min_samples_leaf\\\": range(5, 15),\\n}\\ncv = RepeatedStratifiedKFold(n_splits=3, n_repeats=3, random_state=1)\";\n",
       "                var nbb_formatted_code = \"# Set Grid & CV Values\\ngrid = {\\n    \\\"criterion\\\": [\\\"gini\\\", \\\"entropy\\\"],\\n    \\\"max_depth\\\": range(10, 20),\\n    \\\"min_samples_split\\\": range(5, 15),\\n    \\\"min_samples_leaf\\\": range(5, 15),\\n}\\ncv = RepeatedStratifiedKFold(n_splits=3, n_repeats=3, random_state=1)\";\n",
       "                var nbb_cells = Jupyter.notebook.get_cells();\n",
       "                for (var i = 0; i < nbb_cells.length; ++i) {\n",
       "                    if (nbb_cells[i].input_prompt_number == nbb_cell_id) {\n",
       "                        if (nbb_cells[i].get_text() == nbb_unformatted_code) {\n",
       "                             nbb_cells[i].set_text(nbb_formatted_code);\n",
       "                        }\n",
       "                        break;\n",
       "                    }\n",
       "                }\n",
       "            }, 500);\n",
       "            "
      ],
      "text/plain": [
       "<IPython.core.display.Javascript object>"
      ]
     },
     "metadata": {},
     "output_type": "display_data"
    }
   ],
   "source": [
    "# Set Grid & CV Values\n",
    "grid = {\n",
    "    \"criterion\": [\"gini\", \"entropy\"],\n",
    "    \"max_depth\": range(10, 20),\n",
    "    \"min_samples_split\": range(5, 15),\n",
    "    \"min_samples_leaf\": range(5, 15),\n",
    "}\n",
    "cv = RepeatedStratifiedKFold(n_splits=3, n_repeats=3, random_state=1)"
   ]
  },
  {
   "cell_type": "code",
   "execution_count": 18,
   "metadata": {},
   "outputs": [
    {
     "name": "stdout",
     "output_type": "stream",
     "text": [
      "Best: 0.434068 using {'criterion': 'gini', 'max_depth': 19, 'min_samples_leaf': 5, 'min_samples_split': 14}\n"
     ]
    },
    {
     "data": {
      "application/javascript": [
       "\n",
       "            setTimeout(function() {\n",
       "                var nbb_cell_id = 18;\n",
       "                var nbb_unformatted_code = \"# Conduct Grid Search\\ngrid_search = GridSearchCV(\\n    estimator=model,\\n    param_grid=grid,\\n    n_jobs=-1,\\n    cv=cv,\\n    scoring=\\\"accuracy\\\",\\n    error_score=0,\\n)\\n\\ngrid_result = grid_search.fit(X, y)\\n\\nprint(\\\"Best: %f using %s\\\" % (grid_result.best_score_, grid_result.best_params_))\";\n",
       "                var nbb_formatted_code = \"# Conduct Grid Search\\ngrid_search = GridSearchCV(\\n    estimator=model,\\n    param_grid=grid,\\n    n_jobs=-1,\\n    cv=cv,\\n    scoring=\\\"accuracy\\\",\\n    error_score=0,\\n)\\n\\ngrid_result = grid_search.fit(X, y)\\n\\nprint(\\\"Best: %f using %s\\\" % (grid_result.best_score_, grid_result.best_params_))\";\n",
       "                var nbb_cells = Jupyter.notebook.get_cells();\n",
       "                for (var i = 0; i < nbb_cells.length; ++i) {\n",
       "                    if (nbb_cells[i].input_prompt_number == nbb_cell_id) {\n",
       "                        if (nbb_cells[i].get_text() == nbb_unformatted_code) {\n",
       "                             nbb_cells[i].set_text(nbb_formatted_code);\n",
       "                        }\n",
       "                        break;\n",
       "                    }\n",
       "                }\n",
       "            }, 500);\n",
       "            "
      ],
      "text/plain": [
       "<IPython.core.display.Javascript object>"
      ]
     },
     "metadata": {},
     "output_type": "display_data"
    }
   ],
   "source": [
    "# Conduct Grid Search\n",
    "grid_search = GridSearchCV(\n",
    "    estimator=model,\n",
    "    param_grid=grid,\n",
    "    n_jobs=-1,\n",
    "    cv=cv,\n",
    "    scoring=\"accuracy\",\n",
    "    error_score=0,\n",
    ")\n",
    "\n",
    "grid_result = grid_search.fit(X, y)\n",
    "\n",
    "print(\"Best: %f using %s\" % (grid_result.best_score_, grid_result.best_params_))"
   ]
  },
  {
   "cell_type": "code",
   "execution_count": 19,
   "metadata": {},
   "outputs": [
    {
     "data": {
      "application/javascript": [
       "\n",
       "            setTimeout(function() {\n",
       "                var nbb_cell_id = 19;\n",
       "                var nbb_unformatted_code = \"hypertuned_model = grid_result.best_estimator_\";\n",
       "                var nbb_formatted_code = \"hypertuned_model = grid_result.best_estimator_\";\n",
       "                var nbb_cells = Jupyter.notebook.get_cells();\n",
       "                for (var i = 0; i < nbb_cells.length; ++i) {\n",
       "                    if (nbb_cells[i].input_prompt_number == nbb_cell_id) {\n",
       "                        if (nbb_cells[i].get_text() == nbb_unformatted_code) {\n",
       "                             nbb_cells[i].set_text(nbb_formatted_code);\n",
       "                        }\n",
       "                        break;\n",
       "                    }\n",
       "                }\n",
       "            }, 500);\n",
       "            "
      ],
      "text/plain": [
       "<IPython.core.display.Javascript object>"
      ]
     },
     "metadata": {},
     "output_type": "display_data"
    }
   ],
   "source": [
    "hypertuned_model = grid_result.best_estimator_"
   ]
  },
  {
   "cell_type": "markdown",
   "metadata": {},
   "source": [
    "### Compare Model performance with Hypertuned Parameters"
   ]
  },
  {
   "cell_type": "code",
   "execution_count": 20,
   "metadata": {},
   "outputs": [
    {
     "name": "stdout",
     "output_type": "stream",
     "text": [
      "f1_micro score of decision tree classifier on test set: 0.371\n"
     ]
    },
    {
     "data": {
      "application/javascript": [
       "\n",
       "            setTimeout(function() {\n",
       "                var nbb_cell_id = 20;\n",
       "                var nbb_unformatted_code = \"# Make predictions using the testing data\\ny_pred = hypertuned_model.predict(X_test)\\nprint(\\n    \\\"f1_micro score of decision tree classifier on test set: {:.3f}\\\".format(\\n        np.mean(\\n            cross_val_score(hypertuned_model, X_test, y_test, cv=10, scoring=\\\"f1_micro\\\")\\n        )\\n    )\\n)\";\n",
       "                var nbb_formatted_code = \"# Make predictions using the testing data\\ny_pred = hypertuned_model.predict(X_test)\\nprint(\\n    \\\"f1_micro score of decision tree classifier on test set: {:.3f}\\\".format(\\n        np.mean(\\n            cross_val_score(hypertuned_model, X_test, y_test, cv=10, scoring=\\\"f1_micro\\\")\\n        )\\n    )\\n)\";\n",
       "                var nbb_cells = Jupyter.notebook.get_cells();\n",
       "                for (var i = 0; i < nbb_cells.length; ++i) {\n",
       "                    if (nbb_cells[i].input_prompt_number == nbb_cell_id) {\n",
       "                        if (nbb_cells[i].get_text() == nbb_unformatted_code) {\n",
       "                             nbb_cells[i].set_text(nbb_formatted_code);\n",
       "                        }\n",
       "                        break;\n",
       "                    }\n",
       "                }\n",
       "            }, 500);\n",
       "            "
      ],
      "text/plain": [
       "<IPython.core.display.Javascript object>"
      ]
     },
     "metadata": {},
     "output_type": "display_data"
    }
   ],
   "source": [
    "# Make predictions using the testing data\n",
    "y_pred = hypertuned_model.predict(X_test)\n",
    "print(\n",
    "    \"f1_micro score of decision tree classifier on test set: {:.3f}\".format(\n",
    "        np.mean(\n",
    "            cross_val_score(hypertuned_model, X_test, y_test, cv=10, scoring=\"f1_micro\")\n",
    "        )\n",
    "    )\n",
    ")"
   ]
  },
  {
   "cell_type": "markdown",
   "metadata": {},
   "source": [
    "### Calculate Class Weights"
   ]
  },
  {
   "cell_type": "code",
   "execution_count": 21,
   "metadata": {},
   "outputs": [
    {
     "data": {
      "text/plain": [
       "{'javascript developer': 138,\n",
       " 'quality assurance': 86,\n",
       " 'frontend developer': 73,\n",
       " 'fullstack developer': 67,\n",
       " 'android developer': 53,\n",
       " 'machine learning engineer': 53,\n",
       " 'python developer': 48,\n",
       " 'php developer': 47,\n",
       " 'ios developer': 47,\n",
       " 'java developer': 45,\n",
       " 'web design': 43,\n",
       " 'ruby on rails developer': 24,\n",
       " 'c# developer': 24,\n",
       " 'data architecture developer': 23}"
      ]
     },
     "execution_count": 21,
     "metadata": {},
     "output_type": "execute_result"
    },
    {
     "data": {
      "application/javascript": [
       "\n",
       "            setTimeout(function() {\n",
       "                var nbb_cell_id = 21;\n",
       "                var nbb_unformatted_code = \"# Count of each type of class\\nlabels_dict = df.profile_standardized.value_counts().to_dict()\\nlabels_dict\";\n",
       "                var nbb_formatted_code = \"# Count of each type of class\\nlabels_dict = df.profile_standardized.value_counts().to_dict()\\nlabels_dict\";\n",
       "                var nbb_cells = Jupyter.notebook.get_cells();\n",
       "                for (var i = 0; i < nbb_cells.length; ++i) {\n",
       "                    if (nbb_cells[i].input_prompt_number == nbb_cell_id) {\n",
       "                        if (nbb_cells[i].get_text() == nbb_unformatted_code) {\n",
       "                             nbb_cells[i].set_text(nbb_formatted_code);\n",
       "                        }\n",
       "                        break;\n",
       "                    }\n",
       "                }\n",
       "            }, 500);\n",
       "            "
      ],
      "text/plain": [
       "<IPython.core.display.Javascript object>"
      ]
     },
     "metadata": {},
     "output_type": "display_data"
    }
   ],
   "source": [
    "# Count of each type of class\n",
    "labels_dict = df.profile_standardized.value_counts().to_dict()\n",
    "labels_dict"
   ]
  },
  {
   "cell_type": "code",
   "execution_count": 22,
   "metadata": {},
   "outputs": [
    {
     "data": {
      "application/javascript": [
       "\n",
       "            setTimeout(function() {\n",
       "                var nbb_cell_id = 22;\n",
       "                var nbb_unformatted_code = \"# Calculating class weight\\nweights = df.profile_standardized.value_counts() / len(df)\\n# DecisionTreeClassifier Object takes class weights as dict\\nweights = weights.to_dict()\\nfor key in weights:\\n    weights[key] *= 100\";\n",
       "                var nbb_formatted_code = \"# Calculating class weight\\nweights = df.profile_standardized.value_counts() / len(df)\\n# DecisionTreeClassifier Object takes class weights as dict\\nweights = weights.to_dict()\\nfor key in weights:\\n    weights[key] *= 100\";\n",
       "                var nbb_cells = Jupyter.notebook.get_cells();\n",
       "                for (var i = 0; i < nbb_cells.length; ++i) {\n",
       "                    if (nbb_cells[i].input_prompt_number == nbb_cell_id) {\n",
       "                        if (nbb_cells[i].get_text() == nbb_unformatted_code) {\n",
       "                             nbb_cells[i].set_text(nbb_formatted_code);\n",
       "                        }\n",
       "                        break;\n",
       "                    }\n",
       "                }\n",
       "            }, 500);\n",
       "            "
      ],
      "text/plain": [
       "<IPython.core.display.Javascript object>"
      ]
     },
     "metadata": {},
     "output_type": "display_data"
    }
   ],
   "source": [
    "# Calculating class weight\n",
    "weights = df.profile_standardized.value_counts() / len(df)\n",
    "# DecisionTreeClassifier Object takes class weights as dict\n",
    "weights = weights.to_dict()\n",
    "for key in weights:\n",
    "    weights[key] *= 100"
   ]
  },
  {
   "cell_type": "code",
   "execution_count": 23,
   "metadata": {},
   "outputs": [
    {
     "data": {
      "text/plain": [
       "DecisionTreeClassifier(class_weight={'android developer': 6.8741893644617384,\n",
       "                                     'c# developer': 3.11284046692607,\n",
       "                                     'data architecture developer': 2.9831387808041505,\n",
       "                                     'frontend developer': 9.46822308690013,\n",
       "                                     'fullstack developer': 8.690012970168612,\n",
       "                                     'ios developer': 6.09597924773022,\n",
       "                                     'java developer': 5.836575875486381,\n",
       "                                     'javascript developer': 17.898832684824903,\n",
       "                                     'machine learning engineer': 6.8741893644617384,\n",
       "                                     'php developer': 6.09597924773022,\n",
       "                                     'python developer': 6.22568093385214,\n",
       "                                     'quality assurance': 11.154345006485086,\n",
       "                                     'ruby on rails developer': 3.11284046692607,\n",
       "                                     'web design': 5.577172503242543},\n",
       "                       max_depth=19, min_samples_leaf=5, min_samples_split=14,\n",
       "                       random_state=0)"
      ]
     },
     "execution_count": 23,
     "metadata": {},
     "output_type": "execute_result"
    },
    {
     "data": {
      "application/javascript": [
       "\n",
       "            setTimeout(function() {\n",
       "                var nbb_cell_id = 23;\n",
       "                var nbb_unformatted_code = \"# Fit DecisionTreeClassifier Model\\nclass_weights_model = DecisionTreeClassifier(\\n    random_state=0, class_weight=weights, **grid_result.best_params_\\n)\\nclass_weights_model.fit(X_train, y_train)\";\n",
       "                var nbb_formatted_code = \"# Fit DecisionTreeClassifier Model\\nclass_weights_model = DecisionTreeClassifier(\\n    random_state=0, class_weight=weights, **grid_result.best_params_\\n)\\nclass_weights_model.fit(X_train, y_train)\";\n",
       "                var nbb_cells = Jupyter.notebook.get_cells();\n",
       "                for (var i = 0; i < nbb_cells.length; ++i) {\n",
       "                    if (nbb_cells[i].input_prompt_number == nbb_cell_id) {\n",
       "                        if (nbb_cells[i].get_text() == nbb_unformatted_code) {\n",
       "                             nbb_cells[i].set_text(nbb_formatted_code);\n",
       "                        }\n",
       "                        break;\n",
       "                    }\n",
       "                }\n",
       "            }, 500);\n",
       "            "
      ],
      "text/plain": [
       "<IPython.core.display.Javascript object>"
      ]
     },
     "metadata": {},
     "output_type": "display_data"
    }
   ],
   "source": [
    "# Fit DecisionTreeClassifier Model\n",
    "class_weights_model = DecisionTreeClassifier(\n",
    "    random_state=0, class_weight=weights, **grid_result.best_params_\n",
    ")\n",
    "class_weights_model.fit(X_train, y_train)"
   ]
  },
  {
   "cell_type": "markdown",
   "metadata": {},
   "source": [
    "### Compare Model Performance with Class Weights"
   ]
  },
  {
   "cell_type": "markdown",
   "metadata": {},
   "source": [
    "The 'f1_micro' metric is used here as it uses the overall TP, FN, FP, TN to calculate F1 directly, and therefore does not favor any class in particular."
   ]
  },
  {
   "cell_type": "code",
   "execution_count": 24,
   "metadata": {},
   "outputs": [
    {
     "name": "stdout",
     "output_type": "stream",
     "text": [
      "f1_micro score of decision tree classifier on test set: 0.324\n"
     ]
    },
    {
     "data": {
      "application/javascript": [
       "\n",
       "            setTimeout(function() {\n",
       "                var nbb_cell_id = 24;\n",
       "                var nbb_unformatted_code = \"# Make predictions using the testing data\\ny_pred = class_weights_model.predict(X_test)\\nprint(\\n    \\\"f1_micro score of decision tree classifier on test set: {:.3f}\\\".format(\\n        np.mean(\\n            cross_val_score(\\n                class_weights_model, X_test, y_test, cv=10, scoring=\\\"f1_micro\\\"\\n            )\\n        )\\n    )\\n)\";\n",
       "                var nbb_formatted_code = \"# Make predictions using the testing data\\ny_pred = class_weights_model.predict(X_test)\\nprint(\\n    \\\"f1_micro score of decision tree classifier on test set: {:.3f}\\\".format(\\n        np.mean(\\n            cross_val_score(\\n                class_weights_model, X_test, y_test, cv=10, scoring=\\\"f1_micro\\\"\\n            )\\n        )\\n    )\\n)\";\n",
       "                var nbb_cells = Jupyter.notebook.get_cells();\n",
       "                for (var i = 0; i < nbb_cells.length; ++i) {\n",
       "                    if (nbb_cells[i].input_prompt_number == nbb_cell_id) {\n",
       "                        if (nbb_cells[i].get_text() == nbb_unformatted_code) {\n",
       "                             nbb_cells[i].set_text(nbb_formatted_code);\n",
       "                        }\n",
       "                        break;\n",
       "                    }\n",
       "                }\n",
       "            }, 500);\n",
       "            "
      ],
      "text/plain": [
       "<IPython.core.display.Javascript object>"
      ]
     },
     "metadata": {},
     "output_type": "display_data"
    }
   ],
   "source": [
    "# Make predictions using the testing data\n",
    "y_pred = class_weights_model.predict(X_test)\n",
    "print(\n",
    "    \"f1_micro score of decision tree classifier on test set: {:.3f}\".format(\n",
    "        np.mean(\n",
    "            cross_val_score(\n",
    "                class_weights_model, X_test, y_test, cv=10, scoring=\"f1_micro\"\n",
    "            )\n",
    "        )\n",
    "    )\n",
    ")"
   ]
  },
  {
   "cell_type": "code",
   "execution_count": 25,
   "metadata": {},
   "outputs": [
    {
     "data": {
      "image/png": "[encoded data removed]",
      "text/plain": [
       "<Figure size 576x432 with 1 Axes>"
      ]
     },
     "metadata": {
      "needs_background": "light"
     },
     "output_type": "display_data"
    },
    {
     "data": {
      "text/plain": [
       "<Figure size 576x576 with 0 Axes>"
      ]
     },
     "metadata": {},
     "output_type": "display_data"
    },
    {
     "data": {
      "application/javascript": [
       "\n",
       "            setTimeout(function() {\n",
       "                var nbb_cell_id = 25;\n",
       "                var nbb_unformatted_code = \"fig, ax = plt.subplots()\\nplot_tree(rfe_model, filled=True)\\nplt.figure(figsize=(8, 8))\\nfig.set_size_inches(8, 6, forward=True)\";\n",
       "                var nbb_formatted_code = \"fig, ax = plt.subplots()\\nplot_tree(rfe_model, filled=True)\\nplt.figure(figsize=(8, 8))\\nfig.set_size_inches(8, 6, forward=True)\";\n",
       "                var nbb_cells = Jupyter.notebook.get_cells();\n",
       "                for (var i = 0; i < nbb_cells.length; ++i) {\n",
       "                    if (nbb_cells[i].input_prompt_number == nbb_cell_id) {\n",
       "                        if (nbb_cells[i].get_text() == nbb_unformatted_code) {\n",
       "                             nbb_cells[i].set_text(nbb_formatted_code);\n",
       "                        }\n",
       "                        break;\n",
       "                    }\n",
       "                }\n",
       "            }, 500);\n",
       "            "
      ],
      "text/plain": [
       "<IPython.core.display.Javascript object>"
      ]
     },
     "metadata": {},
     "output_type": "display_data"
    }
   ],
   "source": [
    "fig, ax = plt.subplots()\n",
    "plot_tree(rfe_model, filled=True)\n",
    "plt.figure(figsize=(8, 8))\n",
    "fig.set_size_inches(8, 6, forward=True)"
   ]
  }
 ],
 "metadata": {
  "kernelspec": {
   "display_name": "Celerative",
   "language": "python",
   "name": "celerative"
  },
  "language_info": {
   "codemirror_mode": {
    "name": "ipython",
    "version": 3
   },
   "file_extension": ".py",
   "mimetype": "text/x-python",
   "name": "python",
   "nbconvert_exporter": "python",
   "pygments_lexer": "ipython3",
   "version": "3.7.9"
  }
 },
 "nbformat": 4,
 "nbformat_minor": 4
}
