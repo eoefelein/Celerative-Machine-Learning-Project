{
 "cells": [
  {
   "cell_type": "code",
   "execution_count": 27,
   "metadata": {},
   "outputs": [],
   "source": [
    "from itertools import chain\n",
    "from collections import Counter\n",
    "import pandas as pd\n",
    "import numpy as np\n",
    "import matplotlib.pyplot as plt\n",
    "\n",
    "# Evaluating Decision Tree Model\n",
    "from sklearn.tree import DecisionTreeClassifier, plot_tree\n",
    "from sklearn.metrics import (\n",
    "    f1_score,\n",
    "    recall_score,\n",
    "    precision_score,\n",
    "    confusion_matrix,\n",
    "    classification_report,\n",
    ")\n",
    "from sklearn.model_selection import (\n",
    "    RepeatedStratifiedKFold,\n",
    "    GridSearchCV,\n",
    "    cross_val_score,\n",
    ")\n",
    "from sklearn import metrics\n",
    "from sklearn.metrics import roc_auc_score\n",
    "\n",
    "# Feature Selection\n",
    "from sklearn.feature_selection import RFE\n",
    "\n",
    "# Factor Analysis\n",
    "import pingouin as pg\n",
    "from factor_analyzer import FactorAnalyzer\n",
    "from factor_analyzer.factor_analyzer import calculate_kmo\n",
    "\n",
    "# Engaging in Data Preprocessing\n",
    "from sklearn.model_selection import train_test_split as tts\n",
    "\n",
    "# # Visualizing the Decision Trees generated\n",
    "import matplotlib.pyplot as plt\n",
    "import seaborn as sns\n",
    "from IPython.display import Image\n",
    "from sklearn.tree import export_graphviz\n",
    "from yellowbrick.contrib.classifier import DecisionViz\n",
    "\n",
    "from IPython.core.magic import register_cell_magic\n",
    "\n",
    "import warnings\n",
    "warnings.filterwarnings('ignore')"
   ]
  },
  {
   "cell_type": "code",
   "execution_count": 2,
   "metadata": {},
   "outputs": [
    {
     "data": {
      "text/html": [
       "<div>\n",
       "<style scoped>\n",
       "    .dataframe tbody tr th:only-of-type {\n",
       "        vertical-align: middle;\n",
       "    }\n",
       "\n",
       "    .dataframe tbody tr th {\n",
       "        vertical-align: top;\n",
       "    }\n",
       "\n",
       "    .dataframe thead th {\n",
       "        text-align: right;\n",
       "    }\n",
       "</style>\n",
       "<table border=\"1\" class=\"dataframe\">\n",
       "  <thead>\n",
       "    <tr style=\"text-align: right;\">\n",
       "      <th></th>\n",
       "      <th>profile_standardized</th>\n",
       "      <th>.NET</th>\n",
       "      <th>.NET Core</th>\n",
       "      <th>API</th>\n",
       "      <th>API Design</th>\n",
       "      <th>APIs</th>\n",
       "      <th>ASP.NET</th>\n",
       "      <th>ASP.NET MVC</th>\n",
       "      <th>AWS</th>\n",
       "      <th>AWS DynamoDB</th>\n",
       "      <th>...</th>\n",
       "      <th>Xamarin</th>\n",
       "      <th>Xamarin Forms</th>\n",
       "      <th>Xcode</th>\n",
       "      <th>Zend Framework</th>\n",
       "      <th>iOS</th>\n",
       "      <th>iOS Operating System</th>\n",
       "      <th>iOS SDK</th>\n",
       "      <th>iPad</th>\n",
       "      <th>jQuery</th>\n",
       "      <th>js</th>\n",
       "    </tr>\n",
       "  </thead>\n",
       "  <tbody>\n",
       "    <tr>\n",
       "      <th>0</th>\n",
       "      <td>fullstack developer</td>\n",
       "      <td>0</td>\n",
       "      <td>0</td>\n",
       "      <td>0</td>\n",
       "      <td>0</td>\n",
       "      <td>0</td>\n",
       "      <td>0</td>\n",
       "      <td>1</td>\n",
       "      <td>0</td>\n",
       "      <td>0</td>\n",
       "      <td>...</td>\n",
       "      <td>0</td>\n",
       "      <td>0</td>\n",
       "      <td>0</td>\n",
       "      <td>0</td>\n",
       "      <td>0</td>\n",
       "      <td>0</td>\n",
       "      <td>0</td>\n",
       "      <td>0</td>\n",
       "      <td>0</td>\n",
       "      <td>0</td>\n",
       "    </tr>\n",
       "    <tr>\n",
       "      <th>1</th>\n",
       "      <td>javascript developer</td>\n",
       "      <td>0</td>\n",
       "      <td>0</td>\n",
       "      <td>0</td>\n",
       "      <td>0</td>\n",
       "      <td>0</td>\n",
       "      <td>0</td>\n",
       "      <td>0</td>\n",
       "      <td>0</td>\n",
       "      <td>0</td>\n",
       "      <td>...</td>\n",
       "      <td>0</td>\n",
       "      <td>0</td>\n",
       "      <td>0</td>\n",
       "      <td>0</td>\n",
       "      <td>0</td>\n",
       "      <td>0</td>\n",
       "      <td>0</td>\n",
       "      <td>0</td>\n",
       "      <td>0</td>\n",
       "      <td>1</td>\n",
       "    </tr>\n",
       "    <tr>\n",
       "      <th>2</th>\n",
       "      <td>machine learning engineer</td>\n",
       "      <td>0</td>\n",
       "      <td>0</td>\n",
       "      <td>0</td>\n",
       "      <td>0</td>\n",
       "      <td>0</td>\n",
       "      <td>0</td>\n",
       "      <td>0</td>\n",
       "      <td>0</td>\n",
       "      <td>0</td>\n",
       "      <td>...</td>\n",
       "      <td>0</td>\n",
       "      <td>0</td>\n",
       "      <td>0</td>\n",
       "      <td>0</td>\n",
       "      <td>0</td>\n",
       "      <td>0</td>\n",
       "      <td>0</td>\n",
       "      <td>0</td>\n",
       "      <td>0</td>\n",
       "      <td>0</td>\n",
       "    </tr>\n",
       "    <tr>\n",
       "      <th>3</th>\n",
       "      <td>machine learning engineer</td>\n",
       "      <td>0</td>\n",
       "      <td>0</td>\n",
       "      <td>0</td>\n",
       "      <td>0</td>\n",
       "      <td>0</td>\n",
       "      <td>0</td>\n",
       "      <td>0</td>\n",
       "      <td>0</td>\n",
       "      <td>0</td>\n",
       "      <td>...</td>\n",
       "      <td>0</td>\n",
       "      <td>0</td>\n",
       "      <td>0</td>\n",
       "      <td>0</td>\n",
       "      <td>0</td>\n",
       "      <td>0</td>\n",
       "      <td>0</td>\n",
       "      <td>0</td>\n",
       "      <td>0</td>\n",
       "      <td>0</td>\n",
       "    </tr>\n",
       "    <tr>\n",
       "      <th>4</th>\n",
       "      <td>android developer</td>\n",
       "      <td>0</td>\n",
       "      <td>0</td>\n",
       "      <td>0</td>\n",
       "      <td>0</td>\n",
       "      <td>0</td>\n",
       "      <td>0</td>\n",
       "      <td>0</td>\n",
       "      <td>0</td>\n",
       "      <td>0</td>\n",
       "      <td>...</td>\n",
       "      <td>0</td>\n",
       "      <td>0</td>\n",
       "      <td>0</td>\n",
       "      <td>0</td>\n",
       "      <td>1</td>\n",
       "      <td>0</td>\n",
       "      <td>0</td>\n",
       "      <td>0</td>\n",
       "      <td>0</td>\n",
       "      <td>0</td>\n",
       "    </tr>\n",
       "    <tr>\n",
       "      <th>...</th>\n",
       "      <td>...</td>\n",
       "      <td>...</td>\n",
       "      <td>...</td>\n",
       "      <td>...</td>\n",
       "      <td>...</td>\n",
       "      <td>...</td>\n",
       "      <td>...</td>\n",
       "      <td>...</td>\n",
       "      <td>...</td>\n",
       "      <td>...</td>\n",
       "      <td>...</td>\n",
       "      <td>...</td>\n",
       "      <td>...</td>\n",
       "      <td>...</td>\n",
       "      <td>...</td>\n",
       "      <td>...</td>\n",
       "      <td>...</td>\n",
       "      <td>...</td>\n",
       "      <td>...</td>\n",
       "      <td>...</td>\n",
       "      <td>...</td>\n",
       "    </tr>\n",
       "    <tr>\n",
       "      <th>766</th>\n",
       "      <td>fullstack developer</td>\n",
       "      <td>0</td>\n",
       "      <td>0</td>\n",
       "      <td>0</td>\n",
       "      <td>0</td>\n",
       "      <td>0</td>\n",
       "      <td>0</td>\n",
       "      <td>0</td>\n",
       "      <td>0</td>\n",
       "      <td>0</td>\n",
       "      <td>...</td>\n",
       "      <td>0</td>\n",
       "      <td>0</td>\n",
       "      <td>0</td>\n",
       "      <td>0</td>\n",
       "      <td>0</td>\n",
       "      <td>0</td>\n",
       "      <td>0</td>\n",
       "      <td>0</td>\n",
       "      <td>0</td>\n",
       "      <td>0</td>\n",
       "    </tr>\n",
       "    <tr>\n",
       "      <th>767</th>\n",
       "      <td>machine learning engineer</td>\n",
       "      <td>0</td>\n",
       "      <td>0</td>\n",
       "      <td>0</td>\n",
       "      <td>0</td>\n",
       "      <td>0</td>\n",
       "      <td>0</td>\n",
       "      <td>0</td>\n",
       "      <td>0</td>\n",
       "      <td>0</td>\n",
       "      <td>...</td>\n",
       "      <td>0</td>\n",
       "      <td>0</td>\n",
       "      <td>0</td>\n",
       "      <td>0</td>\n",
       "      <td>0</td>\n",
       "      <td>0</td>\n",
       "      <td>0</td>\n",
       "      <td>0</td>\n",
       "      <td>0</td>\n",
       "      <td>0</td>\n",
       "    </tr>\n",
       "    <tr>\n",
       "      <th>768</th>\n",
       "      <td>ios developer</td>\n",
       "      <td>0</td>\n",
       "      <td>0</td>\n",
       "      <td>0</td>\n",
       "      <td>0</td>\n",
       "      <td>0</td>\n",
       "      <td>0</td>\n",
       "      <td>0</td>\n",
       "      <td>0</td>\n",
       "      <td>0</td>\n",
       "      <td>...</td>\n",
       "      <td>0</td>\n",
       "      <td>0</td>\n",
       "      <td>1</td>\n",
       "      <td>0</td>\n",
       "      <td>0</td>\n",
       "      <td>0</td>\n",
       "      <td>0</td>\n",
       "      <td>0</td>\n",
       "      <td>0</td>\n",
       "      <td>0</td>\n",
       "    </tr>\n",
       "    <tr>\n",
       "      <th>769</th>\n",
       "      <td>javascript developer</td>\n",
       "      <td>0</td>\n",
       "      <td>0</td>\n",
       "      <td>0</td>\n",
       "      <td>0</td>\n",
       "      <td>0</td>\n",
       "      <td>0</td>\n",
       "      <td>0</td>\n",
       "      <td>0</td>\n",
       "      <td>0</td>\n",
       "      <td>...</td>\n",
       "      <td>0</td>\n",
       "      <td>0</td>\n",
       "      <td>0</td>\n",
       "      <td>0</td>\n",
       "      <td>0</td>\n",
       "      <td>0</td>\n",
       "      <td>0</td>\n",
       "      <td>0</td>\n",
       "      <td>0</td>\n",
       "      <td>1</td>\n",
       "    </tr>\n",
       "    <tr>\n",
       "      <th>770</th>\n",
       "      <td>machine learning engineer</td>\n",
       "      <td>0</td>\n",
       "      <td>0</td>\n",
       "      <td>0</td>\n",
       "      <td>0</td>\n",
       "      <td>0</td>\n",
       "      <td>0</td>\n",
       "      <td>0</td>\n",
       "      <td>0</td>\n",
       "      <td>0</td>\n",
       "      <td>...</td>\n",
       "      <td>0</td>\n",
       "      <td>0</td>\n",
       "      <td>0</td>\n",
       "      <td>0</td>\n",
       "      <td>0</td>\n",
       "      <td>0</td>\n",
       "      <td>0</td>\n",
       "      <td>0</td>\n",
       "      <td>0</td>\n",
       "      <td>0</td>\n",
       "    </tr>\n",
       "  </tbody>\n",
       "</table>\n",
       "<p>771 rows × 306 columns</p>\n",
       "</div>"
      ],
      "text/plain": [
       "          profile_standardized  .NET  .NET Core  API  API Design  APIs  \\\n",
       "0          fullstack developer     0          0    0           0     0   \n",
       "1         javascript developer     0          0    0           0     0   \n",
       "2    machine learning engineer     0          0    0           0     0   \n",
       "3    machine learning engineer     0          0    0           0     0   \n",
       "4            android developer     0          0    0           0     0   \n",
       "..                         ...   ...        ...  ...         ...   ...   \n",
       "766        fullstack developer     0          0    0           0     0   \n",
       "767  machine learning engineer     0          0    0           0     0   \n",
       "768              ios developer     0          0    0           0     0   \n",
       "769       javascript developer     0          0    0           0     0   \n",
       "770  machine learning engineer     0          0    0           0     0   \n",
       "\n",
       "     ASP.NET  ASP.NET MVC  AWS  AWS DynamoDB  ...  Xamarin  Xamarin Forms  \\\n",
       "0          0            1    0             0  ...        0              0   \n",
       "1          0            0    0             0  ...        0              0   \n",
       "2          0            0    0             0  ...        0              0   \n",
       "3          0            0    0             0  ...        0              0   \n",
       "4          0            0    0             0  ...        0              0   \n",
       "..       ...          ...  ...           ...  ...      ...            ...   \n",
       "766        0            0    0             0  ...        0              0   \n",
       "767        0            0    0             0  ...        0              0   \n",
       "768        0            0    0             0  ...        0              0   \n",
       "769        0            0    0             0  ...        0              0   \n",
       "770        0            0    0             0  ...        0              0   \n",
       "\n",
       "     Xcode  Zend Framework  iOS  iOS Operating System  iOS SDK  iPad  jQuery  \\\n",
       "0        0               0    0                     0        0     0       0   \n",
       "1        0               0    0                     0        0     0       0   \n",
       "2        0               0    0                     0        0     0       0   \n",
       "3        0               0    0                     0        0     0       0   \n",
       "4        0               0    1                     0        0     0       0   \n",
       "..     ...             ...  ...                   ...      ...   ...     ...   \n",
       "766      0               0    0                     0        0     0       0   \n",
       "767      0               0    0                     0        0     0       0   \n",
       "768      1               0    0                     0        0     0       0   \n",
       "769      0               0    0                     0        0     0       0   \n",
       "770      0               0    0                     0        0     0       0   \n",
       "\n",
       "     js  \n",
       "0     0  \n",
       "1     1  \n",
       "2     0  \n",
       "3     0  \n",
       "4     0  \n",
       "..   ..  \n",
       "766   0  \n",
       "767   0  \n",
       "768   0  \n",
       "769   1  \n",
       "770   0  \n",
       "\n",
       "[771 rows x 306 columns]"
      ]
     },
     "execution_count": 2,
     "metadata": {},
     "output_type": "execute_result"
    }
   ],
   "source": [
    "df = pd.read_csv(\"../14_profiles/reduced_dim_14.csv\")\n",
    "df"
   ]
  },
  {
   "cell_type": "code",
   "execution_count": 3,
   "metadata": {},
   "outputs": [
    {
     "data": {
      "text/plain": [
       "javascript developer           0.178988\n",
       "quality assurance              0.111543\n",
       "frontend developer             0.094682\n",
       "fullstack developer            0.086900\n",
       "android developer              0.068742\n",
       "machine learning engineer      0.068742\n",
       "python developer               0.062257\n",
       "php developer                  0.060960\n",
       "ios developer                  0.060960\n",
       "java developer                 0.058366\n",
       "web design                     0.055772\n",
       "ruby on rails developer        0.031128\n",
       "c# developer                   0.031128\n",
       "data architecture developer    0.029831\n",
       "Name: profile_standardized, dtype: float64"
      ]
     },
     "execution_count": 3,
     "metadata": {},
     "output_type": "execute_result"
    }
   ],
   "source": [
    "df[\"profile_standardized\"].value_counts(normalize=True)"
   ]
  },
  {
   "cell_type": "code",
   "execution_count": 4,
   "metadata": {},
   "outputs": [],
   "source": [
    "# Convert target class to binary variable\n",
    "df[\"javascript developer\"] = np.where(\n",
    "    df[\"profile_standardized\"] == \"javascript developer\", 1, 0\n",
    ")"
   ]
  },
  {
   "cell_type": "code",
   "execution_count": 5,
   "metadata": {},
   "outputs": [],
   "source": [
    "# Generate X (feature) variable & y (target) variable\n",
    "X = df.iloc[:, 1:-1]\n",
    "y = df[\"javascript developer\"]"
   ]
  },
  {
   "cell_type": "code",
   "execution_count": 6,
   "metadata": {},
   "outputs": [],
   "source": [
    "# Split the data to a train and test set\n",
    "X_train, X_test, y_train, y_test = tts(X, y, test_size=0.3, random_state=0)"
   ]
  },
  {
   "cell_type": "code",
   "execution_count": 7,
   "metadata": {},
   "outputs": [
    {
     "data": {
      "text/plain": [
       "DecisionTreeClassifier(random_state=0)"
      ]
     },
     "execution_count": 7,
     "metadata": {},
     "output_type": "execute_result"
    }
   ],
   "source": [
    "# Instantiate DecisionTree Object\n",
    "model = DecisionTreeClassifier(random_state=0)\n",
    "model.fit(X_train, y_train)"
   ]
  },
  {
   "cell_type": "code",
   "execution_count": 8,
   "metadata": {},
   "outputs": [
    {
     "name": "stdout",
     "output_type": "stream",
     "text": [
      "The ROC_AUC score of the decision tree classifier on the test set: 0.803\n"
     ]
    }
   ],
   "source": [
    "# Make Predictions\n",
    "y_pred = model.predict(X_test)\n",
    "print(\n",
    "    \"The ROC_AUC score of the decision tree classifier on the test set: {:.3f}\".format(\n",
    "        np.mean(cross_val_score(model, X_test, y_test, scoring='roc_auc', cv=10))\n",
    "    )\n",
    ")"
   ]
  },
  {
   "cell_type": "code",
   "execution_count": 9,
   "metadata": {},
   "outputs": [
    {
     "data": {
      "text/plain": [
       "<Figure size 1584x1296 with 0 Axes>"
      ]
     },
     "execution_count": 9,
     "metadata": {},
     "output_type": "execute_result"
    },
    {
     "data": {
      "image/png": "[encoded data removed]",
      "text/plain": [
       "<Figure size 576x396 with 1 Axes>"
      ]
     },
     "metadata": {},
     "output_type": "display_data"
    },
    {
     "data": {
      "text/plain": [
       "<Figure size 1584x1296 with 0 Axes>"
      ]
     },
     "metadata": {},
     "output_type": "display_data"
    }
   ],
   "source": [
    "fig, ax = plt.subplots()\n",
    "plot_tree(DecisionTreeClassifier(random_state=0, max_depth=25).fit(X_train, y_train), filled=True)\n",
    "plt.figure(figsize=(22, 18))\n",
    "# fig.set_size_inches(12, 22, forward=True)"
   ]
  },
  {
   "cell_type": "markdown",
   "metadata": {},
   "source": [
    "Factor Analysis to Pair Down Factors to Two (2) Latent Factors"
   ]
  },
  {
   "cell_type": "code",
   "execution_count": 10,
   "metadata": {},
   "outputs": [],
   "source": [
    "factor_data = X.set_index(y)"
   ]
  },
  {
   "cell_type": "code",
   "execution_count": 11,
   "metadata": {},
   "outputs": [],
   "source": [
    "X_factor = factor_data.iloc[:, :]\n",
    "y_factor = factor_data.index"
   ]
  },
  {
   "cell_type": "markdown",
   "metadata": {},
   "source": [
    "### Kaiser-Meyer-Olkin (KMO) Test measures the suitability of data for factor analysis. \n",
    "It determines the adequacy for each observed variable and for the complete model. KMO estimates the proportion of variance among all the observed variables. Lower proportion is more suitable for factor analysis. KMO values range between 0 and 1. The value of KMO less than 0.6 is considered inadequate. The closer the value is to 1, the better."
   ]
  },
  {
   "cell_type": "code",
   "execution_count": 12,
   "metadata": {},
   "outputs": [
    {
     "data": {
      "text/plain": [
       "0.6956533748100485"
      ]
     },
     "execution_count": 12,
     "metadata": {},
     "output_type": "execute_result"
    }
   ],
   "source": [
    "# Using Kaiser-Meyer-Olkin (KMO) value to validate adequate sample size\n",
    "kmo_all, kmo_model = calculate_kmo(X_factor)\n",
    "kmo_model"
   ]
  },
  {
   "cell_type": "markdown",
   "metadata": {},
   "source": [
    "So, although this KMO value isn't ideal, it indicates that we are still able to conduct factor analysis. This value could be improved upon with a bigger sample size, or by collecting more data."
   ]
  },
  {
   "cell_type": "markdown",
   "metadata": {},
   "source": [
    "### Bartlett’s test of sphericity checks whether or not the observed variables intercorrelate at all using the observed correlation matrix against the identity matrix. If the test found statistically insignificant, you should not implement factor analysis."
   ]
  },
  {
   "cell_type": "code",
   "execution_count": 13,
   "metadata": {},
   "outputs": [
    {
     "data": {
      "text/plain": [
       "(185094.64496906733, 0.0)"
      ]
     },
     "execution_count": 13,
     "metadata": {},
     "output_type": "execute_result"
    }
   ],
   "source": [
    "from factor_analyzer.factor_analyzer import calculate_bartlett_sphericity\n",
    "chi_square_value,p_value=calculate_bartlett_sphericity(factor_data)\n",
    "chi_square_value, p_value"
   ]
  },
  {
   "cell_type": "markdown",
   "metadata": {},
   "source": [
    "In Bartlett’s test, the p-value is 0. So, the test was statistically significant, indicating that the observed correlation matrix is not an identity matrix."
   ]
  },
  {
   "cell_type": "markdown",
   "metadata": {},
   "source": [
    "# Factor Analysis : \"Varimax\" Rotation\n",
    "The Varimax rotation is an orthogonal method of rotation that minimizes the number of variables with high loadings and that which results in uncorrelated factors."
   ]
  },
  {
   "cell_type": "code",
   "execution_count": 14,
   "metadata": {},
   "outputs": [
    {
     "data": {
      "text/plain": [
       "FactorAnalyzer(n_factors=2, rotation='varimax', rotation_kwargs={})"
      ]
     },
     "execution_count": 14,
     "metadata": {},
     "output_type": "execute_result"
    }
   ],
   "source": [
    "# Perform factor analysis with n_factors = 2\n",
    "fa = FactorAnalyzer(rotation=\"varimax\", n_factors=2)\n",
    "fa.fit(X_factor)"
   ]
  },
  {
   "cell_type": "markdown",
   "metadata": {},
   "source": [
    "Each eigenvalue measures the amount of variance created by a factor (latent or unobserved) variable that's been generated by factor analysis. A factor eigenvalue that is greater than one (1) indicates that more variance is explained by that one factor than by a single observed variable. So an eigenvalue with a value of 3.2, for example, accounts for the variance created by 3.2 observed variables."
   ]
  },
  {
   "cell_type": "code",
   "execution_count": 15,
   "metadata": {},
   "outputs": [
    {
     "name": "stdout",
     "output_type": "stream",
     "text": [
      "The number of factors with eigenvalues greater than 1 :  121\n"
     ]
    },
    {
     "data": {
      "text/plain": [
       "array([22.89021674,  5.98668996,  3.20386361,  3.0489906 ,  2.99086094,\n",
       "        2.78894536,  2.66782863,  2.63265954,  2.57539918,  2.49945639,\n",
       "        2.46056752,  2.43122489,  2.40206707,  2.35563767,  2.32145504,\n",
       "        2.25027546,  2.23234815,  2.2037149 ,  2.18314895,  2.17631805,\n",
       "        2.14081666,  2.12269256,  2.10746521,  2.08094509,  2.0402733 ,\n",
       "        2.03150214,  2.01823034,  1.99760075,  1.95307973,  1.94948454,\n",
       "        1.9327699 ,  1.92191279,  1.90045554,  1.86744687,  1.85396337,\n",
       "        1.83265389,  1.82046404,  1.81458158,  1.80115043,  1.79639282,\n",
       "        1.78043012,  1.76309807,  1.75495572,  1.75028591,  1.73595181,\n",
       "        1.72624793,  1.69588122,  1.673876  ,  1.66851579,  1.66237605,\n",
       "        1.64733449,  1.62322942,  1.6202363 ,  1.610968  ,  1.59733063,\n",
       "        1.59439355,  1.57529082,  1.56762205,  1.54375557,  1.53498455,\n",
       "        1.52599126,  1.51955205,  1.51901358,  1.50422326,  1.4880987 ,\n",
       "        1.4781587 ,  1.47237993,  1.46651738,  1.45645824,  1.44771298,\n",
       "        1.42352122,  1.42070456,  1.40127343,  1.39461085,  1.39047579,\n",
       "        1.37811821,  1.36749921,  1.34884655,  1.32842734,  1.32724811,\n",
       "        1.31598252,  1.3096212 ,  1.30227096,  1.28821813,  1.27364661,\n",
       "        1.26156411,  1.25452061,  1.25100616,  1.23682597,  1.22856984,\n",
       "        1.21895915,  1.21590328,  1.20352628,  1.1901322 ,  1.1866241 ,\n",
       "        1.17719807,  1.17363295,  1.16118377,  1.15162159,  1.14375728,\n",
       "        1.14048643,  1.13769085,  1.12743786,  1.11599955,  1.10975298,\n",
       "        1.10179504,  1.09918036,  1.08726663,  1.08391516,  1.07619463,\n",
       "        1.06491971,  1.05957992,  1.05064653,  1.03915637,  1.03584365,\n",
       "        1.03413399,  1.03275231,  1.0262415 ,  1.0182594 ,  1.0093995 ,\n",
       "        1.00244269])"
      ]
     },
     "execution_count": 15,
     "metadata": {},
     "output_type": "execute_result"
    }
   ],
   "source": [
    "# Check Eigenvalues\n",
    "ev, v = fa.get_eigenvalues()\n",
    "f = ev > 1\n",
    "print(\"The number of factors with eigenvalues greater than 1 : \", len(ev[f]))\n",
    "ev[f]"
   ]
  },
  {
   "cell_type": "code",
   "execution_count": 16,
   "metadata": {},
   "outputs": [
    {
     "data": {
      "image/png": "[encoded data removed]",
      "text/plain": [
       "<Figure size 576x396 with 1 Axes>"
      ]
     },
     "metadata": {},
     "output_type": "display_data"
    }
   ],
   "source": [
    "# Create scree plot using matplotlib\n",
    "plt.scatter(range(1, X_factor.shape[1] + 1), ev)\n",
    "plt.plot(range(1, X_factor.shape[1] + 1), ev)\n",
    "plt.title(\"Scree Plot\")\n",
    "plt.xlabel(\"Factors\")\n",
    "plt.ylabel(\"Eigenvalue\")\n",
    "plt.grid()\n",
    "plt.show()"
   ]
  },
  {
   "cell_type": "code",
   "execution_count": 17,
   "metadata": {},
   "outputs": [
    {
     "data": {
      "text/html": [
       "<div>\n",
       "<style scoped>\n",
       "    .dataframe tbody tr th:only-of-type {\n",
       "        vertical-align: middle;\n",
       "    }\n",
       "\n",
       "    .dataframe tbody tr th {\n",
       "        vertical-align: top;\n",
       "    }\n",
       "\n",
       "    .dataframe thead th {\n",
       "        text-align: right;\n",
       "    }\n",
       "</style>\n",
       "<table border=\"1\" class=\"dataframe\">\n",
       "  <thead>\n",
       "    <tr style=\"text-align: right;\">\n",
       "      <th></th>\n",
       "      <th>Fact1_loadings_</th>\n",
       "      <th>Fact2_loadings_</th>\n",
       "      <th>Original_Factors</th>\n",
       "      <th>Factor_1</th>\n",
       "      <th>Factor_2</th>\n",
       "    </tr>\n",
       "  </thead>\n",
       "  <tbody>\n",
       "    <tr>\n",
       "      <th>0</th>\n",
       "      <td>-0.039421</td>\n",
       "      <td>-0.036524</td>\n",
       "      <td>.NET</td>\n",
       "      <td></td>\n",
       "      <td></td>\n",
       "    </tr>\n",
       "    <tr>\n",
       "      <th>1</th>\n",
       "      <td>-0.015727</td>\n",
       "      <td>-0.012012</td>\n",
       "      <td>.NET Core</td>\n",
       "      <td></td>\n",
       "      <td></td>\n",
       "    </tr>\n",
       "    <tr>\n",
       "      <th>2</th>\n",
       "      <td>-0.020052</td>\n",
       "      <td>-0.024577</td>\n",
       "      <td>API</td>\n",
       "      <td></td>\n",
       "      <td></td>\n",
       "    </tr>\n",
       "    <tr>\n",
       "      <th>3</th>\n",
       "      <td>-0.010232</td>\n",
       "      <td>-0.020936</td>\n",
       "      <td>API Design</td>\n",
       "      <td></td>\n",
       "      <td></td>\n",
       "    </tr>\n",
       "    <tr>\n",
       "      <th>4</th>\n",
       "      <td>-0.008576</td>\n",
       "      <td>-0.024497</td>\n",
       "      <td>APIs</td>\n",
       "      <td></td>\n",
       "      <td></td>\n",
       "    </tr>\n",
       "    <tr>\n",
       "      <th>...</th>\n",
       "      <td>...</td>\n",
       "      <td>...</td>\n",
       "      <td>...</td>\n",
       "      <td>...</td>\n",
       "      <td>...</td>\n",
       "    </tr>\n",
       "    <tr>\n",
       "      <th>300</th>\n",
       "      <td>-0.024822</td>\n",
       "      <td>-0.013831</td>\n",
       "      <td>iOS Operating System</td>\n",
       "      <td></td>\n",
       "      <td></td>\n",
       "    </tr>\n",
       "    <tr>\n",
       "      <th>301</th>\n",
       "      <td>-0.018973</td>\n",
       "      <td>-0.022697</td>\n",
       "      <td>iOS SDK</td>\n",
       "      <td></td>\n",
       "      <td></td>\n",
       "    </tr>\n",
       "    <tr>\n",
       "      <th>302</th>\n",
       "      <td>-0.005611</td>\n",
       "      <td>-0.016860</td>\n",
       "      <td>iPad</td>\n",
       "      <td></td>\n",
       "      <td></td>\n",
       "    </tr>\n",
       "    <tr>\n",
       "      <th>303</th>\n",
       "      <td>-0.066496</td>\n",
       "      <td>-0.098450</td>\n",
       "      <td>jQuery</td>\n",
       "      <td></td>\n",
       "      <td></td>\n",
       "    </tr>\n",
       "    <tr>\n",
       "      <th>304</th>\n",
       "      <td>0.818144</td>\n",
       "      <td>0.434727</td>\n",
       "      <td>js</td>\n",
       "      <td>Factor_1</td>\n",
       "      <td>Factor_2</td>\n",
       "    </tr>\n",
       "  </tbody>\n",
       "</table>\n",
       "<p>305 rows × 5 columns</p>\n",
       "</div>"
      ],
      "text/plain": [
       "     Fact1_loadings_  Fact2_loadings_      Original_Factors  Factor_1  \\\n",
       "0          -0.039421        -0.036524                  .NET             \n",
       "1          -0.015727        -0.012012             .NET Core             \n",
       "2          -0.020052        -0.024577                   API             \n",
       "3          -0.010232        -0.020936            API Design             \n",
       "4          -0.008576        -0.024497                  APIs             \n",
       "..               ...              ...                   ...       ...   \n",
       "300        -0.024822        -0.013831  iOS Operating System             \n",
       "301        -0.018973        -0.022697               iOS SDK             \n",
       "302        -0.005611        -0.016860                  iPad             \n",
       "303        -0.066496        -0.098450                jQuery             \n",
       "304         0.818144         0.434727                    js  Factor_1   \n",
       "\n",
       "     Factor_2  \n",
       "0              \n",
       "1              \n",
       "2              \n",
       "3              \n",
       "4              \n",
       "..        ...  \n",
       "300            \n",
       "301            \n",
       "302            \n",
       "303            \n",
       "304  Factor_2  \n",
       "\n",
       "[305 rows x 5 columns]"
      ]
     },
     "execution_count": 17,
     "metadata": {},
     "output_type": "execute_result"
    }
   ],
   "source": [
    "fa_loadings = pd.DataFrame(\n",
    "    fa.loadings_, columns=[\"Fact1_loadings_\", \"Fact2_loadings_\"]\n",
    ")\n",
    "fa_loadings[\"Original_Factors\"] = list(X_factor.columns)\n",
    "fa_loadings[\"Factor_1\"] = np.where(\n",
    "    fa_loadings[\"Fact1_loadings_\"] > 0.33, \"Factor_1\", \"\"\n",
    ")\n",
    "fa_loadings[\"Factor_2\"] = np.where(\n",
    "    fa_loadings[\"Fact2_loadings_\"] > 0.33, \"Factor_2\", \"\"\n",
    ")\n",
    "fa_loadings"
   ]
  },
  {
   "cell_type": "code",
   "execution_count": 18,
   "metadata": {},
   "outputs": [
    {
     "name": "stdout",
     "output_type": "stream",
     "text": [
      "Factor_1:  ['AWS', 'Angular', 'Angular JS', 'Apache', 'Automated Testing', 'CSS', 'Databases', 'Django', 'Docker', 'Drupal', 'Elasticsearch', 'Express', 'Flux', 'Git', 'HTML', 'Heroku', 'JavaScript', 'LESS', 'Laravel', 'Meteor', 'Mobile', 'Node', 'PHP', 'Project Management', 'React', 'React Native', 'Redux', 'SASS', 'SCSS', 'Selenium', 'Shopify', 'TDD', 'Ubuntu', 'Unix', 'Version Control', 'Zend Framework', 'js']\n",
      "Factor_2:  ['Architecture', 'Brand Design', 'English', 'Google Analytics', 'Graphic Design', 'Logo Design', 'Package Design', 'Requirements Gathering', 'Spoken English', 'UX Design', 'Visual', 'Wireframing', 'Written English']\n"
     ]
    }
   ],
   "source": [
    "Factor_1 = []\n",
    "Factor_2 = []\n",
    "for idx, row in fa_loadings.iterrows():\n",
    "    if (row.Fact1_loadings_ > row.Fact2_loadings_ and  row.Fact1_loadings_ > 0.33):\n",
    "        Factor_1.append(row.Original_Factors)\n",
    "    elif (row.Fact2_loadings_ > row.Fact1_loadings_ and row.Fact2_loadings_ > 0.33):\n",
    "        Factor_2.append(row.Original_Factors)\n",
    "print(\"Factor_1: \", Factor_1)\n",
    "print(\"Factor_2: \", Factor_2)"
   ]
  },
  {
   "cell_type": "markdown",
   "metadata": {},
   "source": [
    "Shown is the makeup of the two (2) Factors generated. By subsetting the X variable, the viability of the new facotr can be assessed via Cronbach's Alpha."
   ]
  },
  {
   "cell_type": "code",
   "execution_count": 19,
   "metadata": {},
   "outputs": [],
   "source": [
    "# Create the factors\n",
    "factor1 = factor_data[Factor_1]\n",
    "factor2 = factor_data[Factor_2]"
   ]
  },
  {
   "cell_type": "markdown",
   "metadata": {},
   "source": [
    "### Cronbach’s alpha measures reliability, or internal consistency. In other words, it measures the similarity of a set of items within a group. A score of 0.70 and above is good, 0. 80 and above is better, and 0. 90 and above is best. "
   ]
  },
  {
   "cell_type": "code",
   "execution_count": 20,
   "metadata": {},
   "outputs": [
    {
     "name": "stdout",
     "output_type": "stream",
     "text": [
      "(0.9633885985838833, array([0.96 , 0.967])) (0.9515198020144202, array([0.946, 0.956]))\n"
     ]
    }
   ],
   "source": [
    "# Get cronbach alpha\n",
    "factor1_alpha = pg.cronbach_alpha(factor1)\n",
    "factor2_alpha = pg.cronbach_alpha(factor2)\n",
    "\n",
    "print(factor1_alpha, factor2_alpha)"
   ]
  },
  {
   "cell_type": "markdown",
   "metadata": {},
   "source": [
    "### The .get_factor_variance() method shows the two factors to account for 16.32% of variance in the data:"
   ]
  },
  {
   "cell_type": "code",
   "execution_count": 21,
   "metadata": {},
   "outputs": [
    {
     "data": {
      "text/plain": [
       "(array([16.32059956, 11.88776037]),\n",
       " array([0.05351016, 0.03897626]),\n",
       " array([0.05351016, 0.09248643]))"
      ]
     },
     "execution_count": 21,
     "metadata": {},
     "output_type": "execute_result"
    }
   ],
   "source": [
    "fa.get_factor_variance()"
   ]
  },
  {
   "cell_type": "code",
   "execution_count": 22,
   "metadata": {},
   "outputs": [
    {
     "data": {
      "text/plain": [
       "array([[-6.71088640e+07,  0.00000000e+00],\n",
       "       [-8.25439027e+09,  1.28849019e+10],\n",
       "       [ 7.38197504e+08, -1.34217728e+09],\n",
       "       ...,\n",
       "       [ 7.38197504e+08, -1.34217728e+09],\n",
       "       [ 3.15411661e+09, -6.30823322e+09],\n",
       "       [-1.34217728e+08,  5.36870912e+08]])"
      ]
     },
     "execution_count": 22,
     "metadata": {},
     "output_type": "execute_result"
    }
   ],
   "source": [
    "# Transform X to two latent features returned by factor analysis\n",
    "X = fa.transform(X.values)\n",
    "X"
   ]
  },
  {
   "cell_type": "code",
   "execution_count": 24,
   "metadata": {},
   "outputs": [
    {
     "data": {
      "text/plain": [
       "DecisionTreeClassifier(random_state=0)"
      ]
     },
     "execution_count": 24,
     "metadata": {},
     "output_type": "execute_result"
    }
   ],
   "source": [
    "# Instantiate the DecisionTree Object\n",
    "model = DecisionTreeClassifier(random_state=0)\n",
    "model.fit(X, y)"
   ]
  },
  {
   "cell_type": "markdown",
   "metadata": {},
   "source": [
    "# Visualizing the Decision Surface"
   ]
  },
  {
   "cell_type": "code",
   "execution_count": 28,
   "metadata": {},
   "outputs": [],
   "source": [
    "@register_cell_magic('handle')\n",
    "def handle(line, cell):\n",
    "    try:\n",
    "        exec(cell)\n",
    "    except Exception as e:\n",
    "        print(\"Key Error\")"
   ]
  },
  {
   "cell_type": "code",
   "execution_count": 33,
   "metadata": {},
   "outputs": [],
   "source": [
    "X = pd.DataFrame(X).rename(columns={0:\"Feature_1\", 1:\"Feature_2\"})"
   ]
  },
  {
   "cell_type": "markdown",
   "metadata": {},
   "source": [
    "Each input feature is an axis on a feature space, which makes sense when considering that features are often referred to as dimesnions. For each additional feature that's added to a data set, an additional axes is added as well. It follows that the x-axis and y-axis of the below generated visualization represent the two features (or dimensions) of our dataset."
   ]
  },
  {
   "cell_type": "code",
   "execution_count": 36,
   "metadata": {},
   "outputs": [
    {
     "name": "stdout",
     "output_type": "stream",
     "text": [
      "Key Error\n"
     ]
    },
    {
     "data": {
      "image/png": "[encoded data removed]",
      "text/plain": [
       "<Figure size 576x396 with 1 Axes>"
      ]
     },
     "metadata": {},
     "output_type": "display_data"
    }
   ],
   "source": [
    "%%handle\n",
    "viz = DecisionViz(model, x=X, y=y, show_scatter=True)\n",
    "viz.fit(X_train, y_train)\n",
    "viz.draw(X_test, y_test)\n",
    "raise KeyError()\n",
    "viz.show()"
   ]
  },
  {
   "cell_type": "markdown",
   "metadata": {},
   "source": [
    "The ultimate goal of classification problems is to separate the feature space so that labels are assigned to sections in the feature space as correctly as possible. Here, each color is representative of a classification, non-javascript developers and javascript developers."
   ]
  }
 ],
 "metadata": {
  "kernelspec": {
   "display_name": "Celerative",
   "language": "python",
   "name": "celerative"
  },
  "language_info": {
   "codemirror_mode": {
    "name": "ipython",
    "version": 3
   },
   "file_extension": ".py",
   "mimetype": "text/x-python",
   "name": "python",
   "nbconvert_exporter": "python",
   "pygments_lexer": "ipython3",
   "version": "3.7.9"
  }
 },
 "nbformat": 4,
 "nbformat_minor": 4
}
