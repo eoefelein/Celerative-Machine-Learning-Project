{
 "cells": [
  {
   "cell_type": "markdown",
   "metadata": {},
   "source": [
    "# Optimizing Random Forest with RFECV in Dask"
   ]
  },
  {
   "cell_type": "code",
   "execution_count": 1,
   "metadata": {},
   "outputs": [],
   "source": [
    "import matplotlib.pyplot as plt\n",
    "import seaborn as sns\n",
    "import pandas as pd\n",
    "import numpy as np\n",
    "\n",
    "from sklearn import preprocessing\n",
    "from sklearn.model_selection import train_test_split as tts\n",
    "\n",
    "from sklearn.ensemble import RandomForestClassifier\n",
    "\n",
    "from sklearn.feature_selection import RFE, RFECV\n",
    "\n",
    "from sklearn import metrics\n",
    "from sklearn.metrics import (\n",
    "    f1_score,\n",
    "    recall_score,\n",
    "    precision_score,\n",
    "    confusion_matrix,\n",
    "    classification_report,\n",
    ")\n",
    "\n",
    "from sklearn.model_selection import (\n",
    "    StratifiedKFold,\n",
    "    cross_val_score,\n",
    ")\n",
    "\n",
    "from yellowbrick.model_selection import RFECV\n",
    "from yellowbrick.classifier import confusion_matrix\n",
    "\n",
    "import warnings\n",
    "warnings.simplefilter('ignore')"
   ]
  },
  {
   "cell_type": "code",
   "execution_count": 2,
   "metadata": {},
   "outputs": [
    {
     "data": {
      "text/html": [
       "<div>\n",
       "<style scoped>\n",
       "    .dataframe tbody tr th:only-of-type {\n",
       "        vertical-align: middle;\n",
       "    }\n",
       "\n",
       "    .dataframe tbody tr th {\n",
       "        vertical-align: top;\n",
       "    }\n",
       "\n",
       "    .dataframe thead th {\n",
       "        text-align: right;\n",
       "    }\n",
       "</style>\n",
       "<table border=\"1\" class=\"dataframe\">\n",
       "  <thead>\n",
       "    <tr style=\"text-align: right;\">\n",
       "      <th></th>\n",
       "      <th>profile_standardized</th>\n",
       "      <th>.NET</th>\n",
       "      <th>.NET Core</th>\n",
       "      <th>API</th>\n",
       "      <th>API Design</th>\n",
       "      <th>APIs</th>\n",
       "      <th>ASP.NET</th>\n",
       "      <th>ASP.NET MVC</th>\n",
       "      <th>AWS</th>\n",
       "      <th>AWS DynamoDB</th>\n",
       "      <th>...</th>\n",
       "      <th>Xamarin</th>\n",
       "      <th>Xamarin Forms</th>\n",
       "      <th>Xcode</th>\n",
       "      <th>Zend Framework</th>\n",
       "      <th>iOS</th>\n",
       "      <th>iOS Operating System</th>\n",
       "      <th>iOS SDK</th>\n",
       "      <th>iPad</th>\n",
       "      <th>jQuery</th>\n",
       "      <th>js</th>\n",
       "    </tr>\n",
       "  </thead>\n",
       "  <tbody>\n",
       "    <tr>\n",
       "      <th>0</th>\n",
       "      <td>fullstack developer</td>\n",
       "      <td>0</td>\n",
       "      <td>0</td>\n",
       "      <td>0</td>\n",
       "      <td>0</td>\n",
       "      <td>0</td>\n",
       "      <td>0</td>\n",
       "      <td>1</td>\n",
       "      <td>0</td>\n",
       "      <td>0</td>\n",
       "      <td>...</td>\n",
       "      <td>0</td>\n",
       "      <td>0</td>\n",
       "      <td>0</td>\n",
       "      <td>0</td>\n",
       "      <td>0</td>\n",
       "      <td>0</td>\n",
       "      <td>0</td>\n",
       "      <td>0</td>\n",
       "      <td>0</td>\n",
       "      <td>0</td>\n",
       "    </tr>\n",
       "    <tr>\n",
       "      <th>1</th>\n",
       "      <td>javascript developer</td>\n",
       "      <td>0</td>\n",
       "      <td>0</td>\n",
       "      <td>0</td>\n",
       "      <td>0</td>\n",
       "      <td>0</td>\n",
       "      <td>0</td>\n",
       "      <td>0</td>\n",
       "      <td>0</td>\n",
       "      <td>0</td>\n",
       "      <td>...</td>\n",
       "      <td>0</td>\n",
       "      <td>0</td>\n",
       "      <td>0</td>\n",
       "      <td>0</td>\n",
       "      <td>0</td>\n",
       "      <td>0</td>\n",
       "      <td>0</td>\n",
       "      <td>0</td>\n",
       "      <td>0</td>\n",
       "      <td>1</td>\n",
       "    </tr>\n",
       "    <tr>\n",
       "      <th>2</th>\n",
       "      <td>machine learning engineer</td>\n",
       "      <td>0</td>\n",
       "      <td>0</td>\n",
       "      <td>0</td>\n",
       "      <td>0</td>\n",
       "      <td>0</td>\n",
       "      <td>0</td>\n",
       "      <td>0</td>\n",
       "      <td>0</td>\n",
       "      <td>0</td>\n",
       "      <td>...</td>\n",
       "      <td>0</td>\n",
       "      <td>0</td>\n",
       "      <td>0</td>\n",
       "      <td>0</td>\n",
       "      <td>0</td>\n",
       "      <td>0</td>\n",
       "      <td>0</td>\n",
       "      <td>0</td>\n",
       "      <td>0</td>\n",
       "      <td>0</td>\n",
       "    </tr>\n",
       "    <tr>\n",
       "      <th>3</th>\n",
       "      <td>machine learning engineer</td>\n",
       "      <td>0</td>\n",
       "      <td>0</td>\n",
       "      <td>0</td>\n",
       "      <td>0</td>\n",
       "      <td>0</td>\n",
       "      <td>0</td>\n",
       "      <td>0</td>\n",
       "      <td>0</td>\n",
       "      <td>0</td>\n",
       "      <td>...</td>\n",
       "      <td>0</td>\n",
       "      <td>0</td>\n",
       "      <td>0</td>\n",
       "      <td>0</td>\n",
       "      <td>0</td>\n",
       "      <td>0</td>\n",
       "      <td>0</td>\n",
       "      <td>0</td>\n",
       "      <td>0</td>\n",
       "      <td>0</td>\n",
       "    </tr>\n",
       "    <tr>\n",
       "      <th>4</th>\n",
       "      <td>android developer</td>\n",
       "      <td>0</td>\n",
       "      <td>0</td>\n",
       "      <td>0</td>\n",
       "      <td>0</td>\n",
       "      <td>0</td>\n",
       "      <td>0</td>\n",
       "      <td>0</td>\n",
       "      <td>0</td>\n",
       "      <td>0</td>\n",
       "      <td>...</td>\n",
       "      <td>0</td>\n",
       "      <td>0</td>\n",
       "      <td>0</td>\n",
       "      <td>0</td>\n",
       "      <td>1</td>\n",
       "      <td>0</td>\n",
       "      <td>0</td>\n",
       "      <td>0</td>\n",
       "      <td>0</td>\n",
       "      <td>0</td>\n",
       "    </tr>\n",
       "    <tr>\n",
       "      <th>...</th>\n",
       "      <td>...</td>\n",
       "      <td>...</td>\n",
       "      <td>...</td>\n",
       "      <td>...</td>\n",
       "      <td>...</td>\n",
       "      <td>...</td>\n",
       "      <td>...</td>\n",
       "      <td>...</td>\n",
       "      <td>...</td>\n",
       "      <td>...</td>\n",
       "      <td>...</td>\n",
       "      <td>...</td>\n",
       "      <td>...</td>\n",
       "      <td>...</td>\n",
       "      <td>...</td>\n",
       "      <td>...</td>\n",
       "      <td>...</td>\n",
       "      <td>...</td>\n",
       "      <td>...</td>\n",
       "      <td>...</td>\n",
       "      <td>...</td>\n",
       "    </tr>\n",
       "    <tr>\n",
       "      <th>766</th>\n",
       "      <td>fullstack developer</td>\n",
       "      <td>0</td>\n",
       "      <td>0</td>\n",
       "      <td>0</td>\n",
       "      <td>0</td>\n",
       "      <td>0</td>\n",
       "      <td>0</td>\n",
       "      <td>0</td>\n",
       "      <td>0</td>\n",
       "      <td>0</td>\n",
       "      <td>...</td>\n",
       "      <td>0</td>\n",
       "      <td>0</td>\n",
       "      <td>0</td>\n",
       "      <td>0</td>\n",
       "      <td>0</td>\n",
       "      <td>0</td>\n",
       "      <td>0</td>\n",
       "      <td>0</td>\n",
       "      <td>0</td>\n",
       "      <td>0</td>\n",
       "    </tr>\n",
       "    <tr>\n",
       "      <th>767</th>\n",
       "      <td>machine learning engineer</td>\n",
       "      <td>0</td>\n",
       "      <td>0</td>\n",
       "      <td>0</td>\n",
       "      <td>0</td>\n",
       "      <td>0</td>\n",
       "      <td>0</td>\n",
       "      <td>0</td>\n",
       "      <td>0</td>\n",
       "      <td>0</td>\n",
       "      <td>...</td>\n",
       "      <td>0</td>\n",
       "      <td>0</td>\n",
       "      <td>0</td>\n",
       "      <td>0</td>\n",
       "      <td>0</td>\n",
       "      <td>0</td>\n",
       "      <td>0</td>\n",
       "      <td>0</td>\n",
       "      <td>0</td>\n",
       "      <td>0</td>\n",
       "    </tr>\n",
       "    <tr>\n",
       "      <th>768</th>\n",
       "      <td>ios developer</td>\n",
       "      <td>0</td>\n",
       "      <td>0</td>\n",
       "      <td>0</td>\n",
       "      <td>0</td>\n",
       "      <td>0</td>\n",
       "      <td>0</td>\n",
       "      <td>0</td>\n",
       "      <td>0</td>\n",
       "      <td>0</td>\n",
       "      <td>...</td>\n",
       "      <td>0</td>\n",
       "      <td>0</td>\n",
       "      <td>1</td>\n",
       "      <td>0</td>\n",
       "      <td>0</td>\n",
       "      <td>0</td>\n",
       "      <td>0</td>\n",
       "      <td>0</td>\n",
       "      <td>0</td>\n",
       "      <td>0</td>\n",
       "    </tr>\n",
       "    <tr>\n",
       "      <th>769</th>\n",
       "      <td>javascript developer</td>\n",
       "      <td>0</td>\n",
       "      <td>0</td>\n",
       "      <td>0</td>\n",
       "      <td>0</td>\n",
       "      <td>0</td>\n",
       "      <td>0</td>\n",
       "      <td>0</td>\n",
       "      <td>0</td>\n",
       "      <td>0</td>\n",
       "      <td>...</td>\n",
       "      <td>0</td>\n",
       "      <td>0</td>\n",
       "      <td>0</td>\n",
       "      <td>0</td>\n",
       "      <td>0</td>\n",
       "      <td>0</td>\n",
       "      <td>0</td>\n",
       "      <td>0</td>\n",
       "      <td>0</td>\n",
       "      <td>1</td>\n",
       "    </tr>\n",
       "    <tr>\n",
       "      <th>770</th>\n",
       "      <td>machine learning engineer</td>\n",
       "      <td>0</td>\n",
       "      <td>0</td>\n",
       "      <td>0</td>\n",
       "      <td>0</td>\n",
       "      <td>0</td>\n",
       "      <td>0</td>\n",
       "      <td>0</td>\n",
       "      <td>0</td>\n",
       "      <td>0</td>\n",
       "      <td>...</td>\n",
       "      <td>0</td>\n",
       "      <td>0</td>\n",
       "      <td>0</td>\n",
       "      <td>0</td>\n",
       "      <td>0</td>\n",
       "      <td>0</td>\n",
       "      <td>0</td>\n",
       "      <td>0</td>\n",
       "      <td>0</td>\n",
       "      <td>0</td>\n",
       "    </tr>\n",
       "  </tbody>\n",
       "</table>\n",
       "<p>771 rows × 306 columns</p>\n",
       "</div>"
      ],
      "text/plain": [
       "          profile_standardized  .NET  .NET Core  API  API Design  APIs  \\\n",
       "0          fullstack developer     0          0    0           0     0   \n",
       "1         javascript developer     0          0    0           0     0   \n",
       "2    machine learning engineer     0          0    0           0     0   \n",
       "3    machine learning engineer     0          0    0           0     0   \n",
       "4            android developer     0          0    0           0     0   \n",
       "..                         ...   ...        ...  ...         ...   ...   \n",
       "766        fullstack developer     0          0    0           0     0   \n",
       "767  machine learning engineer     0          0    0           0     0   \n",
       "768              ios developer     0          0    0           0     0   \n",
       "769       javascript developer     0          0    0           0     0   \n",
       "770  machine learning engineer     0          0    0           0     0   \n",
       "\n",
       "     ASP.NET  ASP.NET MVC  AWS  AWS DynamoDB  ...  Xamarin  Xamarin Forms  \\\n",
       "0          0            1    0             0  ...        0              0   \n",
       "1          0            0    0             0  ...        0              0   \n",
       "2          0            0    0             0  ...        0              0   \n",
       "3          0            0    0             0  ...        0              0   \n",
       "4          0            0    0             0  ...        0              0   \n",
       "..       ...          ...  ...           ...  ...      ...            ...   \n",
       "766        0            0    0             0  ...        0              0   \n",
       "767        0            0    0             0  ...        0              0   \n",
       "768        0            0    0             0  ...        0              0   \n",
       "769        0            0    0             0  ...        0              0   \n",
       "770        0            0    0             0  ...        0              0   \n",
       "\n",
       "     Xcode  Zend Framework  iOS  iOS Operating System  iOS SDK  iPad  jQuery  \\\n",
       "0        0               0    0                     0        0     0       0   \n",
       "1        0               0    0                     0        0     0       0   \n",
       "2        0               0    0                     0        0     0       0   \n",
       "3        0               0    0                     0        0     0       0   \n",
       "4        0               0    1                     0        0     0       0   \n",
       "..     ...             ...  ...                   ...      ...   ...     ...   \n",
       "766      0               0    0                     0        0     0       0   \n",
       "767      0               0    0                     0        0     0       0   \n",
       "768      1               0    0                     0        0     0       0   \n",
       "769      0               0    0                     0        0     0       0   \n",
       "770      0               0    0                     0        0     0       0   \n",
       "\n",
       "     js  \n",
       "0     0  \n",
       "1     1  \n",
       "2     0  \n",
       "3     0  \n",
       "4     0  \n",
       "..   ..  \n",
       "766   0  \n",
       "767   0  \n",
       "768   0  \n",
       "769   1  \n",
       "770   0  \n",
       "\n",
       "[771 rows x 306 columns]"
      ]
     },
     "execution_count": 2,
     "metadata": {},
     "output_type": "execute_result"
    }
   ],
   "source": [
    "# Read in data\n",
    "data = pd.read_csv(\"reduced_dim_14.csv\")\n",
    "data"
   ]
  },
  {
   "cell_type": "code",
   "execution_count": 3,
   "metadata": {},
   "outputs": [],
   "source": [
    "# Assign data to X & y\n",
    "X = data.iloc[:, 1:]\n",
    "y = data.iloc[:, 0]"
   ]
  },
  {
   "cell_type": "code",
   "execution_count": 4,
   "metadata": {},
   "outputs": [],
   "source": [
    "# Split the data into training and testing sets\n",
    "X_train, X_test, y_train, y_test = tts(X, y, test_size=0.3, random_state=0)"
   ]
  },
  {
   "cell_type": "code",
   "execution_count": 5,
   "metadata": {},
   "outputs": [
    {
     "data": {
      "text/plain": [
       "RandomForestClassifier(random_state=0)"
      ]
     },
     "execution_count": 5,
     "metadata": {},
     "output_type": "execute_result"
    }
   ],
   "source": [
    "# Instantiate and Fit the RandomForestClassifier Object\n",
    "model = RandomForestClassifier(random_state=0)\n",
    "model.fit(X_train, y_train)"
   ]
  },
  {
   "cell_type": "markdown",
   "metadata": {},
   "source": [
    "# Establish Baseline Classifier Performance with Cross Validation"
   ]
  },
  {
   "cell_type": "code",
   "execution_count": 6,
   "metadata": {},
   "outputs": [
    {
     "name": "stdout",
     "output_type": "stream",
     "text": [
      "Accuracy of random forest classifier on test set: 0.45743\n"
     ]
    }
   ],
   "source": [
    "# Make predictions using the testing data\n",
    "y_pred = model.predict(X_test)\n",
    "print(\n",
    "    \"Accuracy of random forest classifier on test set: {:.5f}\".format(\n",
    "       np.mean(cross_val_score(model, X_test, y_test, cv=10))\n",
    "    )\n",
    ")"
   ]
  },
  {
   "cell_type": "markdown",
   "metadata": {},
   "source": [
    "The problem set currently consists of 306 features. It's likely that many of these features do not add useful information, and actually reduce algorithm performance. This is referred to as noise.\n",
    "\n",
    "To reduce this, and to find the optimal number of features to specify with Recursive Feature Elimination (RFE), cross-validation is used to run RFE in an n-fold split. In this process, the training set will undergo the RFE process two (2) times. Each time, the classifier will be trained on the training set and scored on the test set. The mean result from these two splits is marked on the RFECV graph below.\n",
    "\n",
    "**Running Cross-Validated Recursive Feature Elimination  (RFECV) is too computationally expensive without first cutting features down from the 306 features we read in with the data.** So features will be cut down from 306 in order to run RFECV below:"
   ]
  },
  {
   "cell_type": "code",
   "execution_count": 8,
   "metadata": {},
   "outputs": [
    {
     "name": "stdout",
     "output_type": "stream",
     "text": [
      "RFE ranking:  [  1  50   1  28  24   1  41   1   1   1 153   1   1   1 135  46   1   1\n",
      "   1 114   1   1  62  45  91   1   1   1   1   1   1   1   1   1 141  66\n",
      "   1 124 120 108 126   2 149   1   1 100   1  21   1   1  29 110  57   1\n",
      "   1 134   1   1   1   1   1   1  26  85  52 101 142   1  51 117 129  67\n",
      "   1   1   1 121 147   8   7   1   1 132   1  15  82  92  16   1 113   1\n",
      "   1  96 151  11   1  94   1   1   1   1   1  33 136  43   1 150 148   1\n",
      "   1   1   1   1   1   1  34 102 127  13   1 137  17   1   1  48   1   1\n",
      "  83   1 140 131  12   1   1  75  95   1  36  88   1   1   1   1   1 125\n",
      "   1   1   1   1  56  39  55   1  37  61   1   1  74   9   1   1  84  25\n",
      "  58  65 133   1   1  42   1   1 143   1   1 138  59   1   1   1   1 116\n",
      "   1   1  40  60   1  79  68   1  81  97   1   1  86  27 154   6   1  69\n",
      "   1   1   1   1  23   1  72   1  22  14   1   1  63 144   1   1   1 109\n",
      "  38 152  20  73   1  54  87   1   1   1   1  47  80   1   1   1   1   1\n",
      "   5  71 105  49   1   1 103  98 119   1   1   1 106   1 111 139 122  89\n",
      "   1   4   1  53  30 112  93   1  76   1  19  32  10  44   1   1  70 146\n",
      " 104  78   1   1   1  90 123  99   1  77   1 130   1 145 128   1   3   1\n",
      "   1 115  64  31 118   1   1  35   1   1   1   1  18   1 107   1   1]\n",
      "The number of features selected is:  152\n"
     ]
    },
    {
     "data": {
      "text/plain": [
       "RandomForestClassifier(random_state=0)"
      ]
     },
     "execution_count": 8,
     "metadata": {},
     "output_type": "execute_result"
    }
   ],
   "source": [
    "# Instantiate & Fit the RFE model\n",
    "rfe = RFE(model).fit(X, y)\n",
    "print(\"RFE ranking: \", rfe.ranking_) # rank of 1 indicates selected features\n",
    "\n",
    "selection = rfe.get_support(1)  # the most important features\n",
    "print(\"The number of features selected is: \", len(selection))\n",
    "\n",
    "X = X[X.columns[selection]]  # final features\n",
    "\n",
    "# Split the data into training and testing sets\n",
    "X_train, X_test, y_train, y_test = tts(X, y, test_size=0.3, random_state=0)\n",
    "\n",
    "# Instantiate and Fit the RandomForestClassifier object\n",
    "model = RandomForestClassifier(random_state=0)\n",
    "model.fit(X_train, y_train)"
   ]
  },
  {
   "cell_type": "markdown",
   "metadata": {},
   "source": [
    "# RFECV\n",
    "The mean number of features returned with RFECV is the optimal number of features by which to train our classifier. This metric is extrememly useful as it allows us to optimize algorithm performance by optimizing the number of features on which to train it. "
   ]
  },
  {
   "cell_type": "code",
   "execution_count": 9,
   "metadata": {},
   "outputs": [
    {
     "name": "stderr",
     "output_type": "stream",
     "text": [
      "/srv/conda/envs/notebook/lib/python3.8/site-packages/sklearn/base.py:209: FutureWarning: From version 0.24, get_params will raise an AttributeError if a parameter cannot be retrieved as an instance attribute. Previously it would return None.\n",
      "  warnings.warn('From version 0.24, get_params will raise an '\n",
      "/srv/conda/envs/notebook/lib/python3.8/site-packages/sklearn/base.py:209: FutureWarning: From version 0.24, get_params will raise an AttributeError if a parameter cannot be retrieved as an instance attribute. Previously it would return None.\n",
      "  warnings.warn('From version 0.24, get_params will raise an '\n",
      "findfont: Font family ['sans-serif'] not found. Falling back to DejaVu Sans.\n",
      "findfont: Font family ['sans-serif'] not found. Falling back to DejaVu Sans.\n",
      "findfont: Font family ['sans-serif'] not found. Falling back to DejaVu Sans.\n"
     ]
    },
    {
     "data": {
      "text/plain": [
       "<AxesSubplot:title={'center':'RFECV for RandomForestClassifier'}, xlabel='Number of Features Selected', ylabel='Score'>"
      ]
     },
     "execution_count": 9,
     "metadata": {},
     "output_type": "execute_result"
    },
    {
     "data": {
      "image/png": "[encoded data removed]",
      "text/plain": [
       "<Figure size 576x396 with 1 Axes>"
      ]
     },
     "metadata": {},
     "output_type": "display_data"
    }
   ],
   "source": [
    "cv = StratifiedKFold(2)\n",
    "visualizer = RFECV(model, cv=cv, scoring=\"accuracy\")\n",
    "\n",
    "visualizer.fit(X, y)  # Fit the data to the visualizer\n",
    "visualizer.show(\"optimized_RFE.png\")"
   ]
  },
  {
   "cell_type": "markdown",
   "metadata": {},
   "source": [
    "# Comparing Classifier Performance with RFECV\n",
    "The RFECV Chart reveals the optimal number of 145 features to produce an accuracy score of about 55%, which is roughly a 10% improvement to the Benchmark Model's accuracy score of 45.7%."
   ]
  },
  {
   "cell_type": "code",
   "execution_count": 9,
   "metadata": {},
   "outputs": [
    {
     "name": "stdout",
     "output_type": "stream",
     "text": [
      "[ True  True  True  True  True  True  True  True  True  True  True  True\n",
      "  True  True  True  True  True  True  True  True  True  True  True  True\n",
      "  True  True  True False  True False  True  True  True  True  True  True\n",
      "  True  True  True  True False  True  True  True  True  True  True  True\n",
      "  True  True  True  True  True  True  True  True  True  True  True False\n",
      "  True  True False  True  True  True  True  True  True  True  True  True\n",
      "  True  True  True  True  True  True  True  True  True  True  True  True\n",
      "  True  True False  True  True  True  True  True  True  True  True  True\n",
      "  True  True  True  True  True  True  True  True  True  True  True  True\n",
      "  True  True  True  True  True  True  True  True  True  True  True  True\n",
      "  True  True  True  True False  True  True  True  True  True  True  True\n",
      "  True  True  True  True  True  True  True  True  True  True  True  True\n",
      "  True  True  True  True  True  True  True  True]\n"
     ]
    }
   ],
   "source": [
    "# Specifying optimal num_features = 145\n",
    "rfe = RFE(model, 145) \n",
    "rfe = rfe.fit(X, y)\n",
    "print(rfe.support_) # True indicates features selected\n",
    "f = rfe.get_support(1)\n",
    "X = X[X.columns[f]]"
   ]
  },
  {
   "cell_type": "code",
   "execution_count": 10,
   "metadata": {},
   "outputs": [
    {
     "data": {
      "text/plain": [
       "145"
      ]
     },
     "execution_count": 10,
     "metadata": {},
     "output_type": "execute_result"
    }
   ],
   "source": [
    "# X has been set to optimized num_features = 145\n",
    "len(X.columns)"
   ]
  },
  {
   "cell_type": "code",
   "execution_count": 11,
   "metadata": {},
   "outputs": [
    {
     "data": {
      "text/plain": [
       "RandomForestClassifier(random_state=0)"
      ]
     },
     "execution_count": 11,
     "metadata": {},
     "output_type": "execute_result"
    }
   ],
   "source": [
    "# Re-split the data into training and testing sets\n",
    "X_train, X_test, y_train, y_test = tts(X, y, test_size=0.3, random_state=0)\n",
    "\n",
    "# Instantiate and Fit the RandomForestClassifier object\n",
    "model = RandomForestClassifier(random_state=0)\n",
    "model.fit(X_train, y_train)"
   ]
  },
  {
   "cell_type": "markdown",
   "metadata": {},
   "source": [
    "# Finally, the Confusion Matrix provides a more in-depth look at how classes are being classified, with the correctly classified classes falling on the diagonal of the matrix."
   ]
  },
  {
   "cell_type": "code",
   "execution_count": 12,
   "metadata": {},
   "outputs": [
    {
     "name": "stderr",
     "output_type": "stream",
     "text": [
      "findfont: Font family ['sans-serif'] not found. Falling back to DejaVu Sans.\n",
      "findfont: Font family ['sans-serif'] not found. Falling back to DejaVu Sans.\n"
     ]
    },
    {
     "data": {
      "image/png": "[encoded data removed]",
      "text/plain": [
       "<Figure size 576x396 with 1 Axes>"
      ]
     },
     "metadata": {},
     "output_type": "display_data"
    },
    {
     "data": {
      "text/plain": [
       "<Figure size 576x396 with 0 Axes>"
      ]
     },
     "metadata": {},
     "output_type": "display_data"
    }
   ],
   "source": [
    "# Instantiate the Yellowbrick Library visualizer with the classification model\n",
    "confusion_matrix(\n",
    "    model,\n",
    "    X_train,\n",
    "    y_train,\n",
    "    X_test,\n",
    "    y_test,\n",
    "    classes=[\n",
    "        \"android developer\",\n",
    "        \"c# developer\",\n",
    "        \"data architecture developer\",\n",
    "        \"frontend developer\",\n",
    "        \"fullstack developer\",\n",
    "        \"ios developer\",\n",
    "        \"java developer\",\n",
    "        \"javascript developer\",\n",
    "        \"machine learning engineer\",\n",
    "        \"php developer\",\n",
    "        \"python developer\",\n",
    "        \"quality assurance\",\n",
    "        \"ruby on rails developer\",\n",
    "        \"web design\",\n",
    "    ],\n",
    ")\n",
    "plt.tight_layout()"
   ]
  },
  {
   "cell_type": "markdown",
   "metadata": {},
   "source": [
    "# Interpreting the Matrix:\n",
    "We can see that Java Developers were only classified correctly 20% of the time, with two instances classified as data architecture developers, and the other four as fullstack, javascript, quality assurance and web design developers. On the other hand, ios developers were classified correctly about 83% of the time, as we can see that 10 fall on the diagonal with only two (2) instances misclassified as a java and machine learning engineer."
   ]
  }
 ],
 "metadata": {
  "kernelspec": {
   "display_name": "Python 3",
   "language": "python",
   "name": "python3"
  },
  "language_info": {
   "codemirror_mode": {
    "name": "ipython",
    "version": 3
   },
   "file_extension": ".py",
   "mimetype": "text/x-python",
   "name": "python",
   "nbconvert_exporter": "python",
   "pygments_lexer": "ipython3",
   "version": "3.8.5"
  }
 },
 "nbformat": 4,
 "nbformat_minor": 4
}
