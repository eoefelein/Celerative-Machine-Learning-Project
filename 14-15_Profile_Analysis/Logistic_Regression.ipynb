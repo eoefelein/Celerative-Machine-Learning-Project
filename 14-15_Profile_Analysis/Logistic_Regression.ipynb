{
 "cells": [
  {
   "cell_type": "code",
   "execution_count": 1,
   "metadata": {},
   "outputs": [
    {
     "data": {
      "application/javascript": [
       "\n",
       "            setTimeout(function() {\n",
       "                var nbb_cell_id = 1;\n",
       "                var nbb_unformatted_code = \"%reload_ext nb_black\";\n",
       "                var nbb_formatted_code = \"%reload_ext nb_black\";\n",
       "                var nbb_cells = Jupyter.notebook.get_cells();\n",
       "                for (var i = 0; i < nbb_cells.length; ++i) {\n",
       "                    if (nbb_cells[i].input_prompt_number == nbb_cell_id) {\n",
       "                        if (nbb_cells[i].get_text() == nbb_unformatted_code) {\n",
       "                             nbb_cells[i].set_text(nbb_formatted_code);\n",
       "                        }\n",
       "                        break;\n",
       "                    }\n",
       "                }\n",
       "            }, 500);\n",
       "            "
      ],
      "text/plain": [
       "<IPython.core.display.Javascript object>"
      ]
     },
     "metadata": {},
     "output_type": "display_data"
    }
   ],
   "source": [
    "%reload_ext nb_black"
   ]
  },
  {
   "cell_type": "markdown",
   "metadata": {},
   "source": [
    "# Logistic Regression"
   ]
  },
  {
   "cell_type": "code",
   "execution_count": 2,
   "metadata": {},
   "outputs": [
    {
     "data": {
      "application/javascript": [
       "\n",
       "            setTimeout(function() {\n",
       "                var nbb_cell_id = 2;\n",
       "                var nbb_unformatted_code = \"import seaborn as sns\\nimport pandas as pd\\nimport matplotlib.pyplot as plt\\nimport numpy as np\\nfrom numpy import mean, std\\n\\nfrom sklearn.linear_model import LogisticRegression\\nfrom sklearn.multiclass import OneVsOneClassifier\\nfrom sklearn.tree import DecisionTreeClassifier, plot_tree\\nfrom sklearn.ensemble import RandomForestClassifier\\n\\nfrom sklearn.feature_selection import RFE, RFECV\\nfrom sklearn.model_selection import GridSearchCV\\nfrom sklearn import preprocessing\\n\\nfrom sklearn.metrics import silhouette_score\\nfrom sklearn.cluster import DBSCAN\\n\\n# from sklearn.preprocessing import MultiLabelBinarizer\\nfrom sklearn.preprocessing import MinMaxScaler\\nfrom factor_analyzer import FactorAnalyzer\\n\\n# import statsmodels.discrete.discrete_model as sm\\n\\nfrom sklearn.pipeline import Pipeline\\nfrom sklearn.model_selection import train_test_split as tts\\nfrom sklearn.metrics import (\\n    f1_score,\\n    recall_score,\\n    precision_score,\\n    confusion_matrix,\\n    classification_report,\\n)\\nfrom sklearn.model_selection import (\\n    RepeatedStratifiedKFold,\\n    GridSearchCV,\\n    cross_val_score,\\n)\\n\\n# Scoring the Models\\nfrom sklearn import metrics\\nfrom sklearn.metrics import roc_curve\\nfrom sklearn.metrics import roc_auc_score\\n\\nfrom yellowbrick.classifier import ROCAUC\";\n",
       "                var nbb_formatted_code = \"import seaborn as sns\\nimport pandas as pd\\nimport matplotlib.pyplot as plt\\nimport numpy as np\\nfrom numpy import mean, std\\n\\nfrom sklearn.linear_model import LogisticRegression\\nfrom sklearn.multiclass import OneVsOneClassifier\\nfrom sklearn.tree import DecisionTreeClassifier, plot_tree\\nfrom sklearn.ensemble import RandomForestClassifier\\n\\nfrom sklearn.feature_selection import RFE, RFECV\\nfrom sklearn.model_selection import GridSearchCV\\nfrom sklearn import preprocessing\\n\\nfrom sklearn.metrics import silhouette_score\\nfrom sklearn.cluster import DBSCAN\\n\\n# from sklearn.preprocessing import MultiLabelBinarizer\\nfrom sklearn.preprocessing import MinMaxScaler\\nfrom factor_analyzer import FactorAnalyzer\\n\\n# import statsmodels.discrete.discrete_model as sm\\n\\nfrom sklearn.pipeline import Pipeline\\nfrom sklearn.model_selection import train_test_split as tts\\nfrom sklearn.metrics import (\\n    f1_score,\\n    recall_score,\\n    precision_score,\\n    confusion_matrix,\\n    classification_report,\\n)\\nfrom sklearn.model_selection import (\\n    RepeatedStratifiedKFold,\\n    GridSearchCV,\\n    cross_val_score,\\n)\\n\\n# Scoring the Models\\nfrom sklearn import metrics\\nfrom sklearn.metrics import roc_curve\\nfrom sklearn.metrics import roc_auc_score\\n\\nfrom yellowbrick.classifier import ROCAUC\";\n",
       "                var nbb_cells = Jupyter.notebook.get_cells();\n",
       "                for (var i = 0; i < nbb_cells.length; ++i) {\n",
       "                    if (nbb_cells[i].input_prompt_number == nbb_cell_id) {\n",
       "                        if (nbb_cells[i].get_text() == nbb_unformatted_code) {\n",
       "                             nbb_cells[i].set_text(nbb_formatted_code);\n",
       "                        }\n",
       "                        break;\n",
       "                    }\n",
       "                }\n",
       "            }, 500);\n",
       "            "
      ],
      "text/plain": [
       "<IPython.core.display.Javascript object>"
      ]
     },
     "metadata": {},
     "output_type": "display_data"
    }
   ],
   "source": [
    "import seaborn as sns\n",
    "import pandas as pd\n",
    "import matplotlib.pyplot as plt\n",
    "import numpy as np\n",
    "from numpy import mean, std\n",
    "\n",
    "from sklearn.linear_model import LogisticRegression\n",
    "from sklearn.multiclass import OneVsOneClassifier\n",
    "\n",
    "from sklearn.feature_selection import RFE, RFECV\n",
    "from sklearn.model_selection import GridSearchCV\n",
    "from sklearn import preprocessing\n",
    "\n",
    "from sklearn.pipeline import Pipeline\n",
    "from sklearn.model_selection import train_test_split as tts\n",
    "from sklearn.metrics import (\n",
    "    f1_score,\n",
    "    recall_score,\n",
    "    precision_score,\n",
    "    confusion_matrix,\n",
    "    classification_report,\n",
    ")\n",
    "from sklearn.model_selection import (\n",
    "    RepeatedStratifiedKFold,\n",
    "    GridSearchCV,\n",
    "    cross_val_score,\n",
    ")\n",
    "\n",
    "# Scoring the Models\n",
    "from sklearn import metrics\n",
    "from sklearn.metrics import roc_curve\n",
    "from sklearn.metrics import roc_auc_score\n",
    "\n",
    "from yellowbrick.classifier import ROCAUC"
   ]
  },
  {
   "cell_type": "markdown",
   "metadata": {},
   "source": [
    "1) Benchmark for Multinomial LogReg\n",
    "pre RFE\n",
    "2) Run Grid Search for Multinomial \n",
    "3) Hypertune Multinomial\n",
    "4) Run Grid Search for OVO\n",
    "5) Hypertune OVO\n",
    "Subplot to compare side by side ROCAUC Curves (not in YellowBrick)\n",
    "post RFE\n",
    "2) Run Grid Search for Multinomial \n",
    "3) Hypertune Multinomial\n",
    "4) Run Grid Search for OVO\n",
    "5) Hypertune OVO\n",
    "Subplots to compare Classification Reports"
   ]
  },
  {
   "cell_type": "code",
   "execution_count": 3,
   "metadata": {},
   "outputs": [
    {
     "data": {
      "text/html": [
       "<div>\n",
       "<style scoped>\n",
       "    .dataframe tbody tr th:only-of-type {\n",
       "        vertical-align: middle;\n",
       "    }\n",
       "\n",
       "    .dataframe tbody tr th {\n",
       "        vertical-align: top;\n",
       "    }\n",
       "\n",
       "    .dataframe thead th {\n",
       "        text-align: right;\n",
       "    }\n",
       "</style>\n",
       "<table border=\"1\" class=\"dataframe\">\n",
       "  <thead>\n",
       "    <tr style=\"text-align: right;\">\n",
       "      <th></th>\n",
       "      <th>profile_standardized</th>\n",
       "      <th>.NET</th>\n",
       "      <th>.NET Core</th>\n",
       "      <th>API</th>\n",
       "      <th>API Design</th>\n",
       "      <th>APIs</th>\n",
       "      <th>ASP.NET</th>\n",
       "      <th>ASP.NET MVC</th>\n",
       "      <th>AWS</th>\n",
       "      <th>AWS DynamoDB</th>\n",
       "      <th>...</th>\n",
       "      <th>Xamarin</th>\n",
       "      <th>Xamarin Forms</th>\n",
       "      <th>Xcode</th>\n",
       "      <th>Zend Framework</th>\n",
       "      <th>iOS</th>\n",
       "      <th>iOS Operating System</th>\n",
       "      <th>iOS SDK</th>\n",
       "      <th>iPad</th>\n",
       "      <th>jQuery</th>\n",
       "      <th>js</th>\n",
       "    </tr>\n",
       "  </thead>\n",
       "  <tbody>\n",
       "    <tr>\n",
       "      <th>0</th>\n",
       "      <td>fullstack developer</td>\n",
       "      <td>0</td>\n",
       "      <td>0</td>\n",
       "      <td>0</td>\n",
       "      <td>0</td>\n",
       "      <td>0</td>\n",
       "      <td>0</td>\n",
       "      <td>1</td>\n",
       "      <td>0</td>\n",
       "      <td>0</td>\n",
       "      <td>...</td>\n",
       "      <td>0</td>\n",
       "      <td>0</td>\n",
       "      <td>0</td>\n",
       "      <td>0</td>\n",
       "      <td>0</td>\n",
       "      <td>0</td>\n",
       "      <td>0</td>\n",
       "      <td>0</td>\n",
       "      <td>0</td>\n",
       "      <td>0</td>\n",
       "    </tr>\n",
       "    <tr>\n",
       "      <th>1</th>\n",
       "      <td>javascript developer</td>\n",
       "      <td>0</td>\n",
       "      <td>0</td>\n",
       "      <td>0</td>\n",
       "      <td>0</td>\n",
       "      <td>0</td>\n",
       "      <td>0</td>\n",
       "      <td>0</td>\n",
       "      <td>0</td>\n",
       "      <td>0</td>\n",
       "      <td>...</td>\n",
       "      <td>0</td>\n",
       "      <td>0</td>\n",
       "      <td>0</td>\n",
       "      <td>0</td>\n",
       "      <td>0</td>\n",
       "      <td>0</td>\n",
       "      <td>0</td>\n",
       "      <td>0</td>\n",
       "      <td>0</td>\n",
       "      <td>1</td>\n",
       "    </tr>\n",
       "    <tr>\n",
       "      <th>2</th>\n",
       "      <td>machine learning engineer</td>\n",
       "      <td>0</td>\n",
       "      <td>0</td>\n",
       "      <td>0</td>\n",
       "      <td>0</td>\n",
       "      <td>0</td>\n",
       "      <td>0</td>\n",
       "      <td>0</td>\n",
       "      <td>0</td>\n",
       "      <td>0</td>\n",
       "      <td>...</td>\n",
       "      <td>0</td>\n",
       "      <td>0</td>\n",
       "      <td>0</td>\n",
       "      <td>0</td>\n",
       "      <td>0</td>\n",
       "      <td>0</td>\n",
       "      <td>0</td>\n",
       "      <td>0</td>\n",
       "      <td>0</td>\n",
       "      <td>0</td>\n",
       "    </tr>\n",
       "    <tr>\n",
       "      <th>3</th>\n",
       "      <td>machine learning engineer</td>\n",
       "      <td>0</td>\n",
       "      <td>0</td>\n",
       "      <td>0</td>\n",
       "      <td>0</td>\n",
       "      <td>0</td>\n",
       "      <td>0</td>\n",
       "      <td>0</td>\n",
       "      <td>0</td>\n",
       "      <td>0</td>\n",
       "      <td>...</td>\n",
       "      <td>0</td>\n",
       "      <td>0</td>\n",
       "      <td>0</td>\n",
       "      <td>0</td>\n",
       "      <td>0</td>\n",
       "      <td>0</td>\n",
       "      <td>0</td>\n",
       "      <td>0</td>\n",
       "      <td>0</td>\n",
       "      <td>0</td>\n",
       "    </tr>\n",
       "    <tr>\n",
       "      <th>4</th>\n",
       "      <td>android developer</td>\n",
       "      <td>0</td>\n",
       "      <td>0</td>\n",
       "      <td>0</td>\n",
       "      <td>0</td>\n",
       "      <td>0</td>\n",
       "      <td>0</td>\n",
       "      <td>0</td>\n",
       "      <td>0</td>\n",
       "      <td>0</td>\n",
       "      <td>...</td>\n",
       "      <td>0</td>\n",
       "      <td>0</td>\n",
       "      <td>0</td>\n",
       "      <td>0</td>\n",
       "      <td>1</td>\n",
       "      <td>0</td>\n",
       "      <td>0</td>\n",
       "      <td>0</td>\n",
       "      <td>0</td>\n",
       "      <td>0</td>\n",
       "    </tr>\n",
       "    <tr>\n",
       "      <th>...</th>\n",
       "      <td>...</td>\n",
       "      <td>...</td>\n",
       "      <td>...</td>\n",
       "      <td>...</td>\n",
       "      <td>...</td>\n",
       "      <td>...</td>\n",
       "      <td>...</td>\n",
       "      <td>...</td>\n",
       "      <td>...</td>\n",
       "      <td>...</td>\n",
       "      <td>...</td>\n",
       "      <td>...</td>\n",
       "      <td>...</td>\n",
       "      <td>...</td>\n",
       "      <td>...</td>\n",
       "      <td>...</td>\n",
       "      <td>...</td>\n",
       "      <td>...</td>\n",
       "      <td>...</td>\n",
       "      <td>...</td>\n",
       "      <td>...</td>\n",
       "    </tr>\n",
       "    <tr>\n",
       "      <th>766</th>\n",
       "      <td>fullstack developer</td>\n",
       "      <td>0</td>\n",
       "      <td>0</td>\n",
       "      <td>0</td>\n",
       "      <td>0</td>\n",
       "      <td>0</td>\n",
       "      <td>0</td>\n",
       "      <td>0</td>\n",
       "      <td>0</td>\n",
       "      <td>0</td>\n",
       "      <td>...</td>\n",
       "      <td>0</td>\n",
       "      <td>0</td>\n",
       "      <td>0</td>\n",
       "      <td>0</td>\n",
       "      <td>0</td>\n",
       "      <td>0</td>\n",
       "      <td>0</td>\n",
       "      <td>0</td>\n",
       "      <td>0</td>\n",
       "      <td>0</td>\n",
       "    </tr>\n",
       "    <tr>\n",
       "      <th>767</th>\n",
       "      <td>machine learning engineer</td>\n",
       "      <td>0</td>\n",
       "      <td>0</td>\n",
       "      <td>0</td>\n",
       "      <td>0</td>\n",
       "      <td>0</td>\n",
       "      <td>0</td>\n",
       "      <td>0</td>\n",
       "      <td>0</td>\n",
       "      <td>0</td>\n",
       "      <td>...</td>\n",
       "      <td>0</td>\n",
       "      <td>0</td>\n",
       "      <td>0</td>\n",
       "      <td>0</td>\n",
       "      <td>0</td>\n",
       "      <td>0</td>\n",
       "      <td>0</td>\n",
       "      <td>0</td>\n",
       "      <td>0</td>\n",
       "      <td>0</td>\n",
       "    </tr>\n",
       "    <tr>\n",
       "      <th>768</th>\n",
       "      <td>ios developer</td>\n",
       "      <td>0</td>\n",
       "      <td>0</td>\n",
       "      <td>0</td>\n",
       "      <td>0</td>\n",
       "      <td>0</td>\n",
       "      <td>0</td>\n",
       "      <td>0</td>\n",
       "      <td>0</td>\n",
       "      <td>0</td>\n",
       "      <td>...</td>\n",
       "      <td>0</td>\n",
       "      <td>0</td>\n",
       "      <td>1</td>\n",
       "      <td>0</td>\n",
       "      <td>0</td>\n",
       "      <td>0</td>\n",
       "      <td>0</td>\n",
       "      <td>0</td>\n",
       "      <td>0</td>\n",
       "      <td>0</td>\n",
       "    </tr>\n",
       "    <tr>\n",
       "      <th>769</th>\n",
       "      <td>javascript developer</td>\n",
       "      <td>0</td>\n",
       "      <td>0</td>\n",
       "      <td>0</td>\n",
       "      <td>0</td>\n",
       "      <td>0</td>\n",
       "      <td>0</td>\n",
       "      <td>0</td>\n",
       "      <td>0</td>\n",
       "      <td>0</td>\n",
       "      <td>...</td>\n",
       "      <td>0</td>\n",
       "      <td>0</td>\n",
       "      <td>0</td>\n",
       "      <td>0</td>\n",
       "      <td>0</td>\n",
       "      <td>0</td>\n",
       "      <td>0</td>\n",
       "      <td>0</td>\n",
       "      <td>0</td>\n",
       "      <td>1</td>\n",
       "    </tr>\n",
       "    <tr>\n",
       "      <th>770</th>\n",
       "      <td>machine learning engineer</td>\n",
       "      <td>0</td>\n",
       "      <td>0</td>\n",
       "      <td>0</td>\n",
       "      <td>0</td>\n",
       "      <td>0</td>\n",
       "      <td>0</td>\n",
       "      <td>0</td>\n",
       "      <td>0</td>\n",
       "      <td>0</td>\n",
       "      <td>...</td>\n",
       "      <td>0</td>\n",
       "      <td>0</td>\n",
       "      <td>0</td>\n",
       "      <td>0</td>\n",
       "      <td>0</td>\n",
       "      <td>0</td>\n",
       "      <td>0</td>\n",
       "      <td>0</td>\n",
       "      <td>0</td>\n",
       "      <td>0</td>\n",
       "    </tr>\n",
       "  </tbody>\n",
       "</table>\n",
       "<p>771 rows × 306 columns</p>\n",
       "</div>"
      ],
      "text/plain": [
       "          profile_standardized  .NET  .NET Core  API  API Design  APIs  \\\n",
       "0          fullstack developer     0          0    0           0     0   \n",
       "1         javascript developer     0          0    0           0     0   \n",
       "2    machine learning engineer     0          0    0           0     0   \n",
       "3    machine learning engineer     0          0    0           0     0   \n",
       "4            android developer     0          0    0           0     0   \n",
       "..                         ...   ...        ...  ...         ...   ...   \n",
       "766        fullstack developer     0          0    0           0     0   \n",
       "767  machine learning engineer     0          0    0           0     0   \n",
       "768              ios developer     0          0    0           0     0   \n",
       "769       javascript developer     0          0    0           0     0   \n",
       "770  machine learning engineer     0          0    0           0     0   \n",
       "\n",
       "     ASP.NET  ASP.NET MVC  AWS  AWS DynamoDB  ...  Xamarin  Xamarin Forms  \\\n",
       "0          0            1    0             0  ...        0              0   \n",
       "1          0            0    0             0  ...        0              0   \n",
       "2          0            0    0             0  ...        0              0   \n",
       "3          0            0    0             0  ...        0              0   \n",
       "4          0            0    0             0  ...        0              0   \n",
       "..       ...          ...  ...           ...  ...      ...            ...   \n",
       "766        0            0    0             0  ...        0              0   \n",
       "767        0            0    0             0  ...        0              0   \n",
       "768        0            0    0             0  ...        0              0   \n",
       "769        0            0    0             0  ...        0              0   \n",
       "770        0            0    0             0  ...        0              0   \n",
       "\n",
       "     Xcode  Zend Framework  iOS  iOS Operating System  iOS SDK  iPad  jQuery  \\\n",
       "0        0               0    0                     0        0     0       0   \n",
       "1        0               0    0                     0        0     0       0   \n",
       "2        0               0    0                     0        0     0       0   \n",
       "3        0               0    0                     0        0     0       0   \n",
       "4        0               0    1                     0        0     0       0   \n",
       "..     ...             ...  ...                   ...      ...   ...     ...   \n",
       "766      0               0    0                     0        0     0       0   \n",
       "767      0               0    0                     0        0     0       0   \n",
       "768      1               0    0                     0        0     0       0   \n",
       "769      0               0    0                     0        0     0       0   \n",
       "770      0               0    0                     0        0     0       0   \n",
       "\n",
       "     js  \n",
       "0     0  \n",
       "1     1  \n",
       "2     0  \n",
       "3     0  \n",
       "4     0  \n",
       "..   ..  \n",
       "766   0  \n",
       "767   0  \n",
       "768   0  \n",
       "769   1  \n",
       "770   0  \n",
       "\n",
       "[771 rows x 306 columns]"
      ]
     },
     "execution_count": 3,
     "metadata": {},
     "output_type": "execute_result"
    },
    {
     "data": {
      "application/javascript": [
       "\n",
       "            setTimeout(function() {\n",
       "                var nbb_cell_id = 3;\n",
       "                var nbb_unformatted_code = \"df = pd.read_csv(\\\"../14_profiles/reduced_dim_14.csv\\\")\\ndf\";\n",
       "                var nbb_formatted_code = \"df = pd.read_csv(\\\"../14_profiles/reduced_dim_14.csv\\\")\\ndf\";\n",
       "                var nbb_cells = Jupyter.notebook.get_cells();\n",
       "                for (var i = 0; i < nbb_cells.length; ++i) {\n",
       "                    if (nbb_cells[i].input_prompt_number == nbb_cell_id) {\n",
       "                        if (nbb_cells[i].get_text() == nbb_unformatted_code) {\n",
       "                             nbb_cells[i].set_text(nbb_formatted_code);\n",
       "                        }\n",
       "                        break;\n",
       "                    }\n",
       "                }\n",
       "            }, 500);\n",
       "            "
      ],
      "text/plain": [
       "<IPython.core.display.Javascript object>"
      ]
     },
     "metadata": {},
     "output_type": "display_data"
    }
   ],
   "source": [
    "df = pd.read_csv(\"../14_profiles/reduced_dim_14.csv\")\n",
    "df"
   ]
  },
  {
   "cell_type": "code",
   "execution_count": 4,
   "metadata": {},
   "outputs": [
    {
     "data": {
      "application/javascript": [
       "\n",
       "            setTimeout(function() {\n",
       "                var nbb_cell_id = 4;\n",
       "                var nbb_unformatted_code = \"# Generating X (feature) variable & y (target) variable\\nX = df.iloc[:, 1:]\\ny = df.profile_standardized\";\n",
       "                var nbb_formatted_code = \"# Generating X (feature) variable & y (target) variable\\nX = df.iloc[:, 1:]\\ny = df.profile_standardized\";\n",
       "                var nbb_cells = Jupyter.notebook.get_cells();\n",
       "                for (var i = 0; i < nbb_cells.length; ++i) {\n",
       "                    if (nbb_cells[i].input_prompt_number == nbb_cell_id) {\n",
       "                        if (nbb_cells[i].get_text() == nbb_unformatted_code) {\n",
       "                             nbb_cells[i].set_text(nbb_formatted_code);\n",
       "                        }\n",
       "                        break;\n",
       "                    }\n",
       "                }\n",
       "            }, 500);\n",
       "            "
      ],
      "text/plain": [
       "<IPython.core.display.Javascript object>"
      ]
     },
     "metadata": {},
     "output_type": "display_data"
    }
   ],
   "source": [
    "# Generating X (feature) variable & y (target) variable\n",
    "X = df.iloc[:, 1:]\n",
    "y = df.profile_standardized"
   ]
  },
  {
   "cell_type": "code",
   "execution_count": 5,
   "metadata": {},
   "outputs": [
    {
     "data": {
      "application/javascript": [
       "\n",
       "            setTimeout(function() {\n",
       "                var nbb_cell_id = 5;\n",
       "                var nbb_unformatted_code = \"# Splitting the data to a train and test set\\nX_train, X_test, y_train, y_test = tts(X, y, test_size=0.3, random_state=0)\";\n",
       "                var nbb_formatted_code = \"# Splitting the data to a train and test set\\nX_train, X_test, y_train, y_test = tts(X, y, test_size=0.3, random_state=0)\";\n",
       "                var nbb_cells = Jupyter.notebook.get_cells();\n",
       "                for (var i = 0; i < nbb_cells.length; ++i) {\n",
       "                    if (nbb_cells[i].input_prompt_number == nbb_cell_id) {\n",
       "                        if (nbb_cells[i].get_text() == nbb_unformatted_code) {\n",
       "                             nbb_cells[i].set_text(nbb_formatted_code);\n",
       "                        }\n",
       "                        break;\n",
       "                    }\n",
       "                }\n",
       "            }, 500);\n",
       "            "
      ],
      "text/plain": [
       "<IPython.core.display.Javascript object>"
      ]
     },
     "metadata": {},
     "output_type": "display_data"
    }
   ],
   "source": [
    "# Splitting the data to a train and test set\n",
    "X_train, X_test, y_train, y_test = tts(X, y, test_size=0.3, random_state=0)"
   ]
  },
  {
   "cell_type": "markdown",
   "metadata": {},
   "source": [
    "# Benchmark for Multinomial Logistic Regression Algorithm Performance"
   ]
  },
  {
   "cell_type": "markdown",
   "metadata": {},
   "source": [
    "‘auto’ selects ‘ovr’ if the data is binary, or if solver=’liblinear’, and otherwise selects ‘multinomial’. In order to ensure that all iterations are treated as a multi-class problem when we run grid search, we pass multinomial to the multi-class argument."
   ]
  },
  {
   "cell_type": "code",
   "execution_count": 6,
   "metadata": {},
   "outputs": [
    {
     "name": "stdout",
     "output_type": "stream",
     "text": [
      "Accuracy of logistic regression classifier on test set: 0.57\n"
     ]
    },
    {
     "data": {
      "application/javascript": [
       "\n",
       "            setTimeout(function() {\n",
       "                var nbb_cell_id = 6;\n",
       "                var nbb_unformatted_code = \"# Instantiate the LogisticRegression Object\\nlr = LogisticRegression(random_state=0, multi_class=\\\"multinomial\\\")\\n# Fit the model to the training data\\nlr.fit(X_train, y_train)\\n# Make predictions using the testing data\\ny_pred = lr.predict(X_test)\\nprint(\\n    \\\"Accuracy of logistic regression classifier on test set: {:.2f}\\\".format(\\n        lr.score(X_test, y_test)\\n    )\\n)\";\n",
       "                var nbb_formatted_code = \"# Instantiate the LogisticRegression Object\\nlr = LogisticRegression(random_state=0, multi_class=\\\"multinomial\\\")\\n# Fit the model to the training data\\nlr.fit(X_train, y_train)\\n# Make predictions using the testing data\\ny_pred = lr.predict(X_test)\\nprint(\\n    \\\"Accuracy of logistic regression classifier on test set: {:.2f}\\\".format(\\n        lr.score(X_test, y_test)\\n    )\\n)\";\n",
       "                var nbb_cells = Jupyter.notebook.get_cells();\n",
       "                for (var i = 0; i < nbb_cells.length; ++i) {\n",
       "                    if (nbb_cells[i].input_prompt_number == nbb_cell_id) {\n",
       "                        if (nbb_cells[i].get_text() == nbb_unformatted_code) {\n",
       "                             nbb_cells[i].set_text(nbb_formatted_code);\n",
       "                        }\n",
       "                        break;\n",
       "                    }\n",
       "                }\n",
       "            }, 500);\n",
       "            "
      ],
      "text/plain": [
       "<IPython.core.display.Javascript object>"
      ]
     },
     "metadata": {},
     "output_type": "display_data"
    }
   ],
   "source": [
    "# Instantiate the LogisticRegression Object\n",
    "lr = LogisticRegression(random_state=0, multi_class=\"multinomial\")\n",
    "# Fit the model to the training data\n",
    "lr.fit(X_train, y_train)\n",
    "# Make predictions using the testing data\n",
    "y_pred = lr.predict(X_test)\n",
    "print(\n",
    "    \"Accuracy of logistic regression classifier on test set: {:.2f}\".format(\n",
    "        lr.score(X_test, y_test)\n",
    "    )\n",
    ")"
   ]
  },
  {
   "cell_type": "markdown",
   "metadata": {},
   "source": [
    " # Implement Multinomial Grid Search : allows testing of multiple hyperparameters at once"
   ]
  },
  {
   "cell_type": "code",
   "execution_count": 7,
   "metadata": {},
   "outputs": [
    {
     "data": {
      "application/javascript": [
       "\n",
       "            setTimeout(function() {\n",
       "                var nbb_cell_id = 7;\n",
       "                var nbb_unformatted_code = \"# Hyperparameters to tune across both Multinomial & OVO classification problems\\nsolver_list = [\\\"liblinear\\\", \\\"newton-cg\\\", \\\"lbfgs\\\", \\\"sag\\\", \\\"saga\\\"]\\npenalty = [\\\"none\\\", \\\"l1\\\", \\\"l2\\\", \\\"elasticnet\\\"]\\nc_values = [100, 10, 1.0, 0.1, 0.01]\";\n",
       "                var nbb_formatted_code = \"# Hyperparameters to tune across both Multinomial & OVO classification problems\\nsolver_list = [\\\"liblinear\\\", \\\"newton-cg\\\", \\\"lbfgs\\\", \\\"sag\\\", \\\"saga\\\"]\\npenalty = [\\\"none\\\", \\\"l1\\\", \\\"l2\\\", \\\"elasticnet\\\"]\\nc_values = [100, 10, 1.0, 0.1, 0.01]\";\n",
       "                var nbb_cells = Jupyter.notebook.get_cells();\n",
       "                for (var i = 0; i < nbb_cells.length; ++i) {\n",
       "                    if (nbb_cells[i].input_prompt_number == nbb_cell_id) {\n",
       "                        if (nbb_cells[i].get_text() == nbb_unformatted_code) {\n",
       "                             nbb_cells[i].set_text(nbb_formatted_code);\n",
       "                        }\n",
       "                        break;\n",
       "                    }\n",
       "                }\n",
       "            }, 500);\n",
       "            "
      ],
      "text/plain": [
       "<IPython.core.display.Javascript object>"
      ]
     },
     "metadata": {},
     "output_type": "display_data"
    }
   ],
   "source": [
    "# Hyperparameters to tune across both Multinomial & OVO classification problems\n",
    "solver_list = [\"liblinear\", \"newton-cg\", \"lbfgs\", \"sag\", \"saga\"]\n",
    "penalty = [\"none\", \"l1\", \"l2\", \"elasticnet\"]\n",
    "c_values = [100, 10, 1.0, 0.1, 0.01]"
   ]
  },
  {
   "cell_type": "code",
   "execution_count": 8,
   "metadata": {},
   "outputs": [
    {
     "data": {
      "application/javascript": [
       "\n",
       "            setTimeout(function() {\n",
       "                var nbb_cell_id = 8;\n",
       "                var nbb_unformatted_code = \"# grid = dict(solver=solver_list, penalty=penalty, C=c_values)\\n# cv = RepeatedStratifiedKFold(n_splits=10, n_repeats=3, random_state=1)\\n# grid_search = GridSearchCV(\\n#     estimator=lr,\\n#     param_grid=grid,\\n#     n_jobs=-1,  # indicates all processors should be used\\n#     cv=cv,\\n#     scoring=\\\"accuracy\\\",\\n#     error_score=0,\\n# )\\n# grid_result = grid_search.fit(X, y)\\n\\n# # summarize results\\n# print(\\\"Best: %f using %s\\\" % (grid_result.best_score_, grid_result.best_params_))\\n# means = grid_result.cv_results_[\\\"mean_test_score\\\"]\\n# stds = grid_result.cv_results_[\\\"std_test_score\\\"]\\n# params = grid_result.cv_results_[\\\"params\\\"]\\n# for mean, stdev, param in zip(means, stds, params):\\n#     print(\\\"%f (%f) with: %r\\\" % (mean, stdev, param))\";\n",
       "                var nbb_formatted_code = \"# grid = dict(solver=solver_list, penalty=penalty, C=c_values)\\n# cv = RepeatedStratifiedKFold(n_splits=10, n_repeats=3, random_state=1)\\n# grid_search = GridSearchCV(\\n#     estimator=lr,\\n#     param_grid=grid,\\n#     n_jobs=-1,  # indicates all processors should be used\\n#     cv=cv,\\n#     scoring=\\\"accuracy\\\",\\n#     error_score=0,\\n# )\\n# grid_result = grid_search.fit(X, y)\\n\\n# # summarize results\\n# print(\\\"Best: %f using %s\\\" % (grid_result.best_score_, grid_result.best_params_))\\n# means = grid_result.cv_results_[\\\"mean_test_score\\\"]\\n# stds = grid_result.cv_results_[\\\"std_test_score\\\"]\\n# params = grid_result.cv_results_[\\\"params\\\"]\\n# for mean, stdev, param in zip(means, stds, params):\\n#     print(\\\"%f (%f) with: %r\\\" % (mean, stdev, param))\";\n",
       "                var nbb_cells = Jupyter.notebook.get_cells();\n",
       "                for (var i = 0; i < nbb_cells.length; ++i) {\n",
       "                    if (nbb_cells[i].input_prompt_number == nbb_cell_id) {\n",
       "                        if (nbb_cells[i].get_text() == nbb_unformatted_code) {\n",
       "                             nbb_cells[i].set_text(nbb_formatted_code);\n",
       "                        }\n",
       "                        break;\n",
       "                    }\n",
       "                }\n",
       "            }, 500);\n",
       "            "
      ],
      "text/plain": [
       "<IPython.core.display.Javascript object>"
      ]
     },
     "metadata": {},
     "output_type": "display_data"
    }
   ],
   "source": [
    "grid = dict(solver=solver_list, penalty=penalty, C=c_values)\n",
    "cv = RepeatedStratifiedKFold(n_splits=10, n_repeats=3, random_state=1)\n",
    "grid_search = GridSearchCV(\n",
    "    estimator=lr,\n",
    "    param_grid=grid,\n",
    "    n_jobs=-1,  # indicates all processors should be used\n",
    "    cv=cv,\n",
    "    scoring=\"accuracy\",\n",
    "    error_score=0,\n",
    ")\n",
    "grid_result = grid_search.fit(X, y)\n",
    "\n",
    "# summarize results\n",
    "print(\"Best: %f using %s\" % (grid_result.best_score_, grid_result.best_params_))\n",
    "means = grid_result.cv_results_[\"mean_test_score\"]\n",
    "stds = grid_result.cv_results_[\"std_test_score\"]\n",
    "params = grid_result.cv_results_[\"params\"]\n",
    "for mean, stdev, param in zip(means, stds, params):\n",
    "    print(\"%f (%f) with: %r\" % (mean, stdev, param))"
   ]
  },
  {
   "cell_type": "markdown",
   "metadata": {},
   "source": [
    "# Hyperparameter explanation\n",
    "https://machinelearningmastery.com/hyperparameters-for-classification-machine-learning-algorithms/"
   ]
  },
  {
   "cell_type": "markdown",
   "metadata": {},
   "source": [
    "Essentially all parameters tuned here have to do with regularization. Regularization shifts the model toward the bias side of things in the bias/variance tradeoff, which makes for a more generalizable logistic regression model. A more generalizable model is one which can be generalized to new data, and therefore performs better with new, unseen data. A less generalizable model will be more fit to that particular problem's training data, and will not perform as well with new, unseen data.\n",
    "\n",
    "1) C is a penalty term, meant to disincentivize and regulate against overfitting. Too big a C value will over-regulate and cause overfitting, while too small a C value will under-regulate and cause underfitting.\n",
    "\n",
    "2) L1 Regularization uses Lasso Regression which shrinks the less important feature's coefficients to zero, thus completely removing some features. This works well for feature seletion with a huge number of features, as we have here.\n",
    "\n",
    "3) The 'saga' solver supports L1 Regularization, and is the solver of choice for sparse multinomial logistic regression problems like this one. It's also well suited to large datasets. When using the sag and saga solvers, make sure features are on a similar scale. As the problem set's features have been converted to indicator variables, there is no need to scale them."
   ]
  },
  {
   "cell_type": "code",
   "execution_count": 9,
   "metadata": {},
   "outputs": [
    {
     "name": "stderr",
     "output_type": "stream",
     "text": [
      "C:\\Users\\oefel\\.virtualenvs\\Celerative_Working-MkC17mr_\\lib\\site-packages\\sklearn\\base.py:213: FutureWarning: From version 0.24, get_params will raise an AttributeError if a parameter cannot be retrieved as an instance attribute. Previously it would return None.\n",
      "  FutureWarning)\n"
     ]
    },
    {
     "data": {
      "text/plain": [
       "<AxesSubplot:title={'center':'ROC Curves for LogisticRegression'}, xlabel='False Positive Rate', ylabel='True Positive Rate'>"
      ]
     },
     "execution_count": 9,
     "metadata": {},
     "output_type": "execute_result"
    },
    {
     "data": {
      "image/png": "[encoded data removed]",
      "text/plain": [
       "<Figure size 576x396 with 1 Axes>"
      ]
     },
     "metadata": {},
     "output_type": "display_data"
    },
    {
     "data": {
      "application/javascript": [
       "\n",
       "            setTimeout(function() {\n",
       "                var nbb_cell_id = 9;\n",
       "                var nbb_unformatted_code = \"\\n\\nvisualizer = ROCAUC(\\n    lr,\\n    classes=[\\n        \\\"fullstack developer\\\",\\n        \\\"javascript developer\\\",\\n        \\\"machine learning engineer\\\",\\n        \\\"android developer\\\",\\n        \\\"quality assurance\\\",\\n        \\\"data architecture developer\\\",\\n        \\\"c# developer\\\",\\n        \\\"frontend developer\\\",\\n        \\\"php developer\\\",\\n        \\\"java developer\\\",\\n        \\\"ios developer\\\",\\n        \\\"python developer\\\",\\n        \\\"ruby on rails developer\\\",\\n        \\\"web design\\\",\\n    ],\\n)\\n\\nvisualizer.fit(X_train, y_train)  \\nvisualizer.score(X_test, y_test)\\nvisualizer.show(\\\"multinomial.png\\\")\";\n",
       "                var nbb_formatted_code = \"visualizer = ROCAUC(\\n    lr,\\n    classes=[\\n        \\\"fullstack developer\\\",\\n        \\\"javascript developer\\\",\\n        \\\"machine learning engineer\\\",\\n        \\\"android developer\\\",\\n        \\\"quality assurance\\\",\\n        \\\"data architecture developer\\\",\\n        \\\"c# developer\\\",\\n        \\\"frontend developer\\\",\\n        \\\"php developer\\\",\\n        \\\"java developer\\\",\\n        \\\"ios developer\\\",\\n        \\\"python developer\\\",\\n        \\\"ruby on rails developer\\\",\\n        \\\"web design\\\",\\n    ],\\n)\\n\\nvisualizer.fit(X_train, y_train)\\nvisualizer.score(X_test, y_test)\\nvisualizer.show(\\\"multinomial.png\\\")\";\n",
       "                var nbb_cells = Jupyter.notebook.get_cells();\n",
       "                for (var i = 0; i < nbb_cells.length; ++i) {\n",
       "                    if (nbb_cells[i].input_prompt_number == nbb_cell_id) {\n",
       "                        if (nbb_cells[i].get_text() == nbb_unformatted_code) {\n",
       "                             nbb_cells[i].set_text(nbb_formatted_code);\n",
       "                        }\n",
       "                        break;\n",
       "                    }\n",
       "                }\n",
       "            }, 500);\n",
       "            "
      ],
      "text/plain": [
       "<IPython.core.display.Javascript object>"
      ]
     },
     "metadata": {},
     "output_type": "display_data"
    }
   ],
   "source": [
    "visualizer = ROCAUC(\n",
    "    lr,\n",
    "    classes=[\n",
    "        \"fullstack developer\",\n",
    "        \"javascript developer\",\n",
    "        \"machine learning engineer\",\n",
    "        \"android developer\",\n",
    "        \"quality assurance\",\n",
    "        \"data architecture developer\",\n",
    "        \"c# developer\",\n",
    "        \"frontend developer\",\n",
    "        \"php developer\",\n",
    "        \"java developer\",\n",
    "        \"ios developer\",\n",
    "        \"python developer\",\n",
    "        \"ruby on rails developer\",\n",
    "        \"web design\",\n",
    "    ],\n",
    ")\n",
    "\n",
    "visualizer.fit(X_train, y_train)\n",
    "visualizer.score(X_test, y_test)\n",
    "visualizer.show(\"multinomial.png\")"
   ]
  },
  {
   "cell_type": "markdown",
   "metadata": {},
   "source": [
    "# Benchmark for OVO Logistic Regression Algorithm Performance"
   ]
  },
  {
   "cell_type": "code",
   "execution_count": 10,
   "metadata": {},
   "outputs": [
    {
     "data": {
      "text/plain": [
       "OneVsOneClassifier(estimator=LogisticRegression(random_state=0))"
      ]
     },
     "execution_count": 10,
     "metadata": {},
     "output_type": "execute_result"
    },
    {
     "data": {
      "application/javascript": [
       "\n",
       "            setTimeout(function() {\n",
       "                var nbb_cell_id = 10;\n",
       "                var nbb_unformatted_code = \"from sklearn.multiclass import OneVsOneClassifier\\n\\n# define model\\nmodel = LogisticRegression(random_state=0)\\n# define ovo strategy\\novo = OneVsOneClassifier(model)\\n# fit model\\novo.fit(X_train, y_train)\";\n",
       "                var nbb_formatted_code = \"from sklearn.multiclass import OneVsOneClassifier\\n\\n# define model\\nmodel = LogisticRegression(random_state=0)\\n# define ovo strategy\\novo = OneVsOneClassifier(model)\\n# fit model\\novo.fit(X_train, y_train)\";\n",
       "                var nbb_cells = Jupyter.notebook.get_cells();\n",
       "                for (var i = 0; i < nbb_cells.length; ++i) {\n",
       "                    if (nbb_cells[i].input_prompt_number == nbb_cell_id) {\n",
       "                        if (nbb_cells[i].get_text() == nbb_unformatted_code) {\n",
       "                             nbb_cells[i].set_text(nbb_formatted_code);\n",
       "                        }\n",
       "                        break;\n",
       "                    }\n",
       "                }\n",
       "            }, 500);\n",
       "            "
      ],
      "text/plain": [
       "<IPython.core.display.Javascript object>"
      ]
     },
     "metadata": {},
     "output_type": "display_data"
    }
   ],
   "source": [
    "from sklearn.multiclass import OneVsOneClassifier\n",
    "\n",
    "# define model\n",
    "model = LogisticRegression(random_state=0)\n",
    "# define ovo strategy\n",
    "ovo = OneVsOneClassifier(model)\n",
    "# fit model\n",
    "ovo.fit(X_train, y_train)"
   ]
  },
  {
   "cell_type": "code",
   "execution_count": 11,
   "metadata": {},
   "outputs": [
    {
     "name": "stdout",
     "output_type": "stream",
     "text": [
      "Accuracy of logistic regression classifier on test set: 0.54\n"
     ]
    },
    {
     "data": {
      "application/javascript": [
       "\n",
       "            setTimeout(function() {\n",
       "                var nbb_cell_id = 11;\n",
       "                var nbb_unformatted_code = \"# make predictions\\nyhat = ovo.predict(X_test)\\nprint(\\n    \\\"Accuracy of logistic regression classifier on test set: {:.2f}\\\".format(\\n        ovo.score(X_test, y_test)\\n    )\\n)\";\n",
       "                var nbb_formatted_code = \"# make predictions\\nyhat = ovo.predict(X_test)\\nprint(\\n    \\\"Accuracy of logistic regression classifier on test set: {:.2f}\\\".format(\\n        ovo.score(X_test, y_test)\\n    )\\n)\";\n",
       "                var nbb_cells = Jupyter.notebook.get_cells();\n",
       "                for (var i = 0; i < nbb_cells.length; ++i) {\n",
       "                    if (nbb_cells[i].input_prompt_number == nbb_cell_id) {\n",
       "                        if (nbb_cells[i].get_text() == nbb_unformatted_code) {\n",
       "                             nbb_cells[i].set_text(nbb_formatted_code);\n",
       "                        }\n",
       "                        break;\n",
       "                    }\n",
       "                }\n",
       "            }, 500);\n",
       "            "
      ],
      "text/plain": [
       "<IPython.core.display.Javascript object>"
      ]
     },
     "metadata": {},
     "output_type": "display_data"
    }
   ],
   "source": [
    "# make predictions\n",
    "yhat = ovo.predict(X_test)\n",
    "print(\n",
    "    \"Accuracy of logistic regression classifier on test set: {:.2f}\".format(\n",
    "        ovo.score(X_test, y_test)\n",
    "    )\n",
    ")"
   ]
  },
  {
   "cell_type": "markdown",
   "metadata": {},
   "source": [
    "# Benchmark for OVR Logistic Regression Algorithm Performance"
   ]
  },
  {
   "cell_type": "code",
   "execution_count": 12,
   "metadata": {},
   "outputs": [
    {
     "data": {
      "text/plain": [
       "OneVsRestClassifier(estimator=LogisticRegression(random_state=0))"
      ]
     },
     "execution_count": 12,
     "metadata": {},
     "output_type": "execute_result"
    },
    {
     "data": {
      "application/javascript": [
       "\n",
       "            setTimeout(function() {\n",
       "                var nbb_cell_id = 12;\n",
       "                var nbb_unformatted_code = \"from sklearn.multiclass import OneVsRestClassifier\\n\\n# define model\\nmodel = LogisticRegression(random_state=0)\\n# define ovo strategy\\novr = OneVsRestClassifier(model)\\n# fit model\\novr.fit(X_train, y_train)\";\n",
       "                var nbb_formatted_code = \"from sklearn.multiclass import OneVsRestClassifier\\n\\n# define model\\nmodel = LogisticRegression(random_state=0)\\n# define ovo strategy\\novr = OneVsRestClassifier(model)\\n# fit model\\novr.fit(X_train, y_train)\";\n",
       "                var nbb_cells = Jupyter.notebook.get_cells();\n",
       "                for (var i = 0; i < nbb_cells.length; ++i) {\n",
       "                    if (nbb_cells[i].input_prompt_number == nbb_cell_id) {\n",
       "                        if (nbb_cells[i].get_text() == nbb_unformatted_code) {\n",
       "                             nbb_cells[i].set_text(nbb_formatted_code);\n",
       "                        }\n",
       "                        break;\n",
       "                    }\n",
       "                }\n",
       "            }, 500);\n",
       "            "
      ],
      "text/plain": [
       "<IPython.core.display.Javascript object>"
      ]
     },
     "metadata": {},
     "output_type": "display_data"
    }
   ],
   "source": [
    "from sklearn.multiclass import OneVsRestClassifier\n",
    "\n",
    "# define model\n",
    "model = LogisticRegression(random_state=0)\n",
    "# define ovo strategy\n",
    "ovr = OneVsRestClassifier(model)\n",
    "# fit model\n",
    "ovr.fit(X_train, y_train)"
   ]
  },
  {
   "cell_type": "code",
   "execution_count": 14,
   "metadata": {},
   "outputs": [
    {
     "name": "stdout",
     "output_type": "stream",
     "text": [
      "Accuracy of logistic regression classifier on test set: 0.58\n"
     ]
    },
    {
     "data": {
      "application/javascript": [
       "\n",
       "            setTimeout(function() {\n",
       "                var nbb_cell_id = 14;\n",
       "                var nbb_unformatted_code = \"# make predictions\\nyhat = ovr.predict(X_test)\\nprint(\\n    \\\"Accuracy of logistic regression classifier on test set: {:.2f}\\\".format(\\n        ovr.score(X_test, y_test)\\n    )\\n)\";\n",
       "                var nbb_formatted_code = \"# make predictions\\nyhat = ovr.predict(X_test)\\nprint(\\n    \\\"Accuracy of logistic regression classifier on test set: {:.2f}\\\".format(\\n        ovr.score(X_test, y_test)\\n    )\\n)\";\n",
       "                var nbb_cells = Jupyter.notebook.get_cells();\n",
       "                for (var i = 0; i < nbb_cells.length; ++i) {\n",
       "                    if (nbb_cells[i].input_prompt_number == nbb_cell_id) {\n",
       "                        if (nbb_cells[i].get_text() == nbb_unformatted_code) {\n",
       "                             nbb_cells[i].set_text(nbb_formatted_code);\n",
       "                        }\n",
       "                        break;\n",
       "                    }\n",
       "                }\n",
       "            }, 500);\n",
       "            "
      ],
      "text/plain": [
       "<IPython.core.display.Javascript object>"
      ]
     },
     "metadata": {},
     "output_type": "display_data"
    }
   ],
   "source": [
    "# make predictions\n",
    "yhat = ovr.predict(X_test)\n",
    "print(\n",
    "    \"Accuracy of logistic regression classifier on test set: {:.2f}\".format(\n",
    "        ovr.score(X_test, y_test)\n",
    "    )\n",
    ")"
   ]
  },
  {
   "cell_type": "markdown",
   "metadata": {},
   "source": [
    "# Grid Search cannot be implemented with OVO as params are preset. See get_params() output:"
   ]
  },
  {
   "cell_type": "code",
   "execution_count": null,
   "metadata": {},
   "outputs": [],
   "source": [
    "ovo.get_params()"
   ]
  },
  {
   "cell_type": "markdown",
   "metadata": {},
   "source": [
    "We can't run roc_cuve function or run gridsearch with ovo and ovr methods. So we will manipulate the data to create a binary problem in order to run these grid search and roc_curve methods."
   ]
  },
  {
   "cell_type": "markdown",
   "metadata": {},
   "source": [
    "# Manipulate the Data to convert JavaScript Developer to Binary (indicator) Variable"
   ]
  },
  {
   "cell_type": "code",
   "execution_count": 16,
   "metadata": {},
   "outputs": [
    {
     "data": {
      "text/plain": [
       "javascript developer           0.178988\n",
       "quality assurance              0.111543\n",
       "frontend developer             0.094682\n",
       "fullstack developer            0.086900\n",
       "machine learning engineer      0.068742\n",
       "android developer              0.068742\n",
       "python developer               0.062257\n",
       "php developer                  0.060960\n",
       "ios developer                  0.060960\n",
       "java developer                 0.058366\n",
       "web design                     0.055772\n",
       "c# developer                   0.031128\n",
       "ruby on rails developer        0.031128\n",
       "data architecture developer    0.029831\n",
       "Name: profile_standardized, dtype: float64"
      ]
     },
     "execution_count": 16,
     "metadata": {},
     "output_type": "execute_result"
    },
    {
     "data": {
      "application/javascript": [
       "\n",
       "            setTimeout(function() {\n",
       "                var nbb_cell_id = 16;\n",
       "                var nbb_unformatted_code = \"df[\\\"profile_standardized\\\"].value_counts(normalize=True)\";\n",
       "                var nbb_formatted_code = \"df[\\\"profile_standardized\\\"].value_counts(normalize=True)\";\n",
       "                var nbb_cells = Jupyter.notebook.get_cells();\n",
       "                for (var i = 0; i < nbb_cells.length; ++i) {\n",
       "                    if (nbb_cells[i].input_prompt_number == nbb_cell_id) {\n",
       "                        if (nbb_cells[i].get_text() == nbb_unformatted_code) {\n",
       "                             nbb_cells[i].set_text(nbb_formatted_code);\n",
       "                        }\n",
       "                        break;\n",
       "                    }\n",
       "                }\n",
       "            }, 500);\n",
       "            "
      ],
      "text/plain": [
       "<IPython.core.display.Javascript object>"
      ]
     },
     "metadata": {},
     "output_type": "display_data"
    }
   ],
   "source": [
    "df[\"profile_standardized\"].value_counts(normalize=True)"
   ]
  },
  {
   "cell_type": "code",
   "execution_count": 17,
   "metadata": {},
   "outputs": [
    {
     "data": {
      "application/javascript": [
       "\n",
       "            setTimeout(function() {\n",
       "                var nbb_cell_id = 17;\n",
       "                var nbb_unformatted_code = \"# Convert target class to binary variable,\\n# which allows us to treat this as a One V. Rest classification problem\\ndf[\\\"javascript developer\\\"] = np.where(\\n    df[\\\"profile_standardized\\\"] == \\\"javascript developer\\\", 1, 0\\n)\";\n",
       "                var nbb_formatted_code = \"# Convert target class to binary variable,\\n# which allows us to treat this as a One V. Rest classification problem\\ndf[\\\"javascript developer\\\"] = np.where(\\n    df[\\\"profile_standardized\\\"] == \\\"javascript developer\\\", 1, 0\\n)\";\n",
       "                var nbb_cells = Jupyter.notebook.get_cells();\n",
       "                for (var i = 0; i < nbb_cells.length; ++i) {\n",
       "                    if (nbb_cells[i].input_prompt_number == nbb_cell_id) {\n",
       "                        if (nbb_cells[i].get_text() == nbb_unformatted_code) {\n",
       "                             nbb_cells[i].set_text(nbb_formatted_code);\n",
       "                        }\n",
       "                        break;\n",
       "                    }\n",
       "                }\n",
       "            }, 500);\n",
       "            "
      ],
      "text/plain": [
       "<IPython.core.display.Javascript object>"
      ]
     },
     "metadata": {},
     "output_type": "display_data"
    }
   ],
   "source": [
    "# Convert target class to binary variable,\n",
    "# which allows us to treat this as a One V. Rest classification problem\n",
    "df[\"javascript developer\"] = np.where(\n",
    "    df[\"profile_standardized\"] == \"javascript developer\", 1, 0\n",
    ")"
   ]
  },
  {
   "cell_type": "code",
   "execution_count": 18,
   "metadata": {},
   "outputs": [
    {
     "data": {
      "application/javascript": [
       "\n",
       "            setTimeout(function() {\n",
       "                var nbb_cell_id = 18;\n",
       "                var nbb_unformatted_code = \"# Generate X (feature) variable & y (target) variable\\nX = df.iloc[:, 1:-1]\\ny = df[\\\"javascript developer\\\"]\";\n",
       "                var nbb_formatted_code = \"# Generate X (feature) variable & y (target) variable\\nX = df.iloc[:, 1:-1]\\ny = df[\\\"javascript developer\\\"]\";\n",
       "                var nbb_cells = Jupyter.notebook.get_cells();\n",
       "                for (var i = 0; i < nbb_cells.length; ++i) {\n",
       "                    if (nbb_cells[i].input_prompt_number == nbb_cell_id) {\n",
       "                        if (nbb_cells[i].get_text() == nbb_unformatted_code) {\n",
       "                             nbb_cells[i].set_text(nbb_formatted_code);\n",
       "                        }\n",
       "                        break;\n",
       "                    }\n",
       "                }\n",
       "            }, 500);\n",
       "            "
      ],
      "text/plain": [
       "<IPython.core.display.Javascript object>"
      ]
     },
     "metadata": {},
     "output_type": "display_data"
    }
   ],
   "source": [
    "# Generate X (feature) variable & y (target) variable\n",
    "X = df.iloc[:, 1:-1]\n",
    "y = df[\"javascript developer\"]"
   ]
  },
  {
   "cell_type": "code",
   "execution_count": 19,
   "metadata": {},
   "outputs": [
    {
     "data": {
      "application/javascript": [
       "\n",
       "            setTimeout(function() {\n",
       "                var nbb_cell_id = 19;\n",
       "                var nbb_unformatted_code = \"# Splitting the data to a train and test set\\nX_train, X_test, y_train, y_test = tts(X, y, test_size=0.3, random_state=0)\";\n",
       "                var nbb_formatted_code = \"# Splitting the data to a train and test set\\nX_train, X_test, y_train, y_test = tts(X, y, test_size=0.3, random_state=0)\";\n",
       "                var nbb_cells = Jupyter.notebook.get_cells();\n",
       "                for (var i = 0; i < nbb_cells.length; ++i) {\n",
       "                    if (nbb_cells[i].input_prompt_number == nbb_cell_id) {\n",
       "                        if (nbb_cells[i].get_text() == nbb_unformatted_code) {\n",
       "                             nbb_cells[i].set_text(nbb_formatted_code);\n",
       "                        }\n",
       "                        break;\n",
       "                    }\n",
       "                }\n",
       "            }, 500);\n",
       "            "
      ],
      "text/plain": [
       "<IPython.core.display.Javascript object>"
      ]
     },
     "metadata": {},
     "output_type": "display_data"
    }
   ],
   "source": [
    "# Splitting the data to a train and test set\n",
    "X_train, X_test, y_train, y_test = tts(X, y, test_size=0.3, random_state=0)"
   ]
  },
  {
   "cell_type": "markdown",
   "metadata": {},
   "source": [
    "# Benchmark manipulated Data"
   ]
  },
  {
   "cell_type": "code",
   "execution_count": 27,
   "metadata": {},
   "outputs": [
    {
     "name": "stdout",
     "output_type": "stream",
     "text": [
      "Accuracy of logistic regression classifier on test set:  0.9181091617933724\n"
     ]
    },
    {
     "data": {
      "application/javascript": [
       "\n",
       "            setTimeout(function() {\n",
       "                var nbb_cell_id = 27;\n",
       "                var nbb_unformatted_code = \"model = LogisticRegression(random_state=0)\\nmodel.fit(X_train, y_train)\\ny_pred = model.predict(X_test)\\nprint(\\n    \\\"Accuracy of logistic regression classifier on test set: \\\",\\n    np.mean(cross_val_score(model, X_test, y_test, scoring=\\\"roc_auc\\\", cv=10)),\\n)\";\n",
       "                var nbb_formatted_code = \"model = LogisticRegression(random_state=0)\\nmodel.fit(X_train, y_train)\\ny_pred = model.predict(X_test)\\nprint(\\n    \\\"Accuracy of logistic regression classifier on test set: \\\",\\n    np.mean(cross_val_score(model, X_test, y_test, scoring=\\\"roc_auc\\\", cv=10)),\\n)\";\n",
       "                var nbb_cells = Jupyter.notebook.get_cells();\n",
       "                for (var i = 0; i < nbb_cells.length; ++i) {\n",
       "                    if (nbb_cells[i].input_prompt_number == nbb_cell_id) {\n",
       "                        if (nbb_cells[i].get_text() == nbb_unformatted_code) {\n",
       "                             nbb_cells[i].set_text(nbb_formatted_code);\n",
       "                        }\n",
       "                        break;\n",
       "                    }\n",
       "                }\n",
       "            }, 500);\n",
       "            "
      ],
      "text/plain": [
       "<IPython.core.display.Javascript object>"
      ]
     },
     "metadata": {},
     "output_type": "display_data"
    }
   ],
   "source": [
    "model = LogisticRegression(random_state=0)\n",
    "model.fit(X_train, y_train)\n",
    "y_pred = model.predict(X_test)\n",
    "print(\n",
    "    \"Accuracy of logistic regression classifier on test set: \",\n",
    "    np.mean(cross_val_score(model, X_test, y_test, scoring=\"roc_auc\", cv=10)),\n",
    ")"
   ]
  },
  {
   "cell_type": "markdown",
   "metadata": {},
   "source": [
    "# GridSearch manipulated data"
   ]
  },
  {
   "cell_type": "code",
   "execution_count": null,
   "metadata": {},
   "outputs": [],
   "source": [
    "grid = dict(solver=solver_list, penalty=penalty, C=c_values)\n",
    "cv = RepeatedStratifiedKFold(n_splits=10, n_repeats=3, random_state=1)\n",
    "grid_search = GridSearchCV(\n",
    "    estimator=model,\n",
    "    param_grid=grid,\n",
    "    n_jobs=-1,\n",
    "    cv=cv,\n",
    "    scoring=\"accuracy\",\n",
    "    error_score=0,\n",
    ")\n",
    "grid_result = grid_search.fit(X, y)\n",
    "\n",
    "# summarize results\n",
    "print(\"Best: %f using %s\" % (grid_result.best_score_, grid_result.best_params_))\n",
    "means = grid_result.cv_results_[\"mean_test_score\"]\n",
    "stds = grid_result.cv_results_[\"std_test_score\"]\n",
    "params = grid_result.cv_results_[\"params\"]\n",
    "for mean, stdev, param in zip(means, stds, params):\n",
    "    print(\"%f (%f) with: %r\" % (mean, stdev, param))"
   ]
  },
  {
   "cell_type": "markdown",
   "metadata": {},
   "source": [
    "With L2 regularization, a sparse matrix will get small, but will not go to 0 as it will with L1 regularization.\n",
    "The liblinear solver performs well with high dimensionality, which could explain why it was selected here! However the it's also the only solver to penalize the intercept, which isn't good for interpretation."
   ]
  },
  {
   "cell_type": "code",
   "execution_count": null,
   "metadata": {},
   "outputs": [],
   "source": [
    "# Predict probabilities for Binary Problem\n",
    "y_score = model.predict_proba(X_test)[:, 1]\n",
    "# False Positive & True Postive rates to be used to plot the ROC Curve\n",
    "false_positive_rate, true_positive_rate, threshold = roc_curve(y_test, y_score)"
   ]
  },
  {
   "cell_type": "code",
   "execution_count": null,
   "metadata": {},
   "outputs": [],
   "source": [
    "plt.subplots(1, figsize=(8, 8))\n",
    "plt.title(\"Receiver Operating Characteristic (ROC) : Logistic regression\")\n",
    "plt.plot(false_positive_rate, true_positive_rate)\n",
    "plt.plot([0, 1], ls=\"--\")\n",
    "plt.plot([0, 0], [1, 0], c=\".7\"), plt.plot([1, 1], c=\".7\")\n",
    "plt.ylabel(\"True Positive Rate\")\n",
    "plt.xlabel(\"False Positive Rate\")\n",
    "plt.savefig(\"binary.jpg\")\n",
    "plt.close()"
   ]
  },
  {
   "cell_type": "markdown",
   "metadata": {},
   "source": [
    "Scikit-Learn does not actually support the roc_curve metric for multi-class classification, as this is usually only used with binary classifiers. Yellowbrick addresses this by binarizing the output (per-class) or to use one-vs-rest (micro score) or one-vs-all (macro score) strategies of classification."
   ]
  },
  {
   "cell_type": "markdown",
   "metadata": {},
   "source": [
    "**binary : roc_auc = 0.9181091617933724** ![](binary.jpg) **multinomial : roc_auc = 0.89** ![](multinomial.png)"
   ]
  }
 ],
 "metadata": {
  "kernelspec": {
   "display_name": "Celerative",
   "language": "python",
   "name": "celerative"
  },
  "language_info": {
   "codemirror_mode": {
    "name": "ipython",
    "version": 3
   },
   "file_extension": ".py",
   "mimetype": "text/x-python",
   "name": "python",
   "nbconvert_exporter": "python",
   "pygments_lexer": "ipython3",
   "version": "3.7.9"
  }
 },
 "nbformat": 4,
 "nbformat_minor": 4
}
