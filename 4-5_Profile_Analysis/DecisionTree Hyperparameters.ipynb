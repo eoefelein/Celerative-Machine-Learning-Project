{
 "cells": [
  {
   "cell_type": "code",
   "execution_count": 1,
   "metadata": {},
   "outputs": [
    {
     "data": {
      "application/javascript": [
       "\n",
       "            setTimeout(function() {\n",
       "                var nbb_cell_id = 1;\n",
       "                var nbb_unformatted_code = \"%reload_ext nb_black\";\n",
       "                var nbb_formatted_code = \"%reload_ext nb_black\";\n",
       "                var nbb_cells = Jupyter.notebook.get_cells();\n",
       "                for (var i = 0; i < nbb_cells.length; ++i) {\n",
       "                    if (nbb_cells[i].input_prompt_number == nbb_cell_id) {\n",
       "                        if (nbb_cells[i].get_text() == nbb_unformatted_code) {\n",
       "                             nbb_cells[i].set_text(nbb_formatted_code);\n",
       "                        }\n",
       "                        break;\n",
       "                    }\n",
       "                }\n",
       "            }, 500);\n",
       "            "
      ],
      "text/plain": [
       "<IPython.core.display.Javascript object>"
      ]
     },
     "metadata": {},
     "output_type": "display_data"
    }
   ],
   "source": [
    "%reload_ext nb_black"
   ]
  },
  {
   "cell_type": "markdown",
   "metadata": {},
   "source": [
    "# Exploration of DecisionTree Hyperparameters with Binary Target Variable"
   ]
  },
  {
   "cell_type": "code",
   "execution_count": 2,
   "metadata": {},
   "outputs": [
    {
     "data": {
      "application/javascript": [
       "\n",
       "            setTimeout(function() {\n",
       "                var nbb_cell_id = 2;\n",
       "                var nbb_unformatted_code = \"import pandas as pd\\nimport numpy as np\\n\\nfrom sklearn.model_selection import train_test_split as tts\\nfrom sklearn.tree import DecisionTreeClassifier\\n\\nimport matplotlib.pyplot as plt\\nfrom matplotlib.legend_handler import HandlerLine2D\\nimport numpy as np\\nimport seaborn as sns\\n\\nimport sklearn.metrics as metrics\\nfrom sklearn.metrics import roc_curve, auc\";\n",
       "                var nbb_formatted_code = \"import pandas as pd\\nimport numpy as np\\n\\nfrom sklearn.model_selection import train_test_split as tts\\nfrom sklearn.tree import DecisionTreeClassifier\\n\\nimport matplotlib.pyplot as plt\\nfrom matplotlib.legend_handler import HandlerLine2D\\nimport numpy as np\\nimport seaborn as sns\\n\\nimport sklearn.metrics as metrics\\nfrom sklearn.metrics import roc_curve, auc\";\n",
       "                var nbb_cells = Jupyter.notebook.get_cells();\n",
       "                for (var i = 0; i < nbb_cells.length; ++i) {\n",
       "                    if (nbb_cells[i].input_prompt_number == nbb_cell_id) {\n",
       "                        if (nbb_cells[i].get_text() == nbb_unformatted_code) {\n",
       "                             nbb_cells[i].set_text(nbb_formatted_code);\n",
       "                        }\n",
       "                        break;\n",
       "                    }\n",
       "                }\n",
       "            }, 500);\n",
       "            "
      ],
      "text/plain": [
       "<IPython.core.display.Javascript object>"
      ]
     },
     "metadata": {},
     "output_type": "display_data"
    }
   ],
   "source": [
    "import pandas as pd\n",
    "import numpy as np\n",
    "\n",
    "from sklearn.model_selection import train_test_split as tts\n",
    "from sklearn.tree import DecisionTreeClassifier\n",
    "\n",
    "import matplotlib.pyplot as plt\n",
    "from matplotlib.legend_handler import HandlerLine2D\n",
    "import numpy as np\n",
    "import seaborn as sns\n",
    "\n",
    "import sklearn.metrics as metrics\n",
    "from sklearn.metrics import roc_curve, auc"
   ]
  },
  {
   "cell_type": "code",
   "execution_count": 3,
   "metadata": {},
   "outputs": [
    {
     "data": {
      "application/javascript": [
       "\n",
       "            setTimeout(function() {\n",
       "                var nbb_cell_id = 3;\n",
       "                var nbb_unformatted_code = \"# Read in csv of data which has already undergone feature engineering\\ndata = pd.read_csv(\\\"../5_profiles/reduced_dim_5.csv\\\")\";\n",
       "                var nbb_formatted_code = \"# Read in csv of data which has already undergone feature engineering\\ndata = pd.read_csv(\\\"../5_profiles/reduced_dim_5.csv\\\")\";\n",
       "                var nbb_cells = Jupyter.notebook.get_cells();\n",
       "                for (var i = 0; i < nbb_cells.length; ++i) {\n",
       "                    if (nbb_cells[i].input_prompt_number == nbb_cell_id) {\n",
       "                        if (nbb_cells[i].get_text() == nbb_unformatted_code) {\n",
       "                             nbb_cells[i].set_text(nbb_formatted_code);\n",
       "                        }\n",
       "                        break;\n",
       "                    }\n",
       "                }\n",
       "            }, 500);\n",
       "            "
      ],
      "text/plain": [
       "<IPython.core.display.Javascript object>"
      ]
     },
     "metadata": {},
     "output_type": "display_data"
    }
   ],
   "source": [
    "# Read in csv of data which has already undergone feature engineering\n",
    "data = pd.read_csv(\"../5_profiles/reduced_dim_5.csv\")"
   ]
  },
  {
   "cell_type": "code",
   "execution_count": 4,
   "metadata": {},
   "outputs": [
    {
     "data": {
      "application/javascript": [
       "\n",
       "            setTimeout(function() {\n",
       "                var nbb_cell_id = 4;\n",
       "                var nbb_unformatted_code = \"# Create column representing the Frontend profile as a binary variable\\ndata[\\\"Frontend\\\"] = np.where(data[\\\"profile\\\"] == \\\"Frontend\\\", 1, 0)\";\n",
       "                var nbb_formatted_code = \"# Create column representing the Frontend profile as a binary variable\\ndata[\\\"Frontend\\\"] = np.where(data[\\\"profile\\\"] == \\\"Frontend\\\", 1, 0)\";\n",
       "                var nbb_cells = Jupyter.notebook.get_cells();\n",
       "                for (var i = 0; i < nbb_cells.length; ++i) {\n",
       "                    if (nbb_cells[i].input_prompt_number == nbb_cell_id) {\n",
       "                        if (nbb_cells[i].get_text() == nbb_unformatted_code) {\n",
       "                             nbb_cells[i].set_text(nbb_formatted_code);\n",
       "                        }\n",
       "                        break;\n",
       "                    }\n",
       "                }\n",
       "            }, 500);\n",
       "            "
      ],
      "text/plain": [
       "<IPython.core.display.Javascript object>"
      ]
     },
     "metadata": {},
     "output_type": "display_data"
    }
   ],
   "source": [
    "# Create column representing the Frontend profile as a binary variable\n",
    "data[\"Frontend\"] = np.where(data[\"profile\"] == \"Frontend\", 1, 0)"
   ]
  },
  {
   "cell_type": "code",
   "execution_count": 5,
   "metadata": {},
   "outputs": [
    {
     "data": {
      "application/javascript": [
       "\n",
       "            setTimeout(function() {\n",
       "                var nbb_cell_id = 5;\n",
       "                var nbb_unformatted_code = \"# Set skills as the input variable\\nX = data.iloc[:, 1:-1]\\n\\n# Set the Frontend profile as the target variable\\ny = data.iloc[:, -1]\";\n",
       "                var nbb_formatted_code = \"# Set skills as the input variable\\nX = data.iloc[:, 1:-1]\\n\\n# Set the Frontend profile as the target variable\\ny = data.iloc[:, -1]\";\n",
       "                var nbb_cells = Jupyter.notebook.get_cells();\n",
       "                for (var i = 0; i < nbb_cells.length; ++i) {\n",
       "                    if (nbb_cells[i].input_prompt_number == nbb_cell_id) {\n",
       "                        if (nbb_cells[i].get_text() == nbb_unformatted_code) {\n",
       "                             nbb_cells[i].set_text(nbb_formatted_code);\n",
       "                        }\n",
       "                        break;\n",
       "                    }\n",
       "                }\n",
       "            }, 500);\n",
       "            "
      ],
      "text/plain": [
       "<IPython.core.display.Javascript object>"
      ]
     },
     "metadata": {},
     "output_type": "display_data"
    }
   ],
   "source": [
    "# Set skills as the input variable\n",
    "X = data.iloc[:, 1:-1]\n",
    "\n",
    "# Set the Frontend profile as the target variable\n",
    "y = data.iloc[:, -1]"
   ]
  },
  {
   "cell_type": "code",
   "execution_count": 6,
   "metadata": {},
   "outputs": [
    {
     "data": {
      "application/javascript": [
       "\n",
       "            setTimeout(function() {\n",
       "                var nbb_cell_id = 6;\n",
       "                var nbb_unformatted_code = \"# Split to training and testing sets\\nx_train, x_test, y_train, y_test = tts(X, y, test_size=0.3, random_state=0)\";\n",
       "                var nbb_formatted_code = \"# Split to training and testing sets\\nx_train, x_test, y_train, y_test = tts(X, y, test_size=0.3, random_state=0)\";\n",
       "                var nbb_cells = Jupyter.notebook.get_cells();\n",
       "                for (var i = 0; i < nbb_cells.length; ++i) {\n",
       "                    if (nbb_cells[i].input_prompt_number == nbb_cell_id) {\n",
       "                        if (nbb_cells[i].get_text() == nbb_unformatted_code) {\n",
       "                             nbb_cells[i].set_text(nbb_formatted_code);\n",
       "                        }\n",
       "                        break;\n",
       "                    }\n",
       "                }\n",
       "            }, 500);\n",
       "            "
      ],
      "text/plain": [
       "<IPython.core.display.Javascript object>"
      ]
     },
     "metadata": {},
     "output_type": "display_data"
    }
   ],
   "source": [
    "# Split to training and testing sets\n",
    "x_train, x_test, y_train, y_test = tts(X, y, test_size=0.3, random_state=0)"
   ]
  },
  {
   "cell_type": "code",
   "execution_count": 24,
   "metadata": {},
   "outputs": [
    {
     "data": {
      "text/plain": [
       "DecisionTreeClassifier(random_state=0)"
      ]
     },
     "execution_count": 24,
     "metadata": {},
     "output_type": "execute_result"
    },
    {
     "data": {
      "application/javascript": [
       "\n",
       "            setTimeout(function() {\n",
       "                var nbb_cell_id = 24;\n",
       "                var nbb_unformatted_code = \"dt = DecisionTreeClassifier(random_state=0)\\ndt.fit(x_train, y_train)\";\n",
       "                var nbb_formatted_code = \"dt = DecisionTreeClassifier(random_state=0)\\ndt.fit(x_train, y_train)\";\n",
       "                var nbb_cells = Jupyter.notebook.get_cells();\n",
       "                for (var i = 0; i < nbb_cells.length; ++i) {\n",
       "                    if (nbb_cells[i].input_prompt_number == nbb_cell_id) {\n",
       "                        if (nbb_cells[i].get_text() == nbb_unformatted_code) {\n",
       "                             nbb_cells[i].set_text(nbb_formatted_code);\n",
       "                        }\n",
       "                        break;\n",
       "                    }\n",
       "                }\n",
       "            }, 500);\n",
       "            "
      ],
      "text/plain": [
       "<IPython.core.display.Javascript object>"
      ]
     },
     "metadata": {},
     "output_type": "display_data"
    }
   ],
   "source": [
    "dt = DecisionTreeClassifier(random_state=0)\n",
    "dt.fit(x_train, y_train)"
   ]
  },
  {
   "cell_type": "code",
   "execution_count": 25,
   "metadata": {},
   "outputs": [
    {
     "name": "stdout",
     "output_type": "stream",
     "text": [
      "Accuracy of logistic regression classifier on test set: 0.83\n"
     ]
    },
    {
     "data": {
      "application/javascript": [
       "\n",
       "            setTimeout(function() {\n",
       "                var nbb_cell_id = 25;\n",
       "                var nbb_unformatted_code = \"# Establishing Baseline/Benchmark\\ny_pred = dt.predict(x_test)\\nprint(\\n    \\\"Accuracy of logistic regression classifier on test set: {:.2f}\\\".format(\\n        dt.score(x_test, y_test)\\n    )\\n)\";\n",
       "                var nbb_formatted_code = \"# Establishing Baseline/Benchmark\\ny_pred = dt.predict(x_test)\\nprint(\\n    \\\"Accuracy of logistic regression classifier on test set: {:.2f}\\\".format(\\n        dt.score(x_test, y_test)\\n    )\\n)\";\n",
       "                var nbb_cells = Jupyter.notebook.get_cells();\n",
       "                for (var i = 0; i < nbb_cells.length; ++i) {\n",
       "                    if (nbb_cells[i].input_prompt_number == nbb_cell_id) {\n",
       "                        if (nbb_cells[i].get_text() == nbb_unformatted_code) {\n",
       "                             nbb_cells[i].set_text(nbb_formatted_code);\n",
       "                        }\n",
       "                        break;\n",
       "                    }\n",
       "                }\n",
       "            }, 500);\n",
       "            "
      ],
      "text/plain": [
       "<IPython.core.display.Javascript object>"
      ]
     },
     "metadata": {},
     "output_type": "display_data"
    }
   ],
   "source": [
    "# Establishing Baseline/Benchmark\n",
    "y_pred = dt.predict(x_test)\n",
    "print(\n",
    "    \"Accuracy of logistic regression classifier on test set: {:.2f}\".format(\n",
    "        dt.score(x_test, y_test)\n",
    "    )\n",
    ")"
   ]
  },
  {
   "cell_type": "markdown",
   "metadata": {},
   "source": [
    "# max_depth: \n",
    "If this argument is set to None, then branches are expanded until all leaves are pure or until all leaves contain less than min_samples_split samples. The longer the branch, the deeper the tree. Trees of greater depths are capable of capturing more information about our data. \n",
    "<br>However, the greater the depth of the tree, the more prone to overfitting it is. This causes it to perform poorly in making predictions when presented with new data. Therefore, there is an optimal depth at which the tree performs its best, and after which, performance will randomly oscilate."
   ]
  },
  {
   "cell_type": "code",
   "execution_count": 30,
   "metadata": {},
   "outputs": [
    {
     "data": {
      "image/png": "[encoded data removed]",
      "text/plain": [
       "<Figure size 432x288 with 1 Axes>"
      ]
     },
     "metadata": {
      "needs_background": "light"
     },
     "output_type": "display_data"
    },
    {
     "data": {
      "application/javascript": [
       "\n",
       "            setTimeout(function() {\n",
       "                var nbb_cell_id = 30;\n",
       "                var nbb_unformatted_code = \"max_depths = np.linspace(1, 125, 125, endpoint=True)\\ntrain_results = []\\ntest_results = []\\nfor max_depth in max_depths:\\n    dt = DecisionTreeClassifier(max_depth=max_depth, random_state=0)\\n    dt.fit(x_train, y_train)\\n    train_pred = dt.predict(x_train)\\n    false_positive_rate, true_positive_rate, thresholds = roc_curve(y_train, train_pred)\\n    roc_auc = auc(false_positive_rate, true_positive_rate)\\n    # Add auc score to previous train results\\n    train_results.append(roc_auc)\\n    y_pred = dt.predict(x_test)\\n    false_positive_rate, true_positive_rate, thresholds = roc_curve(y_test, y_pred)\\n    roc_auc = auc(false_positive_rate, true_positive_rate)\\n    # Add auc score to previous test results\\n    test_results.append(roc_auc)\\n\\n(line1,) = plt.plot(max_depths, train_results, \\\"b\\\", label=\\\"Train AUC\\\")\\n(line2,) = plt.plot(max_depths, test_results, \\\"r\\\", label=\\\"Test AUC\\\")\\nplt.legend(handler_map={line1: HandlerLine2D(numpoints=2)})\\nplt.ylabel(\\\"AUC score\\\")\\nplt.xlabel(\\\"Tree depth\\\")\\nplt.show()\";\n",
       "                var nbb_formatted_code = \"max_depths = np.linspace(1, 125, 125, endpoint=True)\\ntrain_results = []\\ntest_results = []\\nfor max_depth in max_depths:\\n    dt = DecisionTreeClassifier(max_depth=max_depth, random_state=0)\\n    dt.fit(x_train, y_train)\\n    train_pred = dt.predict(x_train)\\n    false_positive_rate, true_positive_rate, thresholds = roc_curve(y_train, train_pred)\\n    roc_auc = auc(false_positive_rate, true_positive_rate)\\n    # Add auc score to previous train results\\n    train_results.append(roc_auc)\\n    y_pred = dt.predict(x_test)\\n    false_positive_rate, true_positive_rate, thresholds = roc_curve(y_test, y_pred)\\n    roc_auc = auc(false_positive_rate, true_positive_rate)\\n    # Add auc score to previous test results\\n    test_results.append(roc_auc)\\n\\n(line1,) = plt.plot(max_depths, train_results, \\\"b\\\", label=\\\"Train AUC\\\")\\n(line2,) = plt.plot(max_depths, test_results, \\\"r\\\", label=\\\"Test AUC\\\")\\nplt.legend(handler_map={line1: HandlerLine2D(numpoints=2)})\\nplt.ylabel(\\\"AUC score\\\")\\nplt.xlabel(\\\"Tree depth\\\")\\nplt.show()\";\n",
       "                var nbb_cells = Jupyter.notebook.get_cells();\n",
       "                for (var i = 0; i < nbb_cells.length; ++i) {\n",
       "                    if (nbb_cells[i].input_prompt_number == nbb_cell_id) {\n",
       "                        if (nbb_cells[i].get_text() == nbb_unformatted_code) {\n",
       "                             nbb_cells[i].set_text(nbb_formatted_code);\n",
       "                        }\n",
       "                        break;\n",
       "                    }\n",
       "                }\n",
       "            }, 500);\n",
       "            "
      ],
      "text/plain": [
       "<IPython.core.display.Javascript object>"
      ]
     },
     "metadata": {},
     "output_type": "display_data"
    }
   ],
   "source": [
    "max_depths = np.linspace(1, 125, 125, endpoint=True)\n",
    "train_results = []\n",
    "test_results = []\n",
    "for max_depth in max_depths:\n",
    "    dt = DecisionTreeClassifier(max_depth=max_depth, random_state=0)\n",
    "    dt.fit(x_train, y_train)\n",
    "    train_pred = dt.predict(x_train)\n",
    "    false_positive_rate, true_positive_rate, thresholds = roc_curve(y_train, train_pred)\n",
    "    roc_auc = auc(false_positive_rate, true_positive_rate)\n",
    "    # Add auc score to previous train results\n",
    "    train_results.append(roc_auc)\n",
    "    y_pred = dt.predict(x_test)\n",
    "    false_positive_rate, true_positive_rate, thresholds = roc_curve(y_test, y_pred)\n",
    "    roc_auc = auc(false_positive_rate, true_positive_rate)\n",
    "    # Add auc score to previous test results\n",
    "    test_results.append(roc_auc)\n",
    "\n",
    "(line1,) = plt.plot(max_depths, train_results, \"b\", label=\"Train AUC\")\n",
    "(line2,) = plt.plot(max_depths, test_results, \"r\", label=\"Test AUC\")\n",
    "plt.legend(handler_map={line1: HandlerLine2D(numpoints=2)})\n",
    "plt.ylabel(\"AUC score\")\n",
    "plt.xlabel(\"Tree depth\")\n",
    "plt.show()"
   ]
  },
  {
   "cell_type": "markdown",
   "metadata": {},
   "source": [
    "This indicates that our model performs best at a tree-depth of about 10. Thereafter, performance may randomly improve, but given the stochastic nature of the Decision Tree algorithm, it's not possible to draw any conclusions reagrding performance enhancement after a tree depth = 10."
   ]
  },
  {
   "cell_type": "markdown",
   "metadata": {},
   "source": [
    "# min_samples_split: \n",
    "represents the minimum number of samples required to split an interal node. Playing with max_depth and with this parameter could regularise (i.e. generalize) the individual trees if needed"
   ]
  },
  {
   "cell_type": "code",
   "execution_count": 31,
   "metadata": {},
   "outputs": [
    {
     "data": {
      "image/png": "[encoded data removed]",
      "text/plain": [
       "<Figure size 432x288 with 1 Axes>"
      ]
     },
     "metadata": {
      "needs_background": "light"
     },
     "output_type": "display_data"
    },
    {
     "data": {
      "application/javascript": [
       "\n",
       "            setTimeout(function() {\n",
       "                var nbb_cell_id = 31;\n",
       "                var nbb_unformatted_code = \"min_samples_splits = np.linspace(0.1, 1.0, 10, endpoint=True)\\ntrain_results = []\\ntest_results = []\\nfor min_samples_split in min_samples_splits:\\n    dt = DecisionTreeClassifier(min_samples_split=min_samples_split, random_state=0)\\n    dt.fit(x_train, y_train)\\n    train_pred = dt.predict(x_train)\\n    false_positive_rate, true_positive_rate, thresholds = roc_curve(y_train, train_pred)\\n    roc_auc = auc(false_positive_rate, true_positive_rate)\\n    train_results.append(roc_auc)\\n    y_pred = dt.predict(x_test)\\n    false_positive_rate, true_positive_rate, thresholds = roc_curve(y_test, y_pred)\\n    roc_auc = auc(false_positive_rate, true_positive_rate)\\n    test_results.append(roc_auc)\\n\\nfrom matplotlib.legend_handler import HandlerLine2D\\n\\n(line1,) = plt.plot(min_samples_splits, train_results, \\\"b\\\", label=\\\"Train AUC\\\")\\n(line2,) = plt.plot(min_samples_splits, test_results, \\\"r\\\", label=\\\"Test AUC\\\")\\nplt.legend(handler_map={line1: HandlerLine2D(numpoints=2)})\\nplt.ylabel(\\\"AUC score\\\")\\nplt.xlabel(\\\"min samples split\\\")\\nplt.show()\";\n",
       "                var nbb_formatted_code = \"min_samples_splits = np.linspace(0.1, 1.0, 10, endpoint=True)\\ntrain_results = []\\ntest_results = []\\nfor min_samples_split in min_samples_splits:\\n    dt = DecisionTreeClassifier(min_samples_split=min_samples_split, random_state=0)\\n    dt.fit(x_train, y_train)\\n    train_pred = dt.predict(x_train)\\n    false_positive_rate, true_positive_rate, thresholds = roc_curve(y_train, train_pred)\\n    roc_auc = auc(false_positive_rate, true_positive_rate)\\n    train_results.append(roc_auc)\\n    y_pred = dt.predict(x_test)\\n    false_positive_rate, true_positive_rate, thresholds = roc_curve(y_test, y_pred)\\n    roc_auc = auc(false_positive_rate, true_positive_rate)\\n    test_results.append(roc_auc)\\n\\nfrom matplotlib.legend_handler import HandlerLine2D\\n\\n(line1,) = plt.plot(min_samples_splits, train_results, \\\"b\\\", label=\\\"Train AUC\\\")\\n(line2,) = plt.plot(min_samples_splits, test_results, \\\"r\\\", label=\\\"Test AUC\\\")\\nplt.legend(handler_map={line1: HandlerLine2D(numpoints=2)})\\nplt.ylabel(\\\"AUC score\\\")\\nplt.xlabel(\\\"min samples split\\\")\\nplt.show()\";\n",
       "                var nbb_cells = Jupyter.notebook.get_cells();\n",
       "                for (var i = 0; i < nbb_cells.length; ++i) {\n",
       "                    if (nbb_cells[i].input_prompt_number == nbb_cell_id) {\n",
       "                        if (nbb_cells[i].get_text() == nbb_unformatted_code) {\n",
       "                             nbb_cells[i].set_text(nbb_formatted_code);\n",
       "                        }\n",
       "                        break;\n",
       "                    }\n",
       "                }\n",
       "            }, 500);\n",
       "            "
      ],
      "text/plain": [
       "<IPython.core.display.Javascript object>"
      ]
     },
     "metadata": {},
     "output_type": "display_data"
    }
   ],
   "source": [
    "min_samples_splits = np.linspace(0.1, 1.0, 10, endpoint=True)\n",
    "train_results = []\n",
    "test_results = []\n",
    "for min_samples_split in min_samples_splits:\n",
    "    dt = DecisionTreeClassifier(min_samples_split=min_samples_split, random_state=0)\n",
    "    dt.fit(x_train, y_train)\n",
    "    train_pred = dt.predict(x_train)\n",
    "    false_positive_rate, true_positive_rate, thresholds = roc_curve(y_train, train_pred)\n",
    "    roc_auc = auc(false_positive_rate, true_positive_rate)\n",
    "    train_results.append(roc_auc)\n",
    "    y_pred = dt.predict(x_test)\n",
    "    false_positive_rate, true_positive_rate, thresholds = roc_curve(y_test, y_pred)\n",
    "    roc_auc = auc(false_positive_rate, true_positive_rate)\n",
    "    test_results.append(roc_auc)\n",
    "\n",
    "from matplotlib.legend_handler import HandlerLine2D\n",
    "\n",
    "(line1,) = plt.plot(min_samples_splits, train_results, \"b\", label=\"Train AUC\")\n",
    "(line2,) = plt.plot(min_samples_splits, test_results, \"r\", label=\"Test AUC\")\n",
    "plt.legend(handler_map={line1: HandlerLine2D(numpoints=2)})\n",
    "plt.ylabel(\"AUC score\")\n",
    "plt.xlabel(\"min samples split\")\n",
    "plt.show()"
   ]
  },
  {
   "cell_type": "code",
   "execution_count": 14,
   "metadata": {},
   "outputs": [
    {
     "data": {
      "application/javascript": [
       "\n",
       "            setTimeout(function() {\n",
       "                var nbb_cell_id = 14;\n",
       "                var nbb_unformatted_code = \"# how would you interpret this result? Does this mean that the optimum number of splits would be 80%?\";\n",
       "                var nbb_formatted_code = \"# how would you interpret this result? Does this mean that the optimum number of splits would be 80%?\";\n",
       "                var nbb_cells = Jupyter.notebook.get_cells();\n",
       "                for (var i = 0; i < nbb_cells.length; ++i) {\n",
       "                    if (nbb_cells[i].input_prompt_number == nbb_cell_id) {\n",
       "                        if (nbb_cells[i].get_text() == nbb_unformatted_code) {\n",
       "                             nbb_cells[i].set_text(nbb_formatted_code);\n",
       "                        }\n",
       "                        break;\n",
       "                    }\n",
       "                }\n",
       "            }, 500);\n",
       "            "
      ],
      "text/plain": [
       "<IPython.core.display.Javascript object>"
      ]
     },
     "metadata": {},
     "output_type": "display_data"
    }
   ],
   "source": [
    "# how would you interpret this result? Does this mean that the optimum number of splits would be 80%?"
   ]
  },
  {
   "cell_type": "markdown",
   "metadata": {},
   "source": [
    "# min_samples_leaf:\n",
    "represents the minimum number of samples required at leaf, i.e. node at the bottom of the tree. Runing this parameter can help reduce over-fitting as well and increase interpretability of the tree by reducing the possible number of paths to leaf nodes."
   ]
  },
  {
   "cell_type": "code",
   "execution_count": 32,
   "metadata": {},
   "outputs": [
    {
     "data": {
      "image/png": "[encoded data removed]",
      "text/plain": [
       "<Figure size 432x288 with 1 Axes>"
      ]
     },
     "metadata": {
      "needs_background": "light"
     },
     "output_type": "display_data"
    },
    {
     "data": {
      "application/javascript": [
       "\n",
       "            setTimeout(function() {\n",
       "                var nbb_cell_id = 32;\n",
       "                var nbb_unformatted_code = \"min_samples_leafs = np.linspace(0.1, 0.5, 5, endpoint=True)\\ntrain_results = []\\ntest_results = []\\n\\nfor min_samples_leaf in min_samples_leafs:\\n    dt = DecisionTreeClassifier(min_samples_leaf=min_samples_leaf, random_state=0)\\n    dt.fit(x_train, y_train)\\n    train_pred = dt.predict(x_train)\\n    false_positive_rate, true_positive_rate, thresholds = roc_curve(y_train, train_pred)\\n    roc_auc = auc(false_positive_rate, true_positive_rate)\\n    train_results.append(roc_auc)\\n    y_pred = dt.predict(x_test)\\n    false_positive_rate, true_positive_rate, thresholds = roc_curve(y_test, y_pred)\\n    roc_auc = auc(false_positive_rate, true_positive_rate)\\n    test_results.append(roc_auc)\\n\\nfrom matplotlib.legend_handler import HandlerLine2D\\n\\n(line1,) = plt.plot(min_samples_leafs, train_results, \\\"b\\\", label=\\\"Train AUC\\\")\\n(line2,) = plt.plot(min_samples_leafs, test_results, \\\"r\\\", label=\\\"Test AUC\\\")\\nplt.legend(handler_map={line1: HandlerLine2D(numpoints=2)})\\nplt.ylabel(\\\"AUC score\\\")\\nplt.xlabel(\\\"min samples leaf\\\")\\nplt.show()\";\n",
       "                var nbb_formatted_code = \"min_samples_leafs = np.linspace(0.1, 0.5, 5, endpoint=True)\\ntrain_results = []\\ntest_results = []\\n\\nfor min_samples_leaf in min_samples_leafs:\\n    dt = DecisionTreeClassifier(min_samples_leaf=min_samples_leaf, random_state=0)\\n    dt.fit(x_train, y_train)\\n    train_pred = dt.predict(x_train)\\n    false_positive_rate, true_positive_rate, thresholds = roc_curve(y_train, train_pred)\\n    roc_auc = auc(false_positive_rate, true_positive_rate)\\n    train_results.append(roc_auc)\\n    y_pred = dt.predict(x_test)\\n    false_positive_rate, true_positive_rate, thresholds = roc_curve(y_test, y_pred)\\n    roc_auc = auc(false_positive_rate, true_positive_rate)\\n    test_results.append(roc_auc)\\n\\nfrom matplotlib.legend_handler import HandlerLine2D\\n\\n(line1,) = plt.plot(min_samples_leafs, train_results, \\\"b\\\", label=\\\"Train AUC\\\")\\n(line2,) = plt.plot(min_samples_leafs, test_results, \\\"r\\\", label=\\\"Test AUC\\\")\\nplt.legend(handler_map={line1: HandlerLine2D(numpoints=2)})\\nplt.ylabel(\\\"AUC score\\\")\\nplt.xlabel(\\\"min samples leaf\\\")\\nplt.show()\";\n",
       "                var nbb_cells = Jupyter.notebook.get_cells();\n",
       "                for (var i = 0; i < nbb_cells.length; ++i) {\n",
       "                    if (nbb_cells[i].input_prompt_number == nbb_cell_id) {\n",
       "                        if (nbb_cells[i].get_text() == nbb_unformatted_code) {\n",
       "                             nbb_cells[i].set_text(nbb_formatted_code);\n",
       "                        }\n",
       "                        break;\n",
       "                    }\n",
       "                }\n",
       "            }, 500);\n",
       "            "
      ],
      "text/plain": [
       "<IPython.core.display.Javascript object>"
      ]
     },
     "metadata": {},
     "output_type": "display_data"
    }
   ],
   "source": [
    "min_samples_leafs = np.linspace(0.1, 0.5, 5, endpoint=True)\n",
    "train_results = []\n",
    "test_results = []\n",
    "\n",
    "for min_samples_leaf in min_samples_leafs:\n",
    "    dt = DecisionTreeClassifier(min_samples_leaf=min_samples_leaf, random_state=0)\n",
    "    dt.fit(x_train, y_train)\n",
    "    train_pred = dt.predict(x_train)\n",
    "    false_positive_rate, true_positive_rate, thresholds = roc_curve(y_train, train_pred)\n",
    "    roc_auc = auc(false_positive_rate, true_positive_rate)\n",
    "    train_results.append(roc_auc)\n",
    "    y_pred = dt.predict(x_test)\n",
    "    false_positive_rate, true_positive_rate, thresholds = roc_curve(y_test, y_pred)\n",
    "    roc_auc = auc(false_positive_rate, true_positive_rate)\n",
    "    test_results.append(roc_auc)\n",
    "\n",
    "from matplotlib.legend_handler import HandlerLine2D\n",
    "\n",
    "(line1,) = plt.plot(min_samples_leafs, train_results, \"b\", label=\"Train AUC\")\n",
    "(line2,) = plt.plot(min_samples_leafs, test_results, \"r\", label=\"Test AUC\")\n",
    "plt.legend(handler_map={line1: HandlerLine2D(numpoints=2)})\n",
    "plt.ylabel(\"AUC score\")\n",
    "plt.xlabel(\"min samples leaf\")\n",
    "plt.show()"
   ]
  },
  {
   "cell_type": "markdown",
   "metadata": {},
   "source": [
    "So including 35% of samples be includes with the leaf node is the last amount which yields comparable performance, after which performance sees a marked decrease."
   ]
  },
  {
   "cell_type": "markdown",
   "metadata": {},
   "source": [
    "# max_features:\n",
    "is the number of features considered in the process of finding the best split\n",
    "For classification problems, a good default value is max_features = sqrt(n_features), which would be equal to 10-11 features in our case."
   ]
  },
  {
   "cell_type": "code",
   "execution_count": 35,
   "metadata": {},
   "outputs": [
    {
     "data": {
      "text/plain": [
       "<function matplotlib.pyplot.show(close=None, block=None)>"
      ]
     },
     "execution_count": 35,
     "metadata": {},
     "output_type": "execute_result"
    },
    {
     "data": {
      "image/png": "[encoded data removed]",
      "text/plain": [
       "<Figure size 432x288 with 1 Axes>"
      ]
     },
     "metadata": {
      "needs_background": "light"
     },
     "output_type": "display_data"
    },
    {
     "data": {
      "application/javascript": [
       "\n",
       "            setTimeout(function() {\n",
       "                var nbb_cell_id = 35;\n",
       "                var nbb_unformatted_code = \"max_features = [\\\"sqrt\\\", \\\"log2\\\"]\\n\\ntrain_results = []\\ntest_results = []\\nfor max_feature in max_features:\\n    dt = DecisionTreeClassifier(max_features=max_feature, random_state=0)\\n    dt.fit(x_train, y_train)\\n    train_pred = dt.predict(x_train)\\n    false_positive_rate, true_positive_rate, thresholds = roc_curve(y_train, train_pred)\\n    roc_auc = auc(false_positive_rate, true_positive_rate)\\n    train_results.append(roc_auc)\\n    y_pred = dt.predict(x_test)\\n    false_positive_rate, true_positive_rate, thresholds = roc_curve(y_test, y_pred)\\n    roc_auc = auc(false_positive_rate, true_positive_rate)\\n    test_results.append(roc_auc)\\n\\nfrom matplotlib.legend_handler import HandlerLine2D\\n\\n(line1,) = plt.plot(max_features, train_results, \\\"b\\\", label=\\\"Train AUC\\\")\\n(line2,) = plt.plot(max_features, test_results, \\\"r\\\", label=\\\"Test AUC\\\")\\nplt.legend(handler_map={line1: HandlerLine2D(numpoints=2)})\\nplt.ylabel(\\\"AUC score\\\")\\nplt.xlabel(\\\"max features\\\")\\nplt.show\";\n",
       "                var nbb_formatted_code = \"max_features = [\\\"sqrt\\\", \\\"log2\\\"]\\n\\ntrain_results = []\\ntest_results = []\\nfor max_feature in max_features:\\n    dt = DecisionTreeClassifier(max_features=max_feature, random_state=0)\\n    dt.fit(x_train, y_train)\\n    train_pred = dt.predict(x_train)\\n    false_positive_rate, true_positive_rate, thresholds = roc_curve(y_train, train_pred)\\n    roc_auc = auc(false_positive_rate, true_positive_rate)\\n    train_results.append(roc_auc)\\n    y_pred = dt.predict(x_test)\\n    false_positive_rate, true_positive_rate, thresholds = roc_curve(y_test, y_pred)\\n    roc_auc = auc(false_positive_rate, true_positive_rate)\\n    test_results.append(roc_auc)\\n\\nfrom matplotlib.legend_handler import HandlerLine2D\\n\\n(line1,) = plt.plot(max_features, train_results, \\\"b\\\", label=\\\"Train AUC\\\")\\n(line2,) = plt.plot(max_features, test_results, \\\"r\\\", label=\\\"Test AUC\\\")\\nplt.legend(handler_map={line1: HandlerLine2D(numpoints=2)})\\nplt.ylabel(\\\"AUC score\\\")\\nplt.xlabel(\\\"max features\\\")\\nplt.show\";\n",
       "                var nbb_cells = Jupyter.notebook.get_cells();\n",
       "                for (var i = 0; i < nbb_cells.length; ++i) {\n",
       "                    if (nbb_cells[i].input_prompt_number == nbb_cell_id) {\n",
       "                        if (nbb_cells[i].get_text() == nbb_unformatted_code) {\n",
       "                             nbb_cells[i].set_text(nbb_formatted_code);\n",
       "                        }\n",
       "                        break;\n",
       "                    }\n",
       "                }\n",
       "            }, 500);\n",
       "            "
      ],
      "text/plain": [
       "<IPython.core.display.Javascript object>"
      ]
     },
     "metadata": {},
     "output_type": "display_data"
    }
   ],
   "source": [
    "max_features = [\"sqrt\", \"log2\"]\n",
    "\n",
    "train_results = []\n",
    "test_results = []\n",
    "for max_feature in max_features:\n",
    "    dt = DecisionTreeClassifier(max_features=max_feature, random_state=0)\n",
    "    dt.fit(x_train, y_train)\n",
    "    train_pred = dt.predict(x_train)\n",
    "    false_positive_rate, true_positive_rate, thresholds = roc_curve(y_train, train_pred)\n",
    "    roc_auc = auc(false_positive_rate, true_positive_rate)\n",
    "    train_results.append(roc_auc)\n",
    "    y_pred = dt.predict(x_test)\n",
    "    false_positive_rate, true_positive_rate, thresholds = roc_curve(y_test, y_pred)\n",
    "    roc_auc = auc(false_positive_rate, true_positive_rate)\n",
    "    test_results.append(roc_auc)\n",
    "\n",
    "from matplotlib.legend_handler import HandlerLine2D\n",
    "\n",
    "(line1,) = plt.plot(max_features, train_results, \"b\", label=\"Train AUC\")\n",
    "(line2,) = plt.plot(max_features, test_results, \"r\", label=\"Test AUC\")\n",
    "plt.legend(handler_map={line1: HandlerLine2D(numpoints=2)})\n",
    "plt.ylabel(\"AUC score\")\n",
    "plt.xlabel(\"max features\")\n",
    "plt.show"
   ]
  },
  {
   "cell_type": "code",
   "execution_count": 39,
   "metadata": {},
   "outputs": [
    {
     "data": {
      "application/javascript": [
       "\n",
       "            setTimeout(function() {\n",
       "                var nbb_cell_id = 39;\n",
       "                var nbb_unformatted_code = \"dt = DecisionTreeClassifier(\\n    criterion=\\\"gini\\\",\\n    max_depth=10,\\n    max_features=10,\\n    max_leaf_nodes=None,\\n    min_samples_leaf=20,\\n    min_samples_split=20,\\n    random_state=0,\\n    splitter=\\\"best\\\",\\n)\";\n",
       "                var nbb_formatted_code = \"dt = DecisionTreeClassifier(\\n    criterion=\\\"gini\\\",\\n    max_depth=10,\\n    max_features=10,\\n    max_leaf_nodes=None,\\n    min_samples_leaf=20,\\n    min_samples_split=20,\\n    random_state=0,\\n    splitter=\\\"best\\\",\\n)\";\n",
       "                var nbb_cells = Jupyter.notebook.get_cells();\n",
       "                for (var i = 0; i < nbb_cells.length; ++i) {\n",
       "                    if (nbb_cells[i].input_prompt_number == nbb_cell_id) {\n",
       "                        if (nbb_cells[i].get_text() == nbb_unformatted_code) {\n",
       "                             nbb_cells[i].set_text(nbb_formatted_code);\n",
       "                        }\n",
       "                        break;\n",
       "                    }\n",
       "                }\n",
       "            }, 500);\n",
       "            "
      ],
      "text/plain": [
       "<IPython.core.display.Javascript object>"
      ]
     },
     "metadata": {},
     "output_type": "display_data"
    }
   ],
   "source": [
    "dt = DecisionTreeClassifier(\n",
    "    criterion=\"gini\",\n",
    "    max_depth=10,\n",
    "    max_features=10,\n",
    "    max_leaf_nodes=None,\n",
    "    min_samples_leaf=20,\n",
    "    min_samples_split=20,\n",
    "    random_state=0,\n",
    "    splitter=\"best\",\n",
    ")"
   ]
  },
  {
   "cell_type": "code",
   "execution_count": 40,
   "metadata": {},
   "outputs": [
    {
     "data": {
      "text/plain": [
       "DecisionTreeClassifier(max_depth=10, max_features=10, min_samples_leaf=20,\n",
       "                       min_samples_split=20, random_state=0)"
      ]
     },
     "execution_count": 40,
     "metadata": {},
     "output_type": "execute_result"
    },
    {
     "data": {
      "application/javascript": [
       "\n",
       "            setTimeout(function() {\n",
       "                var nbb_cell_id = 40;\n",
       "                var nbb_unformatted_code = \"dt.fit(x_train, y_train)\";\n",
       "                var nbb_formatted_code = \"dt.fit(x_train, y_train)\";\n",
       "                var nbb_cells = Jupyter.notebook.get_cells();\n",
       "                for (var i = 0; i < nbb_cells.length; ++i) {\n",
       "                    if (nbb_cells[i].input_prompt_number == nbb_cell_id) {\n",
       "                        if (nbb_cells[i].get_text() == nbb_unformatted_code) {\n",
       "                             nbb_cells[i].set_text(nbb_formatted_code);\n",
       "                        }\n",
       "                        break;\n",
       "                    }\n",
       "                }\n",
       "            }, 500);\n",
       "            "
      ],
      "text/plain": [
       "<IPython.core.display.Javascript object>"
      ]
     },
     "metadata": {},
     "output_type": "display_data"
    }
   ],
   "source": [
    "dt.fit(x_train, y_train)"
   ]
  },
  {
   "cell_type": "code",
   "execution_count": 41,
   "metadata": {},
   "outputs": [
    {
     "name": "stdout",
     "output_type": "stream",
     "text": [
      "Accuracy of logistic regression classifier on test set: 0.85\n"
     ]
    },
    {
     "data": {
      "application/javascript": [
       "\n",
       "            setTimeout(function() {\n",
       "                var nbb_cell_id = 41;\n",
       "                var nbb_unformatted_code = \"# Establishing Baseline/Benchmark\\ny_pred = dt.predict(x_test)\\nprint(\\n    \\\"Accuracy of logistic regression classifier on test set: {:.2f}\\\".format(\\n        dt.score(x_test, y_test)\\n    )\\n)\";\n",
       "                var nbb_formatted_code = \"# Establishing Baseline/Benchmark\\ny_pred = dt.predict(x_test)\\nprint(\\n    \\\"Accuracy of logistic regression classifier on test set: {:.2f}\\\".format(\\n        dt.score(x_test, y_test)\\n    )\\n)\";\n",
       "                var nbb_cells = Jupyter.notebook.get_cells();\n",
       "                for (var i = 0; i < nbb_cells.length; ++i) {\n",
       "                    if (nbb_cells[i].input_prompt_number == nbb_cell_id) {\n",
       "                        if (nbb_cells[i].get_text() == nbb_unformatted_code) {\n",
       "                             nbb_cells[i].set_text(nbb_formatted_code);\n",
       "                        }\n",
       "                        break;\n",
       "                    }\n",
       "                }\n",
       "            }, 500);\n",
       "            "
      ],
      "text/plain": [
       "<IPython.core.display.Javascript object>"
      ]
     },
     "metadata": {},
     "output_type": "display_data"
    }
   ],
   "source": [
    "# Establishing Baseline/Benchmark\n",
    "y_pred = dt.predict(x_test)\n",
    "print(\n",
    "    \"Accuracy of logistic regression classifier on test set: {:.2f}\".format(\n",
    "        dt.score(x_test, y_test)\n",
    "    )\n",
    ")"
   ]
  },
  {
   "cell_type": "markdown",
   "metadata": {},
   "source": [
    "### Splitter: Best v. Random\n",
    " - When given a dataset consisting of hundreds of features, the **best** splitter is best as it calculates the best features to split on based on the impurity measure and will use that measure to split the tree's nodes (branches).\n",
    " - On the other hand, the **random** splitter splits the tree's nodes by randomly selecting a set of features. Should your model be overfit to the data, the additional randomness provided by this option may help."
   ]
  }
 ],
 "metadata": {
  "kernelspec": {
   "display_name": "Celerative",
   "language": "python",
   "name": "celerative"
  },
  "language_info": {
   "codemirror_mode": {
    "name": "ipython",
    "version": 3
   },
   "file_extension": ".py",
   "mimetype": "text/x-python",
   "name": "python",
   "nbconvert_exporter": "python",
   "pygments_lexer": "ipython3",
   "version": "3.7.9"
  }
 },
 "nbformat": 4,
 "nbformat_minor": 4
}
