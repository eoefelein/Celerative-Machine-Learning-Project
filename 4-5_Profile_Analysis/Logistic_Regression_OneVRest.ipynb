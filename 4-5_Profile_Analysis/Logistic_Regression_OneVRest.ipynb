{
 "cells": [
  {
   "cell_type": "code",
   "execution_count": 1,
   "metadata": {},
   "outputs": [
    {
     "data": {
      "application/javascript": [
       "\n",
       "            setTimeout(function() {\n",
       "                var nbb_cell_id = 1;\n",
       "                var nbb_unformatted_code = \"%load_ext nb_black\";\n",
       "                var nbb_formatted_code = \"%load_ext nb_black\";\n",
       "                var nbb_cells = Jupyter.notebook.get_cells();\n",
       "                for (var i = 0; i < nbb_cells.length; ++i) {\n",
       "                    if (nbb_cells[i].input_prompt_number == nbb_cell_id) {\n",
       "                        if (nbb_cells[i].get_text() == nbb_unformatted_code) {\n",
       "                             nbb_cells[i].set_text(nbb_formatted_code);\n",
       "                        }\n",
       "                        break;\n",
       "                    }\n",
       "                }\n",
       "            }, 500);\n",
       "            "
      ],
      "text/plain": [
       "<IPython.core.display.Javascript object>"
      ]
     },
     "metadata": {},
     "output_type": "display_data"
    }
   ],
   "source": [
    "%load_ext nb_black"
   ]
  },
  {
   "cell_type": "code",
   "execution_count": 2,
   "metadata": {},
   "outputs": [
    {
     "data": {
      "application/javascript": [
       "\n",
       "            setTimeout(function() {\n",
       "                var nbb_cell_id = 2;\n",
       "                var nbb_unformatted_code = \"# Data Prepping\\nimport pandas as pd\\nimport numpy as np\\n# from collections import Counter\\n\\n# Data Visualization\\nimport seaborn as sns\\nimport matplotlib.pyplot as plt\\n# from wordcloud import WordCloud, STOPWORDS\\nfrom yellowbrick.classifier import confusion_matrix\\n\\n# Data Preprocessing\\n# from sklearn.pipeline import Pipeline\\nfrom sklearn.model_selection import train_test_split as tts\\nfrom sklearn.preprocessing import MultiLabelBinarizer\\n# from sklearn.preprocessing import StandardScaler\\nfrom sklearn.feature_selection import RFE, RFECV\\n# import statsmodels.discrete.discrete_model as sm\\n\\n# Scoring the Models\\nfrom sklearn import metrics\\nfrom sklearn.metrics import (\\n    f1_score,\\n    recall_score,\\n    precision_score,\\n    confusion_matrix,\\n    classification_report,\\n)\\nfrom sklearn.model_selection import (\\n    RepeatedStratifiedKFold,\\n    GridSearchCV,\\n    cross_val_score,\\n)\\n\\n# Generating the Models\\nfrom sklearn.linear_model import LogisticRegression\\n# from sklearn.tree import DecisionTreeClassifier, plot_tree\";\n",
       "                var nbb_formatted_code = \"# Data Prepping\\nimport pandas as pd\\nimport numpy as np\\n\\n# from collections import Counter\\n\\n# Data Visualization\\nimport seaborn as sns\\nimport matplotlib.pyplot as plt\\n\\n# from wordcloud import WordCloud, STOPWORDS\\nfrom yellowbrick.classifier import confusion_matrix\\n\\n# Data Preprocessing\\n# from sklearn.pipeline import Pipeline\\nfrom sklearn.model_selection import train_test_split as tts\\nfrom sklearn.preprocessing import MultiLabelBinarizer\\n\\n# from sklearn.preprocessing import StandardScaler\\nfrom sklearn.feature_selection import RFE, RFECV\\n\\n# import statsmodels.discrete.discrete_model as sm\\n\\n# Scoring the Models\\nfrom sklearn import metrics\\nfrom sklearn.metrics import (\\n    f1_score,\\n    recall_score,\\n    precision_score,\\n    confusion_matrix,\\n    classification_report,\\n)\\nfrom sklearn.model_selection import (\\n    RepeatedStratifiedKFold,\\n    GridSearchCV,\\n    cross_val_score,\\n)\\n\\n# Generating the Models\\nfrom sklearn.linear_model import LogisticRegression\\n\\n# from sklearn.tree import DecisionTreeClassifier, plot_tree\";\n",
       "                var nbb_cells = Jupyter.notebook.get_cells();\n",
       "                for (var i = 0; i < nbb_cells.length; ++i) {\n",
       "                    if (nbb_cells[i].input_prompt_number == nbb_cell_id) {\n",
       "                        if (nbb_cells[i].get_text() == nbb_unformatted_code) {\n",
       "                             nbb_cells[i].set_text(nbb_formatted_code);\n",
       "                        }\n",
       "                        break;\n",
       "                    }\n",
       "                }\n",
       "            }, 500);\n",
       "            "
      ],
      "text/plain": [
       "<IPython.core.display.Javascript object>"
      ]
     },
     "metadata": {},
     "output_type": "display_data"
    }
   ],
   "source": [
    "# Data Prepping\n",
    "import pandas as pd\n",
    "import numpy as np\n",
    "\n",
    "# Data Visualization\n",
    "import seaborn as sns\n",
    "import matplotlib.pyplot as plt\n",
    "from yellowbrick.classifier import confusion_matrix\n",
    "\n",
    "# Data Preprocessing\n",
    "from sklearn.model_selection import train_test_split as tts\n",
    "from sklearn.preprocessing import MultiLabelBinarizer\n",
    "\n",
    "# Feature Selection\n",
    "from sklearn.feature_selection import RFE, RFECV\n",
    "\n",
    "# Generating the Models\n",
    "from sklearn.linear_model import LogisticRegression\n",
    "\n",
    "# Scoring the Models\n",
    "from sklearn import metrics\n",
    "from sklearn.metrics import (\n",
    "    f1_score,\n",
    "    recall_score,\n",
    "    precision_score,\n",
    "    roc_auc_score\n",
    "    confusion_matrix,\n",
    "    classification_report,\n",
    ")\n",
    "from sklearn.model_selection import (\n",
    "    RepeatedStratifiedKFold,\n",
    "    GridSearchCV,\n",
    "    cross_val_score,\n",
    ")"
   ]
  },
  {
   "cell_type": "code",
   "execution_count": 3,
   "metadata": {},
   "outputs": [
    {
     "data": {
      "application/javascript": [
       "\n",
       "            setTimeout(function() {\n",
       "                var nbb_cell_id = 3;\n",
       "                var nbb_unformatted_code = \"import os\\n\\n# Set up Spark Environment\\nos.environ[\\n    \\\"PYTHONPATH\\\"\\n] = \\\"%SPARK_HOME%\\\\python;%SPARK_HOME%\\\\python\\\\lib\\\\py4j-0.10.7-src.zip:%PYTHONPATH%\\\"\";\n",
       "                var nbb_formatted_code = \"import os\\n\\n# Set up Spark Environment\\nos.environ[\\n    \\\"PYTHONPATH\\\"\\n] = \\\"%SPARK_HOME%\\\\python;%SPARK_HOME%\\\\python\\\\lib\\\\py4j-0.10.7-src.zip:%PYTHONPATH%\\\"\";\n",
       "                var nbb_cells = Jupyter.notebook.get_cells();\n",
       "                for (var i = 0; i < nbb_cells.length; ++i) {\n",
       "                    if (nbb_cells[i].input_prompt_number == nbb_cell_id) {\n",
       "                        if (nbb_cells[i].get_text() == nbb_unformatted_code) {\n",
       "                             nbb_cells[i].set_text(nbb_formatted_code);\n",
       "                        }\n",
       "                        break;\n",
       "                    }\n",
       "                }\n",
       "            }, 500);\n",
       "            "
      ],
      "text/plain": [
       "<IPython.core.display.Javascript object>"
      ]
     },
     "metadata": {},
     "output_type": "display_data"
    }
   ],
   "source": [
    "import os\n",
    "\n",
    "# Set up Spark Environment\n",
    "os.environ[\n",
    "    \"PYTHONPATH\"\n",
    "] = \"%SPARK_HOME%\\python;%SPARK_HOME%\\python\\lib\\py4j-0.10.7-src.zip:%PYTHONPATH%\""
   ]
  },
  {
   "cell_type": "code",
   "execution_count": 4,
   "metadata": {},
   "outputs": [
    {
     "data": {
      "application/javascript": [
       "\n",
       "            setTimeout(function() {\n",
       "                var nbb_cell_id = 4;\n",
       "                var nbb_unformatted_code = \"import findspark\\n\\nfindspark.init(\\\"C:/spark/spark-2.4.7-bin-hadoop2.7\\\")\";\n",
       "                var nbb_formatted_code = \"import findspark\\n\\nfindspark.init(\\\"C:/spark/spark-2.4.7-bin-hadoop2.7\\\")\";\n",
       "                var nbb_cells = Jupyter.notebook.get_cells();\n",
       "                for (var i = 0; i < nbb_cells.length; ++i) {\n",
       "                    if (nbb_cells[i].input_prompt_number == nbb_cell_id) {\n",
       "                        if (nbb_cells[i].get_text() == nbb_unformatted_code) {\n",
       "                             nbb_cells[i].set_text(nbb_formatted_code);\n",
       "                        }\n",
       "                        break;\n",
       "                    }\n",
       "                }\n",
       "            }, 500);\n",
       "            "
      ],
      "text/plain": [
       "<IPython.core.display.Javascript object>"
      ]
     },
     "metadata": {},
     "output_type": "display_data"
    }
   ],
   "source": [
    "import findspark\n",
    "\n",
    "findspark.init(\"C:/spark/spark-2.4.7-bin-hadoop2.7\")"
   ]
  },
  {
   "cell_type": "code",
   "execution_count": 5,
   "metadata": {},
   "outputs": [
    {
     "data": {
      "application/javascript": [
       "\n",
       "            setTimeout(function() {\n",
       "                var nbb_cell_id = 5;\n",
       "                var nbb_unformatted_code = \"from pyspark import SparkContext, SparkConf\\nfrom pyspark.sql import SQLContext\\n\\nfrom pyspark.sql.types import DoubleType\\nfrom pyspark.sql.functions import col\\nfrom pyspark.ml.feature import VectorAssembler\\nfrom pyspark.sql import functions as F\\nfrom pyspark.sql.functions import udf\\n\\nfrom pyspark.ml.classification import LogisticRegression\\nfrom pyspark.ml.tuning import ParamGridBuilder, CrossValidator\\nfrom pyspark.ml.evaluation import (\\n    BinaryClassificationEvaluator,\\n    MulticlassClassificationEvaluator,\\n)\\nfrom pyspark.mllib.evaluation import MultilabelMetrics\";\n",
       "                var nbb_formatted_code = \"from pyspark import SparkContext, SparkConf\\nfrom pyspark.sql import SQLContext\\n\\nfrom pyspark.sql.types import DoubleType\\nfrom pyspark.sql.functions import col\\nfrom pyspark.ml.feature import VectorAssembler\\nfrom pyspark.sql import functions as F\\nfrom pyspark.sql.functions import udf\\n\\nfrom pyspark.ml.classification import LogisticRegression\\nfrom pyspark.ml.tuning import ParamGridBuilder, CrossValidator\\nfrom pyspark.ml.evaluation import (\\n    BinaryClassificationEvaluator,\\n    MulticlassClassificationEvaluator,\\n)\\nfrom pyspark.mllib.evaluation import MultilabelMetrics\";\n",
       "                var nbb_cells = Jupyter.notebook.get_cells();\n",
       "                for (var i = 0; i < nbb_cells.length; ++i) {\n",
       "                    if (nbb_cells[i].input_prompt_number == nbb_cell_id) {\n",
       "                        if (nbb_cells[i].get_text() == nbb_unformatted_code) {\n",
       "                             nbb_cells[i].set_text(nbb_formatted_code);\n",
       "                        }\n",
       "                        break;\n",
       "                    }\n",
       "                }\n",
       "            }, 500);\n",
       "            "
      ],
      "text/plain": [
       "<IPython.core.display.Javascript object>"
      ]
     },
     "metadata": {},
     "output_type": "display_data"
    }
   ],
   "source": [
    "from pyspark import SparkContext, SparkConf\n",
    "from pyspark.sql import SQLContext\n",
    "\n",
    "from pyspark.sql.types import DoubleType\n",
    "from pyspark.sql.functions import col\n",
    "from pyspark.ml.feature import VectorAssembler\n",
    "from pyspark.sql import functions as F\n",
    "from pyspark.sql.functions import udf\n",
    "\n",
    "from pyspark.ml.classification import LogisticRegression\n",
    "from pyspark.ml.tuning import ParamGridBuilder, CrossValidator\n",
    "from pyspark.ml.evaluation import (\n",
    "    BinaryClassificationEvaluator,\n",
    "    MulticlassClassificationEvaluator,\n",
    ")\n",
    "from pyspark.mllib.evaluation import MultilabelMetrics"
   ]
  },
  {
   "cell_type": "code",
   "execution_count": 6,
   "metadata": {},
   "outputs": [
    {
     "data": {
      "application/javascript": [
       "\n",
       "            setTimeout(function() {\n",
       "                var nbb_cell_id = 6;\n",
       "                var nbb_unformatted_code = \"import pyspark\\n\\nsc = SparkContext()\";\n",
       "                var nbb_formatted_code = \"import pyspark\\n\\nsc = SparkContext()\";\n",
       "                var nbb_cells = Jupyter.notebook.get_cells();\n",
       "                for (var i = 0; i < nbb_cells.length; ++i) {\n",
       "                    if (nbb_cells[i].input_prompt_number == nbb_cell_id) {\n",
       "                        if (nbb_cells[i].get_text() == nbb_unformatted_code) {\n",
       "                             nbb_cells[i].set_text(nbb_formatted_code);\n",
       "                        }\n",
       "                        break;\n",
       "                    }\n",
       "                }\n",
       "            }, 500);\n",
       "            "
      ],
      "text/plain": [
       "<IPython.core.display.Javascript object>"
      ]
     },
     "metadata": {},
     "output_type": "display_data"
    }
   ],
   "source": [
    "import pyspark\n",
    "\n",
    "sc = SparkContext()"
   ]
  },
  {
   "cell_type": "markdown",
   "metadata": {},
   "source": [
    "# Establishing Baseline Algorithm Performance. \n",
    "\n",
    "## Dataset consists of four (4) profiles:\n",
    "###  - Fullstack\n",
    "###  - Database\n",
    "### -  Machine Learning (ML)\n",
    "### -  Quality Assurance (QA)"
   ]
  },
  {
   "cell_type": "code",
   "execution_count": 144,
   "metadata": {},
   "outputs": [
    {
     "data": {
      "text/html": [
       "<div>\n",
       "<style scoped>\n",
       "    .dataframe tbody tr th:only-of-type {\n",
       "        vertical-align: middle;\n",
       "    }\n",
       "\n",
       "    .dataframe tbody tr th {\n",
       "        vertical-align: top;\n",
       "    }\n",
       "\n",
       "    .dataframe thead th {\n",
       "        text-align: right;\n",
       "    }\n",
       "</style>\n",
       "<table border=\"1\" class=\"dataframe\">\n",
       "  <thead>\n",
       "    <tr style=\"text-align: right;\">\n",
       "      <th></th>\n",
       "      <th>profile</th>\n",
       "      <th>.net</th>\n",
       "      <th>.net 4</th>\n",
       "      <th>.net core</th>\n",
       "      <th>ado.net</th>\n",
       "      <th>afnetworking</th>\n",
       "      <th>api architecture</th>\n",
       "      <th>api design</th>\n",
       "      <th>api development</th>\n",
       "      <th>apis</th>\n",
       "      <th>...</th>\n",
       "      <th>zurb foundation</th>\n",
       "      <th>ios</th>\n",
       "      <th>ios operating system</th>\n",
       "      <th>ipad</th>\n",
       "      <th>jquery</th>\n",
       "      <th>macos.1</th>\n",
       "      <th>database</th>\n",
       "      <th>fullstack</th>\n",
       "      <th>ml</th>\n",
       "      <th>qa</th>\n",
       "    </tr>\n",
       "  </thead>\n",
       "  <tbody>\n",
       "    <tr>\n",
       "      <th>0</th>\n",
       "      <td>Fullstack</td>\n",
       "      <td>0</td>\n",
       "      <td>0</td>\n",
       "      <td>0</td>\n",
       "      <td>0</td>\n",
       "      <td>0</td>\n",
       "      <td>0</td>\n",
       "      <td>0</td>\n",
       "      <td>0</td>\n",
       "      <td>0</td>\n",
       "      <td>...</td>\n",
       "      <td>0</td>\n",
       "      <td>0</td>\n",
       "      <td>0</td>\n",
       "      <td>0</td>\n",
       "      <td>0</td>\n",
       "      <td>0</td>\n",
       "      <td>0</td>\n",
       "      <td>1</td>\n",
       "      <td>0</td>\n",
       "      <td>0</td>\n",
       "    </tr>\n",
       "    <tr>\n",
       "      <th>1</th>\n",
       "      <td>ML</td>\n",
       "      <td>0</td>\n",
       "      <td>0</td>\n",
       "      <td>0</td>\n",
       "      <td>0</td>\n",
       "      <td>0</td>\n",
       "      <td>0</td>\n",
       "      <td>0</td>\n",
       "      <td>0</td>\n",
       "      <td>0</td>\n",
       "      <td>...</td>\n",
       "      <td>0</td>\n",
       "      <td>0</td>\n",
       "      <td>0</td>\n",
       "      <td>0</td>\n",
       "      <td>0</td>\n",
       "      <td>0</td>\n",
       "      <td>0</td>\n",
       "      <td>0</td>\n",
       "      <td>1</td>\n",
       "      <td>0</td>\n",
       "    </tr>\n",
       "    <tr>\n",
       "      <th>2</th>\n",
       "      <td>ML</td>\n",
       "      <td>0</td>\n",
       "      <td>0</td>\n",
       "      <td>0</td>\n",
       "      <td>0</td>\n",
       "      <td>0</td>\n",
       "      <td>0</td>\n",
       "      <td>0</td>\n",
       "      <td>0</td>\n",
       "      <td>0</td>\n",
       "      <td>...</td>\n",
       "      <td>0</td>\n",
       "      <td>0</td>\n",
       "      <td>0</td>\n",
       "      <td>0</td>\n",
       "      <td>0</td>\n",
       "      <td>0</td>\n",
       "      <td>0</td>\n",
       "      <td>0</td>\n",
       "      <td>1</td>\n",
       "      <td>0</td>\n",
       "    </tr>\n",
       "    <tr>\n",
       "      <th>3</th>\n",
       "      <td>QA</td>\n",
       "      <td>0</td>\n",
       "      <td>0</td>\n",
       "      <td>0</td>\n",
       "      <td>0</td>\n",
       "      <td>0</td>\n",
       "      <td>0</td>\n",
       "      <td>0</td>\n",
       "      <td>0</td>\n",
       "      <td>0</td>\n",
       "      <td>...</td>\n",
       "      <td>0</td>\n",
       "      <td>0</td>\n",
       "      <td>0</td>\n",
       "      <td>0</td>\n",
       "      <td>0</td>\n",
       "      <td>0</td>\n",
       "      <td>0</td>\n",
       "      <td>0</td>\n",
       "      <td>0</td>\n",
       "      <td>1</td>\n",
       "    </tr>\n",
       "    <tr>\n",
       "      <th>4</th>\n",
       "      <td>QA</td>\n",
       "      <td>0</td>\n",
       "      <td>0</td>\n",
       "      <td>0</td>\n",
       "      <td>0</td>\n",
       "      <td>0</td>\n",
       "      <td>0</td>\n",
       "      <td>0</td>\n",
       "      <td>0</td>\n",
       "      <td>0</td>\n",
       "      <td>...</td>\n",
       "      <td>0</td>\n",
       "      <td>0</td>\n",
       "      <td>0</td>\n",
       "      <td>0</td>\n",
       "      <td>0</td>\n",
       "      <td>0</td>\n",
       "      <td>0</td>\n",
       "      <td>0</td>\n",
       "      <td>0</td>\n",
       "      <td>1</td>\n",
       "    </tr>\n",
       "    <tr>\n",
       "      <th>...</th>\n",
       "      <td>...</td>\n",
       "      <td>...</td>\n",
       "      <td>...</td>\n",
       "      <td>...</td>\n",
       "      <td>...</td>\n",
       "      <td>...</td>\n",
       "      <td>...</td>\n",
       "      <td>...</td>\n",
       "      <td>...</td>\n",
       "      <td>...</td>\n",
       "      <td>...</td>\n",
       "      <td>...</td>\n",
       "      <td>...</td>\n",
       "      <td>...</td>\n",
       "      <td>...</td>\n",
       "      <td>...</td>\n",
       "      <td>...</td>\n",
       "      <td>...</td>\n",
       "      <td>...</td>\n",
       "      <td>...</td>\n",
       "      <td>...</td>\n",
       "    </tr>\n",
       "    <tr>\n",
       "      <th>284</th>\n",
       "      <td>Database</td>\n",
       "      <td>0</td>\n",
       "      <td>0</td>\n",
       "      <td>0</td>\n",
       "      <td>0</td>\n",
       "      <td>0</td>\n",
       "      <td>0</td>\n",
       "      <td>0</td>\n",
       "      <td>0</td>\n",
       "      <td>0</td>\n",
       "      <td>...</td>\n",
       "      <td>0</td>\n",
       "      <td>0</td>\n",
       "      <td>0</td>\n",
       "      <td>0</td>\n",
       "      <td>1</td>\n",
       "      <td>0</td>\n",
       "      <td>1</td>\n",
       "      <td>0</td>\n",
       "      <td>0</td>\n",
       "      <td>0</td>\n",
       "    </tr>\n",
       "    <tr>\n",
       "      <th>285</th>\n",
       "      <td>Database</td>\n",
       "      <td>0</td>\n",
       "      <td>0</td>\n",
       "      <td>0</td>\n",
       "      <td>0</td>\n",
       "      <td>0</td>\n",
       "      <td>0</td>\n",
       "      <td>0</td>\n",
       "      <td>0</td>\n",
       "      <td>0</td>\n",
       "      <td>...</td>\n",
       "      <td>0</td>\n",
       "      <td>0</td>\n",
       "      <td>0</td>\n",
       "      <td>0</td>\n",
       "      <td>1</td>\n",
       "      <td>0</td>\n",
       "      <td>1</td>\n",
       "      <td>0</td>\n",
       "      <td>0</td>\n",
       "      <td>0</td>\n",
       "    </tr>\n",
       "    <tr>\n",
       "      <th>286</th>\n",
       "      <td>ML</td>\n",
       "      <td>0</td>\n",
       "      <td>0</td>\n",
       "      <td>0</td>\n",
       "      <td>0</td>\n",
       "      <td>0</td>\n",
       "      <td>0</td>\n",
       "      <td>0</td>\n",
       "      <td>0</td>\n",
       "      <td>0</td>\n",
       "      <td>...</td>\n",
       "      <td>0</td>\n",
       "      <td>0</td>\n",
       "      <td>0</td>\n",
       "      <td>0</td>\n",
       "      <td>0</td>\n",
       "      <td>0</td>\n",
       "      <td>0</td>\n",
       "      <td>0</td>\n",
       "      <td>1</td>\n",
       "      <td>0</td>\n",
       "    </tr>\n",
       "    <tr>\n",
       "      <th>287</th>\n",
       "      <td>Database</td>\n",
       "      <td>0</td>\n",
       "      <td>0</td>\n",
       "      <td>0</td>\n",
       "      <td>0</td>\n",
       "      <td>0</td>\n",
       "      <td>0</td>\n",
       "      <td>0</td>\n",
       "      <td>0</td>\n",
       "      <td>0</td>\n",
       "      <td>...</td>\n",
       "      <td>0</td>\n",
       "      <td>0</td>\n",
       "      <td>0</td>\n",
       "      <td>0</td>\n",
       "      <td>0</td>\n",
       "      <td>0</td>\n",
       "      <td>1</td>\n",
       "      <td>0</td>\n",
       "      <td>0</td>\n",
       "      <td>0</td>\n",
       "    </tr>\n",
       "    <tr>\n",
       "      <th>288</th>\n",
       "      <td>ML</td>\n",
       "      <td>0</td>\n",
       "      <td>0</td>\n",
       "      <td>0</td>\n",
       "      <td>0</td>\n",
       "      <td>0</td>\n",
       "      <td>0</td>\n",
       "      <td>0</td>\n",
       "      <td>0</td>\n",
       "      <td>0</td>\n",
       "      <td>...</td>\n",
       "      <td>0</td>\n",
       "      <td>0</td>\n",
       "      <td>0</td>\n",
       "      <td>0</td>\n",
       "      <td>0</td>\n",
       "      <td>0</td>\n",
       "      <td>0</td>\n",
       "      <td>0</td>\n",
       "      <td>1</td>\n",
       "      <td>0</td>\n",
       "    </tr>\n",
       "  </tbody>\n",
       "</table>\n",
       "<p>289 rows × 341 columns</p>\n",
       "</div>"
      ],
      "text/plain": [
       "       profile  .net  .net 4  .net core  ado.net  afnetworking  \\\n",
       "0    Fullstack     0       0          0        0             0   \n",
       "1           ML     0       0          0        0             0   \n",
       "2           ML     0       0          0        0             0   \n",
       "3           QA     0       0          0        0             0   \n",
       "4           QA     0       0          0        0             0   \n",
       "..         ...   ...     ...        ...      ...           ...   \n",
       "284   Database     0       0          0        0             0   \n",
       "285   Database     0       0          0        0             0   \n",
       "286         ML     0       0          0        0             0   \n",
       "287   Database     0       0          0        0             0   \n",
       "288         ML     0       0          0        0             0   \n",
       "\n",
       "     api architecture  api design  api development  apis  ...  \\\n",
       "0                   0           0                0     0  ...   \n",
       "1                   0           0                0     0  ...   \n",
       "2                   0           0                0     0  ...   \n",
       "3                   0           0                0     0  ...   \n",
       "4                   0           0                0     0  ...   \n",
       "..                ...         ...              ...   ...  ...   \n",
       "284                 0           0                0     0  ...   \n",
       "285                 0           0                0     0  ...   \n",
       "286                 0           0                0     0  ...   \n",
       "287                 0           0                0     0  ...   \n",
       "288                 0           0                0     0  ...   \n",
       "\n",
       "     zurb foundation  ios  ios operating system  ipad  jquery  macos.1  \\\n",
       "0                  0    0                     0     0       0        0   \n",
       "1                  0    0                     0     0       0        0   \n",
       "2                  0    0                     0     0       0        0   \n",
       "3                  0    0                     0     0       0        0   \n",
       "4                  0    0                     0     0       0        0   \n",
       "..               ...  ...                   ...   ...     ...      ...   \n",
       "284                0    0                     0     0       1        0   \n",
       "285                0    0                     0     0       1        0   \n",
       "286                0    0                     0     0       0        0   \n",
       "287                0    0                     0     0       0        0   \n",
       "288                0    0                     0     0       0        0   \n",
       "\n",
       "     database  fullstack  ml  qa  \n",
       "0           0          1   0   0  \n",
       "1           0          0   1   0  \n",
       "2           0          0   1   0  \n",
       "3           0          0   0   1  \n",
       "4           0          0   0   1  \n",
       "..        ...        ...  ..  ..  \n",
       "284         1          0   0   0  \n",
       "285         1          0   0   0  \n",
       "286         0          0   1   0  \n",
       "287         1          0   0   0  \n",
       "288         0          0   1   0  \n",
       "\n",
       "[289 rows x 341 columns]"
      ]
     },
     "execution_count": 144,
     "metadata": {},
     "output_type": "execute_result"
    },
    {
     "data": {
      "application/javascript": [
       "\n",
       "            setTimeout(function() {\n",
       "                var nbb_cell_id = 144;\n",
       "                var nbb_unformatted_code = \"# Open & Read the CSV to PandasDataFrame\\nfour_profiles_Pandas = pd.read_csv(\\\"../../Logistic_Regression/five_profiles_LogReg.csv\\\")\\nfour_profiles_Pandas.drop(\\n    [\\n        \\\"Unnamed: 0\\\",\\n        \\\"name\\\",\\n        \\\"profile_standardized\\\",\\n        \\\"skills_list_x\\\",\\n        \\\"skills_list\\\",\\n        \\\"Unnamed: 6\\\",\\n    ],\\n    axis=1,\\n    inplace=True,\\n)\\n# Skills can be found on columns[2:-4]\\nfour_profiles_Pandas\";\n",
       "                var nbb_formatted_code = \"# Open & Read the CSV to PandasDataFrame\\nfour_profiles_Pandas = pd.read_csv(\\\"../../Logistic_Regression/five_profiles_LogReg.csv\\\")\\nfour_profiles_Pandas.drop(\\n    [\\n        \\\"Unnamed: 0\\\",\\n        \\\"name\\\",\\n        \\\"profile_standardized\\\",\\n        \\\"skills_list_x\\\",\\n        \\\"skills_list\\\",\\n        \\\"Unnamed: 6\\\",\\n    ],\\n    axis=1,\\n    inplace=True,\\n)\\n# Skills can be found on columns[2:-4]\\nfour_profiles_Pandas\";\n",
       "                var nbb_cells = Jupyter.notebook.get_cells();\n",
       "                for (var i = 0; i < nbb_cells.length; ++i) {\n",
       "                    if (nbb_cells[i].input_prompt_number == nbb_cell_id) {\n",
       "                        if (nbb_cells[i].get_text() == nbb_unformatted_code) {\n",
       "                             nbb_cells[i].set_text(nbb_formatted_code);\n",
       "                        }\n",
       "                        break;\n",
       "                    }\n",
       "                }\n",
       "            }, 500);\n",
       "            "
      ],
      "text/plain": [
       "<IPython.core.display.Javascript object>"
      ]
     },
     "metadata": {},
     "output_type": "display_data"
    }
   ],
   "source": [
    "# Open & Read the CSV to PandasDataFrame\n",
    "four_profiles_Pandas = pd.read_csv(\"../../Logistic_Regression/five_profiles_LogReg.csv\")\n",
    "four_profiles_Pandas.drop(\n",
    "    [\n",
    "        \"Unnamed: 0\",\n",
    "        \"name\",\n",
    "        \"profile_standardized\",\n",
    "        \"skills_list_x\",\n",
    "        \"skills_list\",\n",
    "        \"Unnamed: 6\",\n",
    "    ],\n",
    "    axis=1,\n",
    "    inplace=True,\n",
    ")\n",
    "# Skills can be found on columns[2:-4]\n",
    "four_profiles_Pandas"
   ]
  },
  {
   "cell_type": "code",
   "execution_count": 145,
   "metadata": {},
   "outputs": [
    {
     "data": {
      "text/plain": [
       "0    197\n",
       "1     92\n",
       "Name: fullstack, dtype: int64"
      ]
     },
     "execution_count": 145,
     "metadata": {},
     "output_type": "execute_result"
    },
    {
     "data": {
      "application/javascript": [
       "\n",
       "            setTimeout(function() {\n",
       "                var nbb_cell_id = 145;\n",
       "                var nbb_unformatted_code = \"# Count of Fullstack Developers\\nfour_profiles_Pandas.fullstack.value_counts()\";\n",
       "                var nbb_formatted_code = \"# Count of Fullstack Developers\\nfour_profiles_Pandas.fullstack.value_counts()\";\n",
       "                var nbb_cells = Jupyter.notebook.get_cells();\n",
       "                for (var i = 0; i < nbb_cells.length; ++i) {\n",
       "                    if (nbb_cells[i].input_prompt_number == nbb_cell_id) {\n",
       "                        if (nbb_cells[i].get_text() == nbb_unformatted_code) {\n",
       "                             nbb_cells[i].set_text(nbb_formatted_code);\n",
       "                        }\n",
       "                        break;\n",
       "                    }\n",
       "                }\n",
       "            }, 500);\n",
       "            "
      ],
      "text/plain": [
       "<IPython.core.display.Javascript object>"
      ]
     },
     "metadata": {},
     "output_type": "display_data"
    }
   ],
   "source": [
    "# Count of Fullstack Developers\n",
    "four_profiles_Pandas.fullstack.value_counts()"
   ]
  },
  {
   "cell_type": "code",
   "execution_count": 146,
   "metadata": {},
   "outputs": [
    {
     "name": "stdout",
     "output_type": "stream",
     "text": [
      "percentage of fullstack developers is 31.83\n",
      "percentage of non fullstack developers 68.17\n"
     ]
    },
    {
     "data": {
      "image/png": "[encoded data removed]",
      "text/plain": [
       "<Figure size 576x396 with 1 Axes>"
      ]
     },
     "metadata": {},
     "output_type": "display_data"
    },
    {
     "data": {
      "application/javascript": [
       "\n",
       "            setTimeout(function() {\n",
       "                var nbb_cell_id = 146;\n",
       "                var nbb_unformatted_code = \"# Show Class Imbalance\\nsns.countplot(x=\\\"fullstack\\\", data=four_profiles_Pandas, palette=\\\"hls\\\")\\nprint(\\n    \\\"percentage of fullstack developers is\\\",\\n    \\\"{:.2f}\\\".format(\\n        len(four_profiles_Pandas[four_profiles_Pandas[\\\"profile\\\"] == \\\"Fullstack\\\"])\\n        / len(four_profiles_Pandas)\\n        * 100\\n    ),\\n)\\nprint(\\n    \\\"percentage of non fullstack developers\\\",\\n    \\\"{:.2f}\\\".format(\\n        (\\n            len(four_profiles_Pandas)\\n            - len(four_profiles_Pandas[four_profiles_Pandas[\\\"profile\\\"] == \\\"Fullstack\\\"])\\n        )\\n        / len(four_profiles_Pandas)\\n        * 100,\\n    ),\\n)\\n# Plot shows roughly a 70:30 ratio of non-fullstack to fullstack developers\\nplt.show()\";\n",
       "                var nbb_formatted_code = \"# Show Class Imbalance\\nsns.countplot(x=\\\"fullstack\\\", data=four_profiles_Pandas, palette=\\\"hls\\\")\\nprint(\\n    \\\"percentage of fullstack developers is\\\",\\n    \\\"{:.2f}\\\".format(\\n        len(four_profiles_Pandas[four_profiles_Pandas[\\\"profile\\\"] == \\\"Fullstack\\\"])\\n        / len(four_profiles_Pandas)\\n        * 100\\n    ),\\n)\\nprint(\\n    \\\"percentage of non fullstack developers\\\",\\n    \\\"{:.2f}\\\".format(\\n        (\\n            len(four_profiles_Pandas)\\n            - len(four_profiles_Pandas[four_profiles_Pandas[\\\"profile\\\"] == \\\"Fullstack\\\"])\\n        )\\n        / len(four_profiles_Pandas)\\n        * 100,\\n    ),\\n)\\n# Plot shows roughly a 70:30 ratio of non-fullstack to fullstack developers\\nplt.show()\";\n",
       "                var nbb_cells = Jupyter.notebook.get_cells();\n",
       "                for (var i = 0; i < nbb_cells.length; ++i) {\n",
       "                    if (nbb_cells[i].input_prompt_number == nbb_cell_id) {\n",
       "                        if (nbb_cells[i].get_text() == nbb_unformatted_code) {\n",
       "                             nbb_cells[i].set_text(nbb_formatted_code);\n",
       "                        }\n",
       "                        break;\n",
       "                    }\n",
       "                }\n",
       "            }, 500);\n",
       "            "
      ],
      "text/plain": [
       "<IPython.core.display.Javascript object>"
      ]
     },
     "metadata": {},
     "output_type": "display_data"
    }
   ],
   "source": [
    "# Show Class Imbalance\n",
    "sns.countplot(x=\"fullstack\", data=four_profiles_Pandas, palette=\"hls\")\n",
    "print(\n",
    "    \"percentage of fullstack developers is\",\n",
    "    \"{:.2f}\".format(\n",
    "        len(four_profiles_Pandas[four_profiles_Pandas[\"profile\"] == \"Fullstack\"])\n",
    "        / len(four_profiles_Pandas)\n",
    "        * 100\n",
    "    ),\n",
    ")\n",
    "print(\n",
    "    \"percentage of non fullstack developers\",\n",
    "    \"{:.2f}\".format(\n",
    "        (\n",
    "            len(four_profiles_Pandas)\n",
    "            - len(four_profiles_Pandas[four_profiles_Pandas[\"profile\"] == \"Fullstack\"])\n",
    "        )\n",
    "        / len(four_profiles_Pandas)\n",
    "        * 100,\n",
    "    ),\n",
    ")\n",
    "# Plot shows roughly a 70:30 ratio of non-fullstack to fullstack developers\n",
    "plt.show()"
   ]
  },
  {
   "cell_type": "code",
   "execution_count": 147,
   "metadata": {},
   "outputs": [
    {
     "data": {
      "application/javascript": [
       "\n",
       "            setTimeout(function() {\n",
       "                var nbb_cell_id = 147;\n",
       "                var nbb_unformatted_code = \"# Assign data to X and y\\nX = four_profiles_Pandas.iloc[:, 1:-4]\\nxSkillsCols = X\\n\\ny = four_profiles_Pandas.iloc[:, -3]\";\n",
       "                var nbb_formatted_code = \"# Assign data to X and y\\nX = four_profiles_Pandas.iloc[:, 1:-4]\\nxSkillsCols = X\\n\\ny = four_profiles_Pandas.iloc[:, -3]\";\n",
       "                var nbb_cells = Jupyter.notebook.get_cells();\n",
       "                for (var i = 0; i < nbb_cells.length; ++i) {\n",
       "                    if (nbb_cells[i].input_prompt_number == nbb_cell_id) {\n",
       "                        if (nbb_cells[i].get_text() == nbb_unformatted_code) {\n",
       "                             nbb_cells[i].set_text(nbb_formatted_code);\n",
       "                        }\n",
       "                        break;\n",
       "                    }\n",
       "                }\n",
       "            }, 500);\n",
       "            "
      ],
      "text/plain": [
       "<IPython.core.display.Javascript object>"
      ]
     },
     "metadata": {},
     "output_type": "display_data"
    }
   ],
   "source": [
    "# Assign data to X and y\n",
    "X = four_profiles_Pandas.iloc[:, 1:-4]\n",
    "xSkillsCols = X\n",
    "\n",
    "y = four_profiles_Pandas.iloc[:, -3]"
   ]
  },
  {
   "cell_type": "code",
   "execution_count": 148,
   "metadata": {},
   "outputs": [
    {
     "data": {
      "application/javascript": [
       "\n",
       "            setTimeout(function() {\n",
       "                var nbb_cell_id = 148;\n",
       "                var nbb_unformatted_code = \"# Split to training and testing sets\\nX_train, X_test, y_train, y_test = tts(X, y, test_size=0.3, random_state=0)\";\n",
       "                var nbb_formatted_code = \"# Split to training and testing sets\\nX_train, X_test, y_train, y_test = tts(X, y, test_size=0.3, random_state=0)\";\n",
       "                var nbb_cells = Jupyter.notebook.get_cells();\n",
       "                for (var i = 0; i < nbb_cells.length; ++i) {\n",
       "                    if (nbb_cells[i].input_prompt_number == nbb_cell_id) {\n",
       "                        if (nbb_cells[i].get_text() == nbb_unformatted_code) {\n",
       "                             nbb_cells[i].set_text(nbb_formatted_code);\n",
       "                        }\n",
       "                        break;\n",
       "                    }\n",
       "                }\n",
       "            }, 500);\n",
       "            "
      ],
      "text/plain": [
       "<IPython.core.display.Javascript object>"
      ]
     },
     "metadata": {},
     "output_type": "display_data"
    }
   ],
   "source": [
    "# Split to training and testing sets\n",
    "X_train, X_test, y_train, y_test = tts(X, y, test_size=0.3, random_state=0)"
   ]
  },
  {
   "cell_type": "code",
   "execution_count": 149,
   "metadata": {},
   "outputs": [
    {
     "data": {
      "text/plain": [
       "LogisticRegression()"
      ]
     },
     "execution_count": 149,
     "metadata": {},
     "output_type": "execute_result"
    },
    {
     "data": {
      "application/javascript": [
       "\n",
       "            setTimeout(function() {\n",
       "                var nbb_cell_id = 149;\n",
       "                var nbb_unformatted_code = \"# Generate sklearn LogisticRegression model\\nfrom sklearn.linear_model import LogisticRegression\\n\\nlogreg = LogisticRegression()\\nlogreg.fit(X_train, y_train)\";\n",
       "                var nbb_formatted_code = \"# Generate sklearn LogisticRegression model\\nfrom sklearn.linear_model import LogisticRegression\\n\\nlogreg = LogisticRegression()\\nlogreg.fit(X_train, y_train)\";\n",
       "                var nbb_cells = Jupyter.notebook.get_cells();\n",
       "                for (var i = 0; i < nbb_cells.length; ++i) {\n",
       "                    if (nbb_cells[i].input_prompt_number == nbb_cell_id) {\n",
       "                        if (nbb_cells[i].get_text() == nbb_unformatted_code) {\n",
       "                             nbb_cells[i].set_text(nbb_formatted_code);\n",
       "                        }\n",
       "                        break;\n",
       "                    }\n",
       "                }\n",
       "            }, 500);\n",
       "            "
      ],
      "text/plain": [
       "<IPython.core.display.Javascript object>"
      ]
     },
     "metadata": {},
     "output_type": "display_data"
    }
   ],
   "source": [
    "# Generate sklearn LogisticRegression model\n",
    "from sklearn.linear_model import LogisticRegression\n",
    "\n",
    "logreg = LogisticRegression()\n",
    "logreg.fit(X_train, y_train)"
   ]
  },
  {
   "cell_type": "code",
   "execution_count": 150,
   "metadata": {},
   "outputs": [
    {
     "name": "stdout",
     "output_type": "stream",
     "text": [
      "The ROC_AUC score of the logistic regerssion classifier on the test set: 0.868\n"
     ]
    },
    {
     "data": {
      "application/javascript": [
       "\n",
       "            setTimeout(function() {\n",
       "                var nbb_cell_id = 150;\n",
       "                var nbb_unformatted_code = \"# Establishing Baseline/Benchmark\\ny_pred = logreg.predict(X_test)\\nprint(\\n    \\\"The ROC_AUC score of the logistic regerssion classifier on the test set: {:.3f}\\\".format(\\n        np.mean(cross_val_score(logreg, X_test, y_test, scoring=\\\"roc_auc\\\", cv=10))\\n    )\\n)\";\n",
       "                var nbb_formatted_code = \"# Establishing Baseline/Benchmark\\ny_pred = logreg.predict(X_test)\\nprint(\\n    \\\"The ROC_AUC score of the logistic regerssion classifier on the test set: {:.3f}\\\".format(\\n        np.mean(cross_val_score(logreg, X_test, y_test, scoring=\\\"roc_auc\\\", cv=10))\\n    )\\n)\";\n",
       "                var nbb_cells = Jupyter.notebook.get_cells();\n",
       "                for (var i = 0; i < nbb_cells.length; ++i) {\n",
       "                    if (nbb_cells[i].input_prompt_number == nbb_cell_id) {\n",
       "                        if (nbb_cells[i].get_text() == nbb_unformatted_code) {\n",
       "                             nbb_cells[i].set_text(nbb_formatted_code);\n",
       "                        }\n",
       "                        break;\n",
       "                    }\n",
       "                }\n",
       "            }, 500);\n",
       "            "
      ],
      "text/plain": [
       "<IPython.core.display.Javascript object>"
      ]
     },
     "metadata": {},
     "output_type": "display_data"
    }
   ],
   "source": [
    "# Establishing Baseline/Benchmark\n",
    "y_pred = logreg.predict(X_test)\n",
    "print(\n",
    "    \"The ROC_AUC score of the logistic regerssion classifier on the test set: {:.3f}\".format(\n",
    "        np.mean(cross_val_score(logreg, X_test, y_test, scoring=\"roc_auc\", cv=10))\n",
    "    )\n",
    ")"
   ]
  },
  {
   "cell_type": "code",
   "execution_count": 151,
   "metadata": {},
   "outputs": [
    {
     "name": "stdout",
     "output_type": "stream",
     "text": [
      "[[54  2]\n",
      " [ 8 23]]\n"
     ]
    },
    {
     "data": {
      "text/plain": [
       "<AxesSubplot:>"
      ]
     },
     "execution_count": 151,
     "metadata": {},
     "output_type": "execute_result"
    },
    {
     "data": {
      "image/png": "[encoded data removed]",
      "text/plain": [
       "<Figure size 576x396 with 2 Axes>"
      ]
     },
     "metadata": {},
     "output_type": "display_data"
    },
    {
     "data": {
      "application/javascript": [
       "\n",
       "            setTimeout(function() {\n",
       "                var nbb_cell_id = 151;\n",
       "                var nbb_unformatted_code = \"# Confusion Matrix\\ncm = metrics.confusion_matrix(y_test, y_pred)\\nprint(cm)\\n\\ngroup_names = [\\\"True Negative\\\", \\\"False Positive\\\", \\\"False Negative\\\", \\\"True Positive\\\"]\\ngroup_counts = [\\\"{0:0.0f}\\\".format(value) for value in cm.flatten()]\\ngroup_percentages = [\\\"{0:.2%}\\\".format(value) for value in cm.flatten() / np.sum(cm)]\\nlabels = [\\n    f\\\"{v1}\\\\n{v2}\\\\n{v3}\\\"\\n    for v1, v2, v3 in zip(group_names, group_counts, group_percentages)\\n]\\nlabels = np.asarray(labels).reshape(2, 2)\\nsns.heatmap(cm, annot=labels, fmt=\\\"\\\")\";\n",
       "                var nbb_formatted_code = \"# Confusion Matrix\\ncm = metrics.confusion_matrix(y_test, y_pred)\\nprint(cm)\\n\\ngroup_names = [\\\"True Negative\\\", \\\"False Positive\\\", \\\"False Negative\\\", \\\"True Positive\\\"]\\ngroup_counts = [\\\"{0:0.0f}\\\".format(value) for value in cm.flatten()]\\ngroup_percentages = [\\\"{0:.2%}\\\".format(value) for value in cm.flatten() / np.sum(cm)]\\nlabels = [\\n    f\\\"{v1}\\\\n{v2}\\\\n{v3}\\\"\\n    for v1, v2, v3 in zip(group_names, group_counts, group_percentages)\\n]\\nlabels = np.asarray(labels).reshape(2, 2)\\nsns.heatmap(cm, annot=labels, fmt=\\\"\\\")\";\n",
       "                var nbb_cells = Jupyter.notebook.get_cells();\n",
       "                for (var i = 0; i < nbb_cells.length; ++i) {\n",
       "                    if (nbb_cells[i].input_prompt_number == nbb_cell_id) {\n",
       "                        if (nbb_cells[i].get_text() == nbb_unformatted_code) {\n",
       "                             nbb_cells[i].set_text(nbb_formatted_code);\n",
       "                        }\n",
       "                        break;\n",
       "                    }\n",
       "                }\n",
       "            }, 500);\n",
       "            "
      ],
      "text/plain": [
       "<IPython.core.display.Javascript object>"
      ]
     },
     "metadata": {},
     "output_type": "display_data"
    }
   ],
   "source": [
    "# Confusion Matrix\n",
    "cm = metrics.confusion_matrix(y_test, y_pred)\n",
    "print(cm)\n",
    "\n",
    "group_names = [\"True Negative\", \"False Positive\", \"False Negative\", \"True Positive\"]\n",
    "group_counts = [\"{0:0.0f}\".format(value) for value in cm.flatten()]\n",
    "group_percentages = [\"{0:.2%}\".format(value) for value in cm.flatten() / np.sum(cm)]\n",
    "labels = [\n",
    "    f\"{v1}\\n{v2}\\n{v3}\"\n",
    "    for v1, v2, v3 in zip(group_names, group_counts, group_percentages)\n",
    "]\n",
    "labels = np.asarray(labels).reshape(2, 2)\n",
    "sns.heatmap(cm, annot=labels, fmt=\"\")"
   ]
  },
  {
   "cell_type": "markdown",
   "metadata": {},
   "source": [
    "This shows that only about 11% of profiles are being incorrectly classified as False Positives and False Negatives. To yield better algorithm performance, we'll engage in a Feature Selection method known as Recursive Feature Selection."
   ]
  },
  {
   "cell_type": "markdown",
   "metadata": {},
   "source": [
    "# Improving Algorithm Performance : Recursive Feature Elimination (RFE)"
   ]
  },
  {
   "cell_type": "code",
   "execution_count": 152,
   "metadata": {},
   "outputs": [
    {
     "name": "stdout",
     "output_type": "stream",
     "text": [
      "[  1 132   1 126   1   1   1 164 160 123  94  32   1   1  16  38   1  15\n",
      "   7   1   1   1   1  82   1  85  50   1   1 113  39   1   1 146 110  33\n",
      "   1   1   1   1   1   6 133 125   1   1   1 103   1 108   1  74   1   4\n",
      "   3 169   1   1   1  80  45   1   1   1   1  51   1 161   1  47 154   5\n",
      "   1   1   1   1   1  76   1   2 156  91 134   1   1 127   1   1   1  95\n",
      "  49  83   1  99   1  78 111   1   1  31  48   1  46  27   1 147   1   1\n",
      "   8   1   1 158   1   1  34 150  65   1   1 100  25 142   1   1 162 163\n",
      " 145   1   9  86   1  70  20 120  35  28  98  67 166   1 116  21 135   1\n",
      "   1   1  29   1   1   1   1   1  14 119 152   1  42   1   1   1   1   1\n",
      " 165 130  26 107   1   1   1   1  53 117   1   1 144   1  19  57  81 167\n",
      "   1   1   1   1   1  30   1  96  66 143   1  79  97   1   1  24 129 102\n",
      "  10 105 159   1  60 106   1 109   1 149  92  18   1   1   1   1 141 124\n",
      "   1   1  69   1   1   1   1   1  75  72   1   1 118  41 112  58  55   1\n",
      "   1  22 115 153 139 122  56   1 104  54   1   1   1   1   1   1 136   1\n",
      "  62  12  11  59   1  71   1   1   1 114  64   1 157   1   1   1   1  90\n",
      "   1   1  43   1  77   1 140  37  23  63   1 138   1 137   1   1   1   1\n",
      "   1   1  17   1   1  13   1   1   1 168 155   1  68  88  93 151   1  44\n",
      "   1 128   1  87   1   1  61   1   1  40   1   1   1 121   1 101  84  52\n",
      " 148   1   1  89 131   1  36   1   1   1   1  73]\n"
     ]
    },
    {
     "data": {
      "application/javascript": [
       "\n",
       "            setTimeout(function() {\n",
       "                var nbb_cell_id = 152;\n",
       "                var nbb_unformatted_code = \"# Generates RFE model\\nrfe = RFE(logreg)\\n# Fits the model\\nrfe = rfe.fit(X, y)\\n# Returns bool arr of True for features_selected\\nmask = rfe.support_\\n# Rank of 1 indicates features selected\\nprint(rfe.ranking_)\";\n",
       "                var nbb_formatted_code = \"# Generates RFE model\\nrfe = RFE(logreg)\\n# Fits the model\\nrfe = rfe.fit(X, y)\\n# Returns bool arr of True for features_selected\\nmask = rfe.support_\\n# Rank of 1 indicates features selected\\nprint(rfe.ranking_)\";\n",
       "                var nbb_cells = Jupyter.notebook.get_cells();\n",
       "                for (var i = 0; i < nbb_cells.length; ++i) {\n",
       "                    if (nbb_cells[i].input_prompt_number == nbb_cell_id) {\n",
       "                        if (nbb_cells[i].get_text() == nbb_unformatted_code) {\n",
       "                             nbb_cells[i].set_text(nbb_formatted_code);\n",
       "                        }\n",
       "                        break;\n",
       "                    }\n",
       "                }\n",
       "            }, 500);\n",
       "            "
      ],
      "text/plain": [
       "<IPython.core.display.Javascript object>"
      ]
     },
     "metadata": {},
     "output_type": "display_data"
    }
   ],
   "source": [
    "# Generates RFE model\n",
    "rfe = RFE(logreg)\n",
    "# Fits the model\n",
    "rfe = rfe.fit(X, y)\n",
    "# Returns bool arr of True for features_selected\n",
    "mask = rfe.support_\n",
    "# Rank of 1 indicates features selected\n",
    "print(rfe.ranking_)"
   ]
  },
  {
   "cell_type": "code",
   "execution_count": 153,
   "metadata": {},
   "outputs": [
    {
     "data": {
      "application/javascript": [
       "\n",
       "            setTimeout(function() {\n",
       "                var nbb_cell_id = 153;\n",
       "                var nbb_unformatted_code = \"# Masking for Selected Features returned by RFE\\nselected_cols = xSkillsCols.columns[mask]\";\n",
       "                var nbb_formatted_code = \"# Masking for Selected Features returned by RFE\\nselected_cols = xSkillsCols.columns[mask]\";\n",
       "                var nbb_cells = Jupyter.notebook.get_cells();\n",
       "                for (var i = 0; i < nbb_cells.length; ++i) {\n",
       "                    if (nbb_cells[i].input_prompt_number == nbb_cell_id) {\n",
       "                        if (nbb_cells[i].get_text() == nbb_unformatted_code) {\n",
       "                             nbb_cells[i].set_text(nbb_formatted_code);\n",
       "                        }\n",
       "                        break;\n",
       "                    }\n",
       "                }\n",
       "            }, 500);\n",
       "            "
      ],
      "text/plain": [
       "<IPython.core.display.Javascript object>"
      ]
     },
     "metadata": {},
     "output_type": "display_data"
    }
   ],
   "source": [
    "# Masking for Selected Features returned by RFE\n",
    "selected_cols = xSkillsCols.columns[mask]"
   ]
  },
  {
   "cell_type": "code",
   "execution_count": 154,
   "metadata": {},
   "outputs": [
    {
     "data": {
      "image/png": "[encoded data removed]",
      "text/plain": [
       "<Figure size 1296x2448 with 1 Axes>"
      ]
     },
     "metadata": {},
     "output_type": "display_data"
    },
    {
     "data": {
      "text/plain": [
       "<Figure size 576x1728 with 0 Axes>"
      ]
     },
     "metadata": {},
     "output_type": "display_data"
    },
    {
     "data": {
      "application/javascript": [
       "\n",
       "            setTimeout(function() {\n",
       "                var nbb_cell_id = 154;\n",
       "                var nbb_unformatted_code = \"# Display Features Selected\\nfeatures = selected_cols\\ny_axis = np.arange(0, len(selected_cols))\\n\\nfig, ax = plt.subplots()\\nwidth = 0.8  # width of the bars\\nind = np.arange(len(y_axis))  # x locations for the groups\\nax.barh(ind, y_axis, width, color=\\\"palevioletred\\\")\\nax.set_yticks(ind + width / 10)\\nax.set_yticklabels(features, fontsize=12, rotation=0, minor=False)\\nplt.title(\\\"Rank of Feature Importance with Logistic Regression Classifier\\\", fontsize=24)\\nplt.xlabel(\\\"Relative importance\\\", fontsize=18)\\nplt.ylabel(\\\"Feature\\\", fontsize=18)\\nplt.figure(figsize=(8, 24))\\nfig.set_size_inches(18, 34, forward=True)\";\n",
       "                var nbb_formatted_code = \"# Display Features Selected\\nfeatures = selected_cols\\ny_axis = np.arange(0, len(selected_cols))\\n\\nfig, ax = plt.subplots()\\nwidth = 0.8  # width of the bars\\nind = np.arange(len(y_axis))  # x locations for the groups\\nax.barh(ind, y_axis, width, color=\\\"palevioletred\\\")\\nax.set_yticks(ind + width / 10)\\nax.set_yticklabels(features, fontsize=12, rotation=0, minor=False)\\nplt.title(\\\"Rank of Feature Importance with Logistic Regression Classifier\\\", fontsize=24)\\nplt.xlabel(\\\"Relative importance\\\", fontsize=18)\\nplt.ylabel(\\\"Feature\\\", fontsize=18)\\nplt.figure(figsize=(8, 24))\\nfig.set_size_inches(18, 34, forward=True)\";\n",
       "                var nbb_cells = Jupyter.notebook.get_cells();\n",
       "                for (var i = 0; i < nbb_cells.length; ++i) {\n",
       "                    if (nbb_cells[i].input_prompt_number == nbb_cell_id) {\n",
       "                        if (nbb_cells[i].get_text() == nbb_unformatted_code) {\n",
       "                             nbb_cells[i].set_text(nbb_formatted_code);\n",
       "                        }\n",
       "                        break;\n",
       "                    }\n",
       "                }\n",
       "            }, 500);\n",
       "            "
      ],
      "text/plain": [
       "<IPython.core.display.Javascript object>"
      ]
     },
     "metadata": {},
     "output_type": "display_data"
    }
   ],
   "source": [
    "# Display Features Selected\n",
    "features = selected_cols\n",
    "y_axis = np.arange(0, len(selected_cols))\n",
    "\n",
    "fig, ax = plt.subplots()\n",
    "width = 0.8  # width of the bars\n",
    "ind = np.arange(len(y_axis))  # x locations for the groups\n",
    "ax.barh(ind, y_axis, width, color=\"palevioletred\")\n",
    "ax.set_yticks(ind + width / 10)\n",
    "ax.set_yticklabels(features, fontsize=12, rotation=0, minor=False)\n",
    "plt.title(\"Rank of Feature Importance with Logistic Regression Classifier\", fontsize=24)\n",
    "plt.xlabel(\"Relative importance\", fontsize=18)\n",
    "plt.ylabel(\"Feature\", fontsize=18)\n",
    "plt.figure(figsize=(8, 24))\n",
    "fig.set_size_inches(18, 34, forward=True)"
   ]
  },
  {
   "cell_type": "markdown",
   "metadata": {},
   "source": [
    "# We'll now re-test our algorithm to understand whether applying RFE to our dataset improved algorithm performance"
   ]
  },
  {
   "cell_type": "code",
   "execution_count": 155,
   "metadata": {},
   "outputs": [
    {
     "data": {
      "application/javascript": [
       "\n",
       "            setTimeout(function() {\n",
       "                var nbb_cell_id = 155;\n",
       "                var nbb_unformatted_code = \"# Assigning newly reduced data to X\\nX = four_profiles_Pandas[selected_cols]\";\n",
       "                var nbb_formatted_code = \"# Assigning newly reduced data to X\\nX = four_profiles_Pandas[selected_cols]\";\n",
       "                var nbb_cells = Jupyter.notebook.get_cells();\n",
       "                for (var i = 0; i < nbb_cells.length; ++i) {\n",
       "                    if (nbb_cells[i].input_prompt_number == nbb_cell_id) {\n",
       "                        if (nbb_cells[i].get_text() == nbb_unformatted_code) {\n",
       "                             nbb_cells[i].set_text(nbb_formatted_code);\n",
       "                        }\n",
       "                        break;\n",
       "                    }\n",
       "                }\n",
       "            }, 500);\n",
       "            "
      ],
      "text/plain": [
       "<IPython.core.display.Javascript object>"
      ]
     },
     "metadata": {},
     "output_type": "display_data"
    }
   ],
   "source": [
    "# Assigning newly reduced data to X\n",
    "X = four_profiles_Pandas[selected_cols]"
   ]
  },
  {
   "cell_type": "code",
   "execution_count": 156,
   "metadata": {},
   "outputs": [
    {
     "data": {
      "application/javascript": [
       "\n",
       "            setTimeout(function() {\n",
       "                var nbb_cell_id = 156;\n",
       "                var nbb_unformatted_code = \"# Again, splitting to training and testing sets\\nX_train, X_test, y_train, y_test = tts(X, y, test_size=0.3, random_state=0)\";\n",
       "                var nbb_formatted_code = \"# Again, splitting to training and testing sets\\nX_train, X_test, y_train, y_test = tts(X, y, test_size=0.3, random_state=0)\";\n",
       "                var nbb_cells = Jupyter.notebook.get_cells();\n",
       "                for (var i = 0; i < nbb_cells.length; ++i) {\n",
       "                    if (nbb_cells[i].input_prompt_number == nbb_cell_id) {\n",
       "                        if (nbb_cells[i].get_text() == nbb_unformatted_code) {\n",
       "                             nbb_cells[i].set_text(nbb_formatted_code);\n",
       "                        }\n",
       "                        break;\n",
       "                    }\n",
       "                }\n",
       "            }, 500);\n",
       "            "
      ],
      "text/plain": [
       "<IPython.core.display.Javascript object>"
      ]
     },
     "metadata": {},
     "output_type": "display_data"
    }
   ],
   "source": [
    "# Again, splitting to training and testing sets\n",
    "X_train, X_test, y_train, y_test = tts(X, y, test_size=0.3, random_state=0)"
   ]
  },
  {
   "cell_type": "code",
   "execution_count": 157,
   "metadata": {},
   "outputs": [
    {
     "data": {
      "text/plain": [
       "LogisticRegression()"
      ]
     },
     "execution_count": 157,
     "metadata": {},
     "output_type": "execute_result"
    },
    {
     "data": {
      "application/javascript": [
       "\n",
       "            setTimeout(function() {\n",
       "                var nbb_cell_id = 157;\n",
       "                var nbb_unformatted_code = \"# Generate sklearn LogisticRegression model\\nlogreg = LogisticRegression()\\nlogreg.fit(X_train, y_train)\";\n",
       "                var nbb_formatted_code = \"# Generate sklearn LogisticRegression model\\nlogreg = LogisticRegression()\\nlogreg.fit(X_train, y_train)\";\n",
       "                var nbb_cells = Jupyter.notebook.get_cells();\n",
       "                for (var i = 0; i < nbb_cells.length; ++i) {\n",
       "                    if (nbb_cells[i].input_prompt_number == nbb_cell_id) {\n",
       "                        if (nbb_cells[i].get_text() == nbb_unformatted_code) {\n",
       "                             nbb_cells[i].set_text(nbb_formatted_code);\n",
       "                        }\n",
       "                        break;\n",
       "                    }\n",
       "                }\n",
       "            }, 500);\n",
       "            "
      ],
      "text/plain": [
       "<IPython.core.display.Javascript object>"
      ]
     },
     "metadata": {},
     "output_type": "display_data"
    }
   ],
   "source": [
    "# Generate sklearn LogisticRegression model\n",
    "logreg = LogisticRegression()\n",
    "logreg.fit(X_train, y_train)"
   ]
  },
  {
   "cell_type": "code",
   "execution_count": 158,
   "metadata": {},
   "outputs": [
    {
     "name": "stdout",
     "output_type": "stream",
     "text": [
      "The ROC_AUC score of the logistic regression classifier on the test set: 0.903\n"
     ]
    },
    {
     "data": {
      "application/javascript": [
       "\n",
       "            setTimeout(function() {\n",
       "                var nbb_cell_id = 158;\n",
       "                var nbb_unformatted_code = \"# Scoring the algorithm's performance using the newly reduced dataset\\ny_pred = logreg.predict(X_test)\\nprint(\\n    \\\"The ROC_AUC score of the logistic regression classifier on the test set: {:.3f}\\\".format(\\n        np.mean(cross_val_score(logreg, X_test, y_test, scoring=\\\"roc_auc\\\", cv=10))\\n    )\\n)\";\n",
       "                var nbb_formatted_code = \"# Scoring the algorithm's performance using the newly reduced dataset\\ny_pred = logreg.predict(X_test)\\nprint(\\n    \\\"The ROC_AUC score of the logistic regression classifier on the test set: {:.3f}\\\".format(\\n        np.mean(cross_val_score(logreg, X_test, y_test, scoring=\\\"roc_auc\\\", cv=10))\\n    )\\n)\";\n",
       "                var nbb_cells = Jupyter.notebook.get_cells();\n",
       "                for (var i = 0; i < nbb_cells.length; ++i) {\n",
       "                    if (nbb_cells[i].input_prompt_number == nbb_cell_id) {\n",
       "                        if (nbb_cells[i].get_text() == nbb_unformatted_code) {\n",
       "                             nbb_cells[i].set_text(nbb_formatted_code);\n",
       "                        }\n",
       "                        break;\n",
       "                    }\n",
       "                }\n",
       "            }, 500);\n",
       "            "
      ],
      "text/plain": [
       "<IPython.core.display.Javascript object>"
      ]
     },
     "metadata": {},
     "output_type": "display_data"
    }
   ],
   "source": [
    "# Scoring the algorithm's performance using the newly reduced dataset\n",
    "y_pred = logreg.predict(X_test)\n",
    "print(\n",
    "    \"The ROC_AUC score of the logistic regression classifier on the test set: {:.3f}\".format(\n",
    "        np.mean(cross_val_score(logreg, X_test, y_test, scoring=\"roc_auc\", cv=10))\n",
    "    )\n",
    ")"
   ]
  },
  {
   "cell_type": "markdown",
   "metadata": {},
   "source": [
    "## Interpreting the Results: It appears that eliminating those features of least importance to predicting the target class did improve algorithm performance. Model now predicts 92% accuracy earlier when it made predictions with 89% accuracy."
   ]
  },
  {
   "cell_type": "markdown",
   "metadata": {},
   "source": [
    "# Implementing Logistic Regression with PySpark\n",
    "Data will first be read from Pandas DataFrame to Spark DataFrame."
   ]
  },
  {
   "cell_type": "code",
   "execution_count": 159,
   "metadata": {},
   "outputs": [
    {
     "data": {
      "application/javascript": [
       "\n",
       "            setTimeout(function() {\n",
       "                var nbb_cell_id = 159;\n",
       "                var nbb_unformatted_code = \"# Set up PySpark\\nconf = SparkConf()\\nconf.setMaster(\\\"local\\\")\\nconf.setAppName(\\\"AppName\\\")\\nsqlCtx = SQLContext(sc)\";\n",
       "                var nbb_formatted_code = \"# Set up PySpark\\nconf = SparkConf()\\nconf.setMaster(\\\"local\\\")\\nconf.setAppName(\\\"AppName\\\")\\nsqlCtx = SQLContext(sc)\";\n",
       "                var nbb_cells = Jupyter.notebook.get_cells();\n",
       "                for (var i = 0; i < nbb_cells.length; ++i) {\n",
       "                    if (nbb_cells[i].input_prompt_number == nbb_cell_id) {\n",
       "                        if (nbb_cells[i].get_text() == nbb_unformatted_code) {\n",
       "                             nbb_cells[i].set_text(nbb_formatted_code);\n",
       "                        }\n",
       "                        break;\n",
       "                    }\n",
       "                }\n",
       "            }, 500);\n",
       "            "
      ],
      "text/plain": [
       "<IPython.core.display.Javascript object>"
      ]
     },
     "metadata": {},
     "output_type": "display_data"
    }
   ],
   "source": [
    "# Set up PySpark\n",
    "conf = SparkConf()\n",
    "conf.setMaster(\"local\")\n",
    "conf.setAppName(\"AppName\")\n",
    "sqlCtx = SQLContext(sc)"
   ]
  },
  {
   "cell_type": "code",
   "execution_count": 160,
   "metadata": {},
   "outputs": [
    {
     "data": {
      "application/javascript": [
       "\n",
       "            setTimeout(function() {\n",
       "                var nbb_cell_id = 160;\n",
       "                var nbb_unformatted_code = \"# Create Spark DataFrame (sdf)\\nsdf = sqlCtx.createDataFrame(four_profiles_Pandas)\";\n",
       "                var nbb_formatted_code = \"# Create Spark DataFrame (sdf)\\nsdf = sqlCtx.createDataFrame(four_profiles_Pandas)\";\n",
       "                var nbb_cells = Jupyter.notebook.get_cells();\n",
       "                for (var i = 0; i < nbb_cells.length; ++i) {\n",
       "                    if (nbb_cells[i].input_prompt_number == nbb_cell_id) {\n",
       "                        if (nbb_cells[i].get_text() == nbb_unformatted_code) {\n",
       "                             nbb_cells[i].set_text(nbb_formatted_code);\n",
       "                        }\n",
       "                        break;\n",
       "                    }\n",
       "                }\n",
       "            }, 500);\n",
       "            "
      ],
      "text/plain": [
       "<IPython.core.display.Javascript object>"
      ]
     },
     "metadata": {},
     "output_type": "display_data"
    }
   ],
   "source": [
    "# Create Spark DataFrame (sdf)\n",
    "sdf = sqlCtx.createDataFrame(four_profiles_Pandas)"
   ]
  },
  {
   "cell_type": "code",
   "execution_count": 161,
   "metadata": {},
   "outputs": [
    {
     "data": {
      "text/plain": [
       "False"
      ]
     },
     "execution_count": 161,
     "metadata": {},
     "output_type": "execute_result"
    },
    {
     "data": {
      "application/javascript": [
       "\n",
       "            setTimeout(function() {\n",
       "                var nbb_cell_id = 161;\n",
       "                var nbb_unformatted_code = \"# Test to ensure only skills lie on the sdf's columns -- should return False\\n\\\"profile\\\" in selected_cols\";\n",
       "                var nbb_formatted_code = \"# Test to ensure only skills lie on the sdf's columns -- should return False\\n\\\"profile\\\" in selected_cols\";\n",
       "                var nbb_cells = Jupyter.notebook.get_cells();\n",
       "                for (var i = 0; i < nbb_cells.length; ++i) {\n",
       "                    if (nbb_cells[i].input_prompt_number == nbb_cell_id) {\n",
       "                        if (nbb_cells[i].get_text() == nbb_unformatted_code) {\n",
       "                             nbb_cells[i].set_text(nbb_formatted_code);\n",
       "                        }\n",
       "                        break;\n",
       "                    }\n",
       "                }\n",
       "            }, 500);\n",
       "            "
      ],
      "text/plain": [
       "<IPython.core.display.Javascript object>"
      ]
     },
     "metadata": {},
     "output_type": "display_data"
    }
   ],
   "source": [
    "# Test to ensure only skills lie on the sdf's columns -- should return False\n",
    "\"profile\" in selected_cols"
   ]
  },
  {
   "cell_type": "code",
   "execution_count": 162,
   "metadata": {},
   "outputs": [
    {
     "data": {
      "application/javascript": [
       "\n",
       "            setTimeout(function() {\n",
       "                var nbb_cell_id = 162;\n",
       "                var nbb_unformatted_code = \"# Build a Dict to Map: (orginal column name: new column name)\\nmapping = {col: col.replace(\\\".\\\", \\\"_\\\").replace(\\\" \\\", \\\"_\\\") for col in selected_cols}\";\n",
       "                var nbb_formatted_code = \"# Build a Dict to Map: (orginal column name: new column name)\\nmapping = {col: col.replace(\\\".\\\", \\\"_\\\").replace(\\\" \\\", \\\"_\\\") for col in selected_cols}\";\n",
       "                var nbb_cells = Jupyter.notebook.get_cells();\n",
       "                for (var i = 0; i < nbb_cells.length; ++i) {\n",
       "                    if (nbb_cells[i].input_prompt_number == nbb_cell_id) {\n",
       "                        if (nbb_cells[i].get_text() == nbb_unformatted_code) {\n",
       "                             nbb_cells[i].set_text(nbb_formatted_code);\n",
       "                        }\n",
       "                        break;\n",
       "                    }\n",
       "                }\n",
       "            }, 500);\n",
       "            "
      ],
      "text/plain": [
       "<IPython.core.display.Javascript object>"
      ]
     },
     "metadata": {},
     "output_type": "display_data"
    }
   ],
   "source": [
    "# Build a Dict to Map: (orginal column name: new column name)\n",
    "mapping = {col: col.replace(\".\", \"_\").replace(\" \", \"_\") for col in selected_cols}"
   ]
  },
  {
   "cell_type": "code",
   "execution_count": 163,
   "metadata": {},
   "outputs": [
    {
     "data": {
      "text/plain": [
       "168"
      ]
     },
     "execution_count": 163,
     "metadata": {},
     "output_type": "execute_result"
    },
    {
     "data": {
      "application/javascript": [
       "\n",
       "            setTimeout(function() {\n",
       "                var nbb_cell_id = 163;\n",
       "                var nbb_unformatted_code = \"# Test to ensure number of cols in mapping = number of skills in Pandas DataFrame -- should = 168\\nlen(mapping.values())\";\n",
       "                var nbb_formatted_code = \"# Test to ensure number of cols in mapping = number of skills in Pandas DataFrame -- should = 168\\nlen(mapping.values())\";\n",
       "                var nbb_cells = Jupyter.notebook.get_cells();\n",
       "                for (var i = 0; i < nbb_cells.length; ++i) {\n",
       "                    if (nbb_cells[i].input_prompt_number == nbb_cell_id) {\n",
       "                        if (nbb_cells[i].get_text() == nbb_unformatted_code) {\n",
       "                             nbb_cells[i].set_text(nbb_formatted_code);\n",
       "                        }\n",
       "                        break;\n",
       "                    }\n",
       "                }\n",
       "            }, 500);\n",
       "            "
      ],
      "text/plain": [
       "<IPython.core.display.Javascript object>"
      ]
     },
     "metadata": {},
     "output_type": "display_data"
    }
   ],
   "source": [
    "# Test to ensure number of cols in mapping = number of skills in Pandas DataFrame -- should = 168\n",
    "len(mapping.values())"
   ]
  },
  {
   "cell_type": "code",
   "execution_count": 164,
   "metadata": {},
   "outputs": [
    {
     "data": {
      "application/javascript": [
       "\n",
       "            setTimeout(function() {\n",
       "                var nbb_cell_id = 164;\n",
       "                var nbb_unformatted_code = \"# Select all columns and create an alias if there is a mapping for this column\\ndf_renamed = sdf.select(\\n    [F.col(\\\"`\\\" + c + \\\"`\\\").alias(mapping.get(c, c)) for c in sdf.columns]\\n)\";\n",
       "                var nbb_formatted_code = \"# Select all columns and create an alias if there is a mapping for this column\\ndf_renamed = sdf.select(\\n    [F.col(\\\"`\\\" + c + \\\"`\\\").alias(mapping.get(c, c)) for c in sdf.columns]\\n)\";\n",
       "                var nbb_cells = Jupyter.notebook.get_cells();\n",
       "                for (var i = 0; i < nbb_cells.length; ++i) {\n",
       "                    if (nbb_cells[i].input_prompt_number == nbb_cell_id) {\n",
       "                        if (nbb_cells[i].get_text() == nbb_unformatted_code) {\n",
       "                             nbb_cells[i].set_text(nbb_formatted_code);\n",
       "                        }\n",
       "                        break;\n",
       "                    }\n",
       "                }\n",
       "            }, 500);\n",
       "            "
      ],
      "text/plain": [
       "<IPython.core.display.Javascript object>"
      ]
     },
     "metadata": {},
     "output_type": "display_data"
    }
   ],
   "source": [
    "# Select all columns and create an alias if there is a mapping for this column\n",
    "df_renamed = sdf.select(\n",
    "    [F.col(\"`\" + c + \"`\").alias(mapping.get(c, c)) for c in sdf.columns]\n",
    ")"
   ]
  },
  {
   "cell_type": "code",
   "execution_count": 165,
   "metadata": {},
   "outputs": [
    {
     "data": {
      "application/javascript": [
       "\n",
       "            setTimeout(function() {\n",
       "                var nbb_cell_id = 165;\n",
       "                var nbb_unformatted_code = \"# Create a VectorAssembler obj that takes the renamed columns as input\\nassembler = VectorAssembler(inputCols=list(mapping.values()), outputCol=\\\"features\\\")\\ntransformed_data = assembler.transform(df_renamed)\";\n",
       "                var nbb_formatted_code = \"# Create a VectorAssembler obj that takes the renamed columns as input\\nassembler = VectorAssembler(inputCols=list(mapping.values()), outputCol=\\\"features\\\")\\ntransformed_data = assembler.transform(df_renamed)\";\n",
       "                var nbb_cells = Jupyter.notebook.get_cells();\n",
       "                for (var i = 0; i < nbb_cells.length; ++i) {\n",
       "                    if (nbb_cells[i].input_prompt_number == nbb_cell_id) {\n",
       "                        if (nbb_cells[i].get_text() == nbb_unformatted_code) {\n",
       "                             nbb_cells[i].set_text(nbb_formatted_code);\n",
       "                        }\n",
       "                        break;\n",
       "                    }\n",
       "                }\n",
       "            }, 500);\n",
       "            "
      ],
      "text/plain": [
       "<IPython.core.display.Javascript object>"
      ]
     },
     "metadata": {},
     "output_type": "display_data"
    }
   ],
   "source": [
    "# Create a VectorAssembler obj that takes the renamed columns as input\n",
    "assembler = VectorAssembler(inputCols=list(mapping.values()), outputCol=\"features\")\n",
    "transformed_data = assembler.transform(df_renamed)"
   ]
  },
  {
   "cell_type": "code",
   "execution_count": 166,
   "metadata": {},
   "outputs": [
    {
     "data": {
      "application/javascript": [
       "\n",
       "            setTimeout(function() {\n",
       "                var nbb_cell_id = 166;\n",
       "                var nbb_unformatted_code = \"# Rename the Fullstack column to label\\ndata = transformed_data.withColumnRenamed(\\\"fullstack\\\", \\\"label\\\")\";\n",
       "                var nbb_formatted_code = \"# Rename the Fullstack column to label\\ndata = transformed_data.withColumnRenamed(\\\"fullstack\\\", \\\"label\\\")\";\n",
       "                var nbb_cells = Jupyter.notebook.get_cells();\n",
       "                for (var i = 0; i < nbb_cells.length; ++i) {\n",
       "                    if (nbb_cells[i].input_prompt_number == nbb_cell_id) {\n",
       "                        if (nbb_cells[i].get_text() == nbb_unformatted_code) {\n",
       "                             nbb_cells[i].set_text(nbb_formatted_code);\n",
       "                        }\n",
       "                        break;\n",
       "                    }\n",
       "                }\n",
       "            }, 500);\n",
       "            "
      ],
      "text/plain": [
       "<IPython.core.display.Javascript object>"
      ]
     },
     "metadata": {},
     "output_type": "display_data"
    }
   ],
   "source": [
    "# Rename the Fullstack column to label\n",
    "data = transformed_data.withColumnRenamed(\"fullstack\", \"label\")"
   ]
  },
  {
   "cell_type": "markdown",
   "metadata": {},
   "source": [
    "# Handling class imbalance using PySpark\n",
    "1) Dataset contains 36.04 % negatives and 63.96 % positives. Because positives make up the majority of the dataset, the logistic loss objective function should treat the negative class (Outcome == 0) with higher weight. Therefore, the BalancingRatio is calculated as follows:"
   ]
  },
  {
   "cell_type": "code",
   "execution_count": 167,
   "metadata": {},
   "outputs": [
    {
     "name": "stdout",
     "output_type": "stream",
     "text": [
      "BalancingRatio = 0.318\n"
     ]
    },
    {
     "data": {
      "application/javascript": [
       "\n",
       "            setTimeout(function() {\n",
       "                var nbb_cell_id = 167;\n",
       "                var nbb_unformatted_code = \"numPositives = 92\\ndataset_size = 289\\nBalancingRatio = numPositives / dataset_size\\nprint(\\\"BalancingRatio = {:.3f}\\\".format(BalancingRatio))\";\n",
       "                var nbb_formatted_code = \"numPositives = 92\\ndataset_size = 289\\nBalancingRatio = numPositives / dataset_size\\nprint(\\\"BalancingRatio = {:.3f}\\\".format(BalancingRatio))\";\n",
       "                var nbb_cells = Jupyter.notebook.get_cells();\n",
       "                for (var i = 0; i < nbb_cells.length; ++i) {\n",
       "                    if (nbb_cells[i].input_prompt_number == nbb_cell_id) {\n",
       "                        if (nbb_cells[i].get_text() == nbb_unformatted_code) {\n",
       "                             nbb_cells[i].set_text(nbb_formatted_code);\n",
       "                        }\n",
       "                        break;\n",
       "                    }\n",
       "                }\n",
       "            }, 500);\n",
       "            "
      ],
      "text/plain": [
       "<IPython.core.display.Javascript object>"
      ]
     },
     "metadata": {},
     "output_type": "display_data"
    }
   ],
   "source": [
    "numPositives = 92\n",
    "dataset_size = 289\n",
    "BalancingRatio = numPositives / dataset_size\n",
    "print(\"BalancingRatio = {:.3f}\".format(BalancingRatio))"
   ]
  },
  {
   "cell_type": "markdown",
   "metadata": {},
   "source": [
    "Against every Outcome == 0, BalancingRatio is applied to column “classWeights”.\n",
    "<br>\n",
    "Against every Outcome == 1, 1-BalancingRatio is applied to column “classWeights”."
   ]
  },
  {
   "cell_type": "code",
   "execution_count": 168,
   "metadata": {},
   "outputs": [
    {
     "data": {
      "application/javascript": [
       "\n",
       "            setTimeout(function() {\n",
       "                var nbb_cell_id = 168;\n",
       "                var nbb_unformatted_code = \"data = data.withColumn(\\n    \\\"classWeights\\\",\\n    F.when(data.label == 0, BalancingRatio).otherwise(1 - BalancingRatio),\\n)\";\n",
       "                var nbb_formatted_code = \"data = data.withColumn(\\n    \\\"classWeights\\\",\\n    F.when(data.label == 0, BalancingRatio).otherwise(1 - BalancingRatio),\\n)\";\n",
       "                var nbb_cells = Jupyter.notebook.get_cells();\n",
       "                for (var i = 0; i < nbb_cells.length; ++i) {\n",
       "                    if (nbb_cells[i].input_prompt_number == nbb_cell_id) {\n",
       "                        if (nbb_cells[i].get_text() == nbb_unformatted_code) {\n",
       "                             nbb_cells[i].set_text(nbb_formatted_code);\n",
       "                        }\n",
       "                        break;\n",
       "                    }\n",
       "                }\n",
       "            }, 500);\n",
       "            "
      ],
      "text/plain": [
       "<IPython.core.display.Javascript object>"
      ]
     },
     "metadata": {},
     "output_type": "display_data"
    }
   ],
   "source": [
    "data = data.withColumn(\n",
    "    \"classWeights\",\n",
    "    F.when(data.label == 0, BalancingRatio).otherwise(1 - BalancingRatio),\n",
    ")"
   ]
  },
  {
   "cell_type": "code",
   "execution_count": 169,
   "metadata": {},
   "outputs": [
    {
     "data": {
      "application/javascript": [
       "\n",
       "            setTimeout(function() {\n",
       "                var nbb_cell_id = 169;\n",
       "                var nbb_unformatted_code = \"# Split to training and testing sets\\n(train, test) = data.randomSplit([0.7, 0.3])\";\n",
       "                var nbb_formatted_code = \"# Split to training and testing sets\\n(train, test) = data.randomSplit([0.7, 0.3])\";\n",
       "                var nbb_cells = Jupyter.notebook.get_cells();\n",
       "                for (var i = 0; i < nbb_cells.length; ++i) {\n",
       "                    if (nbb_cells[i].input_prompt_number == nbb_cell_id) {\n",
       "                        if (nbb_cells[i].get_text() == nbb_unformatted_code) {\n",
       "                             nbb_cells[i].set_text(nbb_formatted_code);\n",
       "                        }\n",
       "                        break;\n",
       "                    }\n",
       "                }\n",
       "            }, 500);\n",
       "            "
      ],
      "text/plain": [
       "<IPython.core.display.Javascript object>"
      ]
     },
     "metadata": {},
     "output_type": "display_data"
    }
   ],
   "source": [
    "# Split to training and testing sets\n",
    "(train, test) = data.randomSplit([0.7, 0.3])"
   ]
  },
  {
   "cell_type": "markdown",
   "metadata": {},
   "source": [
    "# We'll now re-test our algorithm to understand whether applying methods to correct for Class Imbalance further improved algorithm performance"
   ]
  },
  {
   "cell_type": "code",
   "execution_count": 170,
   "metadata": {},
   "outputs": [
    {
     "data": {
      "application/javascript": [
       "\n",
       "            setTimeout(function() {\n",
       "                var nbb_cell_id = 170;\n",
       "                var nbb_unformatted_code = \"from pyspark.ml.classification import LogisticRegression\\n\\n# Create Logistic Regression PySpark Model\\nlr = LogisticRegression(\\n    featuresCol=\\\"features\\\", labelCol=\\\"label\\\", weightCol=\\\"classWeights\\\", maxIter=100\\n)\\nlrModel = lr.fit(train)\\ntrainingSummary = lrModel.summary\";\n",
       "                var nbb_formatted_code = \"from pyspark.ml.classification import LogisticRegression\\n\\n# Create Logistic Regression PySpark Model\\nlr = LogisticRegression(\\n    featuresCol=\\\"features\\\", labelCol=\\\"label\\\", weightCol=\\\"classWeights\\\", maxIter=100\\n)\\nlrModel = lr.fit(train)\\ntrainingSummary = lrModel.summary\";\n",
       "                var nbb_cells = Jupyter.notebook.get_cells();\n",
       "                for (var i = 0; i < nbb_cells.length; ++i) {\n",
       "                    if (nbb_cells[i].input_prompt_number == nbb_cell_id) {\n",
       "                        if (nbb_cells[i].get_text() == nbb_unformatted_code) {\n",
       "                             nbb_cells[i].set_text(nbb_formatted_code);\n",
       "                        }\n",
       "                        break;\n",
       "                    }\n",
       "                }\n",
       "            }, 500);\n",
       "            "
      ],
      "text/plain": [
       "<IPython.core.display.Javascript object>"
      ]
     },
     "metadata": {},
     "output_type": "display_data"
    }
   ],
   "source": [
    "from pyspark.ml.classification import LogisticRegression\n",
    "\n",
    "# Create Logistic Regression PySpark Model\n",
    "lr = LogisticRegression(\n",
    "    featuresCol=\"features\", labelCol=\"label\", weightCol=\"classWeights\", maxIter=100\n",
    ")\n",
    "lrModel = lr.fit(train)\n",
    "trainingSummary = lrModel.summary"
   ]
  },
  {
   "cell_type": "code",
   "execution_count": 171,
   "metadata": {},
   "outputs": [
    {
     "name": "stdout",
     "output_type": "stream",
     "text": [
      "+-----+----------+\n",
      "|label|prediction|\n",
      "+-----+----------+\n",
      "|    0|       0.0|\n",
      "|    0|       0.0|\n",
      "|    0|       0.0|\n",
      "|    0|       0.0|\n",
      "|    1|       0.0|\n",
      "|    1|       0.0|\n",
      "|    1|       1.0|\n",
      "|    1|       1.0|\n",
      "|    1|       1.0|\n",
      "|    0|       0.0|\n",
      "+-----+----------+\n",
      "only showing top 10 rows\n",
      "\n"
     ]
    },
    {
     "data": {
      "application/javascript": [
       "\n",
       "            setTimeout(function() {\n",
       "                var nbb_cell_id = 171;\n",
       "                var nbb_unformatted_code = \"# Generate Presdictions\\nlr_predictions = lrModel.transform(test)\\nlr_predictions.select(\\\"label\\\", \\\"prediction\\\").show(10)\";\n",
       "                var nbb_formatted_code = \"# Generate Presdictions\\nlr_predictions = lrModel.transform(test)\\nlr_predictions.select(\\\"label\\\", \\\"prediction\\\").show(10)\";\n",
       "                var nbb_cells = Jupyter.notebook.get_cells();\n",
       "                for (var i = 0; i < nbb_cells.length; ++i) {\n",
       "                    if (nbb_cells[i].input_prompt_number == nbb_cell_id) {\n",
       "                        if (nbb_cells[i].get_text() == nbb_unformatted_code) {\n",
       "                             nbb_cells[i].set_text(nbb_formatted_code);\n",
       "                        }\n",
       "                        break;\n",
       "                    }\n",
       "                }\n",
       "            }, 500);\n",
       "            "
      ],
      "text/plain": [
       "<IPython.core.display.Javascript object>"
      ]
     },
     "metadata": {},
     "output_type": "display_data"
    }
   ],
   "source": [
    "# Generate Presdictions\n",
    "lr_predictions = lrModel.transform(test)\n",
    "lr_predictions.select(\"label\", \"prediction\").show(10)"
   ]
  },
  {
   "cell_type": "markdown",
   "metadata": {},
   "source": [
    "# The ROC Curve\n",
    "### Plots the relationship between TPR (on the y-axis), against the FPR, on the x-axis\n",
    "Sensitivity & Specificity are inversely proportional to each other, and are calculated as follows:\n",
    "<br>\n",
    "TPR = (Recall = Sensitivity) = True Positive / Actual Positive (TP + FN)\n",
    "<br>\n",
    "FPR is like the opposite of (Precision = Specificity) = (1 - Specificity) = FP / (TN + FP)\n",
    "<br>\n",
    "Specificty / Precision = TN / TN + FP\n",
    "### An ROC (probability) Curve goes beyond a single misclassification rate (error for single threshold), and visualizes all possible thresholds.\n",
    "\n",
    "# AUC (area under the curve) tells us how good the model is at distinguishing between classes (Predicting 0's as 0's and 1's as 1's). \n",
    "A good AUC model is close to 1. This indicates it has a good measure of separability.\n",
    "<br>\n",
    "An AUC value equal to 0.7 would indicate a 70% chance of the model correctly classifying a positive or negative class.\n",
    "<br>\n",
    "An AUC value of approximately 0.5 would indicate that the model is inable to discriminate between the positive and the negative class."
   ]
  },
  {
   "cell_type": "code",
   "execution_count": 172,
   "metadata": {},
   "outputs": [
    {
     "data": {
      "image/png": "[encoded data removed]",
      "text/plain": [
       "<Figure size 576x396 with 1 Axes>"
      ]
     },
     "metadata": {},
     "output_type": "display_data"
    },
    {
     "data": {
      "application/javascript": [
       "\n",
       "            setTimeout(function() {\n",
       "                var nbb_cell_id = 172;\n",
       "                var nbb_unformatted_code = \"# Plot the threshold-recall curve\\ntr = trainingSummary.recallByThreshold.toPandas()\\nplt.plot(tr[\\\"threshold\\\"], tr[\\\"recall\\\"])\\nplt.xlabel(\\\"Threshold\\\")\\nplt.ylabel(\\\"Recall\\\")\\nplt.show()\";\n",
       "                var nbb_formatted_code = \"# Plot the threshold-recall curve\\ntr = trainingSummary.recallByThreshold.toPandas()\\nplt.plot(tr[\\\"threshold\\\"], tr[\\\"recall\\\"])\\nplt.xlabel(\\\"Threshold\\\")\\nplt.ylabel(\\\"Recall\\\")\\nplt.show()\";\n",
       "                var nbb_cells = Jupyter.notebook.get_cells();\n",
       "                for (var i = 0; i < nbb_cells.length; ++i) {\n",
       "                    if (nbb_cells[i].input_prompt_number == nbb_cell_id) {\n",
       "                        if (nbb_cells[i].get_text() == nbb_unformatted_code) {\n",
       "                             nbb_cells[i].set_text(nbb_formatted_code);\n",
       "                        }\n",
       "                        break;\n",
       "                    }\n",
       "                }\n",
       "            }, 500);\n",
       "            "
      ],
      "text/plain": [
       "<IPython.core.display.Javascript object>"
      ]
     },
     "metadata": {},
     "output_type": "display_data"
    }
   ],
   "source": [
    "# Plot the threshold-recall curve\n",
    "tr = trainingSummary.recallByThreshold.toPandas()\n",
    "plt.plot(tr[\"threshold\"], tr[\"recall\"])\n",
    "plt.xlabel(\"Threshold\")\n",
    "plt.ylabel(\"Recall\")\n",
    "plt.show()"
   ]
  },
  {
   "cell_type": "code",
   "execution_count": 173,
   "metadata": {},
   "outputs": [
    {
     "data": {
      "image/png": "[encoded data removed]",
      "text/plain": [
       "<Figure size 576x396 with 1 Axes>"
      ]
     },
     "metadata": {},
     "output_type": "display_data"
    },
    {
     "data": {
      "application/javascript": [
       "\n",
       "            setTimeout(function() {\n",
       "                var nbb_cell_id = 173;\n",
       "                var nbb_unformatted_code = \"# Plot the threshold-precision curve\\ntp = trainingSummary.precisionByThreshold.toPandas()\\nplt.plot(tp[\\\"threshold\\\"], tp[\\\"precision\\\"])\\nplt.xlabel(\\\"Threshold\\\")\\nplt.ylabel(\\\"Precision\\\")\\nplt.show()\";\n",
       "                var nbb_formatted_code = \"# Plot the threshold-precision curve\\ntp = trainingSummary.precisionByThreshold.toPandas()\\nplt.plot(tp[\\\"threshold\\\"], tp[\\\"precision\\\"])\\nplt.xlabel(\\\"Threshold\\\")\\nplt.ylabel(\\\"Precision\\\")\\nplt.show()\";\n",
       "                var nbb_cells = Jupyter.notebook.get_cells();\n",
       "                for (var i = 0; i < nbb_cells.length; ++i) {\n",
       "                    if (nbb_cells[i].input_prompt_number == nbb_cell_id) {\n",
       "                        if (nbb_cells[i].get_text() == nbb_unformatted_code) {\n",
       "                             nbb_cells[i].set_text(nbb_formatted_code);\n",
       "                        }\n",
       "                        break;\n",
       "                    }\n",
       "                }\n",
       "            }, 500);\n",
       "            "
      ],
      "text/plain": [
       "<IPython.core.display.Javascript object>"
      ]
     },
     "metadata": {},
     "output_type": "display_data"
    }
   ],
   "source": [
    "# Plot the threshold-precision curve\n",
    "tp = trainingSummary.precisionByThreshold.toPandas()\n",
    "plt.plot(tp[\"threshold\"], tp[\"precision\"])\n",
    "plt.xlabel(\"Threshold\")\n",
    "plt.ylabel(\"Precision\")\n",
    "plt.show()"
   ]
  },
  {
   "cell_type": "markdown",
   "metadata": {},
   "source": [
    "## Indication of High-Performing Model: \n",
    "The following ROC Curve indicates the model has ideal measure of separability and is able to distinguish between positive and negative classes.\n",
    "## Indication of Poorly-Performing Model:\n",
    "An ROC curve indicating a model not able to distinguish between positive and negative clasess would flatten to a diagonal line. This would indicate presence of Type 1 and 2 errors."
   ]
  },
  {
   "cell_type": "code",
   "execution_count": 174,
   "metadata": {},
   "outputs": [
    {
     "data": {
      "image/png": "[encoded data removed]",
      "text/plain": [
       "<Figure size 576x396 with 1 Axes>"
      ]
     },
     "metadata": {},
     "output_type": "display_data"
    },
    {
     "data": {
      "application/javascript": [
       "\n",
       "            setTimeout(function() {\n",
       "                var nbb_cell_id = 174;\n",
       "                var nbb_unformatted_code = \"# Plot the recall-precision curve\\npr = trainingSummary.pr.toPandas()\\nplt.plot(pr[\\\"precision\\\"], pr[\\\"recall\\\"])\\nplt.xlabel(\\\"Precision / 1 - FPR\\\")\\nplt.ylabel(\\\"Recall / TPR\\\")\\nplt.show()\";\n",
       "                var nbb_formatted_code = \"# Plot the recall-precision curve\\npr = trainingSummary.pr.toPandas()\\nplt.plot(pr[\\\"precision\\\"], pr[\\\"recall\\\"])\\nplt.xlabel(\\\"Precision / 1 - FPR\\\")\\nplt.ylabel(\\\"Recall / TPR\\\")\\nplt.show()\";\n",
       "                var nbb_cells = Jupyter.notebook.get_cells();\n",
       "                for (var i = 0; i < nbb_cells.length; ++i) {\n",
       "                    if (nbb_cells[i].input_prompt_number == nbb_cell_id) {\n",
       "                        if (nbb_cells[i].get_text() == nbb_unformatted_code) {\n",
       "                             nbb_cells[i].set_text(nbb_formatted_code);\n",
       "                        }\n",
       "                        break;\n",
       "                    }\n",
       "                }\n",
       "            }, 500);\n",
       "            "
      ],
      "text/plain": [
       "<IPython.core.display.Javascript object>"
      ]
     },
     "metadata": {},
     "output_type": "display_data"
    }
   ],
   "source": [
    "# Plot the recall-precision curve\n",
    "pr = trainingSummary.pr.toPandas()\n",
    "plt.plot(pr[\"precision\"], pr[\"recall\"])\n",
    "plt.xlabel(\"Precision / 1 - FPR\")\n",
    "plt.ylabel(\"Recall / TPR\")\n",
    "plt.show()"
   ]
  },
  {
   "cell_type": "markdown",
   "metadata": {},
   "source": [
    "## Tuning algorithm hyperparameters:\n",
    "1) regParam : specifies the regularization parameter\n",
    "<br>\n",
    "2) elasticNetParam :  elastic net is a regularized method that linearly combines the L1 and L2 penalties of the lasso and ridge methods\n",
    "<br>\n",
    "3) maxIter : logistic regression is optimized through iterations of the algorithm, so maxIter is the maximum number of iterations to run the optimization algorithm\n",
    "<br>\n",
    "### Implementing numFolds = 5 creates  a more robust test, which returns more reliable results of the algorithm's actual performance."
   ]
  },
  {
   "cell_type": "code",
   "execution_count": 175,
   "metadata": {},
   "outputs": [
    {
     "name": "stdout",
     "output_type": "stream",
     "text": [
      "regParam: 0.01, elasticNetParam: 0.5, maxIter: 5\n"
     ]
    },
    {
     "data": {
      "application/javascript": [
       "\n",
       "            setTimeout(function() {\n",
       "                var nbb_cell_id = 175;\n",
       "                var nbb_unformatted_code = \"evaluator = BinaryClassificationEvaluator(metricName=\\\"areaUnderPR\\\")\\n\\n# Create ParamGrid for Cross Validation\\nparamGrid = (\\n    ParamGridBuilder()\\n    .addGrid(lr.regParam, [0.01, 0.5, 2.0])\\n    .addGrid(lr.elasticNetParam, [0.0, 0.5, 1.0])\\n    .addGrid(lr.maxIter, [1, 5, 10])\\n    .build()\\n)\\n\\ncv = CrossValidator(\\n    estimator=lr, estimatorParamMaps=paramGrid, evaluator=evaluator, numFolds=5\\n)\\n\\n# Fit the Best Model\\ncvModel = cv.fit(train)\\nbestModel = cvModel.bestModel\\n# Extract best parameters\\nbest_reg_param = bestModel._java_obj.getRegParam()\\nbest_elasticnet_param = bestModel._java_obj.getElasticNetParam()\\nbest_maxiter_param = bestModel._java_obj.getMaxIter()\\nprint(\\n    \\\"regParam: {}, elasticNetParam: {}, maxIter: {}\\\".format(\\n        best_reg_param, best_elasticnet_param, best_maxiter_param\\n    )\\n)\";\n",
       "                var nbb_formatted_code = \"evaluator = BinaryClassificationEvaluator(metricName=\\\"areaUnderPR\\\")\\n\\n# Create ParamGrid for Cross Validation\\nparamGrid = (\\n    ParamGridBuilder()\\n    .addGrid(lr.regParam, [0.01, 0.5, 2.0])\\n    .addGrid(lr.elasticNetParam, [0.0, 0.5, 1.0])\\n    .addGrid(lr.maxIter, [1, 5, 10])\\n    .build()\\n)\\n\\ncv = CrossValidator(\\n    estimator=lr, estimatorParamMaps=paramGrid, evaluator=evaluator, numFolds=5\\n)\\n\\n# Fit the Best Model\\ncvModel = cv.fit(train)\\nbestModel = cvModel.bestModel\\n# Extract best parameters\\nbest_reg_param = bestModel._java_obj.getRegParam()\\nbest_elasticnet_param = bestModel._java_obj.getElasticNetParam()\\nbest_maxiter_param = bestModel._java_obj.getMaxIter()\\nprint(\\n    \\\"regParam: {}, elasticNetParam: {}, maxIter: {}\\\".format(\\n        best_reg_param, best_elasticnet_param, best_maxiter_param\\n    )\\n)\";\n",
       "                var nbb_cells = Jupyter.notebook.get_cells();\n",
       "                for (var i = 0; i < nbb_cells.length; ++i) {\n",
       "                    if (nbb_cells[i].input_prompt_number == nbb_cell_id) {\n",
       "                        if (nbb_cells[i].get_text() == nbb_unformatted_code) {\n",
       "                             nbb_cells[i].set_text(nbb_formatted_code);\n",
       "                        }\n",
       "                        break;\n",
       "                    }\n",
       "                }\n",
       "            }, 500);\n",
       "            "
      ],
      "text/plain": [
       "<IPython.core.display.Javascript object>"
      ]
     },
     "metadata": {},
     "output_type": "display_data"
    }
   ],
   "source": [
    "evaluator = BinaryClassificationEvaluator(metricName=\"areaUnderPR\")\n",
    "\n",
    "# Create ParamGrid for Cross Validation\n",
    "paramGrid = (\n",
    "    ParamGridBuilder()\n",
    "    .addGrid(lr.regParam, [0.01, 0.5, 2.0])\n",
    "    .addGrid(lr.elasticNetParam, [0.0, 0.5, 1.0])\n",
    "    .addGrid(lr.maxIter, [1, 5, 10])\n",
    "    .build()\n",
    ")\n",
    "\n",
    "cv = CrossValidator(\n",
    "    estimator=lr, estimatorParamMaps=paramGrid, evaluator=evaluator, numFolds=5\n",
    ")\n",
    "\n",
    "# Fit the Best Model\n",
    "cvModel = cv.fit(train)\n",
    "bestModel = cvModel.bestModel\n",
    "# Extract best parameters\n",
    "best_reg_param = bestModel._java_obj.getRegParam()\n",
    "best_elasticnet_param = bestModel._java_obj.getElasticNetParam()\n",
    "best_maxiter_param = bestModel._java_obj.getMaxIter()\n",
    "print(\n",
    "    \"regParam: {}, elasticNetParam: {}, maxIter: {}\".format(\n",
    "        best_reg_param, best_elasticnet_param, best_maxiter_param\n",
    "    )\n",
    ")"
   ]
  },
  {
   "cell_type": "code",
   "execution_count": 176,
   "metadata": {},
   "outputs": [
    {
     "name": "stdout",
     "output_type": "stream",
     "text": [
      "Test Area Under PR: 0.938\n",
      "F1-Score: 0.862, Recall: 0.862, Precision: 0.862\n"
     ]
    },
    {
     "data": {
      "application/javascript": [
       "\n",
       "            setTimeout(function() {\n",
       "                var nbb_cell_id = 176;\n",
       "                var nbb_unformatted_code = \"# Evaluate via Cross validation\\nbestModel = cvModel.bestModel\\npredictions = bestModel.transform(test)\\npredictions_pandas = predictions.toPandas()\\n\\nprint(\\\"Test Area Under PR: {:.3f}\\\".format(evaluator.evaluate(predictions)))\\n\\n# Calculate and print f1, recall and precision scores\\nf1 = f1_score(predictions_pandas.label, predictions_pandas.prediction)\\nrecall = recall_score(predictions_pandas.label, predictions_pandas.prediction)\\nprecision = precision_score(predictions_pandas.label, predictions_pandas.prediction)\\n\\nprint(\\n    \\\"F1-Score: {:.3f}, Recall: {:.3f}, Precision: {:.3f}\\\".format(f1, recall, precision)\\n)\";\n",
       "                var nbb_formatted_code = \"# Evaluate via Cross validation\\nbestModel = cvModel.bestModel\\npredictions = bestModel.transform(test)\\npredictions_pandas = predictions.toPandas()\\n\\nprint(\\\"Test Area Under PR: {:.3f}\\\".format(evaluator.evaluate(predictions)))\\n\\n# Calculate and print f1, recall and precision scores\\nf1 = f1_score(predictions_pandas.label, predictions_pandas.prediction)\\nrecall = recall_score(predictions_pandas.label, predictions_pandas.prediction)\\nprecision = precision_score(predictions_pandas.label, predictions_pandas.prediction)\\n\\nprint(\\n    \\\"F1-Score: {:.3f}, Recall: {:.3f}, Precision: {:.3f}\\\".format(f1, recall, precision)\\n)\";\n",
       "                var nbb_cells = Jupyter.notebook.get_cells();\n",
       "                for (var i = 0; i < nbb_cells.length; ++i) {\n",
       "                    if (nbb_cells[i].input_prompt_number == nbb_cell_id) {\n",
       "                        if (nbb_cells[i].get_text() == nbb_unformatted_code) {\n",
       "                             nbb_cells[i].set_text(nbb_formatted_code);\n",
       "                        }\n",
       "                        break;\n",
       "                    }\n",
       "                }\n",
       "            }, 500);\n",
       "            "
      ],
      "text/plain": [
       "<IPython.core.display.Javascript object>"
      ]
     },
     "metadata": {},
     "output_type": "display_data"
    }
   ],
   "source": [
    "# Evaluate via Cross validation\n",
    "bestModel = cvModel.bestModel\n",
    "predictions = bestModel.transform(test)\n",
    "predictions_pandas = predictions.toPandas()\n",
    "\n",
    "print(\"Test Area Under PR: {:.3f}\".format(evaluator.evaluate(predictions)))\n",
    "\n",
    "# Calculate and print f1, recall and precision scores\n",
    "f1 = f1_score(predictions_pandas.label, predictions_pandas.prediction)\n",
    "recall = recall_score(predictions_pandas.label, predictions_pandas.prediction)\n",
    "precision = precision_score(predictions_pandas.label, predictions_pandas.prediction)\n",
    "\n",
    "print(\n",
    "    \"F1-Score: {:.3f}, Recall: {:.3f}, Precision: {:.3f}\".format(f1, recall, precision)\n",
    ")"
   ]
  },
  {
   "cell_type": "markdown",
   "metadata": {},
   "source": [
    "# Multinomial Logsitc Regression in PySpark with RFE"
   ]
  },
  {
   "cell_type": "code",
   "execution_count": 177,
   "metadata": {},
   "outputs": [
    {
     "data": {
      "application/javascript": [
       "\n",
       "            setTimeout(function() {\n",
       "                var nbb_cell_id = 177;\n",
       "                var nbb_unformatted_code = \"def udf_multiple(profile):\\n    if profile == \\\"Database\\\":\\n        return 1\\n    elif profile == \\\"Fullstack\\\":\\n        return 2\\n    elif profile == \\\"ML\\\":\\n        return 3\\n    elif profile == \\\"QA\\\":\\n        return 4\\n    else:\\n        return \\\"N/A\\\"\";\n",
       "                var nbb_formatted_code = \"def udf_multiple(profile):\\n    if profile == \\\"Database\\\":\\n        return 1\\n    elif profile == \\\"Fullstack\\\":\\n        return 2\\n    elif profile == \\\"ML\\\":\\n        return 3\\n    elif profile == \\\"QA\\\":\\n        return 4\\n    else:\\n        return \\\"N/A\\\"\";\n",
       "                var nbb_cells = Jupyter.notebook.get_cells();\n",
       "                for (var i = 0; i < nbb_cells.length; ++i) {\n",
       "                    if (nbb_cells[i].input_prompt_number == nbb_cell_id) {\n",
       "                        if (nbb_cells[i].get_text() == nbb_unformatted_code) {\n",
       "                             nbb_cells[i].set_text(nbb_formatted_code);\n",
       "                        }\n",
       "                        break;\n",
       "                    }\n",
       "                }\n",
       "            }, 500);\n",
       "            "
      ],
      "text/plain": [
       "<IPython.core.display.Javascript object>"
      ]
     },
     "metadata": {},
     "output_type": "display_data"
    }
   ],
   "source": [
    "def udf_multiple(profile):\n",
    "    if profile == \"Database\":\n",
    "        return 1\n",
    "    elif profile == \"Fullstack\":\n",
    "        return 2\n",
    "    elif profile == \"ML\":\n",
    "        return 3\n",
    "    elif profile == \"QA\":\n",
    "        return 4\n",
    "    else:\n",
    "        return \"N/A\""
   ]
  },
  {
   "cell_type": "code",
   "execution_count": 178,
   "metadata": {},
   "outputs": [
    {
     "data": {
      "application/javascript": [
       "\n",
       "            setTimeout(function() {\n",
       "                var nbb_cell_id = 178;\n",
       "                var nbb_unformatted_code = \"profile_udf = udf(udf_multiple)\\ndata = data.withColumn(\\\"outcome\\\", profile_udf(\\\"profile\\\"))\";\n",
       "                var nbb_formatted_code = \"profile_udf = udf(udf_multiple)\\ndata = data.withColumn(\\\"outcome\\\", profile_udf(\\\"profile\\\"))\";\n",
       "                var nbb_cells = Jupyter.notebook.get_cells();\n",
       "                for (var i = 0; i < nbb_cells.length; ++i) {\n",
       "                    if (nbb_cells[i].input_prompt_number == nbb_cell_id) {\n",
       "                        if (nbb_cells[i].get_text() == nbb_unformatted_code) {\n",
       "                             nbb_cells[i].set_text(nbb_formatted_code);\n",
       "                        }\n",
       "                        break;\n",
       "                    }\n",
       "                }\n",
       "            }, 500);\n",
       "            "
      ],
      "text/plain": [
       "<IPython.core.display.Javascript object>"
      ]
     },
     "metadata": {},
     "output_type": "display_data"
    }
   ],
   "source": [
    "profile_udf = udf(udf_multiple)\n",
    "data = data.withColumn(\"outcome\", profile_udf(\"profile\"))"
   ]
  },
  {
   "cell_type": "code",
   "execution_count": 179,
   "metadata": {},
   "outputs": [
    {
     "data": {
      "application/javascript": [
       "\n",
       "            setTimeout(function() {\n",
       "                var nbb_cell_id = 179;\n",
       "                var nbb_unformatted_code = \"changedTypedf = data.withColumn(\\\"label\\\", data[\\\"outcome\\\"].cast(DoubleType()))\";\n",
       "                var nbb_formatted_code = \"changedTypedf = data.withColumn(\\\"label\\\", data[\\\"outcome\\\"].cast(DoubleType()))\";\n",
       "                var nbb_cells = Jupyter.notebook.get_cells();\n",
       "                for (var i = 0; i < nbb_cells.length; ++i) {\n",
       "                    if (nbb_cells[i].input_prompt_number == nbb_cell_id) {\n",
       "                        if (nbb_cells[i].get_text() == nbb_unformatted_code) {\n",
       "                             nbb_cells[i].set_text(nbb_formatted_code);\n",
       "                        }\n",
       "                        break;\n",
       "                    }\n",
       "                }\n",
       "            }, 500);\n",
       "            "
      ],
      "text/plain": [
       "<IPython.core.display.Javascript object>"
      ]
     },
     "metadata": {},
     "output_type": "display_data"
    }
   ],
   "source": [
    "changedTypedf = data.withColumn(\"label\", data[\"outcome\"].cast(DoubleType()))"
   ]
  },
  {
   "cell_type": "code",
   "execution_count": 180,
   "metadata": {},
   "outputs": [
    {
     "data": {
      "application/javascript": [
       "\n",
       "            setTimeout(function() {\n",
       "                var nbb_cell_id = 180;\n",
       "                var nbb_unformatted_code = \"# Split the data\\n(train, test) = changedTypedf.randomSplit([0.7, 0.3])\";\n",
       "                var nbb_formatted_code = \"# Split the data\\n(train, test) = changedTypedf.randomSplit([0.7, 0.3])\";\n",
       "                var nbb_cells = Jupyter.notebook.get_cells();\n",
       "                for (var i = 0; i < nbb_cells.length; ++i) {\n",
       "                    if (nbb_cells[i].input_prompt_number == nbb_cell_id) {\n",
       "                        if (nbb_cells[i].get_text() == nbb_unformatted_code) {\n",
       "                             nbb_cells[i].set_text(nbb_formatted_code);\n",
       "                        }\n",
       "                        break;\n",
       "                    }\n",
       "                }\n",
       "            }, 500);\n",
       "            "
      ],
      "text/plain": [
       "<IPython.core.display.Javascript object>"
      ]
     },
     "metadata": {},
     "output_type": "display_data"
    }
   ],
   "source": [
    "# Split the data\n",
    "(train, test) = changedTypedf.randomSplit([0.7, 0.3])"
   ]
  },
  {
   "cell_type": "code",
   "execution_count": 181,
   "metadata": {},
   "outputs": [
    {
     "data": {
      "application/javascript": [
       "\n",
       "            setTimeout(function() {\n",
       "                var nbb_cell_id = 181;\n",
       "                var nbb_unformatted_code = \"lr = LogisticRegression(featuresCol=\\\"features\\\", labelCol=\\\"label\\\", family=\\\"multinomial\\\")\\nlrModel = lr.fit(train)\";\n",
       "                var nbb_formatted_code = \"lr = LogisticRegression(featuresCol=\\\"features\\\", labelCol=\\\"label\\\", family=\\\"multinomial\\\")\\nlrModel = lr.fit(train)\";\n",
       "                var nbb_cells = Jupyter.notebook.get_cells();\n",
       "                for (var i = 0; i < nbb_cells.length; ++i) {\n",
       "                    if (nbb_cells[i].input_prompt_number == nbb_cell_id) {\n",
       "                        if (nbb_cells[i].get_text() == nbb_unformatted_code) {\n",
       "                             nbb_cells[i].set_text(nbb_formatted_code);\n",
       "                        }\n",
       "                        break;\n",
       "                    }\n",
       "                }\n",
       "            }, 500);\n",
       "            "
      ],
      "text/plain": [
       "<IPython.core.display.Javascript object>"
      ]
     },
     "metadata": {},
     "output_type": "display_data"
    }
   ],
   "source": [
    "lr = LogisticRegression(featuresCol=\"features\", labelCol=\"label\", family=\"multinomial\")\n",
    "lrModel = lr.fit(train)"
   ]
  },
  {
   "cell_type": "code",
   "execution_count": 182,
   "metadata": {},
   "outputs": [
    {
     "name": "stdout",
     "output_type": "stream",
     "text": [
      "+-----+----------+\n",
      "|label|prediction|\n",
      "+-----+----------+\n",
      "|  1.0|       1.0|\n",
      "|  1.0|       1.0|\n",
      "|  2.0|       2.0|\n",
      "|  2.0|       2.0|\n",
      "|  2.0|       2.0|\n",
      "|  3.0|       3.0|\n",
      "|  3.0|       3.0|\n",
      "|  4.0|       4.0|\n",
      "|  1.0|       1.0|\n",
      "|  1.0|       1.0|\n",
      "|  1.0|       3.0|\n",
      "|  1.0|       2.0|\n",
      "|  1.0|       1.0|\n",
      "|  1.0|       1.0|\n",
      "|  2.0|       2.0|\n",
      "|  2.0|       2.0|\n",
      "|  2.0|       3.0|\n",
      "|  2.0|       2.0|\n",
      "|  3.0|       3.0|\n",
      "|  4.0|       4.0|\n",
      "|  4.0|       4.0|\n",
      "|  1.0|       1.0|\n",
      "|  1.0|       1.0|\n",
      "|  1.0|       4.0|\n",
      "|  2.0|       2.0|\n",
      "+-----+----------+\n",
      "only showing top 25 rows\n",
      "\n"
     ]
    },
    {
     "data": {
      "application/javascript": [
       "\n",
       "            setTimeout(function() {\n",
       "                var nbb_cell_id = 182;\n",
       "                var nbb_unformatted_code = \"lr_predictions = lrModel.transform(test)\\nlr_predictions.select(\\\"label\\\", \\\"prediction\\\").show(25)\";\n",
       "                var nbb_formatted_code = \"lr_predictions = lrModel.transform(test)\\nlr_predictions.select(\\\"label\\\", \\\"prediction\\\").show(25)\";\n",
       "                var nbb_cells = Jupyter.notebook.get_cells();\n",
       "                for (var i = 0; i < nbb_cells.length; ++i) {\n",
       "                    if (nbb_cells[i].input_prompt_number == nbb_cell_id) {\n",
       "                        if (nbb_cells[i].get_text() == nbb_unformatted_code) {\n",
       "                             nbb_cells[i].set_text(nbb_formatted_code);\n",
       "                        }\n",
       "                        break;\n",
       "                    }\n",
       "                }\n",
       "            }, 500);\n",
       "            "
      ],
      "text/plain": [
       "<IPython.core.display.Javascript object>"
      ]
     },
     "metadata": {},
     "output_type": "display_data"
    }
   ],
   "source": [
    "lr_predictions = lrModel.transform(test)\n",
    "lr_predictions.select(\"label\", \"prediction\").show(25)"
   ]
  },
  {
   "cell_type": "markdown",
   "metadata": {},
   "source": [
    "### Because classes have been balanced, the f1 metric (in place of the f_1 micro metric) can be used to assess algorithm performance"
   ]
  },
  {
   "cell_type": "code",
   "execution_count": 183,
   "metadata": {},
   "outputs": [
    {
     "name": "stdout",
     "output_type": "stream",
     "text": [
      "Logistic Regression F1 Score: 0.731\n"
     ]
    },
    {
     "data": {
      "application/javascript": [
       "\n",
       "            setTimeout(function() {\n",
       "                var nbb_cell_id = 183;\n",
       "                var nbb_unformatted_code = \"multi_evaluator = MulticlassClassificationEvaluator(labelCol=\\\"label\\\", metricName=\\\"f1\\\")\\nprint(\\n    \\\"Logistic Regression F1 Score: {:.3f}\\\".format(\\n        multi_evaluator.evaluate(lr_predictions)\\n    )\\n)\";\n",
       "                var nbb_formatted_code = \"multi_evaluator = MulticlassClassificationEvaluator(labelCol=\\\"label\\\", metricName=\\\"f1\\\")\\nprint(\\n    \\\"Logistic Regression F1 Score: {:.3f}\\\".format(\\n        multi_evaluator.evaluate(lr_predictions)\\n    )\\n)\";\n",
       "                var nbb_cells = Jupyter.notebook.get_cells();\n",
       "                for (var i = 0; i < nbb_cells.length; ++i) {\n",
       "                    if (nbb_cells[i].input_prompt_number == nbb_cell_id) {\n",
       "                        if (nbb_cells[i].get_text() == nbb_unformatted_code) {\n",
       "                             nbb_cells[i].set_text(nbb_formatted_code);\n",
       "                        }\n",
       "                        break;\n",
       "                    }\n",
       "                }\n",
       "            }, 500);\n",
       "            "
      ],
      "text/plain": [
       "<IPython.core.display.Javascript object>"
      ]
     },
     "metadata": {},
     "output_type": "display_data"
    }
   ],
   "source": [
    "multi_evaluator = MulticlassClassificationEvaluator(labelCol=\"label\", metricName=\"f1\")\n",
    "print(\n",
    "    \"Logistic Regression F1 Score: {:.3f}\".format(\n",
    "        multi_evaluator.evaluate(lr_predictions)\n",
    "    )\n",
    ")"
   ]
  }
 ],
 "metadata": {
  "kernelspec": {
   "display_name": "Celerative",
   "language": "python",
   "name": "celerative"
  },
  "language_info": {
   "codemirror_mode": {
    "name": "ipython",
    "version": 3
   },
   "file_extension": ".py",
   "mimetype": "text/x-python",
   "name": "python",
   "nbconvert_exporter": "python",
   "pygments_lexer": "ipython3",
   "version": "3.7.9"
  }
 },
 "nbformat": 4,
 "nbformat_minor": 4
}
