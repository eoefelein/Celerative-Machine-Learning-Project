{
 "cells": [
  {
   "cell_type": "code",
   "execution_count": 1,
   "metadata": {},
   "outputs": [
    {
     "data": {
      "application/javascript": [
       "\n",
       "            setTimeout(function() {\n",
       "                var nbb_cell_id = 1;\n",
       "                var nbb_unformatted_code = \"%reload_ext nb_black\";\n",
       "                var nbb_formatted_code = \"%reload_ext nb_black\";\n",
       "                var nbb_cells = Jupyter.notebook.get_cells();\n",
       "                for (var i = 0; i < nbb_cells.length; ++i) {\n",
       "                    if (nbb_cells[i].input_prompt_number == nbb_cell_id) {\n",
       "                        if (nbb_cells[i].get_text() == nbb_unformatted_code) {\n",
       "                             nbb_cells[i].set_text(nbb_formatted_code);\n",
       "                        }\n",
       "                        break;\n",
       "                    }\n",
       "                }\n",
       "            }, 500);\n",
       "            "
      ],
      "text/plain": [
       "<IPython.core.display.Javascript object>"
      ]
     },
     "metadata": {},
     "output_type": "display_data"
    }
   ],
   "source": [
    "%reload_ext nb_black"
   ]
  },
  {
   "cell_type": "markdown",
   "metadata": {},
   "source": [
    "# Random Forest\n",
    "The Random Forest algorithm improves on the balance problem found with the Decision Tree algorithm as it limits overfitting without substantially increasing error due to bias."
   ]
  },
  {
   "cell_type": "code",
   "execution_count": 2,
   "metadata": {},
   "outputs": [
    {
     "data": {
      "application/javascript": [
       "\n",
       "            setTimeout(function() {\n",
       "                var nbb_cell_id = 2;\n",
       "                var nbb_unformatted_code = \"# evaluate random forest algorithm for classification\\nimport pandas as pd\\nimport numpy as np\\nfrom numpy import mean\\nfrom numpy import std\\nimport matplotlib.pyplot as plt\\n\\nfrom sklearn.model_selection import train_test_split as tts\\nfrom sklearn.multiclass import OneVsOneClassifier\\nfrom sklearn.multiclass import OneVsRestClassifier\\nfrom sklearn.ensemble import RandomForestClassifier\\n\\nfrom sklearn.model_selection import cross_val_score, GridSearchCV\\nfrom sklearn.model_selection import RepeatedStratifiedKFold\\n\\nfrom yellowbrick.classifier import ClassificationReport\\nfrom yellowbrick.model_selection import ValidationCurve\";\n",
       "                var nbb_formatted_code = \"# evaluate random forest algorithm for classification\\nimport pandas as pd\\nimport numpy as np\\nfrom numpy import mean\\nfrom numpy import std\\nimport matplotlib.pyplot as plt\\n\\nfrom sklearn.model_selection import train_test_split as tts\\nfrom sklearn.multiclass import OneVsOneClassifier\\nfrom sklearn.multiclass import OneVsRestClassifier\\nfrom sklearn.ensemble import RandomForestClassifier\\n\\nfrom sklearn.model_selection import cross_val_score, GridSearchCV\\nfrom sklearn.model_selection import RepeatedStratifiedKFold\\n\\nfrom yellowbrick.classifier import ClassificationReport\\nfrom yellowbrick.model_selection import ValidationCurve\";\n",
       "                var nbb_cells = Jupyter.notebook.get_cells();\n",
       "                for (var i = 0; i < nbb_cells.length; ++i) {\n",
       "                    if (nbb_cells[i].input_prompt_number == nbb_cell_id) {\n",
       "                        if (nbb_cells[i].get_text() == nbb_unformatted_code) {\n",
       "                             nbb_cells[i].set_text(nbb_formatted_code);\n",
       "                        }\n",
       "                        break;\n",
       "                    }\n",
       "                }\n",
       "            }, 500);\n",
       "            "
      ],
      "text/plain": [
       "<IPython.core.display.Javascript object>"
      ]
     },
     "metadata": {},
     "output_type": "display_data"
    }
   ],
   "source": [
    "# evaluate random forest algorithm for classification\n",
    "import pandas as pd\n",
    "import numpy as np\n",
    "from numpy import mean\n",
    "from numpy import std\n",
    "import matplotlib.pyplot as plt\n",
    "\n",
    "from sklearn.model_selection import train_test_split as tts\n",
    "from sklearn.multiclass import OneVsOneClassifier\n",
    "from sklearn.multiclass import OneVsRestClassifier\n",
    "from sklearn.ensemble import RandomForestClassifier\n",
    "\n",
    "from sklearn.model_selection import cross_val_score, GridSearchCV\n",
    "from sklearn.model_selection import RepeatedStratifiedKFold\n",
    "\n",
    "from yellowbrick.classifier import ClassificationReport\n",
    "from yellowbrick.model_selection import ValidationCurve"
   ]
  },
  {
   "cell_type": "code",
   "execution_count": 3,
   "metadata": {},
   "outputs": [
    {
     "data": {
      "application/javascript": [
       "\n",
       "            setTimeout(function() {\n",
       "                var nbb_cell_id = 3;\n",
       "                var nbb_unformatted_code = \"# Read in CSV\\ndata = pd.read_csv(\\\"../5_profiles/reduced_dim_5.csv\\\")\";\n",
       "                var nbb_formatted_code = \"# Read in CSV\\ndata = pd.read_csv(\\\"../5_profiles/reduced_dim_5.csv\\\")\";\n",
       "                var nbb_cells = Jupyter.notebook.get_cells();\n",
       "                for (var i = 0; i < nbb_cells.length; ++i) {\n",
       "                    if (nbb_cells[i].input_prompt_number == nbb_cell_id) {\n",
       "                        if (nbb_cells[i].get_text() == nbb_unformatted_code) {\n",
       "                             nbb_cells[i].set_text(nbb_formatted_code);\n",
       "                        }\n",
       "                        break;\n",
       "                    }\n",
       "                }\n",
       "            }, 500);\n",
       "            "
      ],
      "text/plain": [
       "<IPython.core.display.Javascript object>"
      ]
     },
     "metadata": {},
     "output_type": "display_data"
    }
   ],
   "source": [
    "# Read in CSV\n",
    "data = pd.read_csv(\"../5_profiles/reduced_dim_5.csv\")"
   ]
  },
  {
   "cell_type": "code",
   "execution_count": 4,
   "metadata": {},
   "outputs": [
    {
     "data": {
      "text/html": [
       "<div>\n",
       "<style scoped>\n",
       "    .dataframe tbody tr th:only-of-type {\n",
       "        vertical-align: middle;\n",
       "    }\n",
       "\n",
       "    .dataframe tbody tr th {\n",
       "        vertical-align: top;\n",
       "    }\n",
       "\n",
       "    .dataframe thead th {\n",
       "        text-align: right;\n",
       "    }\n",
       "</style>\n",
       "<table border=\"1\" class=\"dataframe\">\n",
       "  <thead>\n",
       "    <tr style=\"text-align: right;\">\n",
       "      <th></th>\n",
       "      <th>profile</th>\n",
       "      <th>.NET</th>\n",
       "      <th>ASP.NET</th>\n",
       "      <th>AWS</th>\n",
       "      <th>AWS S3</th>\n",
       "      <th>Adobe Photoshop</th>\n",
       "      <th>Agile</th>\n",
       "      <th>Agile Methodology</th>\n",
       "      <th>Agile Software Development</th>\n",
       "      <th>Ajax</th>\n",
       "      <th>...</th>\n",
       "      <th>Version Control</th>\n",
       "      <th>Visual</th>\n",
       "      <th>Visual Studio</th>\n",
       "      <th>Web API</th>\n",
       "      <th>Windows</th>\n",
       "      <th>Wireframing</th>\n",
       "      <th>WordPress</th>\n",
       "      <th>Written English</th>\n",
       "      <th>jQuery</th>\n",
       "      <th>js</th>\n",
       "    </tr>\n",
       "  </thead>\n",
       "  <tbody>\n",
       "    <tr>\n",
       "      <th>0</th>\n",
       "      <td>Fullstack</td>\n",
       "      <td>0</td>\n",
       "      <td>0</td>\n",
       "      <td>0</td>\n",
       "      <td>0</td>\n",
       "      <td>0</td>\n",
       "      <td>0</td>\n",
       "      <td>0</td>\n",
       "      <td>0</td>\n",
       "      <td>0</td>\n",
       "      <td>...</td>\n",
       "      <td>0</td>\n",
       "      <td>0</td>\n",
       "      <td>0</td>\n",
       "      <td>0</td>\n",
       "      <td>0</td>\n",
       "      <td>0</td>\n",
       "      <td>0</td>\n",
       "      <td>0</td>\n",
       "      <td>0</td>\n",
       "      <td>0</td>\n",
       "    </tr>\n",
       "    <tr>\n",
       "      <th>1</th>\n",
       "      <td>Frontend</td>\n",
       "      <td>0</td>\n",
       "      <td>0</td>\n",
       "      <td>0</td>\n",
       "      <td>0</td>\n",
       "      <td>0</td>\n",
       "      <td>0</td>\n",
       "      <td>0</td>\n",
       "      <td>0</td>\n",
       "      <td>0</td>\n",
       "      <td>...</td>\n",
       "      <td>1</td>\n",
       "      <td>0</td>\n",
       "      <td>0</td>\n",
       "      <td>0</td>\n",
       "      <td>0</td>\n",
       "      <td>0</td>\n",
       "      <td>0</td>\n",
       "      <td>1</td>\n",
       "      <td>0</td>\n",
       "      <td>1</td>\n",
       "    </tr>\n",
       "    <tr>\n",
       "      <th>2</th>\n",
       "      <td>ML</td>\n",
       "      <td>0</td>\n",
       "      <td>0</td>\n",
       "      <td>0</td>\n",
       "      <td>0</td>\n",
       "      <td>0</td>\n",
       "      <td>0</td>\n",
       "      <td>0</td>\n",
       "      <td>0</td>\n",
       "      <td>0</td>\n",
       "      <td>...</td>\n",
       "      <td>0</td>\n",
       "      <td>0</td>\n",
       "      <td>0</td>\n",
       "      <td>0</td>\n",
       "      <td>0</td>\n",
       "      <td>0</td>\n",
       "      <td>0</td>\n",
       "      <td>0</td>\n",
       "      <td>0</td>\n",
       "      <td>0</td>\n",
       "    </tr>\n",
       "    <tr>\n",
       "      <th>3</th>\n",
       "      <td>ML</td>\n",
       "      <td>0</td>\n",
       "      <td>0</td>\n",
       "      <td>0</td>\n",
       "      <td>0</td>\n",
       "      <td>0</td>\n",
       "      <td>0</td>\n",
       "      <td>0</td>\n",
       "      <td>0</td>\n",
       "      <td>0</td>\n",
       "      <td>...</td>\n",
       "      <td>0</td>\n",
       "      <td>0</td>\n",
       "      <td>0</td>\n",
       "      <td>0</td>\n",
       "      <td>0</td>\n",
       "      <td>0</td>\n",
       "      <td>0</td>\n",
       "      <td>0</td>\n",
       "      <td>0</td>\n",
       "      <td>0</td>\n",
       "    </tr>\n",
       "    <tr>\n",
       "      <th>4</th>\n",
       "      <td>QA</td>\n",
       "      <td>0</td>\n",
       "      <td>0</td>\n",
       "      <td>0</td>\n",
       "      <td>1</td>\n",
       "      <td>0</td>\n",
       "      <td>0</td>\n",
       "      <td>0</td>\n",
       "      <td>0</td>\n",
       "      <td>0</td>\n",
       "      <td>...</td>\n",
       "      <td>0</td>\n",
       "      <td>0</td>\n",
       "      <td>0</td>\n",
       "      <td>0</td>\n",
       "      <td>0</td>\n",
       "      <td>0</td>\n",
       "      <td>0</td>\n",
       "      <td>0</td>\n",
       "      <td>0</td>\n",
       "      <td>0</td>\n",
       "    </tr>\n",
       "    <tr>\n",
       "      <th>...</th>\n",
       "      <td>...</td>\n",
       "      <td>...</td>\n",
       "      <td>...</td>\n",
       "      <td>...</td>\n",
       "      <td>...</td>\n",
       "      <td>...</td>\n",
       "      <td>...</td>\n",
       "      <td>...</td>\n",
       "      <td>...</td>\n",
       "      <td>...</td>\n",
       "      <td>...</td>\n",
       "      <td>...</td>\n",
       "      <td>...</td>\n",
       "      <td>...</td>\n",
       "      <td>...</td>\n",
       "      <td>...</td>\n",
       "      <td>...</td>\n",
       "      <td>...</td>\n",
       "      <td>...</td>\n",
       "      <td>...</td>\n",
       "      <td>...</td>\n",
       "    </tr>\n",
       "    <tr>\n",
       "      <th>770</th>\n",
       "      <td>Frontend</td>\n",
       "      <td>0</td>\n",
       "      <td>0</td>\n",
       "      <td>0</td>\n",
       "      <td>0</td>\n",
       "      <td>0</td>\n",
       "      <td>0</td>\n",
       "      <td>0</td>\n",
       "      <td>0</td>\n",
       "      <td>0</td>\n",
       "      <td>...</td>\n",
       "      <td>0</td>\n",
       "      <td>0</td>\n",
       "      <td>0</td>\n",
       "      <td>0</td>\n",
       "      <td>0</td>\n",
       "      <td>0</td>\n",
       "      <td>0</td>\n",
       "      <td>0</td>\n",
       "      <td>0</td>\n",
       "      <td>0</td>\n",
       "    </tr>\n",
       "    <tr>\n",
       "      <th>771</th>\n",
       "      <td>Frontend</td>\n",
       "      <td>0</td>\n",
       "      <td>0</td>\n",
       "      <td>0</td>\n",
       "      <td>0</td>\n",
       "      <td>0</td>\n",
       "      <td>0</td>\n",
       "      <td>1</td>\n",
       "      <td>0</td>\n",
       "      <td>0</td>\n",
       "      <td>...</td>\n",
       "      <td>0</td>\n",
       "      <td>0</td>\n",
       "      <td>0</td>\n",
       "      <td>0</td>\n",
       "      <td>0</td>\n",
       "      <td>0</td>\n",
       "      <td>0</td>\n",
       "      <td>1</td>\n",
       "      <td>0</td>\n",
       "      <td>1</td>\n",
       "    </tr>\n",
       "    <tr>\n",
       "      <th>772</th>\n",
       "      <td>Frontend</td>\n",
       "      <td>0</td>\n",
       "      <td>0</td>\n",
       "      <td>0</td>\n",
       "      <td>0</td>\n",
       "      <td>0</td>\n",
       "      <td>0</td>\n",
       "      <td>0</td>\n",
       "      <td>0</td>\n",
       "      <td>0</td>\n",
       "      <td>...</td>\n",
       "      <td>1</td>\n",
       "      <td>0</td>\n",
       "      <td>0</td>\n",
       "      <td>0</td>\n",
       "      <td>0</td>\n",
       "      <td>1</td>\n",
       "      <td>0</td>\n",
       "      <td>1</td>\n",
       "      <td>0</td>\n",
       "      <td>1</td>\n",
       "    </tr>\n",
       "    <tr>\n",
       "      <th>773</th>\n",
       "      <td>ML</td>\n",
       "      <td>0</td>\n",
       "      <td>0</td>\n",
       "      <td>0</td>\n",
       "      <td>0</td>\n",
       "      <td>0</td>\n",
       "      <td>0</td>\n",
       "      <td>0</td>\n",
       "      <td>0</td>\n",
       "      <td>0</td>\n",
       "      <td>...</td>\n",
       "      <td>0</td>\n",
       "      <td>0</td>\n",
       "      <td>0</td>\n",
       "      <td>0</td>\n",
       "      <td>0</td>\n",
       "      <td>0</td>\n",
       "      <td>0</td>\n",
       "      <td>0</td>\n",
       "      <td>0</td>\n",
       "      <td>0</td>\n",
       "    </tr>\n",
       "    <tr>\n",
       "      <th>774</th>\n",
       "      <td>Fullstack</td>\n",
       "      <td>0</td>\n",
       "      <td>0</td>\n",
       "      <td>0</td>\n",
       "      <td>0</td>\n",
       "      <td>0</td>\n",
       "      <td>0</td>\n",
       "      <td>0</td>\n",
       "      <td>0</td>\n",
       "      <td>0</td>\n",
       "      <td>...</td>\n",
       "      <td>0</td>\n",
       "      <td>0</td>\n",
       "      <td>0</td>\n",
       "      <td>0</td>\n",
       "      <td>0</td>\n",
       "      <td>0</td>\n",
       "      <td>0</td>\n",
       "      <td>0</td>\n",
       "      <td>0</td>\n",
       "      <td>0</td>\n",
       "    </tr>\n",
       "  </tbody>\n",
       "</table>\n",
       "<p>775 rows × 118 columns</p>\n",
       "</div>"
      ],
      "text/plain": [
       "       profile  .NET  ASP.NET  AWS  AWS S3  Adobe Photoshop  Agile  \\\n",
       "0    Fullstack     0        0    0       0                0      0   \n",
       "1     Frontend     0        0    0       0                0      0   \n",
       "2           ML     0        0    0       0                0      0   \n",
       "3           ML     0        0    0       0                0      0   \n",
       "4           QA     0        0    0       1                0      0   \n",
       "..         ...   ...      ...  ...     ...              ...    ...   \n",
       "770   Frontend     0        0    0       0                0      0   \n",
       "771   Frontend     0        0    0       0                0      0   \n",
       "772   Frontend     0        0    0       0                0      0   \n",
       "773         ML     0        0    0       0                0      0   \n",
       "774  Fullstack     0        0    0       0                0      0   \n",
       "\n",
       "     Agile Methodology  Agile Software Development  Ajax  ...  \\\n",
       "0                    0                           0     0  ...   \n",
       "1                    0                           0     0  ...   \n",
       "2                    0                           0     0  ...   \n",
       "3                    0                           0     0  ...   \n",
       "4                    0                           0     0  ...   \n",
       "..                 ...                         ...   ...  ...   \n",
       "770                  0                           0     0  ...   \n",
       "771                  1                           0     0  ...   \n",
       "772                  0                           0     0  ...   \n",
       "773                  0                           0     0  ...   \n",
       "774                  0                           0     0  ...   \n",
       "\n",
       "     Version Control  Visual  Visual Studio  Web API  Windows  Wireframing  \\\n",
       "0                  0       0              0        0        0            0   \n",
       "1                  1       0              0        0        0            0   \n",
       "2                  0       0              0        0        0            0   \n",
       "3                  0       0              0        0        0            0   \n",
       "4                  0       0              0        0        0            0   \n",
       "..               ...     ...            ...      ...      ...          ...   \n",
       "770                0       0              0        0        0            0   \n",
       "771                0       0              0        0        0            0   \n",
       "772                1       0              0        0        0            1   \n",
       "773                0       0              0        0        0            0   \n",
       "774                0       0              0        0        0            0   \n",
       "\n",
       "     WordPress  Written English  jQuery  js  \n",
       "0            0                0       0   0  \n",
       "1            0                1       0   1  \n",
       "2            0                0       0   0  \n",
       "3            0                0       0   0  \n",
       "4            0                0       0   0  \n",
       "..         ...              ...     ...  ..  \n",
       "770          0                0       0   0  \n",
       "771          0                1       0   1  \n",
       "772          0                1       0   1  \n",
       "773          0                0       0   0  \n",
       "774          0                0       0   0  \n",
       "\n",
       "[775 rows x 118 columns]"
      ]
     },
     "execution_count": 4,
     "metadata": {},
     "output_type": "execute_result"
    },
    {
     "data": {
      "application/javascript": [
       "\n",
       "            setTimeout(function() {\n",
       "                var nbb_cell_id = 4;\n",
       "                var nbb_unformatted_code = \"data\";\n",
       "                var nbb_formatted_code = \"data\";\n",
       "                var nbb_cells = Jupyter.notebook.get_cells();\n",
       "                for (var i = 0; i < nbb_cells.length; ++i) {\n",
       "                    if (nbb_cells[i].input_prompt_number == nbb_cell_id) {\n",
       "                        if (nbb_cells[i].get_text() == nbb_unformatted_code) {\n",
       "                             nbb_cells[i].set_text(nbb_formatted_code);\n",
       "                        }\n",
       "                        break;\n",
       "                    }\n",
       "                }\n",
       "            }, 500);\n",
       "            "
      ],
      "text/plain": [
       "<IPython.core.display.Javascript object>"
      ]
     },
     "metadata": {},
     "output_type": "display_data"
    }
   ],
   "source": [
    "data"
   ]
  },
  {
   "cell_type": "code",
   "execution_count": 5,
   "metadata": {},
   "outputs": [
    {
     "data": {
      "application/javascript": [
       "\n",
       "            setTimeout(function() {\n",
       "                var nbb_cell_id = 5;\n",
       "                var nbb_unformatted_code = \"# Assign all columns besides the profile col as the input variables (X)\\nX = data.iloc[:, 1:]\\n# Assign the profile col as the output variable (y)\\ny = data.iloc[:, 0]\";\n",
       "                var nbb_formatted_code = \"# Assign all columns besides the profile col as the input variables (X)\\nX = data.iloc[:, 1:]\\n# Assign the profile col as the output variable (y)\\ny = data.iloc[:, 0]\";\n",
       "                var nbb_cells = Jupyter.notebook.get_cells();\n",
       "                for (var i = 0; i < nbb_cells.length; ++i) {\n",
       "                    if (nbb_cells[i].input_prompt_number == nbb_cell_id) {\n",
       "                        if (nbb_cells[i].get_text() == nbb_unformatted_code) {\n",
       "                             nbb_cells[i].set_text(nbb_formatted_code);\n",
       "                        }\n",
       "                        break;\n",
       "                    }\n",
       "                }\n",
       "            }, 500);\n",
       "            "
      ],
      "text/plain": [
       "<IPython.core.display.Javascript object>"
      ]
     },
     "metadata": {},
     "output_type": "display_data"
    }
   ],
   "source": [
    "# Assign all columns besides the profile col as the input variables (X)\n",
    "X = data.iloc[:, 1:]\n",
    "# Assign the profile col as the output variable (y)\n",
    "y = data.iloc[:, 0]"
   ]
  },
  {
   "cell_type": "code",
   "execution_count": 6,
   "metadata": {},
   "outputs": [
    {
     "data": {
      "application/javascript": [
       "\n",
       "            setTimeout(function() {\n",
       "                var nbb_cell_id = 6;\n",
       "                var nbb_unformatted_code = \"# Split to the data to test & train data\\nX_train, X_test, y_train, y_test = tts(X, y, test_size=0.3, random_state=0)\";\n",
       "                var nbb_formatted_code = \"# Split to the data to test & train data\\nX_train, X_test, y_train, y_test = tts(X, y, test_size=0.3, random_state=0)\";\n",
       "                var nbb_cells = Jupyter.notebook.get_cells();\n",
       "                for (var i = 0; i < nbb_cells.length; ++i) {\n",
       "                    if (nbb_cells[i].input_prompt_number == nbb_cell_id) {\n",
       "                        if (nbb_cells[i].get_text() == nbb_unformatted_code) {\n",
       "                             nbb_cells[i].set_text(nbb_formatted_code);\n",
       "                        }\n",
       "                        break;\n",
       "                    }\n",
       "                }\n",
       "            }, 500);\n",
       "            "
      ],
      "text/plain": [
       "<IPython.core.display.Javascript object>"
      ]
     },
     "metadata": {},
     "output_type": "display_data"
    }
   ],
   "source": [
    "# Split to the data to test & train data\n",
    "X_train, X_test, y_train, y_test = tts(X, y, test_size=0.3, random_state=0)"
   ]
  },
  {
   "cell_type": "markdown",
   "metadata": {},
   "source": [
    "# Evaluating the model by Cross Validation\n",
    "When using machine learning algorithms which implement stochastic learning algorithms, it's good practice to evaluate them by averaging their performance across multiple runs or repeats of cross-validation. When fitting a final model, it may be a good idea to either increase the number of trees until the variance of the model is reduced across repeated evaluations, or to fit multiple final models and average their predictions."
   ]
  },
  {
   "cell_type": "code",
   "execution_count": 7,
   "metadata": {},
   "outputs": [
    {
     "name": "stdout",
     "output_type": "stream",
     "text": [
      "Accuracy: 0.731 (0.035)\n"
     ]
    },
    {
     "data": {
      "application/javascript": [
       "\n",
       "            setTimeout(function() {\n",
       "                var nbb_cell_id = 7;\n",
       "                var nbb_unformatted_code = \"# define the model\\nmodel = RandomForestClassifier()\\n# evaluate the model\\ncv = RepeatedStratifiedKFold(n_repeats=3, random_state=1)\\nn_scores = cross_val_score(\\n    model, X, y, scoring=\\\"accuracy\\\", cv=cv, n_jobs=-1, error_score=\\\"raise\\\"\\n)\\n# report performance\\nprint(\\\"Accuracy: %.3f (%.3f)\\\" % (mean(n_scores), std(n_scores)))\";\n",
       "                var nbb_formatted_code = \"# define the model\\nmodel = RandomForestClassifier()\\n# evaluate the model\\ncv = RepeatedStratifiedKFold(n_repeats=3, random_state=1)\\nn_scores = cross_val_score(\\n    model, X, y, scoring=\\\"accuracy\\\", cv=cv, n_jobs=-1, error_score=\\\"raise\\\"\\n)\\n# report performance\\nprint(\\\"Accuracy: %.3f (%.3f)\\\" % (mean(n_scores), std(n_scores)))\";\n",
       "                var nbb_cells = Jupyter.notebook.get_cells();\n",
       "                for (var i = 0; i < nbb_cells.length; ++i) {\n",
       "                    if (nbb_cells[i].input_prompt_number == nbb_cell_id) {\n",
       "                        if (nbb_cells[i].get_text() == nbb_unformatted_code) {\n",
       "                             nbb_cells[i].set_text(nbb_formatted_code);\n",
       "                        }\n",
       "                        break;\n",
       "                    }\n",
       "                }\n",
       "            }, 500);\n",
       "            "
      ],
      "text/plain": [
       "<IPython.core.display.Javascript object>"
      ]
     },
     "metadata": {},
     "output_type": "display_data"
    }
   ],
   "source": [
    "# define the model\n",
    "model = RandomForestClassifier()\n",
    "# evaluate the model\n",
    "cv = RepeatedStratifiedKFold(n_repeats=3, random_state=1)\n",
    "n_scores = cross_val_score(\n",
    "    model, X, y, scoring=\"accuracy\", cv=cv, n_jobs=-1, error_score=\"raise\"\n",
    ")\n",
    "# report performance\n",
    "print(\"Accuracy: %.3f (%.3f)\" % (mean(n_scores), std(n_scores)))"
   ]
  },
  {
   "cell_type": "markdown",
   "metadata": {},
   "source": [
    "# Hypertuning Algorithm Parameters"
   ]
  },
  {
   "cell_type": "markdown",
   "metadata": {},
   "source": [
    "## Exploring the Tree's Depth (max_depth)\n",
    "The maximum number of levels in each decision tree making up the Random Forest. Each Decision Tree has to an arbitrary depth and is not pruned. Deeper trees are often more overfit to the training data, but are also less correlated, which in turn may improve the performance of the ensemble."
   ]
  },
  {
   "cell_type": "code",
   "execution_count": 8,
   "metadata": {},
   "outputs": [
    {
     "name": "stderr",
     "output_type": "stream",
     "text": [
      "c:\\users\\oefel\\.virtualenvs\\celerative_working-mkc17mr_\\lib\\site-packages\\sklearn\\base.py:213: FutureWarning: From version 0.24, get_params will raise an AttributeError if a parameter cannot be retrieved as an instance attribute. Previously it would return None.\n",
      "  FutureWarning)\n"
     ]
    },
    {
     "data": {
      "image/png": "[encoded data removed]",
      "text/plain": [
       "<Figure size 576x396 with 1 Axes>"
      ]
     },
     "metadata": {},
     "output_type": "display_data"
    },
    {
     "data": {
      "text/plain": [
       "<AxesSubplot:title={'center':'Validation Curve for RandomForestClassifier'}, xlabel='max_depth', ylabel='score'>"
      ]
     },
     "execution_count": 8,
     "metadata": {},
     "output_type": "execute_result"
    },
    {
     "data": {
      "application/javascript": [
       "\n",
       "            setTimeout(function() {\n",
       "                var nbb_cell_id = 8;\n",
       "                var nbb_unformatted_code = \"# @TODO Explain the Visualizer\\nfrom yellowbrick.model_selection import ValidationCurve\\n\\nviz = ValidationCurve(\\n    RandomForestClassifier(),\\n    param_name=\\\"max_depth\\\",\\n    param_range=np.arange(1, 21),\\n    cv=3,\\n    scoring=\\\"accuracy\\\",\\n)\\n\\n# Fit the visualizer\\nviz.fit(X, y)\\n# Show the visualizer\\nviz.show()\";\n",
       "                var nbb_formatted_code = \"# @TODO Explain the Visualizer\\nfrom yellowbrick.model_selection import ValidationCurve\\n\\nviz = ValidationCurve(\\n    RandomForestClassifier(),\\n    param_name=\\\"max_depth\\\",\\n    param_range=np.arange(1, 21),\\n    cv=3,\\n    scoring=\\\"accuracy\\\",\\n)\\n\\n# Fit the visualizer\\nviz.fit(X, y)\\n# Show the visualizer\\nviz.show()\";\n",
       "                var nbb_cells = Jupyter.notebook.get_cells();\n",
       "                for (var i = 0; i < nbb_cells.length; ++i) {\n",
       "                    if (nbb_cells[i].input_prompt_number == nbb_cell_id) {\n",
       "                        if (nbb_cells[i].get_text() == nbb_unformatted_code) {\n",
       "                             nbb_cells[i].set_text(nbb_formatted_code);\n",
       "                        }\n",
       "                        break;\n",
       "                    }\n",
       "                }\n",
       "            }, 500);\n",
       "            "
      ],
      "text/plain": [
       "<IPython.core.display.Javascript object>"
      ]
     },
     "metadata": {},
     "output_type": "display_data"
    }
   ],
   "source": [
    "# @TODO Explain the Visualizer\n",
    "from yellowbrick.model_selection import ValidationCurve\n",
    "\n",
    "viz = ValidationCurve(\n",
    "    RandomForestClassifier(),\n",
    "    param_name=\"max_depth\",\n",
    "    param_range=np.arange(1, 21),\n",
    "    cv=3,\n",
    "    scoring=\"accuracy\",\n",
    ")\n",
    "\n",
    "# Fit the visualizer\n",
    "viz.fit(X, y)\n",
    "# Show the visualizer\n",
    "viz.show()"
   ]
  },
  {
   "cell_type": "code",
   "execution_count": 9,
   "metadata": {},
   "outputs": [
    {
     "data": {
      "application/javascript": [
       "\n",
       "            setTimeout(function() {\n",
       "                var nbb_cell_id = 9;\n",
       "                var nbb_unformatted_code = \"# get list of models to evaluate\\ndef get_models():\\n    models = dict()\\n    # consider tree depths from 1 to 7 and None=full\\n    depths = [i for i in range(1, 16)] + [None]\\n    for n in depths:\\n        models[str(n)] = RandomForestClassifier(max_depth=n)\\n    return models\\n\\n\\n# evaluate given model using cross-validation\\ndef evaluate_model(model, X, y):\\n    # define the evaluation procedure\\n    cv = RepeatedStratifiedKFold(n_repeats=3, random_state=0)\\n    # evaluate the model and collect the results\\n    scores = cross_val_score(model, X, y, scoring=\\\"accuracy\\\", cv=cv, n_jobs=-1)\\n    return scores\";\n",
       "                var nbb_formatted_code = \"# get list of models to evaluate\\ndef get_models():\\n    models = dict()\\n    # consider tree depths from 1 to 7 and None=full\\n    depths = [i for i in range(1, 16)] + [None]\\n    for n in depths:\\n        models[str(n)] = RandomForestClassifier(max_depth=n)\\n    return models\\n\\n\\n# evaluate given model using cross-validation\\ndef evaluate_model(model, X, y):\\n    # define the evaluation procedure\\n    cv = RepeatedStratifiedKFold(n_repeats=3, random_state=0)\\n    # evaluate the model and collect the results\\n    scores = cross_val_score(model, X, y, scoring=\\\"accuracy\\\", cv=cv, n_jobs=-1)\\n    return scores\";\n",
       "                var nbb_cells = Jupyter.notebook.get_cells();\n",
       "                for (var i = 0; i < nbb_cells.length; ++i) {\n",
       "                    if (nbb_cells[i].input_prompt_number == nbb_cell_id) {\n",
       "                        if (nbb_cells[i].get_text() == nbb_unformatted_code) {\n",
       "                             nbb_cells[i].set_text(nbb_formatted_code);\n",
       "                        }\n",
       "                        break;\n",
       "                    }\n",
       "                }\n",
       "            }, 500);\n",
       "            "
      ],
      "text/plain": [
       "<IPython.core.display.Javascript object>"
      ]
     },
     "metadata": {},
     "output_type": "display_data"
    }
   ],
   "source": [
    "# get list of models to evaluate\n",
    "def get_models():\n",
    "    models = dict()\n",
    "    # consider tree depths from 1 to 7 and None=full\n",
    "    depths = [i for i in range(1, 16)] + [None]\n",
    "    for n in depths:\n",
    "        models[str(n)] = RandomForestClassifier(max_depth=n)\n",
    "    return models\n",
    "\n",
    "\n",
    "# evaluate given model using cross-validation\n",
    "def evaluate_model(model, X, y):\n",
    "    # define the evaluation procedure\n",
    "    cv = RepeatedStratifiedKFold(n_repeats=3, random_state=0)\n",
    "    # evaluate the model and collect the results\n",
    "    scores = cross_val_score(model, X, y, scoring=\"accuracy\", cv=cv, n_jobs=-1)\n",
    "    return scores"
   ]
  },
  {
   "cell_type": "markdown",
   "metadata": {},
   "source": [
    "### Interpreting the Plot\n",
    "The Box & Whisker aligns with Validation Curve generated above in that peak accuracy is acheived at tree depths exceeding 10."
   ]
  },
  {
   "cell_type": "code",
   "execution_count": 10,
   "metadata": {},
   "outputs": [
    {
     "data": {
      "image/png": "[encoded data removed]",
      "text/plain": [
       "<Figure size 576x396 with 1 Axes>"
      ]
     },
     "metadata": {},
     "output_type": "display_data"
    },
    {
     "data": {
      "application/javascript": [
       "\n",
       "            setTimeout(function() {\n",
       "                var nbb_cell_id = 10;\n",
       "                var nbb_unformatted_code = \"# get the models to evaluate\\nmodels = get_models()\\n# evaluate the models and store results\\nresults, names = list(), list()\\nfor name, model in models.items():\\n    # evaluate the model\\n    scores = evaluate_model(model, X, y)\\n    # store the results\\n    results.append(scores)\\n    names.append(name)\\n    # summarize the performance along the way\\n#     print(\\\">%s %.3f (%.3f)\\\" % (name, mean(scores), std(scores)))\\n# plot model performance for comparison\\nplt.boxplot(results, labels=names, showmeans=True)\\nplt.show()\";\n",
       "                var nbb_formatted_code = \"# get the models to evaluate\\nmodels = get_models()\\n# evaluate the models and store results\\nresults, names = list(), list()\\nfor name, model in models.items():\\n    # evaluate the model\\n    scores = evaluate_model(model, X, y)\\n    # store the results\\n    results.append(scores)\\n    names.append(name)\\n    # summarize the performance along the way\\n#     print(\\\">%s %.3f (%.3f)\\\" % (name, mean(scores), std(scores)))\\n# plot model performance for comparison\\nplt.boxplot(results, labels=names, showmeans=True)\\nplt.show()\";\n",
       "                var nbb_cells = Jupyter.notebook.get_cells();\n",
       "                for (var i = 0; i < nbb_cells.length; ++i) {\n",
       "                    if (nbb_cells[i].input_prompt_number == nbb_cell_id) {\n",
       "                        if (nbb_cells[i].get_text() == nbb_unformatted_code) {\n",
       "                             nbb_cells[i].set_text(nbb_formatted_code);\n",
       "                        }\n",
       "                        break;\n",
       "                    }\n",
       "                }\n",
       "            }, 500);\n",
       "            "
      ],
      "text/plain": [
       "<IPython.core.display.Javascript object>"
      ]
     },
     "metadata": {},
     "output_type": "display_data"
    }
   ],
   "source": [
    "# get the models to evaluate\n",
    "models = get_models()\n",
    "# evaluate the models and store results\n",
    "results, names = list(), list()\n",
    "for name, model in models.items():\n",
    "    # evaluate the model\n",
    "    scores = evaluate_model(model, X, y)\n",
    "    # store the results\n",
    "    results.append(scores)\n",
    "    names.append(name)\n",
    "    # summarize the performance along the way\n",
    "#     print(\">%s %.3f (%.3f)\" % (name, mean(scores), std(scores)))\n",
    "# plot model performance for comparison\n",
    "plt.boxplot(results, labels=names, showmeans=True)\n",
    "plt.show()"
   ]
  },
  {
   "cell_type": "markdown",
   "metadata": {},
   "source": [
    "## Exploring the Number of Features (max_features)\n",
    "The number of features that are randomly sampled at each split point. This is perhaps the most important feature to configure for random forest!"
   ]
  },
  {
   "cell_type": "code",
   "execution_count": 11,
   "metadata": {},
   "outputs": [
    {
     "name": "stderr",
     "output_type": "stream",
     "text": [
      "c:\\users\\oefel\\.virtualenvs\\celerative_working-mkc17mr_\\lib\\site-packages\\sklearn\\base.py:213: FutureWarning: From version 0.24, get_params will raise an AttributeError if a parameter cannot be retrieved as an instance attribute. Previously it would return None.\n",
      "  FutureWarning)\n"
     ]
    },
    {
     "data": {
      "image/png": "[encoded data removed]",
      "text/plain": [
       "<Figure size 576x396 with 1 Axes>"
      ]
     },
     "metadata": {},
     "output_type": "display_data"
    },
    {
     "data": {
      "text/plain": [
       "<AxesSubplot:title={'center':'Validation Curve for RandomForestClassifier'}, xlabel='max_features', ylabel='score'>"
      ]
     },
     "execution_count": 11,
     "metadata": {},
     "output_type": "execute_result"
    },
    {
     "data": {
      "application/javascript": [
       "\n",
       "            setTimeout(function() {\n",
       "                var nbb_cell_id = 11;\n",
       "                var nbb_unformatted_code = \"from yellowbrick.model_selection import ValidationCurve\\n\\nviz = ValidationCurve(\\n    RandomForestClassifier(),\\n    param_name=\\\"max_features\\\",\\n    param_range=np.arange(1, 19),\\n    cv=3,\\n    scoring=\\\"accuracy\\\",\\n)\\n\\n# Fit and show the visualizer\\nviz.fit(X, y)\\nviz.show()\";\n",
       "                var nbb_formatted_code = \"from yellowbrick.model_selection import ValidationCurve\\n\\nviz = ValidationCurve(\\n    RandomForestClassifier(),\\n    param_name=\\\"max_features\\\",\\n    param_range=np.arange(1, 19),\\n    cv=3,\\n    scoring=\\\"accuracy\\\",\\n)\\n\\n# Fit and show the visualizer\\nviz.fit(X, y)\\nviz.show()\";\n",
       "                var nbb_cells = Jupyter.notebook.get_cells();\n",
       "                for (var i = 0; i < nbb_cells.length; ++i) {\n",
       "                    if (nbb_cells[i].input_prompt_number == nbb_cell_id) {\n",
       "                        if (nbb_cells[i].get_text() == nbb_unformatted_code) {\n",
       "                             nbb_cells[i].set_text(nbb_formatted_code);\n",
       "                        }\n",
       "                        break;\n",
       "                    }\n",
       "                }\n",
       "            }, 500);\n",
       "            "
      ],
      "text/plain": [
       "<IPython.core.display.Javascript object>"
      ]
     },
     "metadata": {},
     "output_type": "display_data"
    }
   ],
   "source": [
    "from yellowbrick.model_selection import ValidationCurve\n",
    "\n",
    "viz = ValidationCurve(\n",
    "    RandomForestClassifier(),\n",
    "    param_name=\"max_features\",\n",
    "    param_range=np.arange(1, 19),\n",
    "    cv=3,\n",
    "    scoring=\"accuracy\",\n",
    ")\n",
    "\n",
    "# Fit and show the visualizer\n",
    "viz.fit(X, y)\n",
    "viz.show()"
   ]
  },
  {
   "cell_type": "markdown",
   "metadata": {},
   "source": [
    "### Interpreting the Plot\n",
    "It's clear that setting the max_features argument will not significantly impact algorithm performance as results are too stochastic to reveal any clear pattern. "
   ]
  },
  {
   "cell_type": "code",
   "execution_count": 12,
   "metadata": {},
   "outputs": [
    {
     "data": {
      "image/png": "[encoded data removed]",
      "text/plain": [
       "<Figure size 576x396 with 1 Axes>"
      ]
     },
     "metadata": {},
     "output_type": "display_data"
    },
    {
     "data": {
      "application/javascript": [
       "\n",
       "            setTimeout(function() {\n",
       "                var nbb_cell_id = 12;\n",
       "                var nbb_unformatted_code = \"# get a list of models to evaluate\\ndef get_models():\\n    models = dict()\\n    # explore number of features from 1 to 38\\n    for i in range(1, 19):\\n        models[str(i)] = RandomForestClassifier(max_features=i)\\n    return models\\n\\n\\n# evaluate a given model using cross-validation\\ndef evaluate_model(model, X_train, y_train):\\n    # define the evaluation procedure\\n    cv = RepeatedStratifiedKFold(n_repeats=3, random_state=1)\\n    # evaluate the model and collect the results\\n    scores = cross_val_score(\\n        model, X_train, y_train, scoring=\\\"accuracy\\\", cv=cv, n_jobs=-1\\n    )\\n    return scores\\n\\n\\nmodels = get_models()\\n# evaluate the models and store results\\nresults, names = list(), list()\\nfor name, model in models.items():\\n    # evaluate the model\\n    scores = evaluate_model(model, X_train, y_train)\\n    # store the results\\n    results.append(scores)\\n    names.append(name)\\n    # summarize the performance along the way\\n#     print(\\\">%s %.3f (%.3f)\\\" % (name, mean(scores), std(scores)))\\n# plot model performance for comparison\\nplt.boxplot(results, labels=names, showmeans=True)\\nplt.show()\";\n",
       "                var nbb_formatted_code = \"# get a list of models to evaluate\\ndef get_models():\\n    models = dict()\\n    # explore number of features from 1 to 38\\n    for i in range(1, 19):\\n        models[str(i)] = RandomForestClassifier(max_features=i)\\n    return models\\n\\n\\n# evaluate a given model using cross-validation\\ndef evaluate_model(model, X_train, y_train):\\n    # define the evaluation procedure\\n    cv = RepeatedStratifiedKFold(n_repeats=3, random_state=1)\\n    # evaluate the model and collect the results\\n    scores = cross_val_score(\\n        model, X_train, y_train, scoring=\\\"accuracy\\\", cv=cv, n_jobs=-1\\n    )\\n    return scores\\n\\n\\nmodels = get_models()\\n# evaluate the models and store results\\nresults, names = list(), list()\\nfor name, model in models.items():\\n    # evaluate the model\\n    scores = evaluate_model(model, X_train, y_train)\\n    # store the results\\n    results.append(scores)\\n    names.append(name)\\n    # summarize the performance along the way\\n#     print(\\\">%s %.3f (%.3f)\\\" % (name, mean(scores), std(scores)))\\n# plot model performance for comparison\\nplt.boxplot(results, labels=names, showmeans=True)\\nplt.show()\";\n",
       "                var nbb_cells = Jupyter.notebook.get_cells();\n",
       "                for (var i = 0; i < nbb_cells.length; ++i) {\n",
       "                    if (nbb_cells[i].input_prompt_number == nbb_cell_id) {\n",
       "                        if (nbb_cells[i].get_text() == nbb_unformatted_code) {\n",
       "                             nbb_cells[i].set_text(nbb_formatted_code);\n",
       "                        }\n",
       "                        break;\n",
       "                    }\n",
       "                }\n",
       "            }, 500);\n",
       "            "
      ],
      "text/plain": [
       "<IPython.core.display.Javascript object>"
      ]
     },
     "metadata": {},
     "output_type": "display_data"
    }
   ],
   "source": [
    "# get a list of models to evaluate\n",
    "def get_models():\n",
    "    models = dict()\n",
    "    # explore number of features from 1 to 38\n",
    "    for i in range(1, 19):\n",
    "        models[str(i)] = RandomForestClassifier(max_features=i)\n",
    "    return models\n",
    "\n",
    "\n",
    "# evaluate a given model using cross-validation\n",
    "def evaluate_model(model, X_train, y_train):\n",
    "    # define the evaluation procedure\n",
    "    cv = RepeatedStratifiedKFold(n_repeats=3, random_state=1)\n",
    "    # evaluate the model and collect the results\n",
    "    scores = cross_val_score(\n",
    "        model, X_train, y_train, scoring=\"accuracy\", cv=cv, n_jobs=-1\n",
    "    )\n",
    "    return scores\n",
    "\n",
    "\n",
    "models = get_models()\n",
    "# evaluate the models and store results\n",
    "results, names = list(), list()\n",
    "for name, model in models.items():\n",
    "    # evaluate the model\n",
    "    scores = evaluate_model(model, X_train, y_train)\n",
    "    # store the results\n",
    "    results.append(scores)\n",
    "    names.append(name)\n",
    "    # summarize the performance along the way\n",
    "#     print(\">%s %.3f (%.3f)\" % (name, mean(scores), std(scores)))\n",
    "# plot model performance for comparison\n",
    "plt.boxplot(results, labels=names, showmeans=True)\n",
    "plt.show()"
   ]
  },
  {
   "cell_type": "markdown",
   "metadata": {},
   "source": [
    "## Exploring the Number of Trees (n_estimators)\n",
    "The number of trees used in the forest."
   ]
  },
  {
   "cell_type": "code",
   "execution_count": 13,
   "metadata": {},
   "outputs": [
    {
     "name": "stdout",
     "output_type": "stream",
     "text": [
      "Best: 0.741886 using {'max_features': 'log2', 'n_estimators': 100}\n",
      "0.729426 (0.039279) with: {'max_features': 'sqrt', 'n_estimators': 10}\n",
      "0.735875 (0.046824) with: {'max_features': 'sqrt', 'n_estimators': 100}\n",
      "0.738040 (0.046577) with: {'max_features': 'sqrt', 'n_estimators': 1000}\n",
      "0.724226 (0.047677) with: {'max_features': 'log2', 'n_estimators': 10}\n",
      "0.741886 (0.049217) with: {'max_features': 'log2', 'n_estimators': 100}\n",
      "0.741503 (0.048470) with: {'max_features': 'log2', 'n_estimators': 1000}\n"
     ]
    },
    {
     "data": {
      "application/javascript": [
       "\n",
       "            setTimeout(function() {\n",
       "                var nbb_cell_id = 13;\n",
       "                var nbb_unformatted_code = \"n_estimators = [10, 100, 1000]\\nmax_features = [\\\"sqrt\\\", \\\"log2\\\"]\\n# define grid search\\ngrid = dict(n_estimators=n_estimators, max_features=max_features)\\ncv = RepeatedStratifiedKFold(n_splits=10, n_repeats=3, random_state=1)\\ngrid_search = GridSearchCV(\\n    estimator=model,\\n    param_grid=grid,\\n    n_jobs=-1,\\n    cv=cv,\\n    scoring=\\\"accuracy\\\",\\n    error_score=0,\\n)\\ngrid_result = grid_search.fit(X, y)\\n# summarize results\\nprint(\\\"Best: %f using %s\\\" % (grid_result.best_score_, grid_result.best_params_))\\nmeans = grid_result.cv_results_[\\\"mean_test_score\\\"]\\nstds = grid_result.cv_results_[\\\"std_test_score\\\"]\\nparams = grid_result.cv_results_[\\\"params\\\"]\\nfor mean, stdev, param in zip(means, stds, params):\\n    print(\\\"%f (%f) with: %r\\\" % (mean, stdev, param))\";\n",
       "                var nbb_formatted_code = \"n_estimators = [10, 100, 1000]\\nmax_features = [\\\"sqrt\\\", \\\"log2\\\"]\\n# define grid search\\ngrid = dict(n_estimators=n_estimators, max_features=max_features)\\ncv = RepeatedStratifiedKFold(n_splits=10, n_repeats=3, random_state=1)\\ngrid_search = GridSearchCV(\\n    estimator=model,\\n    param_grid=grid,\\n    n_jobs=-1,\\n    cv=cv,\\n    scoring=\\\"accuracy\\\",\\n    error_score=0,\\n)\\ngrid_result = grid_search.fit(X, y)\\n# summarize results\\nprint(\\\"Best: %f using %s\\\" % (grid_result.best_score_, grid_result.best_params_))\\nmeans = grid_result.cv_results_[\\\"mean_test_score\\\"]\\nstds = grid_result.cv_results_[\\\"std_test_score\\\"]\\nparams = grid_result.cv_results_[\\\"params\\\"]\\nfor mean, stdev, param in zip(means, stds, params):\\n    print(\\\"%f (%f) with: %r\\\" % (mean, stdev, param))\";\n",
       "                var nbb_cells = Jupyter.notebook.get_cells();\n",
       "                for (var i = 0; i < nbb_cells.length; ++i) {\n",
       "                    if (nbb_cells[i].input_prompt_number == nbb_cell_id) {\n",
       "                        if (nbb_cells[i].get_text() == nbb_unformatted_code) {\n",
       "                             nbb_cells[i].set_text(nbb_formatted_code);\n",
       "                        }\n",
       "                        break;\n",
       "                    }\n",
       "                }\n",
       "            }, 500);\n",
       "            "
      ],
      "text/plain": [
       "<IPython.core.display.Javascript object>"
      ]
     },
     "metadata": {},
     "output_type": "display_data"
    }
   ],
   "source": [
    "n_estimators = [10, 100, 1000]\n",
    "max_features = [\"sqrt\", \"log2\"]\n",
    "# define grid search\n",
    "grid = dict(n_estimators=n_estimators, max_features=max_features)\n",
    "cv = RepeatedStratifiedKFold(n_splits=10, n_repeats=3, random_state=1)\n",
    "grid_search = GridSearchCV(\n",
    "    estimator=model,\n",
    "    param_grid=grid,\n",
    "    n_jobs=-1,\n",
    "    cv=cv,\n",
    "    scoring=\"accuracy\",\n",
    "    error_score=0,\n",
    ")\n",
    "grid_result = grid_search.fit(X, y)\n",
    "# summarize results\n",
    "print(\"Best: %f using %s\" % (grid_result.best_score_, grid_result.best_params_))\n",
    "means = grid_result.cv_results_[\"mean_test_score\"]\n",
    "stds = grid_result.cv_results_[\"std_test_score\"]\n",
    "params = grid_result.cv_results_[\"params\"]\n",
    "for mean, stdev, param in zip(means, stds, params):\n",
    "    print(\"%f (%f) with: %r\" % (mean, stdev, param))"
   ]
  },
  {
   "cell_type": "markdown",
   "metadata": {},
   "source": [
    "### Interpreting the Results\n",
    "log2 of total features (118) falls between 6-7 max_features, a number which aligns with the resuts previously returned with yellowbrick's validation curve graph. We can see that whether the random forest algorithm is trained on 10, 100 or 1000 trees doesn't make much of a difference to algorithm performance."
   ]
  },
  {
   "cell_type": "code",
   "execution_count": 14,
   "metadata": {},
   "outputs": [
    {
     "name": "stdout",
     "output_type": "stream",
     "text": [
      "Accuracy: 0.742 (0.032)\n"
     ]
    },
    {
     "data": {
      "application/javascript": [
       "\n",
       "            setTimeout(function() {\n",
       "                var nbb_cell_id = 14;\n",
       "                var nbb_unformatted_code = \"# evaluate random forest algorithm for classification\\nfrom numpy import mean\\nfrom numpy import std\\nfrom sklearn.model_selection import cross_val_score\\nfrom sklearn.model_selection import RepeatedStratifiedKFold\\nfrom sklearn.ensemble import RandomForestClassifier\\n\\n# define the model\\nmodel = RandomForestClassifier(max_features=15, max_depth=14)\\n# evaluate the model\\ncv = RepeatedStratifiedKFold(n_repeats=3, random_state=1)\\nn_scores = cross_val_score(\\n    model, X, y, scoring=\\\"accuracy\\\", cv=cv, n_jobs=-1, error_score=\\\"raise\\\"\\n)\\n# report performance\\nprint(\\\"Accuracy: %.3f (%.3f)\\\" % (mean(n_scores), std(n_scores)))\";\n",
       "                var nbb_formatted_code = \"# evaluate random forest algorithm for classification\\nfrom numpy import mean\\nfrom numpy import std\\nfrom sklearn.model_selection import cross_val_score\\nfrom sklearn.model_selection import RepeatedStratifiedKFold\\nfrom sklearn.ensemble import RandomForestClassifier\\n\\n# define the model\\nmodel = RandomForestClassifier(max_features=15, max_depth=14)\\n# evaluate the model\\ncv = RepeatedStratifiedKFold(n_repeats=3, random_state=1)\\nn_scores = cross_val_score(\\n    model, X, y, scoring=\\\"accuracy\\\", cv=cv, n_jobs=-1, error_score=\\\"raise\\\"\\n)\\n# report performance\\nprint(\\\"Accuracy: %.3f (%.3f)\\\" % (mean(n_scores), std(n_scores)))\";\n",
       "                var nbb_cells = Jupyter.notebook.get_cells();\n",
       "                for (var i = 0; i < nbb_cells.length; ++i) {\n",
       "                    if (nbb_cells[i].input_prompt_number == nbb_cell_id) {\n",
       "                        if (nbb_cells[i].get_text() == nbb_unformatted_code) {\n",
       "                             nbb_cells[i].set_text(nbb_formatted_code);\n",
       "                        }\n",
       "                        break;\n",
       "                    }\n",
       "                }\n",
       "            }, 500);\n",
       "            "
      ],
      "text/plain": [
       "<IPython.core.display.Javascript object>"
      ]
     },
     "metadata": {},
     "output_type": "display_data"
    }
   ],
   "source": [
    "# evaluate random forest algorithm for classification\n",
    "from numpy import mean\n",
    "from numpy import std\n",
    "from sklearn.model_selection import cross_val_score\n",
    "from sklearn.model_selection import RepeatedStratifiedKFold\n",
    "from sklearn.ensemble import RandomForestClassifier\n",
    "\n",
    "# define the model\n",
    "model = RandomForestClassifier(max_features=15, max_depth=14)\n",
    "# evaluate the model\n",
    "cv = RepeatedStratifiedKFold(n_repeats=3, random_state=1)\n",
    "n_scores = cross_val_score(\n",
    "    model, X, y, scoring=\"accuracy\", cv=cv, n_jobs=-1, error_score=\"raise\"\n",
    ")\n",
    "# report performance\n",
    "print(\"Accuracy: %.3f (%.3f)\" % (mean(n_scores), std(n_scores)))"
   ]
  },
  {
   "cell_type": "markdown",
   "metadata": {},
   "source": [
    "# Implementing Random Forest as a Binary Algorithm with OneVRest & OneVOne"
   ]
  },
  {
   "cell_type": "markdown",
   "metadata": {},
   "source": [
    "*from sklearn.multiclass import OneVsRestClassifier*\n",
    "<br>\n",
    "The (OneVRest) OVR method splits a multi-class classification problem into multiple binary problems, generating one model for each class. A binary classifier is trained for each binary problem, and predictions are made using the most confident model."
   ]
  },
  {
   "cell_type": "code",
   "execution_count": 15,
   "metadata": {},
   "outputs": [
    {
     "name": "stdout",
     "output_type": "stream",
     "text": [
      "Accuracy of random forest classifier on test set: 0.75\n"
     ]
    },
    {
     "data": {
      "application/javascript": [
       "\n",
       "            setTimeout(function() {\n",
       "                var nbb_cell_id = 15;\n",
       "                var nbb_unformatted_code = \"model = RandomForestClassifier(random_state=0)\\nn_classes = 5\\novr = OneVsRestClassifier(model)\\novr.fit(X_train, y_train)\\ny_pred = ovr.predict(X_test)\\nprint(\\n    \\\"Accuracy of random forest classifier on test set: {:.2f}\\\".format(\\n        ovr.score(X_test, y_test)\\n    )\\n)\";\n",
       "                var nbb_formatted_code = \"model = RandomForestClassifier(random_state=0)\\nn_classes = 5\\novr = OneVsRestClassifier(model)\\novr.fit(X_train, y_train)\\ny_pred = ovr.predict(X_test)\\nprint(\\n    \\\"Accuracy of random forest classifier on test set: {:.2f}\\\".format(\\n        ovr.score(X_test, y_test)\\n    )\\n)\";\n",
       "                var nbb_cells = Jupyter.notebook.get_cells();\n",
       "                for (var i = 0; i < nbb_cells.length; ++i) {\n",
       "                    if (nbb_cells[i].input_prompt_number == nbb_cell_id) {\n",
       "                        if (nbb_cells[i].get_text() == nbb_unformatted_code) {\n",
       "                             nbb_cells[i].set_text(nbb_formatted_code);\n",
       "                        }\n",
       "                        break;\n",
       "                    }\n",
       "                }\n",
       "            }, 500);\n",
       "            "
      ],
      "text/plain": [
       "<IPython.core.display.Javascript object>"
      ]
     },
     "metadata": {},
     "output_type": "display_data"
    }
   ],
   "source": [
    "model = RandomForestClassifier(random_state=0)\n",
    "n_classes = 5\n",
    "ovr = OneVsRestClassifier(model)\n",
    "ovr.fit(X_train, y_train)\n",
    "y_pred = ovr.predict(X_test)\n",
    "print(\n",
    "    \"Accuracy of random forest classifier on test set: {:.2f}\".format(\n",
    "        ovr.score(X_test, y_test)\n",
    "    )\n",
    ")"
   ]
  },
  {
   "cell_type": "markdown",
   "metadata": {},
   "source": [
    "*from sklearn.multiclass import OneVsOneClassifier*\n",
    "<br>\n",
    "The (OneVOne) OVO method also splits a multi-class classification problem into multiple binary problems, however, a dataset is created for each class vs class scenario.\n",
    "The number of datasets is equal to: (NumClasses * (NumClasses – 1)) / 2"
   ]
  },
  {
   "cell_type": "code",
   "execution_count": 16,
   "metadata": {},
   "outputs": [
    {
     "name": "stdout",
     "output_type": "stream",
     "text": [
      "Accuracy of random forest classifier on test set: 0.76\n"
     ]
    },
    {
     "data": {
      "application/javascript": [
       "\n",
       "            setTimeout(function() {\n",
       "                var nbb_cell_id = 16;\n",
       "                var nbb_unformatted_code = \"model = RandomForestClassifier(random_state=0)\\nn_classes = 5\\novo = OneVsOneClassifier(model)\\novo.fit(X_train, y_train)\\ny_pred = ovo.predict(X_test)\\nprint(\\n    \\\"Accuracy of random forest classifier on test set: {:.2f}\\\".format(\\n        ovo.score(X_test, y_test)\\n    )\\n)\";\n",
       "                var nbb_formatted_code = \"model = RandomForestClassifier(random_state=0)\\nn_classes = 5\\novo = OneVsOneClassifier(model)\\novo.fit(X_train, y_train)\\ny_pred = ovo.predict(X_test)\\nprint(\\n    \\\"Accuracy of random forest classifier on test set: {:.2f}\\\".format(\\n        ovo.score(X_test, y_test)\\n    )\\n)\";\n",
       "                var nbb_cells = Jupyter.notebook.get_cells();\n",
       "                for (var i = 0; i < nbb_cells.length; ++i) {\n",
       "                    if (nbb_cells[i].input_prompt_number == nbb_cell_id) {\n",
       "                        if (nbb_cells[i].get_text() == nbb_unformatted_code) {\n",
       "                             nbb_cells[i].set_text(nbb_formatted_code);\n",
       "                        }\n",
       "                        break;\n",
       "                    }\n",
       "                }\n",
       "            }, 500);\n",
       "            "
      ],
      "text/plain": [
       "<IPython.core.display.Javascript object>"
      ]
     },
     "metadata": {},
     "output_type": "display_data"
    }
   ],
   "source": [
    "model = RandomForestClassifier(random_state=0)\n",
    "n_classes = 5\n",
    "ovo = OneVsOneClassifier(model)\n",
    "ovo.fit(X_train, y_train)\n",
    "y_pred = ovo.predict(X_test)\n",
    "print(\n",
    "    \"Accuracy of random forest classifier on test set: {:.2f}\".format(\n",
    "        ovo.score(X_test, y_test)\n",
    "    )\n",
    ")"
   ]
  },
  {
   "cell_type": "markdown",
   "metadata": {},
   "source": [
    "### Interpreting the Results\n",
    "The OVO method provides an almost neglible improvement to algorithm performance over OVR, perhaps because OVO maintains the ratio of class samples, while the way OVR works actually creates class imbalance. It seems that so long as the problem doesn't consist of a great deal of classes, there is little advantages to converting a mutli-class problem to a binary one when implementing the Random Forest algorithm."
   ]
  }
 ],
 "metadata": {
  "kernelspec": {
   "display_name": "Python 3",
   "language": "python",
   "name": "python3"
  },
  "language_info": {
   "codemirror_mode": {
    "name": "ipython",
    "version": 3
   },
   "file_extension": ".py",
   "mimetype": "text/x-python",
   "name": "python",
   "nbconvert_exporter": "python",
   "pygments_lexer": "ipython3",
   "version": "3.7.9"
  }
 },
 "nbformat": 4,
 "nbformat_minor": 4
}
