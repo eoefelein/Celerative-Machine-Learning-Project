{
 "cells": [
  {
   "cell_type": "code",
   "execution_count": 1,
   "metadata": {},
   "outputs": [
    {
     "data": {
      "application/javascript": [
       "\n",
       "            setTimeout(function() {\n",
       "                var nbb_cell_id = 1;\n",
       "                var nbb_unformatted_code = \"%reload_ext nb_black\";\n",
       "                var nbb_formatted_code = \"%reload_ext nb_black\";\n",
       "                var nbb_cells = Jupyter.notebook.get_cells();\n",
       "                for (var i = 0; i < nbb_cells.length; ++i) {\n",
       "                    if (nbb_cells[i].input_prompt_number == nbb_cell_id) {\n",
       "                        if (nbb_cells[i].get_text() == nbb_unformatted_code) {\n",
       "                             nbb_cells[i].set_text(nbb_formatted_code);\n",
       "                        }\n",
       "                        break;\n",
       "                    }\n",
       "                }\n",
       "            }, 500);\n",
       "            "
      ],
      "text/plain": [
       "<IPython.core.display.Javascript object>"
      ]
     },
     "metadata": {},
     "output_type": "display_data"
    }
   ],
   "source": [
    "%reload_ext nb_black"
   ]
  },
  {
   "cell_type": "markdown",
   "metadata": {},
   "source": [
    "# Random Forest\n",
    "The Random Forest algorithm improves on the balance problem found with the Decision Tree algorithm as it limits overfitting without substantially increasing error due to bias."
   ]
  },
  {
   "cell_type": "code",
   "execution_count": 2,
   "metadata": {},
   "outputs": [
    {
     "data": {
      "application/javascript": [
       "\n",
       "            setTimeout(function() {\n",
       "                var nbb_cell_id = 2;\n",
       "                var nbb_unformatted_code = \"# evaluate random forest algorithm for classification\\nimport pandas as pd\\nimport numpy as np\\nfrom numpy import mean, std\\nimport matplotlib.pyplot as plt\\n\\nfrom sklearn.model_selection import train_test_split as tts\\n\\nfrom sklearn.multiclass import OneVsOneClassifier\\nfrom sklearn.multiclass import OneVsRestClassifier\\nfrom sklearn.ensemble import RandomForestClassifier\\n\\nfrom sklearn.model_selection import cross_val_score, GridSearchCV\\nfrom sklearn.model_selection import RepeatedStratifiedKFold\\n\\nfrom yellowbrick.classifier import ClassificationReport\\nfrom yellowbrick.model_selection import ValidationCurve\\n\\nimport warnings\\n\\nwarnings.filterwarnings(\\\"ignore\\\")\";\n",
       "                var nbb_formatted_code = \"# evaluate random forest algorithm for classification\\nimport pandas as pd\\nimport numpy as np\\nfrom numpy import mean, std\\nimport matplotlib.pyplot as plt\\n\\nfrom sklearn.model_selection import train_test_split as tts\\n\\nfrom sklearn.multiclass import OneVsOneClassifier\\nfrom sklearn.multiclass import OneVsRestClassifier\\nfrom sklearn.ensemble import RandomForestClassifier\\n\\nfrom sklearn.model_selection import cross_val_score, GridSearchCV\\nfrom sklearn.model_selection import RepeatedStratifiedKFold\\n\\nfrom yellowbrick.classifier import ClassificationReport\\nfrom yellowbrick.model_selection import ValidationCurve\\n\\nimport warnings\\n\\nwarnings.filterwarnings(\\\"ignore\\\")\";\n",
       "                var nbb_cells = Jupyter.notebook.get_cells();\n",
       "                for (var i = 0; i < nbb_cells.length; ++i) {\n",
       "                    if (nbb_cells[i].input_prompt_number == nbb_cell_id) {\n",
       "                        if (nbb_cells[i].get_text() == nbb_unformatted_code) {\n",
       "                             nbb_cells[i].set_text(nbb_formatted_code);\n",
       "                        }\n",
       "                        break;\n",
       "                    }\n",
       "                }\n",
       "            }, 500);\n",
       "            "
      ],
      "text/plain": [
       "<IPython.core.display.Javascript object>"
      ]
     },
     "metadata": {},
     "output_type": "display_data"
    }
   ],
   "source": [
    "# evaluate random forest algorithm for classification\n",
    "import pandas as pd\n",
    "import numpy as np\n",
    "from numpy import mean, std\n",
    "import matplotlib.pyplot as plt\n",
    "\n",
    "from sklearn.model_selection import train_test_split as tts\n",
    "\n",
    "from sklearn.multiclass import OneVsOneClassifier\n",
    "from sklearn.multiclass import OneVsRestClassifier\n",
    "from sklearn.ensemble import RandomForestClassifier\n",
    "\n",
    "from sklearn.model_selection import cross_val_score, GridSearchCV\n",
    "from sklearn.model_selection import RepeatedStratifiedKFold\n",
    "\n",
    "from yellowbrick.classifier import ClassificationReport\n",
    "from yellowbrick.model_selection import ValidationCurve\n",
    "\n",
    "import warnings\n",
    "\n",
    "warnings.filterwarnings(\"ignore\")"
   ]
  },
  {
   "cell_type": "code",
   "execution_count": 3,
   "metadata": {},
   "outputs": [
    {
     "data": {
      "text/html": [
       "<div>\n",
       "<style scoped>\n",
       "    .dataframe tbody tr th:only-of-type {\n",
       "        vertical-align: middle;\n",
       "    }\n",
       "\n",
       "    .dataframe tbody tr th {\n",
       "        vertical-align: top;\n",
       "    }\n",
       "\n",
       "    .dataframe thead th {\n",
       "        text-align: right;\n",
       "    }\n",
       "</style>\n",
       "<table border=\"1\" class=\"dataframe\">\n",
       "  <thead>\n",
       "    <tr style=\"text-align: right;\">\n",
       "      <th></th>\n",
       "      <th>profile</th>\n",
       "      <th>.NET</th>\n",
       "      <th>ASP.NET</th>\n",
       "      <th>AWS</th>\n",
       "      <th>AWS S3</th>\n",
       "      <th>Adobe Photoshop</th>\n",
       "      <th>Agile</th>\n",
       "      <th>Agile Methodology</th>\n",
       "      <th>Agile Software Development</th>\n",
       "      <th>Ajax</th>\n",
       "      <th>...</th>\n",
       "      <th>Version Control</th>\n",
       "      <th>Visual</th>\n",
       "      <th>Visual Studio</th>\n",
       "      <th>Web API</th>\n",
       "      <th>Windows</th>\n",
       "      <th>Wireframing</th>\n",
       "      <th>WordPress</th>\n",
       "      <th>Written English</th>\n",
       "      <th>jQuery</th>\n",
       "      <th>js</th>\n",
       "    </tr>\n",
       "  </thead>\n",
       "  <tbody>\n",
       "    <tr>\n",
       "      <th>0</th>\n",
       "      <td>Fullstack</td>\n",
       "      <td>0</td>\n",
       "      <td>0</td>\n",
       "      <td>0</td>\n",
       "      <td>0</td>\n",
       "      <td>0</td>\n",
       "      <td>0</td>\n",
       "      <td>0</td>\n",
       "      <td>0</td>\n",
       "      <td>0</td>\n",
       "      <td>...</td>\n",
       "      <td>0</td>\n",
       "      <td>0</td>\n",
       "      <td>0</td>\n",
       "      <td>0</td>\n",
       "      <td>0</td>\n",
       "      <td>0</td>\n",
       "      <td>0</td>\n",
       "      <td>0</td>\n",
       "      <td>0</td>\n",
       "      <td>0</td>\n",
       "    </tr>\n",
       "    <tr>\n",
       "      <th>1</th>\n",
       "      <td>Frontend</td>\n",
       "      <td>0</td>\n",
       "      <td>0</td>\n",
       "      <td>0</td>\n",
       "      <td>0</td>\n",
       "      <td>0</td>\n",
       "      <td>0</td>\n",
       "      <td>0</td>\n",
       "      <td>0</td>\n",
       "      <td>0</td>\n",
       "      <td>...</td>\n",
       "      <td>1</td>\n",
       "      <td>0</td>\n",
       "      <td>0</td>\n",
       "      <td>0</td>\n",
       "      <td>0</td>\n",
       "      <td>0</td>\n",
       "      <td>0</td>\n",
       "      <td>1</td>\n",
       "      <td>0</td>\n",
       "      <td>1</td>\n",
       "    </tr>\n",
       "    <tr>\n",
       "      <th>2</th>\n",
       "      <td>ML</td>\n",
       "      <td>0</td>\n",
       "      <td>0</td>\n",
       "      <td>0</td>\n",
       "      <td>0</td>\n",
       "      <td>0</td>\n",
       "      <td>0</td>\n",
       "      <td>0</td>\n",
       "      <td>0</td>\n",
       "      <td>0</td>\n",
       "      <td>...</td>\n",
       "      <td>0</td>\n",
       "      <td>0</td>\n",
       "      <td>0</td>\n",
       "      <td>0</td>\n",
       "      <td>0</td>\n",
       "      <td>0</td>\n",
       "      <td>0</td>\n",
       "      <td>0</td>\n",
       "      <td>0</td>\n",
       "      <td>0</td>\n",
       "    </tr>\n",
       "    <tr>\n",
       "      <th>3</th>\n",
       "      <td>ML</td>\n",
       "      <td>0</td>\n",
       "      <td>0</td>\n",
       "      <td>0</td>\n",
       "      <td>0</td>\n",
       "      <td>0</td>\n",
       "      <td>0</td>\n",
       "      <td>0</td>\n",
       "      <td>0</td>\n",
       "      <td>0</td>\n",
       "      <td>...</td>\n",
       "      <td>0</td>\n",
       "      <td>0</td>\n",
       "      <td>0</td>\n",
       "      <td>0</td>\n",
       "      <td>0</td>\n",
       "      <td>0</td>\n",
       "      <td>0</td>\n",
       "      <td>0</td>\n",
       "      <td>0</td>\n",
       "      <td>0</td>\n",
       "    </tr>\n",
       "    <tr>\n",
       "      <th>4</th>\n",
       "      <td>QA</td>\n",
       "      <td>0</td>\n",
       "      <td>0</td>\n",
       "      <td>0</td>\n",
       "      <td>1</td>\n",
       "      <td>0</td>\n",
       "      <td>0</td>\n",
       "      <td>0</td>\n",
       "      <td>0</td>\n",
       "      <td>0</td>\n",
       "      <td>...</td>\n",
       "      <td>0</td>\n",
       "      <td>0</td>\n",
       "      <td>0</td>\n",
       "      <td>0</td>\n",
       "      <td>0</td>\n",
       "      <td>0</td>\n",
       "      <td>0</td>\n",
       "      <td>0</td>\n",
       "      <td>0</td>\n",
       "      <td>0</td>\n",
       "    </tr>\n",
       "    <tr>\n",
       "      <th>...</th>\n",
       "      <td>...</td>\n",
       "      <td>...</td>\n",
       "      <td>...</td>\n",
       "      <td>...</td>\n",
       "      <td>...</td>\n",
       "      <td>...</td>\n",
       "      <td>...</td>\n",
       "      <td>...</td>\n",
       "      <td>...</td>\n",
       "      <td>...</td>\n",
       "      <td>...</td>\n",
       "      <td>...</td>\n",
       "      <td>...</td>\n",
       "      <td>...</td>\n",
       "      <td>...</td>\n",
       "      <td>...</td>\n",
       "      <td>...</td>\n",
       "      <td>...</td>\n",
       "      <td>...</td>\n",
       "      <td>...</td>\n",
       "      <td>...</td>\n",
       "    </tr>\n",
       "    <tr>\n",
       "      <th>770</th>\n",
       "      <td>Frontend</td>\n",
       "      <td>0</td>\n",
       "      <td>0</td>\n",
       "      <td>0</td>\n",
       "      <td>0</td>\n",
       "      <td>0</td>\n",
       "      <td>0</td>\n",
       "      <td>0</td>\n",
       "      <td>0</td>\n",
       "      <td>0</td>\n",
       "      <td>...</td>\n",
       "      <td>0</td>\n",
       "      <td>0</td>\n",
       "      <td>0</td>\n",
       "      <td>0</td>\n",
       "      <td>0</td>\n",
       "      <td>0</td>\n",
       "      <td>0</td>\n",
       "      <td>0</td>\n",
       "      <td>0</td>\n",
       "      <td>0</td>\n",
       "    </tr>\n",
       "    <tr>\n",
       "      <th>771</th>\n",
       "      <td>Frontend</td>\n",
       "      <td>0</td>\n",
       "      <td>0</td>\n",
       "      <td>0</td>\n",
       "      <td>0</td>\n",
       "      <td>0</td>\n",
       "      <td>0</td>\n",
       "      <td>1</td>\n",
       "      <td>0</td>\n",
       "      <td>0</td>\n",
       "      <td>...</td>\n",
       "      <td>0</td>\n",
       "      <td>0</td>\n",
       "      <td>0</td>\n",
       "      <td>0</td>\n",
       "      <td>0</td>\n",
       "      <td>0</td>\n",
       "      <td>0</td>\n",
       "      <td>1</td>\n",
       "      <td>0</td>\n",
       "      <td>1</td>\n",
       "    </tr>\n",
       "    <tr>\n",
       "      <th>772</th>\n",
       "      <td>Frontend</td>\n",
       "      <td>0</td>\n",
       "      <td>0</td>\n",
       "      <td>0</td>\n",
       "      <td>0</td>\n",
       "      <td>0</td>\n",
       "      <td>0</td>\n",
       "      <td>0</td>\n",
       "      <td>0</td>\n",
       "      <td>0</td>\n",
       "      <td>...</td>\n",
       "      <td>1</td>\n",
       "      <td>0</td>\n",
       "      <td>0</td>\n",
       "      <td>0</td>\n",
       "      <td>0</td>\n",
       "      <td>1</td>\n",
       "      <td>0</td>\n",
       "      <td>1</td>\n",
       "      <td>0</td>\n",
       "      <td>1</td>\n",
       "    </tr>\n",
       "    <tr>\n",
       "      <th>773</th>\n",
       "      <td>ML</td>\n",
       "      <td>0</td>\n",
       "      <td>0</td>\n",
       "      <td>0</td>\n",
       "      <td>0</td>\n",
       "      <td>0</td>\n",
       "      <td>0</td>\n",
       "      <td>0</td>\n",
       "      <td>0</td>\n",
       "      <td>0</td>\n",
       "      <td>...</td>\n",
       "      <td>0</td>\n",
       "      <td>0</td>\n",
       "      <td>0</td>\n",
       "      <td>0</td>\n",
       "      <td>0</td>\n",
       "      <td>0</td>\n",
       "      <td>0</td>\n",
       "      <td>0</td>\n",
       "      <td>0</td>\n",
       "      <td>0</td>\n",
       "    </tr>\n",
       "    <tr>\n",
       "      <th>774</th>\n",
       "      <td>Fullstack</td>\n",
       "      <td>0</td>\n",
       "      <td>0</td>\n",
       "      <td>0</td>\n",
       "      <td>0</td>\n",
       "      <td>0</td>\n",
       "      <td>0</td>\n",
       "      <td>0</td>\n",
       "      <td>0</td>\n",
       "      <td>0</td>\n",
       "      <td>...</td>\n",
       "      <td>0</td>\n",
       "      <td>0</td>\n",
       "      <td>0</td>\n",
       "      <td>0</td>\n",
       "      <td>0</td>\n",
       "      <td>0</td>\n",
       "      <td>0</td>\n",
       "      <td>0</td>\n",
       "      <td>0</td>\n",
       "      <td>0</td>\n",
       "    </tr>\n",
       "  </tbody>\n",
       "</table>\n",
       "<p>775 rows × 118 columns</p>\n",
       "</div>"
      ],
      "text/plain": [
       "       profile  .NET  ASP.NET  AWS  AWS S3  Adobe Photoshop  Agile  \\\n",
       "0    Fullstack     0        0    0       0                0      0   \n",
       "1     Frontend     0        0    0       0                0      0   \n",
       "2           ML     0        0    0       0                0      0   \n",
       "3           ML     0        0    0       0                0      0   \n",
       "4           QA     0        0    0       1                0      0   \n",
       "..         ...   ...      ...  ...     ...              ...    ...   \n",
       "770   Frontend     0        0    0       0                0      0   \n",
       "771   Frontend     0        0    0       0                0      0   \n",
       "772   Frontend     0        0    0       0                0      0   \n",
       "773         ML     0        0    0       0                0      0   \n",
       "774  Fullstack     0        0    0       0                0      0   \n",
       "\n",
       "     Agile Methodology  Agile Software Development  Ajax  ...  \\\n",
       "0                    0                           0     0  ...   \n",
       "1                    0                           0     0  ...   \n",
       "2                    0                           0     0  ...   \n",
       "3                    0                           0     0  ...   \n",
       "4                    0                           0     0  ...   \n",
       "..                 ...                         ...   ...  ...   \n",
       "770                  0                           0     0  ...   \n",
       "771                  1                           0     0  ...   \n",
       "772                  0                           0     0  ...   \n",
       "773                  0                           0     0  ...   \n",
       "774                  0                           0     0  ...   \n",
       "\n",
       "     Version Control  Visual  Visual Studio  Web API  Windows  Wireframing  \\\n",
       "0                  0       0              0        0        0            0   \n",
       "1                  1       0              0        0        0            0   \n",
       "2                  0       0              0        0        0            0   \n",
       "3                  0       0              0        0        0            0   \n",
       "4                  0       0              0        0        0            0   \n",
       "..               ...     ...            ...      ...      ...          ...   \n",
       "770                0       0              0        0        0            0   \n",
       "771                0       0              0        0        0            0   \n",
       "772                1       0              0        0        0            1   \n",
       "773                0       0              0        0        0            0   \n",
       "774                0       0              0        0        0            0   \n",
       "\n",
       "     WordPress  Written English  jQuery  js  \n",
       "0            0                0       0   0  \n",
       "1            0                1       0   1  \n",
       "2            0                0       0   0  \n",
       "3            0                0       0   0  \n",
       "4            0                0       0   0  \n",
       "..         ...              ...     ...  ..  \n",
       "770          0                0       0   0  \n",
       "771          0                1       0   1  \n",
       "772          0                1       0   1  \n",
       "773          0                0       0   0  \n",
       "774          0                0       0   0  \n",
       "\n",
       "[775 rows x 118 columns]"
      ]
     },
     "execution_count": 3,
     "metadata": {},
     "output_type": "execute_result"
    },
    {
     "data": {
      "application/javascript": [
       "\n",
       "            setTimeout(function() {\n",
       "                var nbb_cell_id = 3;\n",
       "                var nbb_unformatted_code = \"# Read in CSV\\ndata = pd.read_csv(\\\"../../5_profiles/reduced_dim_5.csv\\\")\\n# Display Data\\ndata\";\n",
       "                var nbb_formatted_code = \"# Read in CSV\\ndata = pd.read_csv(\\\"../../5_profiles/reduced_dim_5.csv\\\")\\n# Display Data\\ndata\";\n",
       "                var nbb_cells = Jupyter.notebook.get_cells();\n",
       "                for (var i = 0; i < nbb_cells.length; ++i) {\n",
       "                    if (nbb_cells[i].input_prompt_number == nbb_cell_id) {\n",
       "                        if (nbb_cells[i].get_text() == nbb_unformatted_code) {\n",
       "                             nbb_cells[i].set_text(nbb_formatted_code);\n",
       "                        }\n",
       "                        break;\n",
       "                    }\n",
       "                }\n",
       "            }, 500);\n",
       "            "
      ],
      "text/plain": [
       "<IPython.core.display.Javascript object>"
      ]
     },
     "metadata": {},
     "output_type": "display_data"
    }
   ],
   "source": [
    "# Read in CSV\n",
    "data = pd.read_csv(\"../../5_profiles/reduced_dim_5.csv\")\n",
    "# Display Data\n",
    "data"
   ]
  },
  {
   "cell_type": "code",
   "execution_count": 4,
   "metadata": {},
   "outputs": [
    {
     "data": {
      "application/javascript": [
       "\n",
       "            setTimeout(function() {\n",
       "                var nbb_cell_id = 4;\n",
       "                var nbb_unformatted_code = \"# Assign all columns besides the profile col as the input variables (X)\\nX = data.iloc[:, 1:]\\n# Assign the profile col as the output variable (y)\\ny = data.iloc[:, 0]\";\n",
       "                var nbb_formatted_code = \"# Assign all columns besides the profile col as the input variables (X)\\nX = data.iloc[:, 1:]\\n# Assign the profile col as the output variable (y)\\ny = data.iloc[:, 0]\";\n",
       "                var nbb_cells = Jupyter.notebook.get_cells();\n",
       "                for (var i = 0; i < nbb_cells.length; ++i) {\n",
       "                    if (nbb_cells[i].input_prompt_number == nbb_cell_id) {\n",
       "                        if (nbb_cells[i].get_text() == nbb_unformatted_code) {\n",
       "                             nbb_cells[i].set_text(nbb_formatted_code);\n",
       "                        }\n",
       "                        break;\n",
       "                    }\n",
       "                }\n",
       "            }, 500);\n",
       "            "
      ],
      "text/plain": [
       "<IPython.core.display.Javascript object>"
      ]
     },
     "metadata": {},
     "output_type": "display_data"
    }
   ],
   "source": [
    "# Assign all columns besides the profile col as the input variables (X)\n",
    "X = data.iloc[:, 1:]\n",
    "# Assign the profile col as the output variable (y)\n",
    "y = data.iloc[:, 0]"
   ]
  },
  {
   "cell_type": "code",
   "execution_count": 5,
   "metadata": {},
   "outputs": [
    {
     "data": {
      "application/javascript": [
       "\n",
       "            setTimeout(function() {\n",
       "                var nbb_cell_id = 5;\n",
       "                var nbb_unformatted_code = \"# Split to the data to test & train data\\nX_train, X_test, y_train, y_test = tts(X, y, test_size=0.3, random_state=0)\";\n",
       "                var nbb_formatted_code = \"# Split to the data to test & train data\\nX_train, X_test, y_train, y_test = tts(X, y, test_size=0.3, random_state=0)\";\n",
       "                var nbb_cells = Jupyter.notebook.get_cells();\n",
       "                for (var i = 0; i < nbb_cells.length; ++i) {\n",
       "                    if (nbb_cells[i].input_prompt_number == nbb_cell_id) {\n",
       "                        if (nbb_cells[i].get_text() == nbb_unformatted_code) {\n",
       "                             nbb_cells[i].set_text(nbb_formatted_code);\n",
       "                        }\n",
       "                        break;\n",
       "                    }\n",
       "                }\n",
       "            }, 500);\n",
       "            "
      ],
      "text/plain": [
       "<IPython.core.display.Javascript object>"
      ]
     },
     "metadata": {},
     "output_type": "display_data"
    }
   ],
   "source": [
    "# Split to the data to test & train data\n",
    "X_train, X_test, y_train, y_test = tts(X, y, test_size=0.3, random_state=0)"
   ]
  },
  {
   "cell_type": "markdown",
   "metadata": {},
   "source": [
    "# Evaluating the model via Cross Validation\n",
    "With machine learning algorithms which implement stochastic learning algorithms, it's good practice to evaluate them by averaging their performance across multiple runs or repeats of cross-validation. When fitting a final model, it may be a good idea to either increase the number of trees until the variance of the model is reduced across repeated evaluations, or to fit multiple final models and average their predictions."
   ]
  },
  {
   "cell_type": "code",
   "execution_count": 6,
   "metadata": {},
   "outputs": [
    {
     "name": "stdout",
     "output_type": "stream",
     "text": [
      "Accuracy: 0.682 (0.049)\n",
      "Balanced Accuracy: 0.601 (0.077)\n"
     ]
    },
    {
     "data": {
      "application/javascript": [
       "\n",
       "            setTimeout(function() {\n",
       "                var nbb_cell_id = 6;\n",
       "                var nbb_unformatted_code = \"# Define the Model\\nmodel = RandomForestClassifier()\\n# Evaluate the Model via CV\\ncv = RepeatedStratifiedKFold(n_repeats=3, random_state=1)\\n# Accuracy\\nacc = cross_val_score(\\n    model,\\n    X_test,\\n    y_test,\\n    scoring=\\\"accuracy\\\",\\n    cv=cv,\\n    n_jobs=-1,\\n    error_score=\\\"raise\\\",\\n)\\n# Balanced Accuracy\\nbal_acc = cross_val_score(\\n    model,\\n    X_test,\\n    y_test,\\n    scoring=\\\"balanced_accuracy\\\",\\n    cv=cv,\\n    n_jobs=-1,\\n    error_score=\\\"raise\\\",\\n)\\n# report performance with accuracy & balanced_accuracy metrics\\nprint(\\\"Accuracy: %.3f (%.3f)\\\" % (mean(acc), std(acc)))\\nprint(\\\"Balanced Accuracy: %.3f (%.3f)\\\" % (mean(bal_acc), std(bal_acc)))\";\n",
       "                var nbb_formatted_code = \"# Define the Model\\nmodel = RandomForestClassifier()\\n# Evaluate the Model via CV\\ncv = RepeatedStratifiedKFold(n_repeats=3, random_state=1)\\n# Accuracy\\nacc = cross_val_score(\\n    model,\\n    X_test,\\n    y_test,\\n    scoring=\\\"accuracy\\\",\\n    cv=cv,\\n    n_jobs=-1,\\n    error_score=\\\"raise\\\",\\n)\\n# Balanced Accuracy\\nbal_acc = cross_val_score(\\n    model,\\n    X_test,\\n    y_test,\\n    scoring=\\\"balanced_accuracy\\\",\\n    cv=cv,\\n    n_jobs=-1,\\n    error_score=\\\"raise\\\",\\n)\\n# report performance with accuracy & balanced_accuracy metrics\\nprint(\\\"Accuracy: %.3f (%.3f)\\\" % (mean(acc), std(acc)))\\nprint(\\\"Balanced Accuracy: %.3f (%.3f)\\\" % (mean(bal_acc), std(bal_acc)))\";\n",
       "                var nbb_cells = Jupyter.notebook.get_cells();\n",
       "                for (var i = 0; i < nbb_cells.length; ++i) {\n",
       "                    if (nbb_cells[i].input_prompt_number == nbb_cell_id) {\n",
       "                        if (nbb_cells[i].get_text() == nbb_unformatted_code) {\n",
       "                             nbb_cells[i].set_text(nbb_formatted_code);\n",
       "                        }\n",
       "                        break;\n",
       "                    }\n",
       "                }\n",
       "            }, 500);\n",
       "            "
      ],
      "text/plain": [
       "<IPython.core.display.Javascript object>"
      ]
     },
     "metadata": {},
     "output_type": "display_data"
    }
   ],
   "source": [
    "# Define the Model\n",
    "model = RandomForestClassifier()\n",
    "# Evaluate the Model via CV\n",
    "cv = RepeatedStratifiedKFold(n_repeats=3, random_state=1)\n",
    "# Accuracy\n",
    "acc = cross_val_score(\n",
    "    model,\n",
    "    X_test,\n",
    "    y_test,\n",
    "    scoring=\"accuracy\",\n",
    "    cv=cv,\n",
    "    n_jobs=-1,\n",
    "    error_score=\"raise\",\n",
    ")\n",
    "# Balanced Accuracy\n",
    "bal_acc = cross_val_score(\n",
    "    model,\n",
    "    X_test,\n",
    "    y_test,\n",
    "    scoring=\"balanced_accuracy\",\n",
    "    cv=cv,\n",
    "    n_jobs=-1,\n",
    "    error_score=\"raise\",\n",
    ")\n",
    "# report performance with accuracy & balanced_accuracy metrics\n",
    "print(\"Accuracy: %.3f (%.3f)\" % (mean(acc), std(acc)))\n",
    "print(\"Balanced Accuracy: %.3f (%.3f)\" % (mean(bal_acc), std(bal_acc)))"
   ]
  },
  {
   "cell_type": "markdown",
   "metadata": {},
   "source": [
    "#### The Accuracy score reported is a bit misleading as it does not account for the imbalanced classes in the data. Balanced Accuracy is a better metric as it is the average of the proportion corrects of each class individually, therefore not favoring any class in particular."
   ]
  },
  {
   "cell_type": "markdown",
   "metadata": {},
   "source": [
    "# Hypertuning Algorithm Parameters"
   ]
  },
  {
   "cell_type": "markdown",
   "metadata": {},
   "source": [
    "## Exploring the Tree's Depth (max_depth)\n",
    "The max_depth argument is defined as the maximum number of levels making  up each Decision Tree making up the Random Forest. Each Decision Tree has an arbitrary depth and is not pruned. While deeper trees are often more overfit to the training data, they are also less correlated, which in turn may improve the overall performance of the ensemble."
   ]
  },
  {
   "cell_type": "code",
   "execution_count": 7,
   "metadata": {},
   "outputs": [
    {
     "data": {
      "image/png": "[encoded data removed]",
      "text/plain": [
       "<Figure size 576x396 with 1 Axes>"
      ]
     },
     "metadata": {},
     "output_type": "display_data"
    },
    {
     "data": {
      "text/plain": [
       "<AxesSubplot:title={'center':'Validation Curve for RandomForestClassifier'}, xlabel='max_depth', ylabel='score'>"
      ]
     },
     "execution_count": 7,
     "metadata": {},
     "output_type": "execute_result"
    },
    {
     "data": {
      "application/javascript": [
       "\n",
       "            setTimeout(function() {\n",
       "                var nbb_cell_id = 7;\n",
       "                var nbb_unformatted_code = \"viz = ValidationCurve(\\n    RandomForestClassifier(),\\n    param_name=\\\"max_depth\\\",\\n    param_range=np.arange(1, 21),\\n    cv=3,\\n    scoring=\\\"balanced_accuracy\\\",\\n)\\n\\n# Fit the visualizer\\nviz.fit(X, y)\\n# Show the visualizer\\nviz.show()\";\n",
       "                var nbb_formatted_code = \"viz = ValidationCurve(\\n    RandomForestClassifier(),\\n    param_name=\\\"max_depth\\\",\\n    param_range=np.arange(1, 21),\\n    cv=3,\\n    scoring=\\\"balanced_accuracy\\\",\\n)\\n\\n# Fit the visualizer\\nviz.fit(X, y)\\n# Show the visualizer\\nviz.show()\";\n",
       "                var nbb_cells = Jupyter.notebook.get_cells();\n",
       "                for (var i = 0; i < nbb_cells.length; ++i) {\n",
       "                    if (nbb_cells[i].input_prompt_number == nbb_cell_id) {\n",
       "                        if (nbb_cells[i].get_text() == nbb_unformatted_code) {\n",
       "                             nbb_cells[i].set_text(nbb_formatted_code);\n",
       "                        }\n",
       "                        break;\n",
       "                    }\n",
       "                }\n",
       "            }, 500);\n",
       "            "
      ],
      "text/plain": [
       "<IPython.core.display.Javascript object>"
      ]
     },
     "metadata": {},
     "output_type": "display_data"
    }
   ],
   "source": [
    "viz = ValidationCurve(\n",
    "    RandomForestClassifier(),\n",
    "    param_name=\"max_depth\",\n",
    "    param_range=np.arange(1, 21),\n",
    "    cv=3,\n",
    "    scoring=\"balanced_accuracy\",\n",
    ")\n",
    "\n",
    "# Fit the visualizer\n",
    "viz.fit(X, y)\n",
    "# Show the visualizer\n",
    "viz.show()"
   ]
  },
  {
   "cell_type": "markdown",
   "metadata": {},
   "source": [
    "#### A validation curve is a tool that measures changes in a machine learning algorithm's performance (as measured by a specified metric) with changes to a specified model hyperparameter."
   ]
  },
  {
   "cell_type": "markdown",
   "metadata": {},
   "source": [
    "### Interpreting the Plot\n",
    "The Box & Whisker below aligns with Validation Curve generated above, in that peak accuracy is acheived at tree depths exceeding 10 levels."
   ]
  },
  {
   "cell_type": "code",
   "execution_count": 8,
   "metadata": {},
   "outputs": [
    {
     "data": {
      "application/javascript": [
       "\n",
       "            setTimeout(function() {\n",
       "                var nbb_cell_id = 8;\n",
       "                var nbb_unformatted_code = \"# get list of models to evaluate\\ndef get_models():\\n    models = dict()\\n    # consider tree depths from 1 to 7 and None=full\\n    depths = [i for i in range(1, 16)] + [None]\\n    for n in depths:\\n        models[str(n)] = RandomForestClassifier(max_depth=n)\\n    return models\\n\\n\\n# evaluate given model using cross-validation\\ndef evaluate_model(model, X, y):\\n    # define the evaluation procedure\\n    cv = RepeatedStratifiedKFold(n_repeats=3, random_state=0)\\n    # evaluate the model and collect the results\\n    scores = cross_val_score(model, X, y, scoring=\\\"balanced_accuracy\\\", cv=cv, n_jobs=-1)\\n    return scores\";\n",
       "                var nbb_formatted_code = \"# get list of models to evaluate\\ndef get_models():\\n    models = dict()\\n    # consider tree depths from 1 to 7 and None=full\\n    depths = [i for i in range(1, 16)] + [None]\\n    for n in depths:\\n        models[str(n)] = RandomForestClassifier(max_depth=n)\\n    return models\\n\\n\\n# evaluate given model using cross-validation\\ndef evaluate_model(model, X, y):\\n    # define the evaluation procedure\\n    cv = RepeatedStratifiedKFold(n_repeats=3, random_state=0)\\n    # evaluate the model and collect the results\\n    scores = cross_val_score(model, X, y, scoring=\\\"balanced_accuracy\\\", cv=cv, n_jobs=-1)\\n    return scores\";\n",
       "                var nbb_cells = Jupyter.notebook.get_cells();\n",
       "                for (var i = 0; i < nbb_cells.length; ++i) {\n",
       "                    if (nbb_cells[i].input_prompt_number == nbb_cell_id) {\n",
       "                        if (nbb_cells[i].get_text() == nbb_unformatted_code) {\n",
       "                             nbb_cells[i].set_text(nbb_formatted_code);\n",
       "                        }\n",
       "                        break;\n",
       "                    }\n",
       "                }\n",
       "            }, 500);\n",
       "            "
      ],
      "text/plain": [
       "<IPython.core.display.Javascript object>"
      ]
     },
     "metadata": {},
     "output_type": "display_data"
    }
   ],
   "source": [
    "# get list of models to evaluate\n",
    "def get_models():\n",
    "    models = dict()\n",
    "    # consider tree depths from 1 to 7 and None=full\n",
    "    depths = [i for i in range(1, 16)] + [None]\n",
    "    for n in depths:\n",
    "        models[str(n)] = RandomForestClassifier(max_depth=n)\n",
    "    return models\n",
    "\n",
    "\n",
    "# evaluate given model using cross-validation\n",
    "def evaluate_model(model, X, y):\n",
    "    # define the evaluation procedure\n",
    "    cv = RepeatedStratifiedKFold(n_repeats=3, random_state=0)\n",
    "    # evaluate the model and collect the results\n",
    "    scores = cross_val_score(model, X, y, scoring=\"balanced_accuracy\", cv=cv, n_jobs=-1)\n",
    "    return scores"
   ]
  },
  {
   "cell_type": "markdown",
   "metadata": {},
   "source": [
    "### Interpreting the Plot\n",
    "The Box & Whisker below aligns with Validation Curve generated above, in that peak accuracy is acheived at tree depths exceeding 10 levels."
   ]
  },
  {
   "cell_type": "code",
   "execution_count": 9,
   "metadata": {},
   "outputs": [
    {
     "data": {
      "image/png": "[encoded data removed]",
      "text/plain": [
       "<Figure size 576x396 with 1 Axes>"
      ]
     },
     "metadata": {},
     "output_type": "display_data"
    },
    {
     "data": {
      "application/javascript": [
       "\n",
       "            setTimeout(function() {\n",
       "                var nbb_cell_id = 9;\n",
       "                var nbb_unformatted_code = \"# get the models to evaluate\\nmodels = get_models()\\n# evaluate the models and store results\\nresults, names = list(), list()\\nfor name, model in models.items():\\n    # evaluate the model\\n    scores = evaluate_model(model, X, y)\\n    # store the results\\n    results.append(scores)\\n    names.append(name)\\n    # summarize the performance along the way\\n#     print(\\\">%s %.3f (%.3f)\\\" % (name, mean(scores), std(scores)))\\n# plot model performance for comparison\\nplt.boxplot(results, labels=names, showmeans=True)\\nplt.show()\";\n",
       "                var nbb_formatted_code = \"# get the models to evaluate\\nmodels = get_models()\\n# evaluate the models and store results\\nresults, names = list(), list()\\nfor name, model in models.items():\\n    # evaluate the model\\n    scores = evaluate_model(model, X, y)\\n    # store the results\\n    results.append(scores)\\n    names.append(name)\\n    # summarize the performance along the way\\n#     print(\\\">%s %.3f (%.3f)\\\" % (name, mean(scores), std(scores)))\\n# plot model performance for comparison\\nplt.boxplot(results, labels=names, showmeans=True)\\nplt.show()\";\n",
       "                var nbb_cells = Jupyter.notebook.get_cells();\n",
       "                for (var i = 0; i < nbb_cells.length; ++i) {\n",
       "                    if (nbb_cells[i].input_prompt_number == nbb_cell_id) {\n",
       "                        if (nbb_cells[i].get_text() == nbb_unformatted_code) {\n",
       "                             nbb_cells[i].set_text(nbb_formatted_code);\n",
       "                        }\n",
       "                        break;\n",
       "                    }\n",
       "                }\n",
       "            }, 500);\n",
       "            "
      ],
      "text/plain": [
       "<IPython.core.display.Javascript object>"
      ]
     },
     "metadata": {},
     "output_type": "display_data"
    }
   ],
   "source": [
    "# get the models to evaluate\n",
    "models = get_models()\n",
    "# evaluate the models and store results\n",
    "results, names = list(), list()\n",
    "for name, model in models.items():\n",
    "    # evaluate the model\n",
    "    scores = evaluate_model(model, X, y)\n",
    "    # store the results\n",
    "    results.append(scores)\n",
    "    names.append(name)\n",
    "    # summarize the performance along the way\n",
    "#     print(\">%s %.3f (%.3f)\" % (name, mean(scores), std(scores)))\n",
    "# plot model performance for comparison\n",
    "plt.boxplot(results, labels=names, showmeans=True)\n",
    "plt.show()"
   ]
  },
  {
   "cell_type": "markdown",
   "metadata": {},
   "source": [
    "## Exploring the Number of Features (max_features)\n",
    "The max_features argument is defined as the number of features that are randomly sampled at each split point or node of the tree. This is perhaps the most important feature to configure for Random Forest!"
   ]
  },
  {
   "cell_type": "code",
   "execution_count": 10,
   "metadata": {},
   "outputs": [
    {
     "data": {
      "image/png": "[encoded data removed]",
      "text/plain": [
       "<Figure size 576x396 with 1 Axes>"
      ]
     },
     "metadata": {},
     "output_type": "display_data"
    },
    {
     "data": {
      "text/plain": [
       "<AxesSubplot:title={'center':'Validation Curve for RandomForestClassifier'}, xlabel='max_features', ylabel='score'>"
      ]
     },
     "execution_count": 10,
     "metadata": {},
     "output_type": "execute_result"
    },
    {
     "data": {
      "application/javascript": [
       "\n",
       "            setTimeout(function() {\n",
       "                var nbb_cell_id = 10;\n",
       "                var nbb_unformatted_code = \"viz = ValidationCurve(\\n    RandomForestClassifier(),\\n    param_name=\\\"max_features\\\",\\n    param_range=np.arange(1, 19),\\n    cv=3,\\n    scoring=\\\"balanced_accuracy\\\",\\n)\\n\\n# Fit and show the visualizer\\nviz.fit(X, y)\\nviz.show()\";\n",
       "                var nbb_formatted_code = \"viz = ValidationCurve(\\n    RandomForestClassifier(),\\n    param_name=\\\"max_features\\\",\\n    param_range=np.arange(1, 19),\\n    cv=3,\\n    scoring=\\\"balanced_accuracy\\\",\\n)\\n\\n# Fit and show the visualizer\\nviz.fit(X, y)\\nviz.show()\";\n",
       "                var nbb_cells = Jupyter.notebook.get_cells();\n",
       "                for (var i = 0; i < nbb_cells.length; ++i) {\n",
       "                    if (nbb_cells[i].input_prompt_number == nbb_cell_id) {\n",
       "                        if (nbb_cells[i].get_text() == nbb_unformatted_code) {\n",
       "                             nbb_cells[i].set_text(nbb_formatted_code);\n",
       "                        }\n",
       "                        break;\n",
       "                    }\n",
       "                }\n",
       "            }, 500);\n",
       "            "
      ],
      "text/plain": [
       "<IPython.core.display.Javascript object>"
      ]
     },
     "metadata": {},
     "output_type": "display_data"
    }
   ],
   "source": [
    "viz = ValidationCurve(\n",
    "    RandomForestClassifier(),\n",
    "    param_name=\"max_features\",\n",
    "    param_range=np.arange(1, 19),\n",
    "    cv=3,\n",
    "    scoring=\"balanced_accuracy\",\n",
    ")\n",
    "\n",
    "# Fit and show the visualizer\n",
    "viz.fit(X, y)\n",
    "viz.show()"
   ]
  },
  {
   "cell_type": "markdown",
   "metadata": {},
   "source": [
    "### Interpreting the Plot\n",
    "It's clear that setting the max_features argument will not significantly impact algorithm performance, as results shown here are too stochastic to reveal any clear improvement or harm to algorithm performance. "
   ]
  },
  {
   "cell_type": "code",
   "execution_count": 11,
   "metadata": {},
   "outputs": [
    {
     "data": {
      "image/png": "[encoded data removed]",
      "text/plain": [
       "<Figure size 576x396 with 1 Axes>"
      ]
     },
     "metadata": {},
     "output_type": "display_data"
    },
    {
     "data": {
      "application/javascript": [
       "\n",
       "            setTimeout(function() {\n",
       "                var nbb_cell_id = 11;\n",
       "                var nbb_unformatted_code = \"# get a list of models to evaluate\\ndef get_models():\\n    models = dict()\\n    # explore number of features from 1 to 38\\n    for i in range(1, 19):\\n        models[str(i)] = RandomForestClassifier(max_features=i)\\n    return models\\n\\n\\n# evaluate a given model using cross-validation\\ndef evaluate_model(model, X_train, y_train):\\n    # define the evaluation procedure\\n    cv = RepeatedStratifiedKFold(n_repeats=3, random_state=1)\\n    # evaluate the model and collect the results\\n    scores = cross_val_score(\\n        model, X_train, y_train, scoring=\\\"balanced_accuracy\\\", cv=cv, n_jobs=-1\\n    )\\n    return scores\\n\\n\\nmodels = get_models()\\n# evaluate the models and store results\\nresults, names = list(), list()\\nfor name, model in models.items():\\n    # evaluate the model\\n    scores = evaluate_model(model, X_train, y_train)\\n    # store the results\\n    results.append(scores)\\n    names.append(name)\\n    # summarize the performance along the way\\n#     print(\\\">%s %.3f (%.3f)\\\" % (name, mean(scores), std(scores)))\\n# plot model performance for comparison\\nplt.boxplot(results, labels=names, showmeans=True)\\nplt.show()\";\n",
       "                var nbb_formatted_code = \"# get a list of models to evaluate\\ndef get_models():\\n    models = dict()\\n    # explore number of features from 1 to 38\\n    for i in range(1, 19):\\n        models[str(i)] = RandomForestClassifier(max_features=i)\\n    return models\\n\\n\\n# evaluate a given model using cross-validation\\ndef evaluate_model(model, X_train, y_train):\\n    # define the evaluation procedure\\n    cv = RepeatedStratifiedKFold(n_repeats=3, random_state=1)\\n    # evaluate the model and collect the results\\n    scores = cross_val_score(\\n        model, X_train, y_train, scoring=\\\"balanced_accuracy\\\", cv=cv, n_jobs=-1\\n    )\\n    return scores\\n\\n\\nmodels = get_models()\\n# evaluate the models and store results\\nresults, names = list(), list()\\nfor name, model in models.items():\\n    # evaluate the model\\n    scores = evaluate_model(model, X_train, y_train)\\n    # store the results\\n    results.append(scores)\\n    names.append(name)\\n    # summarize the performance along the way\\n#     print(\\\">%s %.3f (%.3f)\\\" % (name, mean(scores), std(scores)))\\n# plot model performance for comparison\\nplt.boxplot(results, labels=names, showmeans=True)\\nplt.show()\";\n",
       "                var nbb_cells = Jupyter.notebook.get_cells();\n",
       "                for (var i = 0; i < nbb_cells.length; ++i) {\n",
       "                    if (nbb_cells[i].input_prompt_number == nbb_cell_id) {\n",
       "                        if (nbb_cells[i].get_text() == nbb_unformatted_code) {\n",
       "                             nbb_cells[i].set_text(nbb_formatted_code);\n",
       "                        }\n",
       "                        break;\n",
       "                    }\n",
       "                }\n",
       "            }, 500);\n",
       "            "
      ],
      "text/plain": [
       "<IPython.core.display.Javascript object>"
      ]
     },
     "metadata": {},
     "output_type": "display_data"
    }
   ],
   "source": [
    "# get a list of models to evaluate\n",
    "def get_models():\n",
    "    models = dict()\n",
    "    # explore number of features from 1 to 38\n",
    "    for i in range(1, 19):\n",
    "        models[str(i)] = RandomForestClassifier(max_features=i)\n",
    "    return models\n",
    "\n",
    "\n",
    "# evaluate a given model using cross-validation\n",
    "def evaluate_model(model, X_train, y_train):\n",
    "    # define the evaluation procedure\n",
    "    cv = RepeatedStratifiedKFold(n_repeats=3, random_state=1)\n",
    "    # evaluate the model and collect the results\n",
    "    scores = cross_val_score(\n",
    "        model, X_train, y_train, scoring=\"balanced_accuracy\", cv=cv, n_jobs=-1\n",
    "    )\n",
    "    return scores\n",
    "\n",
    "\n",
    "models = get_models()\n",
    "# evaluate the models and store results\n",
    "results, names = list(), list()\n",
    "for name, model in models.items():\n",
    "    # evaluate the model\n",
    "    scores = evaluate_model(model, X_train, y_train)\n",
    "    # store the results\n",
    "    results.append(scores)\n",
    "    names.append(name)\n",
    "    # summarize the performance along the way\n",
    "#     print(\">%s %.3f (%.3f)\" % (name, mean(scores), std(scores)))\n",
    "# plot model performance for comparison\n",
    "plt.boxplot(results, labels=names, showmeans=True)\n",
    "plt.show()"
   ]
  },
  {
   "cell_type": "markdown",
   "metadata": {},
   "source": [
    "## Using Grid Search to Explore the Best Combination of Hyperparameters"
   ]
  },
  {
   "cell_type": "code",
   "execution_count": 12,
   "metadata": {},
   "outputs": [
    {
     "name": "stdout",
     "output_type": "stream",
     "text": [
      "Best: 0.696792 using {'max_depth': 15, 'max_features': 'log2', 'n_estimators': 1000}\n",
      "0.528548 (0.055619) with: {'max_depth': 5, 'max_features': 'sqrt', 'n_estimators': 10}\n",
      "0.550254 (0.054755) with: {'max_depth': 5, 'max_features': 'sqrt', 'n_estimators': 100}\n",
      "0.558306 (0.056641) with: {'max_depth': 5, 'max_features': 'sqrt', 'n_estimators': 1000}\n",
      "0.501330 (0.072675) with: {'max_depth': 5, 'max_features': 'log2', 'n_estimators': 10}\n",
      "0.527933 (0.053366) with: {'max_depth': 5, 'max_features': 'log2', 'n_estimators': 100}\n",
      "0.533037 (0.048888) with: {'max_depth': 5, 'max_features': 'log2', 'n_estimators': 1000}\n",
      "0.614958 (0.063312) with: {'max_depth': 10, 'max_features': 'sqrt', 'n_estimators': 10}\n",
      "0.666843 (0.068641) with: {'max_depth': 10, 'max_features': 'sqrt', 'n_estimators': 100}\n",
      "0.671749 (0.068571) with: {'max_depth': 10, 'max_features': 'sqrt', 'n_estimators': 1000}\n",
      "0.619222 (0.078637) with: {'max_depth': 10, 'max_features': 'log2', 'n_estimators': 10}\n",
      "0.663150 (0.072890) with: {'max_depth': 10, 'max_features': 'log2', 'n_estimators': 100}\n",
      "0.662799 (0.073639) with: {'max_depth': 10, 'max_features': 'log2', 'n_estimators': 1000}\n",
      "0.653572 (0.067696) with: {'max_depth': 15, 'max_features': 'sqrt', 'n_estimators': 10}\n",
      "0.687838 (0.067603) with: {'max_depth': 15, 'max_features': 'sqrt', 'n_estimators': 100}\n",
      "0.691179 (0.067758) with: {'max_depth': 15, 'max_features': 'sqrt', 'n_estimators': 1000}\n",
      "0.663647 (0.068975) with: {'max_depth': 15, 'max_features': 'log2', 'n_estimators': 10}\n",
      "0.692633 (0.065924) with: {'max_depth': 15, 'max_features': 'log2', 'n_estimators': 100}\n",
      "0.696792 (0.066733) with: {'max_depth': 15, 'max_features': 'log2', 'n_estimators': 1000}\n"
     ]
    },
    {
     "data": {
      "application/javascript": [
       "\n",
       "            setTimeout(function() {\n",
       "                var nbb_cell_id = 12;\n",
       "                var nbb_unformatted_code = \"n_estimators = [10, 100, 1000]\\nmax_features = [\\\"sqrt\\\", \\\"log2\\\"]\\nmax_depth = [5, 10, 15]\\n# define grid search\\ngrid = dict(n_estimators=n_estimators, max_features=max_features, max_depth=max_depth)\\ncv = RepeatedStratifiedKFold(n_splits=10, n_repeats=3, random_state=1)\\ngrid_search = GridSearchCV(\\n    estimator=model,\\n    param_grid=grid,\\n    n_jobs=-1,\\n    cv=cv,\\n    scoring=\\\"balanced_accuracy\\\",\\n    error_score=0,\\n)\\ngrid_result = grid_search.fit(X, y)\\n# summarize results\\nprint(\\\"Best: %f using %s\\\" % (grid_result.best_score_, grid_result.best_params_))\\nmeans = grid_result.cv_results_[\\\"mean_test_score\\\"]\\nstds = grid_result.cv_results_[\\\"std_test_score\\\"]\\nparams = grid_result.cv_results_[\\\"params\\\"]\\nfor mean, stdev, param in zip(means, stds, params):\\n    print(\\\"%f (%f) with: %r\\\" % (mean, stdev, param))\";\n",
       "                var nbb_formatted_code = \"n_estimators = [10, 100, 1000]\\nmax_features = [\\\"sqrt\\\", \\\"log2\\\"]\\nmax_depth = [5, 10, 15]\\n# define grid search\\ngrid = dict(n_estimators=n_estimators, max_features=max_features, max_depth=max_depth)\\ncv = RepeatedStratifiedKFold(n_splits=10, n_repeats=3, random_state=1)\\ngrid_search = GridSearchCV(\\n    estimator=model,\\n    param_grid=grid,\\n    n_jobs=-1,\\n    cv=cv,\\n    scoring=\\\"balanced_accuracy\\\",\\n    error_score=0,\\n)\\ngrid_result = grid_search.fit(X, y)\\n# summarize results\\nprint(\\\"Best: %f using %s\\\" % (grid_result.best_score_, grid_result.best_params_))\\nmeans = grid_result.cv_results_[\\\"mean_test_score\\\"]\\nstds = grid_result.cv_results_[\\\"std_test_score\\\"]\\nparams = grid_result.cv_results_[\\\"params\\\"]\\nfor mean, stdev, param in zip(means, stds, params):\\n    print(\\\"%f (%f) with: %r\\\" % (mean, stdev, param))\";\n",
       "                var nbb_cells = Jupyter.notebook.get_cells();\n",
       "                for (var i = 0; i < nbb_cells.length; ++i) {\n",
       "                    if (nbb_cells[i].input_prompt_number == nbb_cell_id) {\n",
       "                        if (nbb_cells[i].get_text() == nbb_unformatted_code) {\n",
       "                             nbb_cells[i].set_text(nbb_formatted_code);\n",
       "                        }\n",
       "                        break;\n",
       "                    }\n",
       "                }\n",
       "            }, 500);\n",
       "            "
      ],
      "text/plain": [
       "<IPython.core.display.Javascript object>"
      ]
     },
     "metadata": {},
     "output_type": "display_data"
    }
   ],
   "source": [
    "n_estimators = [10, 100, 1000]\n",
    "max_features = [\"sqrt\", \"log2\"]\n",
    "max_depth = [5, 10, 15]\n",
    "# define grid search\n",
    "grid = dict(n_estimators=n_estimators, max_features=max_features, max_depth=max_depth)\n",
    "cv = RepeatedStratifiedKFold(n_splits=10, n_repeats=3, random_state=1)\n",
    "grid_search = GridSearchCV(\n",
    "    estimator=model,\n",
    "    param_grid=grid,\n",
    "    n_jobs=-1,\n",
    "    cv=cv,\n",
    "    scoring=\"balanced_accuracy\",\n",
    "    error_score=0,\n",
    ")\n",
    "grid_result = grid_search.fit(X, y)\n",
    "# summarize results\n",
    "print(\"Best: %f using %s\" % (grid_result.best_score_, grid_result.best_params_))\n",
    "means = grid_result.cv_results_[\"mean_test_score\"]\n",
    "stds = grid_result.cv_results_[\"std_test_score\"]\n",
    "params = grid_result.cv_results_[\"params\"]\n",
    "for mean, stdev, param in zip(means, stds, params):\n",
    "    print(\"%f (%f) with: %r\" % (mean, stdev, param))"
   ]
  },
  {
   "cell_type": "markdown",
   "metadata": {},
   "source": [
    "### Interpreting the Results\n",
    "Whether the algorithm is trained on 10, 100 or 1000 trees doesn't significantly impact algorithm performance. But differences in max_features and max_depth arguments may.\n",
    "max_features appears to be optimized at log2 of total features (118), which falls between 6-7 max_features. This number which aligns with the resuts previously returned with yellowbrick's validation curve graph. max_depth appears to be optimized at, which also aligns with the resuts previously returned with yellowbrick's validation curve graph."
   ]
  },
  {
   "cell_type": "code",
   "execution_count": 13,
   "metadata": {},
   "outputs": [
    {
     "data": {
      "application/javascript": [
       "\n",
       "            setTimeout(function() {\n",
       "                var nbb_cell_id = 13;\n",
       "                var nbb_unformatted_code = \"# evaluate the hypertuned Random Forest algorithm for classification\\nmodel = RandomForestClassifier(**grid_result.best_params_)\\ncv = RepeatedStratifiedKFold(n_repeats=3, random_state=1)\\n# calculate the balanced accuracy\\nbal_acc = cross_val_score(\\n    model, X, y, scoring=\\\"balanced_accuracy\\\", cv=cv, n_jobs=-1, error_score=\\\"raise\\\"\\n)\\n# calculate the accuracy\\nacc = cross_val_score(\\n    model, X, y, scoring=\\\"accuracy\\\", cv=cv, n_jobs=-1, error_score=\\\"raise\\\"\\n)\";\n",
       "                var nbb_formatted_code = \"# evaluate the hypertuned Random Forest algorithm for classification\\nmodel = RandomForestClassifier(**grid_result.best_params_)\\ncv = RepeatedStratifiedKFold(n_repeats=3, random_state=1)\\n# calculate the balanced accuracy\\nbal_acc = cross_val_score(\\n    model, X, y, scoring=\\\"balanced_accuracy\\\", cv=cv, n_jobs=-1, error_score=\\\"raise\\\"\\n)\\n# calculate the accuracy\\nacc = cross_val_score(\\n    model, X, y, scoring=\\\"accuracy\\\", cv=cv, n_jobs=-1, error_score=\\\"raise\\\"\\n)\";\n",
       "                var nbb_cells = Jupyter.notebook.get_cells();\n",
       "                for (var i = 0; i < nbb_cells.length; ++i) {\n",
       "                    if (nbb_cells[i].input_prompt_number == nbb_cell_id) {\n",
       "                        if (nbb_cells[i].get_text() == nbb_unformatted_code) {\n",
       "                             nbb_cells[i].set_text(nbb_formatted_code);\n",
       "                        }\n",
       "                        break;\n",
       "                    }\n",
       "                }\n",
       "            }, 500);\n",
       "            "
      ],
      "text/plain": [
       "<IPython.core.display.Javascript object>"
      ]
     },
     "metadata": {},
     "output_type": "display_data"
    }
   ],
   "source": [
    "# evaluate the hypertuned Random Forest algorithm for classification\n",
    "model = RandomForestClassifier(**grid_result.best_params_)\n",
    "cv = RepeatedStratifiedKFold(n_repeats=3, random_state=1)\n",
    "# calculate the balanced accuracy\n",
    "bal_acc = cross_val_score(\n",
    "    model, X, y, scoring=\"balanced_accuracy\", cv=cv, n_jobs=-1, error_score=\"raise\"\n",
    ")\n",
    "# calculate the accuracy\n",
    "acc = cross_val_score(\n",
    "    model, X, y, scoring=\"accuracy\", cv=cv, n_jobs=-1, error_score=\"raise\"\n",
    ")"
   ]
  },
  {
   "cell_type": "code",
   "execution_count": 14,
   "metadata": {},
   "outputs": [
    {
     "name": "stdout",
     "output_type": "stream",
     "text": [
      "Balanced Accuracy: 0.689 (0.041)\n",
      "Accuracy: 0.753 (0.030)\n"
     ]
    },
    {
     "data": {
      "application/javascript": [
       "\n",
       "            setTimeout(function() {\n",
       "                var nbb_cell_id = 14;\n",
       "                var nbb_unformatted_code = \"from numpy import mean, std\\n\\n# report performance\\nprint(\\\"Balanced Accuracy: %.3f (%.3f)\\\" % (mean(bal_acc), std(bal_acc)))\\n# report performance\\nprint(\\\"Accuracy: %.3f (%.3f)\\\" % (mean(acc), std(acc)))\";\n",
       "                var nbb_formatted_code = \"from numpy import mean, std\\n\\n# report performance\\nprint(\\\"Balanced Accuracy: %.3f (%.3f)\\\" % (mean(bal_acc), std(bal_acc)))\\n# report performance\\nprint(\\\"Accuracy: %.3f (%.3f)\\\" % (mean(acc), std(acc)))\";\n",
       "                var nbb_cells = Jupyter.notebook.get_cells();\n",
       "                for (var i = 0; i < nbb_cells.length; ++i) {\n",
       "                    if (nbb_cells[i].input_prompt_number == nbb_cell_id) {\n",
       "                        if (nbb_cells[i].get_text() == nbb_unformatted_code) {\n",
       "                             nbb_cells[i].set_text(nbb_formatted_code);\n",
       "                        }\n",
       "                        break;\n",
       "                    }\n",
       "                }\n",
       "            }, 500);\n",
       "            "
      ],
      "text/plain": [
       "<IPython.core.display.Javascript object>"
      ]
     },
     "metadata": {},
     "output_type": "display_data"
    }
   ],
   "source": [
    "from numpy import mean, std\n",
    "\n",
    "# report performance\n",
    "print(\"Balanced Accuracy: %.3f (%.3f)\" % (mean(bal_acc), std(bal_acc)))\n",
    "# report performance\n",
    "print(\"Accuracy: %.3f (%.3f)\" % (mean(acc), std(acc)))"
   ]
  },
  {
   "cell_type": "markdown",
   "metadata": {},
   "source": [
    "#### The micoaverage precision, recall, f1 and accuracy **are all equal** for cases in which every instance must be classified into one, and only one class. To explain this, one can reference the formulas for precision=TP/(TP+FP) and recall=TP/(TP+FN). The numerators are equivalent, and every FN for one class is another classes's FP, which makes the denominators equivalent as well. If precision = recall, then f1 will also be equal to accuracy. \n",
    "The stochastic nature of the Random Forest algorithm may mean that the f_1 micro and accuracy metric aren't exactly equal, but they should be close."
   ]
  },
  {
   "cell_type": "code",
   "execution_count": 15,
   "metadata": {},
   "outputs": [
    {
     "name": "stdout",
     "output_type": "stream",
     "text": [
      "f1_micro score of random forest classifier on test set: 0.695\n"
     ]
    },
    {
     "data": {
      "application/javascript": [
       "\n",
       "            setTimeout(function() {\n",
       "                var nbb_cell_id = 15;\n",
       "                var nbb_unformatted_code = \"print(\\n    \\\"f1_micro score of random forest classifier on test set: {:.3f}\\\".format(\\n        np.mean(cross_val_score(model, X_test, y_test, cv=cv, scoring=\\\"f1_micro\\\"))\\n    )\\n)\";\n",
       "                var nbb_formatted_code = \"print(\\n    \\\"f1_micro score of random forest classifier on test set: {:.3f}\\\".format(\\n        np.mean(cross_val_score(model, X_test, y_test, cv=cv, scoring=\\\"f1_micro\\\"))\\n    )\\n)\";\n",
       "                var nbb_cells = Jupyter.notebook.get_cells();\n",
       "                for (var i = 0; i < nbb_cells.length; ++i) {\n",
       "                    if (nbb_cells[i].input_prompt_number == nbb_cell_id) {\n",
       "                        if (nbb_cells[i].get_text() == nbb_unformatted_code) {\n",
       "                             nbb_cells[i].set_text(nbb_formatted_code);\n",
       "                        }\n",
       "                        break;\n",
       "                    }\n",
       "                }\n",
       "            }, 500);\n",
       "            "
      ],
      "text/plain": [
       "<IPython.core.display.Javascript object>"
      ]
     },
     "metadata": {},
     "output_type": "display_data"
    }
   ],
   "source": [
    "print(\n",
    "    \"f1_micro score of random forest classifier on test set: {:.3f}\".format(\n",
    "        np.mean(cross_val_score(model, X_test, y_test, cv=cv, scoring=\"f1_micro\"))\n",
    "    )\n",
    ")"
   ]
  },
  {
   "cell_type": "markdown",
   "metadata": {},
   "source": [
    "The **f_1** metric is the harmonic average of the precision and recall, and is a more robust metric by which to measure algorithm performance.\n",
    "The **f_1 micro** metric is useful in assessing classification problems with imbalanced classes as it uses the overall TP, FN, FP, TN to calculate F1 directly, therefore not favoring any class in particular."
   ]
  },
  {
   "cell_type": "markdown",
   "metadata": {},
   "source": [
    "# Implementing Random Forest as a Binary Algorithm with OneVRest & OneVOne"
   ]
  },
  {
   "cell_type": "markdown",
   "metadata": {},
   "source": [
    "#### The (OneVRest) OVR method splits a multi-class classification problem into multiple binary problems, generating one model for each class. A binary classifier is trained for each binary problem, and predictions are made using the most confident model."
   ]
  },
  {
   "cell_type": "code",
   "execution_count": 16,
   "metadata": {},
   "outputs": [
    {
     "name": "stdout",
     "output_type": "stream",
     "text": [
      "f1_micro score of random forest classifier on test set: 0.684\n",
      "accuracy score of random forest classifier on test set: 0.684\n",
      "balanced_accuracy score of random forest classifier on test set: 0.614\n"
     ]
    },
    {
     "data": {
      "application/javascript": [
       "\n",
       "            setTimeout(function() {\n",
       "                var nbb_cell_id = 16;\n",
       "                var nbb_unformatted_code = \"model = RandomForestClassifier(random_state=0)\\nn_classes = 5\\novr = OneVsRestClassifier(model)\\novr.fit(X_train, y_train)\\ny_pred = ovr.predict(X_test)\\n# report performance using f1_micro score\\nprint(\\n    \\\"f1_micro score of random forest classifier on test set: {:.3f}\\\".format(\\n        np.mean(cross_val_score(model, X_test, y_test, cv=cv, scoring=\\\"f1_micro\\\"))\\n    )\\n)\\nprint(\\n    \\\"accuracy score of random forest classifier on test set: {:.3f}\\\".format(\\n        np.mean(cross_val_score(model, X_test, y_test, cv=cv, scoring=\\\"accuracy\\\"))\\n    )\\n)\\nprint(\\n    \\\"balanced_accuracy score of random forest classifier on test set: {:.3f}\\\".format(\\n        np.mean(\\n            cross_val_score(model, X_test, y_test, cv=cv, scoring=\\\"balanced_accuracy\\\")\\n        )\\n    )\\n)\";\n",
       "                var nbb_formatted_code = \"model = RandomForestClassifier(random_state=0)\\nn_classes = 5\\novr = OneVsRestClassifier(model)\\novr.fit(X_train, y_train)\\ny_pred = ovr.predict(X_test)\\n# report performance using f1_micro score\\nprint(\\n    \\\"f1_micro score of random forest classifier on test set: {:.3f}\\\".format(\\n        np.mean(cross_val_score(model, X_test, y_test, cv=cv, scoring=\\\"f1_micro\\\"))\\n    )\\n)\\nprint(\\n    \\\"accuracy score of random forest classifier on test set: {:.3f}\\\".format(\\n        np.mean(cross_val_score(model, X_test, y_test, cv=cv, scoring=\\\"accuracy\\\"))\\n    )\\n)\\nprint(\\n    \\\"balanced_accuracy score of random forest classifier on test set: {:.3f}\\\".format(\\n        np.mean(\\n            cross_val_score(model, X_test, y_test, cv=cv, scoring=\\\"balanced_accuracy\\\")\\n        )\\n    )\\n)\";\n",
       "                var nbb_cells = Jupyter.notebook.get_cells();\n",
       "                for (var i = 0; i < nbb_cells.length; ++i) {\n",
       "                    if (nbb_cells[i].input_prompt_number == nbb_cell_id) {\n",
       "                        if (nbb_cells[i].get_text() == nbb_unformatted_code) {\n",
       "                             nbb_cells[i].set_text(nbb_formatted_code);\n",
       "                        }\n",
       "                        break;\n",
       "                    }\n",
       "                }\n",
       "            }, 500);\n",
       "            "
      ],
      "text/plain": [
       "<IPython.core.display.Javascript object>"
      ]
     },
     "metadata": {},
     "output_type": "display_data"
    }
   ],
   "source": [
    "model = RandomForestClassifier(random_state=0)\n",
    "n_classes = 5\n",
    "ovr = OneVsRestClassifier(model)\n",
    "ovr.fit(X_train, y_train)\n",
    "y_pred = ovr.predict(X_test)\n",
    "# report performance using f1_micro score\n",
    "print(\n",
    "    \"f1_micro score of random forest classifier on test set: {:.3f}\".format(\n",
    "        np.mean(cross_val_score(model, X_test, y_test, cv=cv, scoring=\"f1_micro\"))\n",
    "    )\n",
    ")\n",
    "print(\n",
    "    \"accuracy score of random forest classifier on test set: {:.3f}\".format(\n",
    "        np.mean(cross_val_score(model, X_test, y_test, cv=cv, scoring=\"accuracy\"))\n",
    "    )\n",
    ")\n",
    "print(\n",
    "    \"balanced_accuracy score of random forest classifier on test set: {:.3f}\".format(\n",
    "        np.mean(\n",
    "            cross_val_score(model, X_test, y_test, cv=cv, scoring=\"balanced_accuracy\")\n",
    "        )\n",
    "    )\n",
    ")"
   ]
  },
  {
   "cell_type": "markdown",
   "metadata": {},
   "source": [
    "#### The (OneVOne) OVO method also splits a multi-class classification problem into multiple binary problems, however, a dataset is created for each class vs class scenario.\n",
    "The number of datasets is equal to: (NumClasses * (NumClasses – 1)) / 2"
   ]
  },
  {
   "cell_type": "code",
   "execution_count": 17,
   "metadata": {},
   "outputs": [
    {
     "name": "stdout",
     "output_type": "stream",
     "text": [
      "f1_micro score of random forest classifier on test set: 0.684\n",
      "accuracy score of random forest classifier on test set: 0.684\n",
      "balanced_accuracy score of random forest classifier on test set: 0.614\n"
     ]
    },
    {
     "data": {
      "application/javascript": [
       "\n",
       "            setTimeout(function() {\n",
       "                var nbb_cell_id = 17;\n",
       "                var nbb_unformatted_code = \"model = RandomForestClassifier(random_state=0)\\nn_classes = 5\\novo = OneVsOneClassifier(model)\\novo.fit(X_train, y_train)\\ny_pred = ovo.predict(X_test)\\n# report performance using f1_micro score\\nprint(\\n    \\\"f1_micro score of random forest classifier on test set: {:.3f}\\\".format(\\n        np.mean(cross_val_score(model, X_test, y_test, cv=cv, scoring=\\\"f1_micro\\\"))\\n    )\\n)\\nprint(\\n    \\\"accuracy score of random forest classifier on test set: {:.3f}\\\".format(\\n        np.mean(cross_val_score(model, X_test, y_test, cv=cv, scoring=\\\"accuracy\\\"))\\n    )\\n)\\nprint(\\n    \\\"balanced_accuracy score of random forest classifier on test set: {:.3f}\\\".format(\\n        np.mean(\\n            cross_val_score(model, X_test, y_test, cv=cv, scoring=\\\"balanced_accuracy\\\")\\n        )\\n    )\\n)\";\n",
       "                var nbb_formatted_code = \"model = RandomForestClassifier(random_state=0)\\nn_classes = 5\\novo = OneVsOneClassifier(model)\\novo.fit(X_train, y_train)\\ny_pred = ovo.predict(X_test)\\n# report performance using f1_micro score\\nprint(\\n    \\\"f1_micro score of random forest classifier on test set: {:.3f}\\\".format(\\n        np.mean(cross_val_score(model, X_test, y_test, cv=cv, scoring=\\\"f1_micro\\\"))\\n    )\\n)\\nprint(\\n    \\\"accuracy score of random forest classifier on test set: {:.3f}\\\".format(\\n        np.mean(cross_val_score(model, X_test, y_test, cv=cv, scoring=\\\"accuracy\\\"))\\n    )\\n)\\nprint(\\n    \\\"balanced_accuracy score of random forest classifier on test set: {:.3f}\\\".format(\\n        np.mean(\\n            cross_val_score(model, X_test, y_test, cv=cv, scoring=\\\"balanced_accuracy\\\")\\n        )\\n    )\\n)\";\n",
       "                var nbb_cells = Jupyter.notebook.get_cells();\n",
       "                for (var i = 0; i < nbb_cells.length; ++i) {\n",
       "                    if (nbb_cells[i].input_prompt_number == nbb_cell_id) {\n",
       "                        if (nbb_cells[i].get_text() == nbb_unformatted_code) {\n",
       "                             nbb_cells[i].set_text(nbb_formatted_code);\n",
       "                        }\n",
       "                        break;\n",
       "                    }\n",
       "                }\n",
       "            }, 500);\n",
       "            "
      ],
      "text/plain": [
       "<IPython.core.display.Javascript object>"
      ]
     },
     "metadata": {},
     "output_type": "display_data"
    }
   ],
   "source": [
    "model = RandomForestClassifier(random_state=0)\n",
    "n_classes = 5\n",
    "ovo = OneVsOneClassifier(model)\n",
    "ovo.fit(X_train, y_train)\n",
    "y_pred = ovo.predict(X_test)\n",
    "# report performance using f1_micro score\n",
    "print(\n",
    "    \"f1_micro score of random forest classifier on test set: {:.3f}\".format(\n",
    "        np.mean(cross_val_score(model, X_test, y_test, cv=cv, scoring=\"f1_micro\"))\n",
    "    )\n",
    ")\n",
    "print(\n",
    "    \"accuracy score of random forest classifier on test set: {:.3f}\".format(\n",
    "        np.mean(cross_val_score(model, X_test, y_test, cv=cv, scoring=\"accuracy\"))\n",
    "    )\n",
    ")\n",
    "print(\n",
    "    \"balanced_accuracy score of random forest classifier on test set: {:.3f}\".format(\n",
    "        np.mean(\n",
    "            cross_val_score(model, X_test, y_test, cv=cv, scoring=\"balanced_accuracy\")\n",
    "        )\n",
    "    )\n",
    ")"
   ]
  },
  {
   "cell_type": "markdown",
   "metadata": {},
   "source": [
    "### Interpreting the Results\n",
    "<br>\n",
    "The OVO method provides an almost neglible improvement to algorithm performance over OVR, perhaps because OVO maintains the ratio of class samples, while the OVR method actually creates class imbalance. It appears that so long as the problem doesn't consist of a great deal of classes, there is little advantages to converting a mutli-class problem to a binary one when implementing the Random Forest algorithm."
   ]
  }
 ],
 "metadata": {
  "kernelspec": {
   "display_name": "Celerative",
   "language": "python",
   "name": "celerative"
  },
  "language_info": {
   "codemirror_mode": {
    "name": "ipython",
    "version": 3
   },
   "file_extension": ".py",
   "mimetype": "text/x-python",
   "name": "python",
   "nbconvert_exporter": "python",
   "pygments_lexer": "ipython3",
   "version": "3.7.9"
  }
 },
 "nbformat": 4,
 "nbformat_minor": 4
}
